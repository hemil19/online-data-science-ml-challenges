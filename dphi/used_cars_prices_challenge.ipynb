{
  "nbformat": 4,
  "nbformat_minor": 0,
  "metadata": {
    "colab": {
      "name": "used cars prices challenge.ipynb",
      "provenance": [],
      "collapsed_sections": []
    },
    "kernelspec": {
      "display_name": "Python 3",
      "name": "python3"
    }
  },
  "cells": [
    {
      "cell_type": "code",
      "metadata": {
        "id": "4oWX-gY4-2f3"
      },
      "source": [
        "import pandas as pd\n",
        "import numpy as np\n",
        "import warnings\n",
        "warnings.filterwarnings('ignore')\n",
        "\n",
        "train_data = pd.read_csv(\"https://raw.githubusercontent.com/dphi-official/Datasets/master/used_car_price/train_set_label.csv\")\n",
        "test_data = pd.read_csv('https://raw.githubusercontent.com/dphi-official/Datasets/master/used_car_price/test_set_label.csv')"
      ],
      "execution_count": null,
      "outputs": []
    },
    {
      "cell_type": "code",
      "metadata": {
        "colab": {
          "base_uri": "https://localhost:8080/"
        },
        "id": "nso6Exvj_AC2",
        "outputId": "2ef1da84-7f30-4159-9610-2ccdae6c5a1c"
      },
      "source": [
        "train_data.shape,test_data.shape"
      ],
      "execution_count": null,
      "outputs": [
        {
          "output_type": "execute_result",
          "data": {
            "text/plain": [
              "((37500, 23), (12500, 22))"
            ]
          },
          "metadata": {
            "tags": []
          },
          "execution_count": 2
        }
      ]
    },
    {
      "cell_type": "code",
      "metadata": {
        "id": "jAPLxVyF_NeR"
      },
      "source": [
        "indexes=train_data[train_data['price_of_car']==0].index\n",
        "for i in indexes:\n",
        "  train_data.drop(i,axis=0,inplace=True)"
      ],
      "execution_count": null,
      "outputs": []
    },
    {
      "cell_type": "code",
      "metadata": {
        "id": "ZuYv5M1KMq_v"
      },
      "source": [
        "outlierext=train_data[train_data['price_of_car']>4.100000e+05].index\n",
        "for i in outlierext:\n",
        "  train_data.drop(i,axis=0,inplace=True)"
      ],
      "execution_count": null,
      "outputs": []
    },
    {
      "cell_type": "code",
      "metadata": {
        "colab": {
          "base_uri": "https://localhost:8080/"
        },
        "id": "oEig6bQUNOhB",
        "outputId": "99370395-c952-407f-bbf6-da8f8a549f6e"
      },
      "source": [
        "train_data.shape"
      ],
      "execution_count": null,
      "outputs": [
        {
          "output_type": "execute_result",
          "data": {
            "text/plain": [
              "(34253, 23)"
            ]
          },
          "metadata": {
            "tags": []
          },
          "execution_count": 5
        }
      ]
    },
    {
      "cell_type": "code",
      "metadata": {
        "colab": {
          "base_uri": "https://localhost:8080/"
        },
        "id": "LSECf1lEAexM",
        "outputId": "30958ab0-f824-45c1-ad58-1d5fb8676bb9"
      },
      "source": [
        "combine=train_data.append(test_data)\n",
        "combine.reset_index(inplace=True)\n",
        "combine.drop('index',axis=1,inplace=True)\n",
        "combine.shape"
      ],
      "execution_count": null,
      "outputs": [
        {
          "output_type": "execute_result",
          "data": {
            "text/plain": [
              "(46753, 23)"
            ]
          },
          "metadata": {
            "tags": []
          },
          "execution_count": 6
        }
      ]
    },
    {
      "cell_type": "code",
      "metadata": {
        "id": "zd09kAI4dV1r"
      },
      "source": [
        "for i in range(len(combine['car_description'])):\n",
        "  try:\n",
        "    if int(combine['car_description'][i][:5])>1900 and int(combine['car_description'][i][:5])<2020:\n",
        "      combine['year'][i]=int(combine['car_description'][i][:5])\n",
        "  except:\n",
        "    continue"
      ],
      "execution_count": null,
      "outputs": []
    },
    {
      "cell_type": "code",
      "metadata": {
        "id": "asv2pmM5CGTl"
      },
      "source": [
        "dict={}\n",
        "k=combine.groupby(['region']).agg({'year':'mean'}).reset_index()\n",
        "for i in range(len(k)):\n",
        "  try:\n",
        "    dict[k['region'][i]]=int(k['year'][i])\n",
        "  except:\n",
        "    dict[k['region'][i]]=2009\n",
        "yearnullindex=combine[combine['year'].isnull()==True].index\n",
        "for i in yearnullindex:\n",
        "  combine['year'][i]=dict[combine['region'][i]]\n",
        "combine['year']=combine['year'].astype(int)"
      ],
      "execution_count": null,
      "outputs": []
    },
    {
      "cell_type": "code",
      "metadata": {
        "id": "hRBKwvdaBkEc"
      },
      "source": [
        "combine.drop(['region_url','vin','drive','size','image_url','county','latitude','longitude','car_type','car_color','car_condition','title_status'],axis=1,inplace=True)"
      ],
      "execution_count": null,
      "outputs": []
    },
    {
      "cell_type": "code",
      "metadata": {
        "colab": {
          "base_uri": "https://localhost:8080/",
          "height": 285
        },
        "id": "nZact31oBvAw",
        "outputId": "cb0dd1b5-0ce3-4a27-d6bb-5eee56015c6d"
      },
      "source": [
        "import seaborn as sns\n",
        "sns.set_theme(style=\"whitegrid\")\n",
        "ax=sns.boxplot(train_data['price_of_car'])"
      ],
      "execution_count": null,
      "outputs": [
        {
          "output_type": "display_data",
          "data": {
            "image/png": "[encoded data removed]",
            "text/plain": [
              "<Figure size 432x288 with 1 Axes>"
            ]
          },
          "metadata": {
            "tags": []
          }
        }
      ]
    },
    {
      "cell_type": "code",
      "metadata": {
        "id": "A0CLQAF5WhB9"
      },
      "source": [
        "combine['manufacturer'].fillna('unknown',inplace=True)"
      ],
      "execution_count": null,
      "outputs": []
    },
    {
      "cell_type": "code",
      "metadata": {
        "id": "EWFk6SKZQFhM"
      },
      "source": [
        "dict={}\n",
        "k=combine.groupby(['manufacturer']).agg({'model_name':pd.Series.mode}).reset_index()\n",
        "for i in range(len(k)):\n",
        "    dict[k['manufacturer'][i]]=k['model_name'][i]\n",
        "manufacturernullindex=combine[combine['model_name'].isnull()==True].index\n",
        "for i in manufacturernullindex:\n",
        "  combine['model_name'][i]=dict[combine['manufacturer'][i]]"
      ],
      "execution_count": null,
      "outputs": []
    },
    {
      "cell_type": "code",
      "metadata": {
        "id": "_KE1Uf99Zz_M"
      },
      "source": [
        "combine['#cylinders'].fillna('other',inplace=True)"
      ],
      "execution_count": null,
      "outputs": []
    },
    {
      "cell_type": "code",
      "metadata": {
        "id": "RvGpE6mgZ-83"
      },
      "source": [
        "combine['fuel_type'].fillna('other',inplace=True)"
      ],
      "execution_count": null,
      "outputs": []
    },
    {
      "cell_type": "code",
      "metadata": {
        "id": "SDvfpPbOafOD"
      },
      "source": [
        "combine['transmission'].fillna('other',inplace=True)"
      ],
      "execution_count": null,
      "outputs": []
    },
    {
      "cell_type": "code",
      "metadata": {
        "id": "lx83CKLJbf6b"
      },
      "source": [
        "combine['car_description'].fillna('other',inplace=True)"
      ],
      "execution_count": null,
      "outputs": []
    },
    {
      "cell_type": "code",
      "metadata": {
        "id": "oxA0proAfdEp"
      },
      "source": [
        "h=combine.groupby(['manufacturer','model_name','fuel_type']).agg({'odometer':'mean'}).reset_index()\n",
        "h['odometer'].fillna(h['odometer'].mean(),inplace=True)"
      ],
      "execution_count": null,
      "outputs": []
    },
    {
      "cell_type": "code",
      "metadata": {
        "id": "IZVp4If5grPh"
      },
      "source": [
        "odometerdict={}\n",
        "for i,j,k,l in zip(h['manufacturer'],h['model_name'],h['fuel_type'],h['odometer']):\n",
        "    odometerdict[i+j+k]=l\n",
        "odometernullindex=combine[combine['odometer'].isnull()==True].index\n",
        "for i in odometernullindex:\n",
        "  combine['odometer'][i]=odometerdict[combine['manufacturer'][i]+combine['model_name'][i]+combine['fuel_type'][i]]"
      ],
      "execution_count": null,
      "outputs": []
    },
    {
      "cell_type": "code",
      "metadata": {
        "colab": {
          "base_uri": "https://localhost:8080/",
          "height": 343
        },
        "id": "GKZX_QWWhZ29",
        "outputId": "5cbbacb0-6ff7-4210-ce22-a13455c2890a"
      },
      "source": [
        "combine.head()"
      ],
      "execution_count": null,
      "outputs": [
        {
          "output_type": "execute_result",
          "data": {
            "text/html": [
              "<div>\n",
              "<style scoped>\n",
              "    .dataframe tbody tr th:only-of-type {\n",
              "        vertical-align: middle;\n",
              "    }\n",
              "\n",
              "    .dataframe tbody tr th {\n",
              "        vertical-align: top;\n",
              "    }\n",
              "\n",
              "    .dataframe thead th {\n",
              "        text-align: right;\n",
              "    }\n",
              "</style>\n",
              "<table border=\"1\" class=\"dataframe\">\n",
              "  <thead>\n",
              "    <tr style=\"text-align: right;\">\n",
              "      <th></th>\n",
              "      <th>region</th>\n",
              "      <th>year</th>\n",
              "      <th>manufacturer</th>\n",
              "      <th>model_name</th>\n",
              "      <th>#cylinders</th>\n",
              "      <th>fuel_type</th>\n",
              "      <th>odometer</th>\n",
              "      <th>transmission</th>\n",
              "      <th>car_description</th>\n",
              "      <th>state</th>\n",
              "      <th>price_of_car</th>\n",
              "    </tr>\n",
              "  </thead>\n",
              "  <tbody>\n",
              "    <tr>\n",
              "      <th>0</th>\n",
              "      <td>san antonio</td>\n",
              "      <td>2018</td>\n",
              "      <td>honda</td>\n",
              "      <td>accord ex-l</td>\n",
              "      <td>other</td>\n",
              "      <td>gas</td>\n",
              "      <td>130199.761905</td>\n",
              "      <td>automatic</td>\n",
              "      <td>Price: $24,900 Miles: 31,269 Engine: 1.5L Turb...</td>\n",
              "      <td>tx</td>\n",
              "      <td>24900.0</td>\n",
              "    </tr>\n",
              "    <tr>\n",
              "      <th>1</th>\n",
              "      <td>hickory / lenoir</td>\n",
              "      <td>2011</td>\n",
              "      <td>unknown</td>\n",
              "      <td>Scion xB</td>\n",
              "      <td>other</td>\n",
              "      <td>other</td>\n",
              "      <td>97003.823980</td>\n",
              "      <td>other</td>\n",
              "      <td>other</td>\n",
              "      <td>nc</td>\n",
              "      <td>4500.0</td>\n",
              "    </tr>\n",
              "    <tr>\n",
              "      <th>2</th>\n",
              "      <td>fargo / moorhead</td>\n",
              "      <td>2010</td>\n",
              "      <td>unknown</td>\n",
              "      <td>Scion xB</td>\n",
              "      <td>other</td>\n",
              "      <td>other</td>\n",
              "      <td>97003.823980</td>\n",
              "      <td>other</td>\n",
              "      <td>other</td>\n",
              "      <td>mn</td>\n",
              "      <td>20000.0</td>\n",
              "    </tr>\n",
              "    <tr>\n",
              "      <th>3</th>\n",
              "      <td>asheville</td>\n",
              "      <td>2011</td>\n",
              "      <td>toyota</td>\n",
              "      <td>prius</td>\n",
              "      <td>4 cylinders</td>\n",
              "      <td>hybrid</td>\n",
              "      <td>291960.000000</td>\n",
              "      <td>automatic</td>\n",
              "      <td>This Toyota Prius can be yours today!If you ha...</td>\n",
              "      <td>nc</td>\n",
              "      <td>6500.0</td>\n",
              "    </tr>\n",
              "    <tr>\n",
              "      <th>4</th>\n",
              "      <td>los angeles</td>\n",
              "      <td>2009</td>\n",
              "      <td>unknown</td>\n",
              "      <td>Scion xB</td>\n",
              "      <td>other</td>\n",
              "      <td>other</td>\n",
              "      <td>97003.823980</td>\n",
              "      <td>other</td>\n",
              "      <td>other</td>\n",
              "      <td>ca</td>\n",
              "      <td>8995.0</td>\n",
              "    </tr>\n",
              "  </tbody>\n",
              "</table>\n",
              "</div>"
            ],
            "text/plain": [
              "             region  year  ... state price_of_car\n",
              "0       san antonio  2018  ...    tx      24900.0\n",
              "1  hickory / lenoir  2011  ...    nc       4500.0\n",
              "2  fargo / moorhead  2010  ...    mn      20000.0\n",
              "3         asheville  2011  ...    nc       6500.0\n",
              "4       los angeles  2009  ...    ca       8995.0\n",
              "\n",
              "[5 rows x 11 columns]"
            ]
          },
          "metadata": {
            "tags": []
          },
          "execution_count": 19
        }
      ]
    },
    {
      "cell_type": "code",
      "metadata": {
        "id": "N6YdMyeqjh_f"
      },
      "source": [
        "combine.drop(['car_description'],axis=1,inplace=True)"
      ],
      "execution_count": null,
      "outputs": []
    },
    {
      "cell_type": "code",
      "metadata": {
        "colab": {
          "base_uri": "https://localhost:8080/"
        },
        "id": "tSlmoKvLZ6Lk",
        "outputId": "867f5a36-edcd-4f8f-e769-146903f2ba7d"
      },
      "source": [
        "combine.isnull().sum()"
      ],
      "execution_count": null,
      "outputs": [
        {
          "output_type": "execute_result",
          "data": {
            "text/plain": [
              "region              0\n",
              "year                0\n",
              "manufacturer        0\n",
              "model_name          0\n",
              "#cylinders          0\n",
              "fuel_type           0\n",
              "odometer            0\n",
              "transmission        0\n",
              "state               0\n",
              "price_of_car    12500\n",
              "dtype: int64"
            ]
          },
          "metadata": {
            "tags": []
          },
          "execution_count": 21
        }
      ]
    },
    {
      "cell_type": "code",
      "metadata": {
        "colab": {
          "base_uri": "https://localhost:8080/"
        },
        "id": "RdrFyRqNv1r7",
        "outputId": "9df816cb-8d0b-4cce-c6d0-f6c2747dea9b"
      },
      "source": [
        "np.unique(combine['year'])"
      ],
      "execution_count": null,
      "outputs": [
        {
          "output_type": "execute_result",
          "data": {
            "text/plain": [
              "array([1900, 1919, 1923, 1926, 1927, 1928, 1929, 1930, 1931, 1932, 1933,\n",
              "       1934, 1935, 1936, 1937, 1938, 1939, 1940, 1941, 1946, 1947, 1948,\n",
              "       1949, 1950, 1951, 1952, 1953, 1954, 1955, 1956, 1957, 1958, 1959,\n",
              "       1960, 1961, 1962, 1963, 1964, 1965, 1966, 1967, 1968, 1969, 1970,\n",
              "       1971, 1972, 1973, 1974, 1975, 1976, 1977, 1978, 1979, 1980, 1981,\n",
              "       1982, 1983, 1984, 1985, 1986, 1987, 1988, 1989, 1990, 1991, 1992,\n",
              "       1993, 1994, 1995, 1996, 1997, 1998, 1999, 2000, 2001, 2002, 2003,\n",
              "       2004, 2005, 2006, 2007, 2008, 2009, 2010, 2011, 2012, 2013, 2014,\n",
              "       2015, 2016, 2017, 2018, 2019, 2020, 2021])"
            ]
          },
          "metadata": {
            "tags": []
          },
          "execution_count": 22
        }
      ]
    },
    {
      "cell_type": "code",
      "metadata": {
        "colab": {
          "base_uri": "https://localhost:8080/"
        },
        "id": "gkYY0cowi75x",
        "outputId": "8db7cce3-ac12-40df-967a-6841fa4e29b7"
      },
      "source": [
        "X = combine[combine['price_of_car'].isnull()!=True].drop(['price_of_car'], axis=1)\n",
        "y = combine[combine['price_of_car'].isnull()!=True]['price_of_car']\n",
        "\n",
        "test = combine[combine['price_of_car'].isnull()==True].drop(['price_of_car'], axis=1)\n",
        "\n",
        "X.shape, y.shape, test.shape"
      ],
      "execution_count": null,
      "outputs": [
        {
          "output_type": "execute_result",
          "data": {
            "text/plain": [
              "((34253, 9), (34253,), (12500, 9))"
            ]
          },
          "metadata": {
            "tags": []
          },
          "execution_count": 23
        }
      ]
    },
    {
      "cell_type": "code",
      "metadata": {
        "id": "yHhRj7_Tjy61"
      },
      "source": [
        "from sklearn.model_selection import train_test_split\n",
        "X_train,X_test,y_train,y_test=train_test_split(X,y,test_size=0.2,random_state=42)"
      ],
      "execution_count": null,
      "outputs": []
    },
    {
      "cell_type": "code",
      "metadata": {
        "colab": {
          "base_uri": "https://localhost:8080/"
        },
        "id": "URYG4p5CkLLj",
        "outputId": "82063a60-5852-4a81-e204-48ab27e8b7fc"
      },
      "source": [
        "!pip install catboost"
      ],
      "execution_count": null,
      "outputs": [
        {
          "output_type": "stream",
          "text": [
            "Collecting catboost\n",
            "\u001b[?25l  Downloading https://files.pythonhosted.org/packages/20/37/bc4e0ddc30c07a96482abf1de7ed1ca54e59bba2026a33bca6d2ef286e5b/catboost-0.24.4-cp36-none-manylinux1_x86_64.whl (65.7MB)\n",
            "\u001b[K     |████████████████████████████████| 65.8MB 56kB/s \n",
            "\u001b[?25hRequirement already satisfied: scipy in /usr/local/lib/python3.6/dist-packages (from catboost) (1.4.1)\n",
            "Requirement already satisfied: matplotlib in /usr/local/lib/python3.6/dist-packages (from catboost) (3.2.2)\n",
            "Requirement already satisfied: graphviz in /usr/local/lib/python3.6/dist-packages (from catboost) (0.10.1)\n",
            "Requirement already satisfied: plotly in /usr/local/lib/python3.6/dist-packages (from catboost) (4.4.1)\n",
            "Requirement already satisfied: six in /usr/local/lib/python3.6/dist-packages (from catboost) (1.15.0)\n",
            "Requirement already satisfied: pandas>=0.24.0 in /usr/local/lib/python3.6/dist-packages (from catboost) (1.1.5)\n",
            "Requirement already satisfied: numpy>=1.16.0 in /usr/local/lib/python3.6/dist-packages (from catboost) (1.19.5)\n",
            "Requirement already satisfied: pyparsing!=2.0.4,!=2.1.2,!=2.1.6,>=2.0.1 in /usr/local/lib/python3.6/dist-packages (from matplotlib->catboost) (2.4.7)\n",
            "Requirement already satisfied: kiwisolver>=1.0.1 in /usr/local/lib/python3.6/dist-packages (from matplotlib->catboost) (1.3.1)\n",
            "Requirement already satisfied: cycler>=0.10 in /usr/local/lib/python3.6/dist-packages (from matplotlib->catboost) (0.10.0)\n",
            "Requirement already satisfied: python-dateutil>=2.1 in /usr/local/lib/python3.6/dist-packages (from matplotlib->catboost) (2.8.1)\n",
            "Requirement already satisfied: retrying>=1.3.3 in /usr/local/lib/python3.6/dist-packages (from plotly->catboost) (1.3.3)\n",
            "Requirement already satisfied: pytz>=2017.2 in /usr/local/lib/python3.6/dist-packages (from pandas>=0.24.0->catboost) (2018.9)\n",
            "Installing collected packages: catboost\n",
            "Successfully installed catboost-0.24.4\n"
          ],
          "name": "stdout"
        }
      ]
    },
    {
      "cell_type": "code",
      "metadata": {
        "colab": {
          "base_uri": "https://localhost:8080/",
          "height": 238
        },
        "id": "ncd2_QyCjqQA",
        "outputId": "ae3be1c7-6481-4012-fe9b-08ff847d2c97"
      },
      "source": [
        "X.head()"
      ],
      "execution_count": null,
      "outputs": [
        {
          "output_type": "execute_result",
          "data": {
            "text/html": [
              "<div>\n",
              "<style scoped>\n",
              "    .dataframe tbody tr th:only-of-type {\n",
              "        vertical-align: middle;\n",
              "    }\n",
              "\n",
              "    .dataframe tbody tr th {\n",
              "        vertical-align: top;\n",
              "    }\n",
              "\n",
              "    .dataframe thead th {\n",
              "        text-align: right;\n",
              "    }\n",
              "</style>\n",
              "<table border=\"1\" class=\"dataframe\">\n",
              "  <thead>\n",
              "    <tr style=\"text-align: right;\">\n",
              "      <th></th>\n",
              "      <th>region</th>\n",
              "      <th>year</th>\n",
              "      <th>manufacturer</th>\n",
              "      <th>model_name</th>\n",
              "      <th>#cylinders</th>\n",
              "      <th>fuel_type</th>\n",
              "      <th>odometer</th>\n",
              "      <th>transmission</th>\n",
              "      <th>state</th>\n",
              "    </tr>\n",
              "  </thead>\n",
              "  <tbody>\n",
              "    <tr>\n",
              "      <th>0</th>\n",
              "      <td>san antonio</td>\n",
              "      <td>2018</td>\n",
              "      <td>honda</td>\n",
              "      <td>accord ex-l</td>\n",
              "      <td>other</td>\n",
              "      <td>gas</td>\n",
              "      <td>130199.761905</td>\n",
              "      <td>automatic</td>\n",
              "      <td>tx</td>\n",
              "    </tr>\n",
              "    <tr>\n",
              "      <th>1</th>\n",
              "      <td>hickory / lenoir</td>\n",
              "      <td>2011</td>\n",
              "      <td>unknown</td>\n",
              "      <td>Scion xB</td>\n",
              "      <td>other</td>\n",
              "      <td>other</td>\n",
              "      <td>97003.823980</td>\n",
              "      <td>other</td>\n",
              "      <td>nc</td>\n",
              "    </tr>\n",
              "    <tr>\n",
              "      <th>2</th>\n",
              "      <td>fargo / moorhead</td>\n",
              "      <td>2010</td>\n",
              "      <td>unknown</td>\n",
              "      <td>Scion xB</td>\n",
              "      <td>other</td>\n",
              "      <td>other</td>\n",
              "      <td>97003.823980</td>\n",
              "      <td>other</td>\n",
              "      <td>mn</td>\n",
              "    </tr>\n",
              "    <tr>\n",
              "      <th>3</th>\n",
              "      <td>asheville</td>\n",
              "      <td>2011</td>\n",
              "      <td>toyota</td>\n",
              "      <td>prius</td>\n",
              "      <td>4 cylinders</td>\n",
              "      <td>hybrid</td>\n",
              "      <td>291960.000000</td>\n",
              "      <td>automatic</td>\n",
              "      <td>nc</td>\n",
              "    </tr>\n",
              "    <tr>\n",
              "      <th>4</th>\n",
              "      <td>los angeles</td>\n",
              "      <td>2009</td>\n",
              "      <td>unknown</td>\n",
              "      <td>Scion xB</td>\n",
              "      <td>other</td>\n",
              "      <td>other</td>\n",
              "      <td>97003.823980</td>\n",
              "      <td>other</td>\n",
              "      <td>ca</td>\n",
              "    </tr>\n",
              "  </tbody>\n",
              "</table>\n",
              "</div>"
            ],
            "text/plain": [
              "             region  year manufacturer  ...       odometer transmission state\n",
              "0       san antonio  2018        honda  ...  130199.761905    automatic    tx\n",
              "1  hickory / lenoir  2011      unknown  ...   97003.823980        other    nc\n",
              "2  fargo / moorhead  2010      unknown  ...   97003.823980        other    mn\n",
              "3         asheville  2011       toyota  ...  291960.000000    automatic    nc\n",
              "4       los angeles  2009      unknown  ...   97003.823980        other    ca\n",
              "\n",
              "[5 rows x 9 columns]"
            ]
          },
          "metadata": {
            "tags": []
          },
          "execution_count": 26
        }
      ]
    },
    {
      "cell_type": "code",
      "metadata": {
        "colab": {
          "base_uri": "https://localhost:8080/"
        },
        "id": "Zbv8b9jdkNda",
        "outputId": "3997fe53-b33c-4bbd-da11-7ffc102a2c32"
      },
      "source": [
        "from sklearn.metrics import mean_squared_error\n",
        "from catboost import CatBoostRegressor\n",
        "m = CatBoostRegressor(n_estimators=5000,\n",
        "                           random_state=1994,\n",
        "                           eval_metric='RMSE',\n",
        "                           learning_rate=0.03, \n",
        "                           max_depth=5,\n",
        "                           cat_features=[0,2,3,4,5,7,8])\n",
        "m.fit(X_train, y_train,\n",
        "          eval_set=[(X_train,y_train),(X_test, y_test)],\n",
        "          early_stopping_rounds=200,\n",
        "          verbose=200)\n",
        "np.sqrt(mean_squared_error(m.predict(X_test),y_test)) #12973"
      ],
      "execution_count": null,
      "outputs": [
        {
          "output_type": "stream",
          "text": [
            "0:\tlearn: 15156.3127197\ttest: 15155.2245977\ttest1: 15882.3283458\tbest: 15882.3283458 (0)\ttotal: 105ms\tremaining: 8m 45s\n",
            "200:\tlearn: 12574.8654785\ttest: 12387.6417465\ttest1: 13660.1202808\tbest: 13659.8627171 (199)\ttotal: 8.66s\tremaining: 3m 26s\n",
            "400:\tlearn: 12341.1944929\ttest: 12175.7756634\ttest1: 13535.2016847\tbest: 13535.2016847 (400)\ttotal: 16.9s\tremaining: 3m 13s\n",
            "600:\tlearn: 12173.2886660\ttest: 12030.9702798\ttest1: 13405.6073931\tbest: 13405.6073931 (600)\ttotal: 25.2s\tremaining: 3m 4s\n",
            "800:\tlearn: 12083.9214907\ttest: 11944.4266147\ttest1: 13321.3484261\tbest: 13321.3177686 (799)\ttotal: 33.3s\tremaining: 2m 54s\n",
            "1000:\tlearn: 11991.6920351\ttest: 11858.9179406\ttest1: 13268.1173695\tbest: 13268.1173695 (1000)\ttotal: 41.3s\tremaining: 2m 45s\n",
            "1200:\tlearn: 11909.7037805\ttest: 11784.6732232\ttest1: 13215.2042297\tbest: 13215.2042297 (1200)\ttotal: 49.7s\tremaining: 2m 37s\n",
            "1400:\tlearn: 11839.2360353\ttest: 11729.5916431\ttest1: 13179.2767558\tbest: 13179.2767558 (1400)\ttotal: 57.9s\tremaining: 2m 28s\n",
            "1600:\tlearn: 11773.6283316\ttest: 11678.6132575\ttest1: 13143.0864741\tbest: 13143.0864741 (1600)\ttotal: 1m 5s\tremaining: 2m 19s\n",
            "1800:\tlearn: 11718.7823588\ttest: 11636.3233714\ttest1: 13120.6084830\tbest: 13119.9487440 (1784)\ttotal: 1m 13s\tremaining: 2m 11s\n",
            "2000:\tlearn: 11665.5997863\ttest: 11593.1701371\ttest1: 13097.9754736\tbest: 13097.9480413 (1998)\ttotal: 1m 22s\tremaining: 2m 3s\n",
            "2200:\tlearn: 11617.9102659\ttest: 11554.9607063\ttest1: 13076.0534958\tbest: 13075.7378757 (2198)\ttotal: 1m 31s\tremaining: 1m 56s\n",
            "2400:\tlearn: 11574.7874439\ttest: 11526.3638086\ttest1: 13058.6164908\tbest: 13058.6164908 (2400)\ttotal: 1m 39s\tremaining: 1m 48s\n",
            "2600:\tlearn: 11538.0683575\ttest: 11502.2848084\ttest1: 13044.3169108\tbest: 13044.1834208 (2598)\ttotal: 1m 48s\tremaining: 1m 40s\n",
            "2800:\tlearn: 11507.1980730\ttest: 11478.9147127\ttest1: 13032.9671383\tbest: 13032.2757803 (2794)\ttotal: 1m 57s\tremaining: 1m 32s\n",
            "3000:\tlearn: 11476.5861272\ttest: 11462.1585154\ttest1: 13021.6615020\tbest: 13021.4508070 (2999)\ttotal: 2m 6s\tremaining: 1m 24s\n",
            "3200:\tlearn: 11448.3959209\ttest: 11445.4735560\ttest1: 13014.8377570\tbest: 13014.7555478 (3196)\ttotal: 2m 15s\tremaining: 1m 16s\n",
            "3400:\tlearn: 11424.2969940\ttest: 11430.8745884\ttest1: 13009.8227112\tbest: 13009.8227112 (3400)\ttotal: 2m 24s\tremaining: 1m 8s\n",
            "3600:\tlearn: 11398.1295010\ttest: 11415.8968030\ttest1: 13002.3211284\tbest: 13002.2845125 (3597)\ttotal: 2m 33s\tremaining: 59.7s\n",
            "3800:\tlearn: 11372.9971835\ttest: 11400.6465799\ttest1: 12994.7598634\tbest: 12994.6331426 (3798)\ttotal: 2m 43s\tremaining: 51.4s\n",
            "4000:\tlearn: 11349.3248415\ttest: 11387.5225952\ttest1: 12991.6817881\tbest: 12990.6507320 (3982)\ttotal: 2m 52s\tremaining: 43s\n",
            "4200:\tlearn: 11326.7406017\ttest: 11373.5355748\ttest1: 12986.7729045\tbest: 12986.7066056 (4183)\ttotal: 3m 1s\tremaining: 34.5s\n",
            "4400:\tlearn: 11307.0859172\ttest: 11364.1029032\ttest1: 12983.8651103\tbest: 12983.8651103 (4400)\ttotal: 3m 10s\tremaining: 25.9s\n",
            "4600:\tlearn: 11285.9654933\ttest: 11354.1904023\ttest1: 12981.4127299\tbest: 12981.4127299 (4600)\ttotal: 3m 19s\tremaining: 17.3s\n",
            "4800:\tlearn: 11265.5350943\ttest: 11343.3487578\ttest1: 12976.0838478\tbest: 12975.8830208 (4796)\ttotal: 3m 27s\tremaining: 8.62s\n",
            "4999:\tlearn: 11247.6989920\ttest: 11334.5488878\ttest1: 12974.2495864\tbest: 12973.6166077 (4950)\ttotal: 3m 36s\tremaining: 0us\n",
            "\n",
            "bestTest = 12973.61661\n",
            "bestIteration = 4950\n",
            "\n",
            "Shrink model to first 4951 iterations.\n"
          ],
          "name": "stdout"
        },
        {
          "output_type": "execute_result",
          "data": {
            "text/plain": [
              "12973.616607654565"
            ]
          },
          "metadata": {
            "tags": []
          },
          "execution_count": 27
        }
      ]
    },
    {
      "cell_type": "code",
      "metadata": {
        "id": "RyDgd771kfw5",
        "colab": {
          "base_uri": "https://localhost:8080/"
        },
        "outputId": "760b4854-2c1d-448b-83b3-61bf4a7e1dd4"
      },
      "source": [
        "errCB = []\n",
        "y_pred_tot_cb = []\n",
        "from sklearn.model_selection import KFold\n",
        "\n",
        "fold = KFold(n_splits=5)\n",
        "i = 1\n",
        "for train_index, test_index in fold.split(X,y):\n",
        "    x_train, x_val = X.iloc[train_index], X.iloc[test_index]\n",
        "    y_train, y_val = y[train_index], y[test_index]\n",
        "    m = CatBoostRegressor(n_estimators=5000,\n",
        "                           random_state=1994,\n",
        "                           eval_metric='RMSE',\n",
        "                           learning_rate=0.04, \n",
        "                           max_depth=5,\n",
        "                           cat_features=[0,2,3,4,5,7,8])\n",
        "    m.fit(x_train, y_train,\n",
        "          eval_set=[(x_train,y_train),(x_val, y_val)],\n",
        "          early_stopping_rounds=200,\n",
        "          verbose=200)\n",
        "    pred_y = m.predict(x_val)\n",
        "    print(\"err_cb: \",np.sqrt(mean_squared_error(pred_y,y_val)))\n",
        "    errCB.append(np.sqrt(mean_squared_error(pred_y,y_val)))\n",
        "    pred_test = m.predict(test)\n",
        "    i = i + 1\n",
        "    y_pred_tot_cb.append(pred_test)"
      ],
      "execution_count": null,
      "outputs": [
        {
          "output_type": "stream",
          "text": [
            "0:\tlearn: 15103.3145498\ttest: 15102.0314845\ttest1: 15958.7748597\tbest: 15958.7748597 (0)\ttotal: 59.5ms\tremaining: 4m 57s\n",
            "200:\tlearn: 12435.3738320\ttest: 12255.2348104\ttest1: 13593.7766518\tbest: 13593.7766518 (200)\ttotal: 8.62s\tremaining: 3m 25s\n",
            "400:\tlearn: 12146.6100113\ttest: 11988.7237642\ttest1: 13490.5606047\tbest: 13490.1632955 (396)\ttotal: 22.7s\tremaining: 4m 20s\n",
            "600:\tlearn: 11952.4562213\ttest: 11819.9333003\ttest1: 13398.6116847\tbest: 13398.6116847 (600)\ttotal: 31.2s\tremaining: 3m 48s\n",
            "800:\tlearn: 11825.9656024\ttest: 11710.7113299\ttest1: 13331.5422493\tbest: 13331.5422493 (800)\ttotal: 39.8s\tremaining: 3m 28s\n",
            "1000:\tlearn: 11736.8889225\ttest: 11642.9789291\ttest1: 13292.7201587\tbest: 13292.6488761 (999)\ttotal: 48.1s\tremaining: 3m 12s\n",
            "1200:\tlearn: 11657.5268353\ttest: 11589.0785399\ttest1: 13259.8205344\tbest: 13259.8205344 (1200)\ttotal: 56.4s\tremaining: 2m 58s\n",
            "1400:\tlearn: 11589.6872347\ttest: 11544.8260723\ttest1: 13233.9724147\tbest: 13233.7891911 (1394)\ttotal: 1m 4s\tremaining: 2m 46s\n",
            "1600:\tlearn: 11531.0946527\ttest: 11502.9191056\ttest1: 13208.5329440\tbest: 13208.5329440 (1600)\ttotal: 1m 12s\tremaining: 2m 34s\n",
            "1800:\tlearn: 11474.3320987\ttest: 11464.3440547\ttest1: 13186.5954427\tbest: 13186.5746552 (1798)\ttotal: 1m 21s\tremaining: 2m 24s\n",
            "2000:\tlearn: 11425.6801082\ttest: 11436.5503855\ttest1: 13174.8051938\tbest: 13174.7338180 (1999)\ttotal: 1m 29s\tremaining: 2m 14s\n",
            "2200:\tlearn: 11381.5405341\ttest: 11410.0263529\ttest1: 13157.3669186\tbest: 13157.1781546 (2181)\ttotal: 1m 38s\tremaining: 2m 5s\n",
            "2400:\tlearn: 11336.9505129\ttest: 11384.5333997\ttest1: 13143.4044333\tbest: 13142.6959036 (2373)\ttotal: 1m 47s\tremaining: 1m 56s\n",
            "2600:\tlearn: 11295.2691134\ttest: 11359.7749880\ttest1: 13133.6414634\tbest: 13133.0454679 (2582)\ttotal: 1m 56s\tremaining: 1m 47s\n",
            "2800:\tlearn: 11260.9455984\ttest: 11343.0793927\ttest1: 13126.0598762\tbest: 13125.6243418 (2778)\ttotal: 2m 5s\tremaining: 1m 38s\n",
            "3000:\tlearn: 11227.6096042\ttest: 11325.3817134\ttest1: 13118.6138344\tbest: 13118.2063635 (2984)\ttotal: 2m 15s\tremaining: 1m 30s\n",
            "3200:\tlearn: 11197.3699985\ttest: 11308.5775674\ttest1: 13114.8370658\tbest: 13114.8069883 (3198)\ttotal: 2m 24s\tremaining: 1m 21s\n",
            "3400:\tlearn: 11168.6474236\ttest: 11292.2256094\ttest1: 13108.4601739\tbest: 13108.4601739 (3400)\ttotal: 2m 33s\tremaining: 1m 12s\n",
            "3600:\tlearn: 11143.9794734\ttest: 11280.7468528\ttest1: 13106.9944414\tbest: 13106.7047676 (3493)\ttotal: 2m 42s\tremaining: 1m 3s\n",
            "3800:\tlearn: 11117.5466506\ttest: 11266.9511135\ttest1: 13105.2840178\tbest: 13104.7151660 (3704)\ttotal: 2m 51s\tremaining: 54.1s\n",
            "4000:\tlearn: 11092.3368397\ttest: 11257.2353508\ttest1: 13103.6122991\tbest: 13103.4423460 (3982)\ttotal: 3m\tremaining: 45.1s\n",
            "4200:\tlearn: 11068.8713584\ttest: 11246.6712373\ttest1: 13099.7449189\tbest: 13099.7449189 (4200)\ttotal: 3m 9s\tremaining: 36.1s\n",
            "4400:\tlearn: 11047.1042469\ttest: 11238.1495577\ttest1: 13101.0824581\tbest: 13099.4030301 (4215)\ttotal: 3m 19s\tremaining: 27.1s\n",
            "Stopped by overfitting detector  (200 iterations wait)\n",
            "\n",
            "bestTest = 13099.40303\n",
            "bestIteration = 4215\n",
            "\n",
            "Shrink model to first 4216 iterations.\n",
            "err_cb:  13099.403030143161\n",
            "0:\tlearn: 15500.4814041\ttest: 15499.2182309\ttest1: 14356.1811712\tbest: 14356.1811712 (0)\ttotal: 61.2ms\tremaining: 5m 6s\n",
            "200:\tlearn: 12865.1699494\ttest: 12691.9871608\ttest1: 11763.0208667\tbest: 11763.0208667 (200)\ttotal: 8.4s\tremaining: 3m 20s\n",
            "400:\tlearn: 12612.6905871\ttest: 12447.9809598\ttest1: 11648.4453953\tbest: 11648.4453953 (400)\ttotal: 16.7s\tremaining: 3m 11s\n",
            "600:\tlearn: 12462.9363522\ttest: 12293.1926310\ttest1: 11576.5339011\tbest: 11576.5339011 (600)\ttotal: 25.1s\tremaining: 3m 3s\n",
            "800:\tlearn: 12358.6993549\ttest: 12186.1299252\ttest1: 11528.3448572\tbest: 11528.3448572 (800)\ttotal: 33.4s\tremaining: 2m 55s\n",
            "1000:\tlearn: 12266.1094361\ttest: 12096.7632400\ttest1: 11466.7710914\tbest: 11466.5289884 (998)\ttotal: 41.8s\tremaining: 2m 47s\n",
            "1200:\tlearn: 12182.5550633\ttest: 12023.1851722\ttest1: 11422.4664077\tbest: 11422.4664077 (1200)\ttotal: 50s\tremaining: 2m 38s\n",
            "1400:\tlearn: 12120.6256783\ttest: 11974.0078615\ttest1: 11392.3691362\tbest: 11392.3691362 (1400)\ttotal: 58.1s\tremaining: 2m 29s\n",
            "1600:\tlearn: 12053.5099322\ttest: 11928.5916188\ttest1: 11366.8395357\tbest: 11366.2162844 (1579)\ttotal: 1m 6s\tremaining: 2m 20s\n",
            "1800:\tlearn: 11996.0042455\ttest: 11887.1124770\ttest1: 11343.2794312\tbest: 11343.2794312 (1800)\ttotal: 1m 14s\tremaining: 2m 12s\n",
            "2000:\tlearn: 11936.0462578\ttest: 11848.5479021\ttest1: 11320.1492432\tbest: 11319.9701274 (1999)\ttotal: 1m 23s\tremaining: 2m 4s\n",
            "2200:\tlearn: 11885.4731146\ttest: 11814.0904397\ttest1: 11296.6397257\tbest: 11296.6397257 (2200)\ttotal: 1m 32s\tremaining: 1m 57s\n",
            "2400:\tlearn: 11836.8908880\ttest: 11786.5670522\ttest1: 11280.8291471\tbest: 11280.8291471 (2400)\ttotal: 1m 40s\tremaining: 1m 49s\n",
            "2600:\tlearn: 11794.8911657\ttest: 11764.1475089\ttest1: 11266.9860329\tbest: 11266.8216854 (2577)\ttotal: 1m 50s\tremaining: 1m 41s\n",
            "2800:\tlearn: 11752.4354138\ttest: 11741.7211001\ttest1: 11256.5248733\tbest: 11256.5248733 (2800)\ttotal: 1m 59s\tremaining: 1m 33s\n",
            "3000:\tlearn: 11719.0213745\ttest: 11727.0486179\ttest1: 11247.6252663\tbest: 11247.6252663 (3000)\ttotal: 2m 7s\tremaining: 1m 25s\n",
            "3200:\tlearn: 11680.4710420\ttest: 11707.1187506\ttest1: 11236.8032859\tbest: 11236.8004891 (3199)\ttotal: 2m 17s\tremaining: 1m 17s\n",
            "3400:\tlearn: 11650.2920507\ttest: 11693.4882037\ttest1: 11231.6332754\tbest: 11231.5362666 (3396)\ttotal: 2m 25s\tremaining: 1m 8s\n",
            "3600:\tlearn: 11622.8686463\ttest: 11679.1617531\ttest1: 11226.4439508\tbest: 11225.7634426 (3588)\ttotal: 2m 34s\tremaining: 1m\n",
            "3800:\tlearn: 11596.9912923\ttest: 11666.9788101\ttest1: 11221.9614980\tbest: 11221.7522438 (3796)\ttotal: 2m 44s\tremaining: 51.8s\n",
            "4000:\tlearn: 11570.8009641\ttest: 11657.3589053\ttest1: 11219.7034762\tbest: 11219.4903290 (3991)\ttotal: 2m 53s\tremaining: 43.3s\n",
            "4200:\tlearn: 11546.6056603\ttest: 11644.0315643\ttest1: 11216.1120772\tbest: 11215.9871421 (4198)\ttotal: 3m 2s\tremaining: 34.7s\n",
            "4400:\tlearn: 11522.2772904\ttest: 11630.1898593\ttest1: 11211.7126093\tbest: 11211.4464320 (4397)\ttotal: 3m 11s\tremaining: 26.1s\n",
            "4600:\tlearn: 11499.4929101\ttest: 11619.2567994\ttest1: 11208.2417587\tbest: 11207.7974088 (4563)\ttotal: 3m 20s\tremaining: 17.4s\n",
            "4800:\tlearn: 11477.6511129\ttest: 11608.9199862\ttest1: 11205.3478145\tbest: 11205.2780604 (4726)\ttotal: 3m 29s\tremaining: 8.69s\n",
            "4999:\tlearn: 11457.6648136\ttest: 11599.3363951\ttest1: 11203.7467316\tbest: 11203.7467316 (4999)\ttotal: 3m 38s\tremaining: 0us\n",
            "\n",
            "bestTest = 11203.74673\n",
            "bestIteration = 4999\n",
            "\n",
            "err_cb:  11203.746731583818\n",
            "0:\tlearn: 15203.5925357\ttest: 15201.1931186\ttest1: 15596.6423379\tbest: 15596.6423379 (0)\ttotal: 57.3ms\tremaining: 4m 46s\n",
            "200:\tlearn: 12628.0723713\ttest: 12431.6275856\ttest1: 13030.7740281\tbest: 13030.7740281 (200)\ttotal: 8.63s\tremaining: 3m 26s\n",
            "400:\tlearn: 12400.1146033\ttest: 12205.2582750\ttest1: 12750.8936084\tbest: 12750.8936084 (400)\ttotal: 17.2s\tremaining: 3m 17s\n",
            "600:\tlearn: 12260.5134704\ttest: 12073.6852809\ttest1: 12605.5620390\tbest: 12605.5620390 (600)\ttotal: 25.8s\tremaining: 3m 8s\n",
            "800:\tlearn: 12133.1852908\ttest: 11965.5299170\ttest1: 12536.8959025\tbest: 12536.7221192 (796)\ttotal: 34.2s\tremaining: 2m 59s\n",
            "1000:\tlearn: 12023.4827371\ttest: 11885.0509266\ttest1: 12474.9873016\tbest: 12474.9873016 (1000)\ttotal: 42.8s\tremaining: 2m 50s\n",
            "1200:\tlearn: 11925.2786389\ttest: 11810.4768428\ttest1: 12425.3296195\tbest: 12425.3296195 (1200)\ttotal: 51.2s\tremaining: 2m 42s\n",
            "1400:\tlearn: 11841.4323325\ttest: 11749.0215048\ttest1: 12381.7758972\tbest: 12381.7758972 (1400)\ttotal: 59.9s\tremaining: 2m 33s\n",
            "1600:\tlearn: 11770.5797891\ttest: 11694.4412360\ttest1: 12349.5508561\tbest: 12349.5508561 (1600)\ttotal: 1m 8s\tremaining: 2m 25s\n",
            "1800:\tlearn: 11707.1866456\ttest: 11654.6781617\ttest1: 12317.4133514\tbest: 12317.0982099 (1796)\ttotal: 1m 17s\tremaining: 2m 17s\n",
            "2000:\tlearn: 11650.7508914\ttest: 11619.1485710\ttest1: 12296.6970424\tbest: 12295.7898594 (1993)\ttotal: 1m 26s\tremaining: 2m 9s\n",
            "2200:\tlearn: 11598.3039958\ttest: 11584.5436215\ttest1: 12274.3816508\tbest: 12274.3111933 (2198)\ttotal: 1m 35s\tremaining: 2m 1s\n",
            "2400:\tlearn: 11555.3937435\ttest: 11556.6794722\ttest1: 12252.0539240\tbest: 12252.0539240 (2400)\ttotal: 1m 44s\tremaining: 1m 53s\n",
            "2600:\tlearn: 11515.6406428\ttest: 11535.2282467\ttest1: 12236.2089716\tbest: 12236.2089716 (2600)\ttotal: 1m 54s\tremaining: 1m 45s\n",
            "2800:\tlearn: 11478.8121719\ttest: 11514.5262480\ttest1: 12219.0552475\tbest: 12218.3176490 (2788)\ttotal: 2m 3s\tremaining: 1m 36s\n",
            "3000:\tlearn: 11447.7916802\ttest: 11498.3963257\ttest1: 12209.6999509\tbest: 12209.6999509 (3000)\ttotal: 2m 12s\tremaining: 1m 28s\n",
            "3200:\tlearn: 11417.6503704\ttest: 11482.2573913\ttest1: 12200.7285001\tbest: 12200.7285001 (3200)\ttotal: 2m 21s\tremaining: 1m 19s\n",
            "3400:\tlearn: 11388.7327289\ttest: 11464.8629736\ttest1: 12192.5557021\tbest: 12192.5288327 (3398)\ttotal: 2m 30s\tremaining: 1m 10s\n",
            "3600:\tlearn: 11361.7910054\ttest: 11450.7803052\ttest1: 12186.8271861\tbest: 12186.8271861 (3600)\ttotal: 2m 39s\tremaining: 1m 2s\n",
            "3800:\tlearn: 11335.7918622\ttest: 11437.5562316\ttest1: 12181.6645117\tbest: 12181.0327124 (3785)\ttotal: 2m 48s\tremaining: 53.3s\n",
            "4000:\tlearn: 11313.9260559\ttest: 11429.3603334\ttest1: 12175.3275891\tbest: 12175.2992924 (3999)\ttotal: 2m 57s\tremaining: 44.4s\n",
            "4200:\tlearn: 11290.6613434\ttest: 11419.2177733\ttest1: 12169.2893439\tbest: 12169.2314364 (4198)\ttotal: 3m 6s\tremaining: 35.5s\n",
            "4400:\tlearn: 11268.1177566\ttest: 11410.6943311\ttest1: 12166.1558616\tbest: 12165.7770980 (4334)\ttotal: 3m 16s\tremaining: 26.7s\n",
            "4600:\tlearn: 11245.8612574\ttest: 11402.0097933\ttest1: 12162.6337815\tbest: 12162.2000925 (4570)\ttotal: 3m 25s\tremaining: 17.8s\n",
            "4800:\tlearn: 11224.7798432\ttest: 11392.8558936\ttest1: 12160.4306375\tbest: 12160.2167568 (4794)\ttotal: 3m 34s\tremaining: 8.9s\n",
            "4999:\tlearn: 11205.8355604\ttest: 11384.4630630\ttest1: 12159.1771959\tbest: 12158.8661408 (4979)\ttotal: 3m 44s\tremaining: 0us\n",
            "\n",
            "bestTest = 12158.86614\n",
            "bestIteration = 4979\n",
            "\n",
            "Shrink model to first 4980 iterations.\n",
            "err_cb:  12158.866140781156\n",
            "0:\tlearn: 15456.4863916\ttest: 15455.0950842\ttest1: 14510.2199108\tbest: 14510.2199108 (0)\ttotal: 55.6ms\tremaining: 4m 37s\n",
            "200:\tlearn: 12833.2967025\ttest: 12663.9700415\ttest1: 11928.8364388\tbest: 11928.8364388 (200)\ttotal: 8.48s\tremaining: 3m 22s\n",
            "400:\tlearn: 12614.1343252\ttest: 12425.9108108\ttest1: 11770.3949054\tbest: 11770.3354991 (399)\ttotal: 16.4s\tremaining: 3m 7s\n",
            "600:\tlearn: 12468.9618765\ttest: 12277.9847188\ttest1: 11674.7159042\tbest: 11674.7159042 (600)\ttotal: 24.2s\tremaining: 2m 56s\n",
            "800:\tlearn: 12331.9394178\ttest: 12147.4145620\ttest1: 11579.6066799\tbest: 11579.6066799 (800)\ttotal: 32.5s\tremaining: 2m 50s\n",
            "1000:\tlearn: 12231.7745031\ttest: 12055.5737874\ttest1: 11519.1948963\tbest: 11519.1948963 (1000)\ttotal: 41.1s\tremaining: 2m 44s\n",
            "1200:\tlearn: 12160.5340442\ttest: 12000.5624614\ttest1: 11485.0189134\tbest: 11484.8181137 (1199)\ttotal: 49.2s\tremaining: 2m 35s\n",
            "1400:\tlearn: 12105.0315357\ttest: 11957.5320148\ttest1: 11456.8367010\tbest: 11455.7702986 (1392)\ttotal: 57.5s\tremaining: 2m 27s\n",
            "1600:\tlearn: 12045.3905054\ttest: 11910.4870816\ttest1: 11432.9504714\tbest: 11432.8325281 (1593)\ttotal: 1m 6s\tremaining: 2m 20s\n",
            "1800:\tlearn: 11996.0132612\ttest: 11873.1676274\ttest1: 11401.3721362\tbest: 11401.3721362 (1800)\ttotal: 1m 15s\tremaining: 2m 13s\n",
            "2000:\tlearn: 11949.4437268\ttest: 11840.5267105\ttest1: 11376.5132290\tbest: 11376.5132290 (2000)\ttotal: 1m 24s\tremaining: 2m 6s\n",
            "2200:\tlearn: 11910.1632949\ttest: 11811.8277645\ttest1: 11362.4409265\tbest: 11362.3807272 (2195)\ttotal: 1m 33s\tremaining: 1m 58s\n",
            "2400:\tlearn: 11873.3553624\ttest: 11787.4191217\ttest1: 11351.3209140\tbest: 11351.1641055 (2394)\ttotal: 1m 42s\tremaining: 1m 50s\n",
            "2600:\tlearn: 11836.9731473\ttest: 11767.0813974\ttest1: 11337.6395752\tbest: 11337.6395752 (2600)\ttotal: 1m 51s\tremaining: 1m 42s\n",
            "2800:\tlearn: 11806.9857008\ttest: 11752.6960274\ttest1: 11328.1786983\tbest: 11328.1786983 (2800)\ttotal: 2m\tremaining: 1m 34s\n",
            "3000:\tlearn: 11778.0478318\ttest: 11734.1217830\ttest1: 11314.5208806\tbest: 11313.5743574 (2990)\ttotal: 2m 9s\tremaining: 1m 26s\n",
            "3200:\tlearn: 11750.7148086\ttest: 11719.4491125\ttest1: 11304.1935841\tbest: 11304.1935841 (3200)\ttotal: 2m 18s\tremaining: 1m 17s\n",
            "3400:\tlearn: 11727.6212078\ttest: 11708.7273943\ttest1: 11300.7267723\tbest: 11299.4597404 (3378)\ttotal: 2m 27s\tremaining: 1m 9s\n",
            "3600:\tlearn: 11704.4841430\ttest: 11696.5021444\ttest1: 11296.8959569\tbest: 11296.4308968 (3589)\ttotal: 2m 37s\tremaining: 1m 1s\n",
            "3800:\tlearn: 11681.8503192\ttest: 11684.5316168\ttest1: 11292.3766463\tbest: 11292.1434700 (3794)\ttotal: 2m 45s\tremaining: 52.3s\n",
            "4000:\tlearn: 11661.3822241\ttest: 11673.8086243\ttest1: 11285.8150625\tbest: 11285.3960967 (3995)\ttotal: 2m 55s\tremaining: 43.7s\n",
            "4200:\tlearn: 11644.8837178\ttest: 11665.7569359\ttest1: 11280.3245073\tbest: 11280.2443885 (4197)\ttotal: 3m 3s\tremaining: 35s\n",
            "4400:\tlearn: 11627.1051739\ttest: 11658.1078104\ttest1: 11273.8235568\tbest: 11273.8235568 (4400)\ttotal: 3m 13s\tremaining: 26.3s\n",
            "4600:\tlearn: 11610.4679371\ttest: 11650.3045930\ttest1: 11270.5568186\tbest: 11270.5568186 (4600)\ttotal: 3m 22s\tremaining: 17.5s\n",
            "4800:\tlearn: 11592.8727226\ttest: 11642.0127945\ttest1: 11267.0142822\tbest: 11266.9159653 (4787)\ttotal: 3m 31s\tremaining: 8.77s\n",
            "4999:\tlearn: 11575.3472437\ttest: 11634.8696770\ttest1: 11266.7830332\tbest: 11266.6945683 (4997)\ttotal: 3m 40s\tremaining: 0us\n",
            "\n",
            "bestTest = 11266.69457\n",
            "bestIteration = 4997\n",
            "\n",
            "Shrink model to first 4998 iterations.\n",
            "err_cb:  11266.694568255021\n",
            "0:\tlearn: 15117.9776208\ttest: 15116.0152834\ttest1: 15885.3283167\tbest: 15885.3283167 (0)\ttotal: 57.7ms\tremaining: 4m 48s\n",
            "200:\tlearn: 12400.8411280\ttest: 12215.2564599\ttest1: 13614.1611183\tbest: 13614.1611183 (200)\ttotal: 8.88s\tremaining: 3m 31s\n",
            "400:\tlearn: 12168.0110201\ttest: 11985.3958860\ttest1: 13476.1651461\tbest: 13476.1651461 (400)\ttotal: 17.5s\tremaining: 3m 20s\n",
            "600:\tlearn: 12019.4450332\ttest: 11840.0086580\ttest1: 13386.9628700\tbest: 13386.9628700 (600)\ttotal: 26.2s\tremaining: 3m 11s\n",
            "800:\tlearn: 11895.5766750\ttest: 11717.6837429\ttest1: 13316.5547006\tbest: 13316.5547006 (800)\ttotal: 34.8s\tremaining: 3m 2s\n",
            "1000:\tlearn: 11804.2705107\ttest: 11631.4963646\ttest1: 13258.0515483\tbest: 13257.8989313 (998)\ttotal: 43s\tremaining: 2m 51s\n",
            "1200:\tlearn: 11728.1475714\ttest: 11565.4914096\ttest1: 13211.4341660\tbest: 13211.4341660 (1200)\ttotal: 51.5s\tremaining: 2m 42s\n",
            "1400:\tlearn: 11665.9680987\ttest: 11519.9399957\ttest1: 13185.7695616\tbest: 13185.7695616 (1400)\ttotal: 1m\tremaining: 2m 35s\n",
            "1600:\tlearn: 11609.4042870\ttest: 11481.3483569\ttest1: 13154.9149874\tbest: 13154.9149874 (1600)\ttotal: 1m 9s\tremaining: 2m 28s\n",
            "1800:\tlearn: 11560.0078663\ttest: 11451.9890788\ttest1: 13135.0265656\tbest: 13135.0265656 (1800)\ttotal: 1m 18s\tremaining: 2m 20s\n",
            "2000:\tlearn: 11514.9002989\ttest: 11429.1371944\ttest1: 13118.7513042\tbest: 13118.7471653 (1999)\ttotal: 1m 27s\tremaining: 2m 11s\n",
            "2200:\tlearn: 11471.8487433\ttest: 11406.3421181\ttest1: 13102.4947909\tbest: 13102.4947909 (2200)\ttotal: 1m 36s\tremaining: 2m 3s\n",
            "2400:\tlearn: 11433.5714994\ttest: 11386.8550324\ttest1: 13091.6975865\tbest: 13091.6872370 (2399)\ttotal: 1m 45s\tremaining: 1m 54s\n",
            "2600:\tlearn: 11390.8497124\ttest: 11355.5854400\ttest1: 13076.9308398\tbest: 13076.9308398 (2600)\ttotal: 1m 55s\tremaining: 1m 46s\n",
            "2800:\tlearn: 11356.3420900\ttest: 11334.3923883\ttest1: 13064.6273298\tbest: 13064.3871481 (2798)\ttotal: 2m 4s\tremaining: 1m 37s\n",
            "3000:\tlearn: 11323.4671585\ttest: 11316.4472394\ttest1: 13055.1478611\tbest: 13054.8762070 (2992)\ttotal: 2m 13s\tremaining: 1m 28s\n",
            "3200:\tlearn: 11295.1390800\ttest: 11303.5348889\ttest1: 13049.7377634\tbest: 13049.7377634 (3200)\ttotal: 2m 22s\tremaining: 1m 20s\n",
            "3400:\tlearn: 11268.2203297\ttest: 11288.5605281\ttest1: 13041.6489711\tbest: 13041.6392969 (3399)\ttotal: 2m 31s\tremaining: 1m 11s\n",
            "3600:\tlearn: 11242.8497539\ttest: 11276.5670389\ttest1: 13037.1177707\tbest: 13036.8405223 (3584)\ttotal: 2m 40s\tremaining: 1m 2s\n",
            "3800:\tlearn: 11217.6797397\ttest: 11261.7320379\ttest1: 13031.7432923\tbest: 13030.8491668 (3776)\ttotal: 2m 50s\tremaining: 53.8s\n",
            "4000:\tlearn: 11193.6928484\ttest: 11250.0403104\ttest1: 13029.1690602\tbest: 13028.3916997 (3958)\ttotal: 3m\tremaining: 45s\n",
            "4200:\tlearn: 11172.2866545\ttest: 11240.9270167\ttest1: 13023.6979393\tbest: 13023.1692312 (4131)\ttotal: 3m 9s\tremaining: 36s\n",
            "4400:\tlearn: 11151.8644313\ttest: 11230.4100266\ttest1: 13019.2413575\tbest: 13019.2413575 (4400)\ttotal: 3m 18s\tremaining: 27s\n",
            "4600:\tlearn: 11130.3486199\ttest: 11220.5239091\ttest1: 13015.9555194\tbest: 13015.5776979 (4596)\ttotal: 3m 28s\tremaining: 18s\n",
            "4800:\tlearn: 11112.2888568\ttest: 11214.3361684\ttest1: 13016.2009722\tbest: 13015.3397820 (4682)\ttotal: 3m 37s\tremaining: 9.02s\n",
            "4999:\tlearn: 11094.0467610\ttest: 11206.7373757\ttest1: 13015.7795791\tbest: 13013.8931097 (4959)\ttotal: 3m 46s\tremaining: 0us\n",
            "\n",
            "bestTest = 13013.89311\n",
            "bestIteration = 4959\n",
            "\n",
            "Shrink model to first 4960 iterations.\n",
            "err_cb:  13013.89310973075\n"
          ],
          "name": "stdout"
        }
      ]
    },
    {
      "cell_type": "code",
      "metadata": {
        "id": "RRsafubAmLfd",
        "colab": {
          "base_uri": "https://localhost:8080/"
        },
        "outputId": "3af66a96-c3b9-4201-8019-44a7b6ef411e"
      },
      "source": [
        "np.mean(errCB,0) #12148"
      ],
      "execution_count": null,
      "outputs": [
        {
          "output_type": "execute_result",
          "data": {
            "text/plain": [
              "12148.520716098781"
            ]
          },
          "metadata": {
            "tags": []
          },
          "execution_count": 29
        }
      ]
    },
    {
      "cell_type": "code",
      "metadata": {
        "id": "wsaDe2W9oMV4"
      },
      "source": [
        "submission=pd.DataFrame()\n",
        "submission['prediction']=np.mean(y_pred_tot_cb,0)\n",
        "submission.to_csv('final.csv',index=False) #20809"
      ],
      "execution_count": null,
      "outputs": []
    }
  ]
}