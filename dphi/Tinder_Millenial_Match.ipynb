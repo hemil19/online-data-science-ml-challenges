{
  "nbformat": 4,
  "nbformat_minor": 0,
  "metadata": {
    "colab": {
      "name": "Tinder Millenial Match.ipynb",
      "provenance": []
    },
    "kernelspec": {
      "name": "python3",
      "display_name": "Python 3"
    }
  },
  "cells": [
    {
      "cell_type": "code",
      "metadata": {
        "id": "I9Q1wqM46dGJ"
      },
      "source": [
        "import pandas as pd\n",
        "import numpy as np\n",
        "import matplotlib.pyplot as plt\n",
        "%matplotlib inline\n",
        "\n",
        "import warnings\n",
        "warnings.filterwarnings('ignore')\n",
        "\n",
        "\n",
        "train_data = pd.read_csv(\"https://raw.githubusercontent.com/dphi-official/Datasets/master/Tinder_Millennial_Match/train_set_label.csv\")\n",
        "test_data = pd.read_csv('https://raw.githubusercontent.com/dphi-official/Datasets/master/Tinder_Millennial_Match/test_set_label.csv')"
      ],
      "execution_count": null,
      "outputs": []
    },
    {
      "cell_type": "code",
      "metadata": {
        "colab": {
          "base_uri": "https://localhost:8080/"
        },
        "id": "9vA7n-FX6jPC",
        "outputId": "ae3aac0d-b0d7-4dd5-f1a1-01fe601b0870"
      },
      "source": [
        "train_data.shape,test_data.shape"
      ],
      "execution_count": null,
      "outputs": [
        {
          "output_type": "execute_result",
          "data": {
            "text/plain": [
              "((1896, 7), (632, 6))"
            ]
          },
          "metadata": {
            "tags": []
          },
          "execution_count": 2
        }
      ]
    },
    {
      "cell_type": "code",
      "metadata": {
        "colab": {
          "base_uri": "https://localhost:8080/",
          "height": 204
        },
        "id": "Qz597JdZ6lSG",
        "outputId": "4c0ff39b-bb6a-4f2c-a5c3-11fd5c4f30d5"
      },
      "source": [
        "train_data.head()"
      ],
      "execution_count": null,
      "outputs": [
        {
          "output_type": "execute_result",
          "data": {
            "text/html": [
              "<div>\n",
              "<style scoped>\n",
              "    .dataframe tbody tr th:only-of-type {\n",
              "        vertical-align: middle;\n",
              "    }\n",
              "\n",
              "    .dataframe tbody tr th {\n",
              "        vertical-align: top;\n",
              "    }\n",
              "\n",
              "    .dataframe thead th {\n",
              "        text-align: right;\n",
              "    }\n",
              "</style>\n",
              "<table border=\"1\" class=\"dataframe\">\n",
              "  <thead>\n",
              "    <tr style=\"text-align: right;\">\n",
              "      <th></th>\n",
              "      <th>ID</th>\n",
              "      <th>Segment type</th>\n",
              "      <th>Segment Description</th>\n",
              "      <th>Answer</th>\n",
              "      <th>Count</th>\n",
              "      <th>Percentage</th>\n",
              "      <th>It became a relationship</th>\n",
              "    </tr>\n",
              "  </thead>\n",
              "  <tbody>\n",
              "    <tr>\n",
              "      <th>0</th>\n",
              "      <td>292890.8970</td>\n",
              "      <td>web</td>\n",
              "      <td>Meridian, Idaho</td>\n",
              "      <td>No</td>\n",
              "      <td>0.000000</td>\n",
              "      <td>0.000000</td>\n",
              "      <td>0</td>\n",
              "    </tr>\n",
              "    <tr>\n",
              "      <th>1</th>\n",
              "      <td>292887.9870</td>\n",
              "      <td>web</td>\n",
              "      <td>Meridian, Idaho</td>\n",
              "      <td>No</td>\n",
              "      <td>0.000000</td>\n",
              "      <td>0.000000</td>\n",
              "      <td>0</td>\n",
              "    </tr>\n",
              "    <tr>\n",
              "      <th>2</th>\n",
              "      <td>292894.0656</td>\n",
              "      <td>gender</td>\n",
              "      <td>Meridian, Idaho</td>\n",
              "      <td>No</td>\n",
              "      <td>499.173606</td>\n",
              "      <td>0.225255</td>\n",
              "      <td>0</td>\n",
              "    </tr>\n",
              "    <tr>\n",
              "      <th>3</th>\n",
              "      <td>292887.1180</td>\n",
              "      <td>web</td>\n",
              "      <td>Meridian, Idaho</td>\n",
              "      <td>No</td>\n",
              "      <td>0.000000</td>\n",
              "      <td>0.000000</td>\n",
              "      <td>0</td>\n",
              "    </tr>\n",
              "    <tr>\n",
              "      <th>4</th>\n",
              "      <td>292893.6561</td>\n",
              "      <td>gender</td>\n",
              "      <td>Meridian, Idaho</td>\n",
              "      <td>No</td>\n",
              "      <td>455.925963</td>\n",
              "      <td>0.211360</td>\n",
              "      <td>0</td>\n",
              "    </tr>\n",
              "  </tbody>\n",
              "</table>\n",
              "</div>"
            ],
            "text/plain": [
              "            ID Segment type  ... Percentage It became a relationship\n",
              "0  292890.8970          web  ...   0.000000                        0\n",
              "1  292887.9870          web  ...   0.000000                        0\n",
              "2  292894.0656       gender  ...   0.225255                        0\n",
              "3  292887.1180          web  ...   0.000000                        0\n",
              "4  292893.6561       gender  ...   0.211360                        0\n",
              "\n",
              "[5 rows x 7 columns]"
            ]
          },
          "metadata": {
            "tags": []
          },
          "execution_count": 3
        }
      ]
    },
    {
      "cell_type": "code",
      "metadata": {
        "id": "daA5QemD7vTK"
      },
      "source": [
        "train_data=train_data.drop_duplicates()"
      ],
      "execution_count": null,
      "outputs": []
    },
    {
      "cell_type": "code",
      "metadata": {
        "colab": {
          "base_uri": "https://localhost:8080/"
        },
        "id": "fWO5-xXnFJX9",
        "outputId": "d150cf10-3e03-4154-bdd2-8ddef397a31d"
      },
      "source": [
        "test_data['ID'].describe(),train_data['ID'].describe()"
      ],
      "execution_count": null,
      "outputs": [
        {
          "output_type": "execute_result",
          "data": {
            "text/plain": [
              "(count       632.000000\n",
              " mean     293014.301079\n",
              " std         247.391468\n",
              " min      292881.011200\n",
              " 25%      292888.377900\n",
              " 50%      292893.592400\n",
              " 75%      292945.500000\n",
              " max      293779.000000\n",
              " Name: ID, dtype: float64, count      1894.000000\n",
              " mean     292999.511498\n",
              " std         227.901754\n",
              " min      292881.000000\n",
              " 25%      292888.200500\n",
              " 50%      292893.914450\n",
              " 75%      292902.574450\n",
              " max      293785.000000\n",
              " Name: ID, dtype: float64)"
            ]
          },
          "metadata": {
            "tags": []
          },
          "execution_count": 5
        }
      ]
    },
    {
      "cell_type": "code",
      "metadata": {
        "id": "uXJuTp2WFWxz"
      },
      "source": [
        "for i in train_data[train_data['ID']>293779].index:\n",
        "  train_data.drop(i,inplace=True)"
      ],
      "execution_count": null,
      "outputs": []
    },
    {
      "cell_type": "code",
      "metadata": {
        "colab": {
          "base_uri": "https://localhost:8080/",
          "height": 262
        },
        "id": "wHrEBMXc68ay",
        "outputId": "4c9c6bd1-5a8e-4d18-d5d5-c8aeb11d9732"
      },
      "source": [
        "train_data['It became a relationship'].value_counts().plot(kind='bar')\n",
        "plt.show()"
      ],
      "execution_count": null,
      "outputs": [
        {
          "output_type": "display_data",
          "data": {
            "image/png": "[encoded data removed]",
            "text/plain": [
              "<Figure size 432x288 with 1 Axes>"
            ]
          },
          "metadata": {
            "tags": [],
            "needs_background": "light"
          }
        }
      ]
    },
    {
      "cell_type": "code",
      "metadata": {
        "colab": {
          "base_uri": "https://localhost:8080/",
          "height": 319
        },
        "id": "5Qi2KB7K7KRw",
        "outputId": "0cb316c0-2030-4638-8ff1-0e50eb104d3e"
      },
      "source": [
        "pd.crosstab(train_data['Segment type'],train_data['It became a relationship']).plot(kind='bar')\n",
        "plt.show()"
      ],
      "execution_count": null,
      "outputs": [
        {
          "output_type": "display_data",
          "data": {
            "image/png": "[encoded data removed]",
            "text/plain": [
              "<Figure size 432x288 with 1 Axes>"
            ]
          },
          "metadata": {
            "tags": [],
            "needs_background": "light"
          }
        }
      ]
    },
    {
      "cell_type": "code",
      "metadata": {
        "colab": {
          "base_uri": "https://localhost:8080/",
          "height": 356
        },
        "id": "nF-7n3W48n56",
        "outputId": "b61ae0b6-c9cc-473e-f5cb-864c58eef1fa"
      },
      "source": [
        "pd.crosstab(train_data['Answer'],train_data['It became a relationship']).plot(kind='bar')\n",
        "plt.show()"
      ],
      "execution_count": null,
      "outputs": [
        {
          "output_type": "display_data",
          "data": {
            "image/png": "[encoded data removed]",
            "text/plain": [
              "<Figure size 432x288 with 1 Axes>"
            ]
          },
          "metadata": {
            "tags": [],
            "needs_background": "light"
          }
        }
      ]
    },
    {
      "cell_type": "code",
      "metadata": {
        "colab": {
          "base_uri": "https://localhost:8080/"
        },
        "id": "mGoyvWPRCdpU",
        "outputId": "3960689f-490e-41e2-e4da-36d1e90deda5"
      },
      "source": [
        "combine=train_data.append(test_data)\n",
        "combine.reset_index(inplace=True)\n",
        "combine.drop('index',axis=1,inplace=True)\n",
        "combine.shape"
      ],
      "execution_count": null,
      "outputs": [
        {
          "output_type": "execute_result",
          "data": {
            "text/plain": [
              "(2523, 7)"
            ]
          },
          "metadata": {
            "tags": []
          },
          "execution_count": 10
        }
      ]
    },
    {
      "cell_type": "code",
      "metadata": {
        "colab": {
          "base_uri": "https://localhost:8080/",
          "height": 204
        },
        "id": "UKUXTRbiA8D-",
        "outputId": "e996cfae-f05f-443d-ac99-1c4482281a71"
      },
      "source": [
        "combine.head()"
      ],
      "execution_count": null,
      "outputs": [
        {
          "output_type": "execute_result",
          "data": {
            "text/html": [
              "<div>\n",
              "<style scoped>\n",
              "    .dataframe tbody tr th:only-of-type {\n",
              "        vertical-align: middle;\n",
              "    }\n",
              "\n",
              "    .dataframe tbody tr th {\n",
              "        vertical-align: top;\n",
              "    }\n",
              "\n",
              "    .dataframe thead th {\n",
              "        text-align: right;\n",
              "    }\n",
              "</style>\n",
              "<table border=\"1\" class=\"dataframe\">\n",
              "  <thead>\n",
              "    <tr style=\"text-align: right;\">\n",
              "      <th></th>\n",
              "      <th>ID</th>\n",
              "      <th>Segment type</th>\n",
              "      <th>Segment Description</th>\n",
              "      <th>Answer</th>\n",
              "      <th>Count</th>\n",
              "      <th>Percentage</th>\n",
              "      <th>It became a relationship</th>\n",
              "    </tr>\n",
              "  </thead>\n",
              "  <tbody>\n",
              "    <tr>\n",
              "      <th>0</th>\n",
              "      <td>292890.8970</td>\n",
              "      <td>web</td>\n",
              "      <td>Meridian, Idaho</td>\n",
              "      <td>No</td>\n",
              "      <td>0.000000</td>\n",
              "      <td>0.000000</td>\n",
              "      <td>0.0</td>\n",
              "    </tr>\n",
              "    <tr>\n",
              "      <th>1</th>\n",
              "      <td>292887.9870</td>\n",
              "      <td>web</td>\n",
              "      <td>Meridian, Idaho</td>\n",
              "      <td>No</td>\n",
              "      <td>0.000000</td>\n",
              "      <td>0.000000</td>\n",
              "      <td>0.0</td>\n",
              "    </tr>\n",
              "    <tr>\n",
              "      <th>2</th>\n",
              "      <td>292894.0656</td>\n",
              "      <td>gender</td>\n",
              "      <td>Meridian, Idaho</td>\n",
              "      <td>No</td>\n",
              "      <td>499.173606</td>\n",
              "      <td>0.225255</td>\n",
              "      <td>0.0</td>\n",
              "    </tr>\n",
              "    <tr>\n",
              "      <th>3</th>\n",
              "      <td>292887.1180</td>\n",
              "      <td>web</td>\n",
              "      <td>Meridian, Idaho</td>\n",
              "      <td>No</td>\n",
              "      <td>0.000000</td>\n",
              "      <td>0.000000</td>\n",
              "      <td>0.0</td>\n",
              "    </tr>\n",
              "    <tr>\n",
              "      <th>4</th>\n",
              "      <td>292893.6561</td>\n",
              "      <td>gender</td>\n",
              "      <td>Meridian, Idaho</td>\n",
              "      <td>No</td>\n",
              "      <td>455.925963</td>\n",
              "      <td>0.211360</td>\n",
              "      <td>0.0</td>\n",
              "    </tr>\n",
              "  </tbody>\n",
              "</table>\n",
              "</div>"
            ],
            "text/plain": [
              "            ID Segment type  ... Percentage It became a relationship\n",
              "0  292890.8970          web  ...   0.000000                      0.0\n",
              "1  292887.9870          web  ...   0.000000                      0.0\n",
              "2  292894.0656       gender  ...   0.225255                      0.0\n",
              "3  292887.1180          web  ...   0.000000                      0.0\n",
              "4  292893.6561       gender  ...   0.211360                      0.0\n",
              "\n",
              "[5 rows x 7 columns]"
            ]
          },
          "metadata": {
            "tags": []
          },
          "execution_count": 11
        }
      ]
    },
    {
      "cell_type": "code",
      "metadata": {
        "colab": {
          "base_uri": "https://localhost:8080/",
          "height": 297
        },
        "id": "-zZ_6OfRBrgm",
        "outputId": "aba358c6-d850-47fa-d683-3de8f6f80429"
      },
      "source": [
        "combine.describe()"
      ],
      "execution_count": null,
      "outputs": [
        {
          "output_type": "execute_result",
          "data": {
            "text/html": [
              "<div>\n",
              "<style scoped>\n",
              "    .dataframe tbody tr th:only-of-type {\n",
              "        vertical-align: middle;\n",
              "    }\n",
              "\n",
              "    .dataframe tbody tr th {\n",
              "        vertical-align: top;\n",
              "    }\n",
              "\n",
              "    .dataframe thead th {\n",
              "        text-align: right;\n",
              "    }\n",
              "</style>\n",
              "<table border=\"1\" class=\"dataframe\">\n",
              "  <thead>\n",
              "    <tr style=\"text-align: right;\">\n",
              "      <th></th>\n",
              "      <th>ID</th>\n",
              "      <th>Count</th>\n",
              "      <th>Percentage</th>\n",
              "      <th>It became a relationship</th>\n",
              "    </tr>\n",
              "  </thead>\n",
              "  <tbody>\n",
              "    <tr>\n",
              "      <th>count</th>\n",
              "      <td>2523.000000</td>\n",
              "      <td>2523.000000</td>\n",
              "      <td>2523.000000</td>\n",
              "      <td>1891.000000</td>\n",
              "    </tr>\n",
              "    <tr>\n",
              "      <th>mean</th>\n",
              "      <td>293002.284605</td>\n",
              "      <td>438.411442</td>\n",
              "      <td>0.252648</td>\n",
              "      <td>0.351137</td>\n",
              "    </tr>\n",
              "    <tr>\n",
              "      <th>std</th>\n",
              "      <td>231.549097</td>\n",
              "      <td>493.716960</td>\n",
              "      <td>0.222746</td>\n",
              "      <td>0.477452</td>\n",
              "    </tr>\n",
              "    <tr>\n",
              "      <th>min</th>\n",
              "      <td>292881.000000</td>\n",
              "      <td>0.000000</td>\n",
              "      <td>0.000000</td>\n",
              "      <td>0.000000</td>\n",
              "    </tr>\n",
              "    <tr>\n",
              "      <th>25%</th>\n",
              "      <td>292888.253400</td>\n",
              "      <td>0.000000</td>\n",
              "      <td>0.000000</td>\n",
              "      <td>0.000000</td>\n",
              "    </tr>\n",
              "    <tr>\n",
              "      <th>50%</th>\n",
              "      <td>292893.773300</td>\n",
              "      <td>329.702412</td>\n",
              "      <td>0.255903</td>\n",
              "      <td>0.000000</td>\n",
              "    </tr>\n",
              "    <tr>\n",
              "      <th>75%</th>\n",
              "      <td>292902.891950</td>\n",
              "      <td>834.307315</td>\n",
              "      <td>0.396284</td>\n",
              "      <td>1.000000</td>\n",
              "    </tr>\n",
              "    <tr>\n",
              "      <th>max</th>\n",
              "      <td>293779.000000</td>\n",
              "      <td>1969.000000</td>\n",
              "      <td>1.000000</td>\n",
              "      <td>1.000000</td>\n",
              "    </tr>\n",
              "  </tbody>\n",
              "</table>\n",
              "</div>"
            ],
            "text/plain": [
              "                  ID        Count   Percentage  It became a relationship\n",
              "count    2523.000000  2523.000000  2523.000000               1891.000000\n",
              "mean   293002.284605   438.411442     0.252648                  0.351137\n",
              "std       231.549097   493.716960     0.222746                  0.477452\n",
              "min    292881.000000     0.000000     0.000000                  0.000000\n",
              "25%    292888.253400     0.000000     0.000000                  0.000000\n",
              "50%    292893.773300   329.702412     0.255903                  0.000000\n",
              "75%    292902.891950   834.307315     0.396284                  1.000000\n",
              "max    293779.000000  1969.000000     1.000000                  1.000000"
            ]
          },
          "metadata": {
            "tags": []
          },
          "execution_count": 12
        }
      ]
    },
    {
      "cell_type": "code",
      "metadata": {
        "colab": {
          "base_uri": "https://localhost:8080/"
        },
        "id": "lh-wM4IZC0sv",
        "outputId": "e1cb699d-94d3-46fd-b47d-68b74453a080"
      },
      "source": [
        "X = combine[combine['It became a relationship'].isnull()!=True].drop(['It became a relationship'], axis=1)\n",
        "y = combine[combine['It became a relationship'].isnull()!=True]['It became a relationship']\n",
        "\n",
        "test = combine[combine['It became a relationship'].isnull()==True].drop(['It became a relationship'], axis=1)\n",
        "\n",
        "X.shape, y.shape, test.shape"
      ],
      "execution_count": null,
      "outputs": [
        {
          "output_type": "execute_result",
          "data": {
            "text/plain": [
              "((1891, 6), (1891,), (632, 6))"
            ]
          },
          "metadata": {
            "tags": []
          },
          "execution_count": 13
        }
      ]
    },
    {
      "cell_type": "code",
      "metadata": {
        "colab": {
          "base_uri": "https://localhost:8080/",
          "height": 204
        },
        "id": "Y7eHH3zhDwqi",
        "outputId": "660552ba-854c-4401-ada1-e7efb8cef949"
      },
      "source": [
        "X.head()"
      ],
      "execution_count": null,
      "outputs": [
        {
          "output_type": "execute_result",
          "data": {
            "text/html": [
              "<div>\n",
              "<style scoped>\n",
              "    .dataframe tbody tr th:only-of-type {\n",
              "        vertical-align: middle;\n",
              "    }\n",
              "\n",
              "    .dataframe tbody tr th {\n",
              "        vertical-align: top;\n",
              "    }\n",
              "\n",
              "    .dataframe thead th {\n",
              "        text-align: right;\n",
              "    }\n",
              "</style>\n",
              "<table border=\"1\" class=\"dataframe\">\n",
              "  <thead>\n",
              "    <tr style=\"text-align: right;\">\n",
              "      <th></th>\n",
              "      <th>ID</th>\n",
              "      <th>Segment type</th>\n",
              "      <th>Segment Description</th>\n",
              "      <th>Answer</th>\n",
              "      <th>Count</th>\n",
              "      <th>Percentage</th>\n",
              "    </tr>\n",
              "  </thead>\n",
              "  <tbody>\n",
              "    <tr>\n",
              "      <th>0</th>\n",
              "      <td>292890.8970</td>\n",
              "      <td>web</td>\n",
              "      <td>Meridian, Idaho</td>\n",
              "      <td>No</td>\n",
              "      <td>0.000000</td>\n",
              "      <td>0.000000</td>\n",
              "    </tr>\n",
              "    <tr>\n",
              "      <th>1</th>\n",
              "      <td>292887.9870</td>\n",
              "      <td>web</td>\n",
              "      <td>Meridian, Idaho</td>\n",
              "      <td>No</td>\n",
              "      <td>0.000000</td>\n",
              "      <td>0.000000</td>\n",
              "    </tr>\n",
              "    <tr>\n",
              "      <th>2</th>\n",
              "      <td>292894.0656</td>\n",
              "      <td>gender</td>\n",
              "      <td>Meridian, Idaho</td>\n",
              "      <td>No</td>\n",
              "      <td>499.173606</td>\n",
              "      <td>0.225255</td>\n",
              "    </tr>\n",
              "    <tr>\n",
              "      <th>3</th>\n",
              "      <td>292887.1180</td>\n",
              "      <td>web</td>\n",
              "      <td>Meridian, Idaho</td>\n",
              "      <td>No</td>\n",
              "      <td>0.000000</td>\n",
              "      <td>0.000000</td>\n",
              "    </tr>\n",
              "    <tr>\n",
              "      <th>4</th>\n",
              "      <td>292893.6561</td>\n",
              "      <td>gender</td>\n",
              "      <td>Meridian, Idaho</td>\n",
              "      <td>No</td>\n",
              "      <td>455.925963</td>\n",
              "      <td>0.211360</td>\n",
              "    </tr>\n",
              "  </tbody>\n",
              "</table>\n",
              "</div>"
            ],
            "text/plain": [
              "            ID Segment type Segment Description Answer       Count  Percentage\n",
              "0  292890.8970          web     Meridian, Idaho     No    0.000000    0.000000\n",
              "1  292887.9870          web     Meridian, Idaho     No    0.000000    0.000000\n",
              "2  292894.0656       gender     Meridian, Idaho     No  499.173606    0.225255\n",
              "3  292887.1180          web     Meridian, Idaho     No    0.000000    0.000000\n",
              "4  292893.6561       gender     Meridian, Idaho     No  455.925963    0.211360"
            ]
          },
          "metadata": {
            "tags": []
          },
          "execution_count": 14
        }
      ]
    },
    {
      "cell_type": "code",
      "metadata": {
        "id": "S07FqlOvDq9Q"
      },
      "source": [
        "from sklearn.model_selection import train_test_split\n",
        "X_train,X_test,y_train,y_test=train_test_split(X,y,test_size=0.1,random_state=42)"
      ],
      "execution_count": null,
      "outputs": []
    },
    {
      "cell_type": "code",
      "metadata": {
        "id": "SlleGfzUDvNy",
        "colab": {
          "base_uri": "https://localhost:8080/"
        },
        "outputId": "08f470d2-8b73-4a59-9cac-72a3cb12cdcb"
      },
      "source": [
        "!pip install catboost"
      ],
      "execution_count": null,
      "outputs": [
        {
          "output_type": "stream",
          "text": [
            "Requirement already satisfied: catboost in /usr/local/lib/python3.6/dist-packages (0.24.4)\n",
            "Requirement already satisfied: pandas>=0.24.0 in /usr/local/lib/python3.6/dist-packages (from catboost) (1.1.5)\n",
            "Requirement already satisfied: six in /usr/local/lib/python3.6/dist-packages (from catboost) (1.15.0)\n",
            "Requirement already satisfied: graphviz in /usr/local/lib/python3.6/dist-packages (from catboost) (0.10.1)\n",
            "Requirement already satisfied: plotly in /usr/local/lib/python3.6/dist-packages (from catboost) (4.4.1)\n",
            "Requirement already satisfied: numpy>=1.16.0 in /usr/local/lib/python3.6/dist-packages (from catboost) (1.19.5)\n",
            "Requirement already satisfied: scipy in /usr/local/lib/python3.6/dist-packages (from catboost) (1.4.1)\n",
            "Requirement already satisfied: matplotlib in /usr/local/lib/python3.6/dist-packages (from catboost) (3.2.2)\n",
            "Requirement already satisfied: pytz>=2017.2 in /usr/local/lib/python3.6/dist-packages (from pandas>=0.24.0->catboost) (2018.9)\n",
            "Requirement already satisfied: python-dateutil>=2.7.3 in /usr/local/lib/python3.6/dist-packages (from pandas>=0.24.0->catboost) (2.8.1)\n",
            "Requirement already satisfied: retrying>=1.3.3 in /usr/local/lib/python3.6/dist-packages (from plotly->catboost) (1.3.3)\n",
            "Requirement already satisfied: kiwisolver>=1.0.1 in /usr/local/lib/python3.6/dist-packages (from matplotlib->catboost) (1.3.1)\n",
            "Requirement already satisfied: pyparsing!=2.0.4,!=2.1.2,!=2.1.6,>=2.0.1 in /usr/local/lib/python3.6/dist-packages (from matplotlib->catboost) (2.4.7)\n",
            "Requirement already satisfied: cycler>=0.10 in /usr/local/lib/python3.6/dist-packages (from matplotlib->catboost) (0.10.0)\n"
          ],
          "name": "stdout"
        }
      ]
    },
    {
      "cell_type": "code",
      "metadata": {
        "colab": {
          "base_uri": "https://localhost:8080/"
        },
        "id": "46M8gYPRD0jz",
        "outputId": "80ae984f-5c18-4fe2-9f27-fbc5e5208c69"
      },
      "source": [
        "from sklearn.metrics import accuracy_score\n",
        "from catboost import CatBoostClassifier\n",
        "m = CatBoostClassifier(n_estimators=5000,\n",
        "                           random_state=1994,\n",
        "                           eval_metric='Accuracy',\n",
        "                           learning_rate=0.03, \n",
        "                           max_depth=5,\n",
        "                           cat_features=[1,2,3])\n",
        "m.fit(X_train, y_train,\n",
        "          eval_set=[(X_train,y_train),(X_test, y_test)],\n",
        "          early_stopping_rounds=200,\n",
        "          verbose=200)\n",
        "accuracy_score(m.predict(X_test),y_test)"
      ],
      "execution_count": null,
      "outputs": [
        {
          "output_type": "stream",
          "text": [
            "0:\tlearn: 0.8306878\ttest: 0.8330394\ttest1: 0.8315789\tbest: 0.8315789 (0)\ttotal: 53.9ms\tremaining: 4m 29s\n",
            "200:\tlearn: 0.9564962\ttest: 0.9888301\ttest1: 0.9421053\tbest: 0.9473684 (71)\ttotal: 860ms\tremaining: 20.5s\n",
            "Stopped by overfitting detector  (200 iterations wait)\n",
            "\n",
            "bestTest = 0.9473684211\n",
            "bestIteration = 71\n",
            "\n",
            "Shrink model to first 72 iterations.\n"
          ],
          "name": "stdout"
        },
        {
          "output_type": "execute_result",
          "data": {
            "text/plain": [
              "0.9473684210526315"
            ]
          },
          "metadata": {
            "tags": []
          },
          "execution_count": 17
        }
      ]
    },
    {
      "cell_type": "code",
      "metadata": {
        "colab": {
          "base_uri": "https://localhost:8080/"
        },
        "id": "oY7icWiSEYQ4",
        "outputId": "3aaaee17-d54b-41c5-aff4-c9b9b6d052f5"
      },
      "source": [
        "errCB = []\n",
        "y_pred_tot_cb = []\n",
        "from sklearn.model_selection import StratifiedKFold\n",
        "\n",
        "fold = StratifiedKFold(n_splits=5)\n",
        "i = 1\n",
        "for train_index, test_index in fold.split(X,y):\n",
        "    x_train, x_val = X.iloc[train_index], X.iloc[test_index]\n",
        "    y_train, y_val = y[train_index], y[test_index]\n",
        "    m = CatBoostClassifier(n_estimators=5000,\n",
        "                           random_state=1994,\n",
        "                           eval_metric='Accuracy',\n",
        "                           learning_rate=0.03, \n",
        "                           max_depth=5,\n",
        "                           cat_features=[1,2,3])\n",
        "    m.fit(x_train, y_train,\n",
        "          eval_set=[(x_train,y_train),(x_val, y_val)],\n",
        "          early_stopping_rounds=200,\n",
        "          verbose=200)\n",
        "    pred_y = m.predict(x_val)\n",
        "    print(\"err_cb: \",accuracy_score(pred_y,y_val))\n",
        "    errCB.append(accuracy_score(pred_y,y_val))\n",
        "    pred_test = m.predict(test)\n",
        "    i = i + 1\n",
        "    y_pred_tot_cb.append(pred_test)"
      ],
      "execution_count": null,
      "outputs": [
        {
          "output_type": "stream",
          "text": [
            "0:\tlearn: 0.8379630\ttest: 0.8399471\ttest1: 0.8284960\tbest: 0.8284960 (0)\ttotal: 4.84ms\tremaining: 24.2s\n",
            "200:\tlearn: 0.9589947\ttest: 0.9907407\ttest1: 0.9604222\tbest: 0.9604222 (139)\ttotal: 767ms\tremaining: 18.3s\n",
            "Stopped by overfitting detector  (200 iterations wait)\n",
            "\n",
            "bestTest = 0.9604221636\n",
            "bestIteration = 139\n",
            "\n",
            "Shrink model to first 140 iterations.\n",
            "err_cb:  0.9604221635883905\n",
            "0:\tlearn: 0.8274950\ttest: 0.8195638\ttest1: 0.8439153\tbest: 0.8439153 (0)\ttotal: 4.32ms\tremaining: 21.6s\n",
            "200:\tlearn: 0.9464640\ttest: 0.9953734\ttest1: 0.9497354\tbest: 0.9497354 (59)\ttotal: 732ms\tremaining: 17.5s\n",
            "400:\tlearn: 0.9656312\ttest: 0.9920687\ttest1: 0.9523810\tbest: 0.9550265 (224)\ttotal: 1.5s\tremaining: 17.2s\n",
            "Stopped by overfitting detector  (200 iterations wait)\n",
            "\n",
            "bestTest = 0.955026455\n",
            "bestIteration = 224\n",
            "\n",
            "Shrink model to first 225 iterations.\n",
            "err_cb:  0.955026455026455\n",
            "0:\tlearn: 0.8341044\ttest: 0.8380701\ttest1: 0.8439153\tbest: 0.8439153 (0)\ttotal: 4.26ms\tremaining: 21.3s\n",
            "200:\tlearn: 0.9491077\ttest: 0.9894250\ttest1: 0.9550265\tbest: 0.9576720 (70)\ttotal: 737ms\tremaining: 17.6s\n",
            "Stopped by overfitting detector  (200 iterations wait)\n",
            "\n",
            "bestTest = 0.9576719577\n",
            "bestIteration = 70\n",
            "\n",
            "Shrink model to first 71 iterations.\n",
            "err_cb:  0.9576719576719577\n",
            "0:\tlearn: 0.8321216\ttest: 0.8334435\ttest1: 0.8412698\tbest: 0.8412698 (0)\ttotal: 4.37ms\tremaining: 21.8s\n",
            "200:\tlearn: 0.9530734\ttest: 0.9900859\ttest1: 0.9761905\tbest: 0.9761905 (198)\ttotal: 765ms\tremaining: 18.3s\n",
            "Stopped by overfitting detector  (200 iterations wait)\n",
            "\n",
            "bestTest = 0.9761904762\n",
            "bestIteration = 198\n",
            "\n",
            "Shrink model to first 199 iterations.\n",
            "err_cb:  0.9761904761904762\n",
            "0:\tlearn: 0.8387310\ttest: 0.8393919\ttest1: 0.8201058\tbest: 0.8201058 (0)\ttotal: 4.32ms\tremaining: 21.6s\n",
            "200:\tlearn: 0.9537343\ttest: 0.9709187\ttest1: 0.9391534\tbest: 0.9497354 (90)\ttotal: 758ms\tremaining: 18.1s\n",
            "Stopped by overfitting detector  (200 iterations wait)\n",
            "\n",
            "bestTest = 0.9497354497\n",
            "bestIteration = 90\n",
            "\n",
            "Shrink model to first 91 iterations.\n",
            "err_cb:  0.9497354497354498\n"
          ],
          "name": "stdout"
        }
      ]
    },
    {
      "cell_type": "code",
      "metadata": {
        "colab": {
          "base_uri": "https://localhost:8080/"
        },
        "id": "07kX6OWbEm21",
        "outputId": "b6a722a7-bcd0-4fac-8abc-132368a52f79"
      },
      "source": [
        "np.mean(errCB,0)"
      ],
      "execution_count": null,
      "outputs": [
        {
          "output_type": "execute_result",
          "data": {
            "text/plain": [
              "0.9598093004425458"
            ]
          },
          "metadata": {
            "tags": []
          },
          "execution_count": 19
        }
      ]
    },
    {
      "cell_type": "code",
      "metadata": {
        "id": "NXfJTTQQIEI2"
      },
      "source": [
        "submission=pd.DataFrame()\n",
        "submission['prediction']=np.where(np.mean(y_pred_tot_cb,0)>0.5,1,0)\n",
        "submission.to_csv('final.csv',index=False)"
      ],
      "execution_count": null,
      "outputs": []
    }
  ]
}