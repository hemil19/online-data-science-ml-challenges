{
  "nbformat": 4,
  "nbformat_minor": 0,
  "metadata": {
    "colab": {
      "name": "Amexpert.ipynb",
      "provenance": [],
      "collapsed_sections": [],
      "authorship_tag": "ABX9TyM5k7wcD9WLfXXwxJLhpfgL",
      "include_colab_link": true
    },
    "kernelspec": {
      "name": "python3",
      "display_name": "Python 3"
    }
  },
  "cells": [
    {
      "cell_type": "markdown",
      "metadata": {
        "id": "view-in-github",
        "colab_type": "text"
      },
      "source": [
        "<a href=\"https://colab.research.google.com/github/hemil19/AmExpert-2019-Machine-Learning-Hackathon/blob/master/Amexpert-2019-Machine-Learning-Hackathon.ipynb\" target=\"_parent\"><img src=\"https://colab.research.google.com/assets/colab-badge.svg\" alt=\"Open In Colab\"/></a>"
      ]
    },
    {
      "cell_type": "markdown",
      "metadata": {
        "id": "FL5UNv3HvnNf",
        "colab_type": "text"
      },
      "source": [
        "**Predicting Coupon Redemption**\n",
        "\n",
        "XYZ Credit Card company regularly helps it’s merchants understand their data better and take key business decisions accurately by providing machine learning and analytics consulting. ABC is an established Brick & Mortar retailer that frequently conducts marketing campaigns for its diverse product range. As a merchant of XYZ, they have sought XYZ to assist them in their discount marketing process using the power of machine learning. Can you wear the AmExpert hat and help out ABC?\n",
        "\n",
        " \n",
        "Discount marketing and coupon usage are very widely used promotional techniques to attract new customers and to retain & reinforce loyalty of existing customers. The measurement of a consumer’s propensity towards coupon usage and the prediction of the redemption behaviour are crucial parameters in assessing the effectiveness of a marketing campaign.\n",
        "\n",
        " \n",
        "ABC’s promotions are shared across various channels including email, notifications, etc. A number of these campaigns include coupon discounts that are offered for a specific product/range of products. The retailer would like the ability to predict whether customers redeem the coupons received across channels, which will enable the retailer’s marketing team to accurately design coupon construct, and develop more precise and targeted marketing strategies.\n",
        "\n",
        " \n",
        "The data available in this problem contains the following information, including the details of a sample of campaigns and coupons used in previous campaigns -\n",
        "\n",
        "User Demographic Details\n",
        "Campaign and coupon Details\n",
        "Product details\n",
        "Previous transactions\n",
        "Based on previous transaction & performance data from the last 18 campaigns, predict the probability for the next 10 campaigns in the test set for each coupon and customer combination, whether the customer will redeem the coupon or not?\n",
        "\n",
        " \n",
        "Link to the competition: https://datahack.analyticsvidhya.com/contest/amexpert-2019-machine-learning-hackathon/\n",
        "\n",
        "**Leaderboard Scores**\n",
        "\n",
        "PUBLIC LB SCORE:   0.784271489893097\n",
        "\n",
        "PRIVATE LB SCORE:  0.770984981485098\n",
        "\n"
      ]
    },
    {
      "cell_type": "code",
      "metadata": {
        "id": "-cZ-RApmRcEe",
        "colab_type": "code",
        "colab": {}
      },
      "source": [
        "import pandas as pd\n",
        "import numpy as np"
      ],
      "execution_count": 1,
      "outputs": []
    },
    {
      "cell_type": "code",
      "metadata": {
        "id": "wgZRzNoSRhpZ",
        "colab_type": "code",
        "colab": {}
      },
      "source": [
        "train=pd.read_csv('/content/train.csv')\n",
        "test=pd.read_csv('/content/test_QyjYwdj.csv')"
      ],
      "execution_count": null,
      "outputs": []
    },
    {
      "cell_type": "code",
      "metadata": {
        "id": "VTaZvTBTTZaN",
        "colab_type": "code",
        "colab": {
          "base_uri": "https://localhost:8080/",
          "height": 34
        },
        "outputId": "6177c66f-977c-422c-e785-8f9b187ed072"
      },
      "source": [
        "train.shape"
      ],
      "execution_count": null,
      "outputs": [
        {
          "output_type": "execute_result",
          "data": {
            "text/plain": [
              "(78369, 5)"
            ]
          },
          "metadata": {
            "tags": []
          },
          "execution_count": 3
        }
      ]
    },
    {
      "cell_type": "code",
      "metadata": {
        "id": "b3exalIEibXV",
        "colab_type": "code",
        "colab": {
          "base_uri": "https://localhost:8080/",
          "height": 34
        },
        "outputId": "a11ceac5-b10b-47dd-eb6b-f106e74ad5ad"
      },
      "source": [
        "test.shape"
      ],
      "execution_count": null,
      "outputs": [
        {
          "output_type": "execute_result",
          "data": {
            "text/plain": [
              "(50226, 4)"
            ]
          },
          "metadata": {
            "tags": []
          },
          "execution_count": 4
        }
      ]
    },
    {
      "cell_type": "code",
      "metadata": {
        "id": "v6rFcr1gSBhu",
        "colab_type": "code",
        "colab": {
          "base_uri": "https://localhost:8080/",
          "height": 204
        },
        "outputId": "1be03dfa-5cda-47bf-a408-3ab81abaa43a"
      },
      "source": [
        "campaign_data=pd.read_csv('campaign_data.csv')\n",
        "campaign_data.head()"
      ],
      "execution_count": null,
      "outputs": [
        {
          "output_type": "execute_result",
          "data": {
            "text/html": [
              "<div>\n",
              "<style scoped>\n",
              "    .dataframe tbody tr th:only-of-type {\n",
              "        vertical-align: middle;\n",
              "    }\n",
              "\n",
              "    .dataframe tbody tr th {\n",
              "        vertical-align: top;\n",
              "    }\n",
              "\n",
              "    .dataframe thead th {\n",
              "        text-align: right;\n",
              "    }\n",
              "</style>\n",
              "<table border=\"1\" class=\"dataframe\">\n",
              "  <thead>\n",
              "    <tr style=\"text-align: right;\">\n",
              "      <th></th>\n",
              "      <th>campaign_id</th>\n",
              "      <th>campaign_type</th>\n",
              "      <th>start_date</th>\n",
              "      <th>end_date</th>\n",
              "    </tr>\n",
              "  </thead>\n",
              "  <tbody>\n",
              "    <tr>\n",
              "      <th>0</th>\n",
              "      <td>24</td>\n",
              "      <td>Y</td>\n",
              "      <td>21/10/13</td>\n",
              "      <td>20/12/13</td>\n",
              "    </tr>\n",
              "    <tr>\n",
              "      <th>1</th>\n",
              "      <td>25</td>\n",
              "      <td>Y</td>\n",
              "      <td>21/10/13</td>\n",
              "      <td>22/11/13</td>\n",
              "    </tr>\n",
              "    <tr>\n",
              "      <th>2</th>\n",
              "      <td>20</td>\n",
              "      <td>Y</td>\n",
              "      <td>07/09/13</td>\n",
              "      <td>16/11/13</td>\n",
              "    </tr>\n",
              "    <tr>\n",
              "      <th>3</th>\n",
              "      <td>23</td>\n",
              "      <td>Y</td>\n",
              "      <td>08/10/13</td>\n",
              "      <td>15/11/13</td>\n",
              "    </tr>\n",
              "    <tr>\n",
              "      <th>4</th>\n",
              "      <td>21</td>\n",
              "      <td>Y</td>\n",
              "      <td>16/09/13</td>\n",
              "      <td>18/10/13</td>\n",
              "    </tr>\n",
              "  </tbody>\n",
              "</table>\n",
              "</div>"
            ],
            "text/plain": [
              "   campaign_id campaign_type start_date  end_date\n",
              "0           24             Y   21/10/13  20/12/13\n",
              "1           25             Y   21/10/13  22/11/13\n",
              "2           20             Y   07/09/13  16/11/13\n",
              "3           23             Y   08/10/13  15/11/13\n",
              "4           21             Y   16/09/13  18/10/13"
            ]
          },
          "metadata": {
            "tags": []
          },
          "execution_count": 4
        }
      ]
    },
    {
      "cell_type": "code",
      "metadata": {
        "id": "naggNk29TBYj",
        "colab_type": "code",
        "colab": {}
      },
      "source": [
        "train=pd.merge(train,campaign_data,how='left',on='campaign_id')\n",
        "test=pd.merge(test,campaign_data,how='left',on='campaign_id')"
      ],
      "execution_count": null,
      "outputs": []
    },
    {
      "cell_type": "code",
      "metadata": {
        "id": "cHmc09ubTJkz",
        "colab_type": "code",
        "colab": {
          "base_uri": "https://localhost:8080/",
          "height": 34
        },
        "outputId": "1bf3147e-9e40-41f4-9b37-d1b64ceff9da"
      },
      "source": [
        "train.shape,test.shape"
      ],
      "execution_count": null,
      "outputs": [
        {
          "output_type": "execute_result",
          "data": {
            "text/plain": [
              "((78369, 8), (50226, 7))"
            ]
          },
          "metadata": {
            "tags": []
          },
          "execution_count": 7
        }
      ]
    },
    {
      "cell_type": "code",
      "metadata": {
        "id": "TKmu1lcQb80G",
        "colab_type": "code",
        "colab": {
          "base_uri": "https://localhost:8080/",
          "height": 204
        },
        "outputId": "8610a177-c3d3-40ee-986b-4b54aa35b49b"
      },
      "source": [
        "train.head()"
      ],
      "execution_count": null,
      "outputs": [
        {
          "output_type": "execute_result",
          "data": {
            "text/html": [
              "<div>\n",
              "<style scoped>\n",
              "    .dataframe tbody tr th:only-of-type {\n",
              "        vertical-align: middle;\n",
              "    }\n",
              "\n",
              "    .dataframe tbody tr th {\n",
              "        vertical-align: top;\n",
              "    }\n",
              "\n",
              "    .dataframe thead th {\n",
              "        text-align: right;\n",
              "    }\n",
              "</style>\n",
              "<table border=\"1\" class=\"dataframe\">\n",
              "  <thead>\n",
              "    <tr style=\"text-align: right;\">\n",
              "      <th></th>\n",
              "      <th>id</th>\n",
              "      <th>campaign_id</th>\n",
              "      <th>coupon_id</th>\n",
              "      <th>customer_id</th>\n",
              "      <th>redemption_status</th>\n",
              "      <th>campaign_type</th>\n",
              "      <th>start_date</th>\n",
              "      <th>end_date</th>\n",
              "    </tr>\n",
              "  </thead>\n",
              "  <tbody>\n",
              "    <tr>\n",
              "      <th>0</th>\n",
              "      <td>1</td>\n",
              "      <td>13</td>\n",
              "      <td>27</td>\n",
              "      <td>1053</td>\n",
              "      <td>0</td>\n",
              "      <td>X</td>\n",
              "      <td>19/05/13</td>\n",
              "      <td>05/07/13</td>\n",
              "    </tr>\n",
              "    <tr>\n",
              "      <th>1</th>\n",
              "      <td>2</td>\n",
              "      <td>13</td>\n",
              "      <td>116</td>\n",
              "      <td>48</td>\n",
              "      <td>0</td>\n",
              "      <td>X</td>\n",
              "      <td>19/05/13</td>\n",
              "      <td>05/07/13</td>\n",
              "    </tr>\n",
              "    <tr>\n",
              "      <th>2</th>\n",
              "      <td>6</td>\n",
              "      <td>9</td>\n",
              "      <td>635</td>\n",
              "      <td>205</td>\n",
              "      <td>0</td>\n",
              "      <td>Y</td>\n",
              "      <td>11/03/13</td>\n",
              "      <td>12/04/13</td>\n",
              "    </tr>\n",
              "    <tr>\n",
              "      <th>3</th>\n",
              "      <td>7</td>\n",
              "      <td>13</td>\n",
              "      <td>644</td>\n",
              "      <td>1050</td>\n",
              "      <td>0</td>\n",
              "      <td>X</td>\n",
              "      <td>19/05/13</td>\n",
              "      <td>05/07/13</td>\n",
              "    </tr>\n",
              "    <tr>\n",
              "      <th>4</th>\n",
              "      <td>9</td>\n",
              "      <td>8</td>\n",
              "      <td>1017</td>\n",
              "      <td>1489</td>\n",
              "      <td>0</td>\n",
              "      <td>X</td>\n",
              "      <td>16/02/13</td>\n",
              "      <td>05/04/13</td>\n",
              "    </tr>\n",
              "  </tbody>\n",
              "</table>\n",
              "</div>"
            ],
            "text/plain": [
              "   id  campaign_id  coupon_id  ...  campaign_type  start_date  end_date\n",
              "0   1           13         27  ...              X    19/05/13  05/07/13\n",
              "1   2           13        116  ...              X    19/05/13  05/07/13\n",
              "2   6            9        635  ...              Y    11/03/13  12/04/13\n",
              "3   7           13        644  ...              X    19/05/13  05/07/13\n",
              "4   9            8       1017  ...              X    16/02/13  05/04/13\n",
              "\n",
              "[5 rows x 8 columns]"
            ]
          },
          "metadata": {
            "tags": []
          },
          "execution_count": 8
        }
      ]
    },
    {
      "cell_type": "code",
      "metadata": {
        "id": "JaiYvX0MTXmu",
        "colab_type": "code",
        "colab": {}
      },
      "source": [
        "customer_demographics=pd.read_csv('customer_demographics.csv')\n",
        "customer_transaction_data=pd.read_csv('customer_transaction_data.csv')"
      ],
      "execution_count": null,
      "outputs": []
    },
    {
      "cell_type": "code",
      "metadata": {
        "id": "Qr4mjmIiT3J0",
        "colab_type": "code",
        "colab": {
          "base_uri": "https://localhost:8080/",
          "height": 204
        },
        "outputId": "23d1b23d-a214-4e31-d25f-1b1ff789a2fc"
      },
      "source": [
        "customer_demographics.head()"
      ],
      "execution_count": null,
      "outputs": [
        {
          "output_type": "execute_result",
          "data": {
            "text/html": [
              "<div>\n",
              "<style scoped>\n",
              "    .dataframe tbody tr th:only-of-type {\n",
              "        vertical-align: middle;\n",
              "    }\n",
              "\n",
              "    .dataframe tbody tr th {\n",
              "        vertical-align: top;\n",
              "    }\n",
              "\n",
              "    .dataframe thead th {\n",
              "        text-align: right;\n",
              "    }\n",
              "</style>\n",
              "<table border=\"1\" class=\"dataframe\">\n",
              "  <thead>\n",
              "    <tr style=\"text-align: right;\">\n",
              "      <th></th>\n",
              "      <th>customer_id</th>\n",
              "      <th>age_range</th>\n",
              "      <th>marital_status</th>\n",
              "      <th>rented</th>\n",
              "      <th>family_size</th>\n",
              "      <th>no_of_children</th>\n",
              "      <th>income_bracket</th>\n",
              "    </tr>\n",
              "  </thead>\n",
              "  <tbody>\n",
              "    <tr>\n",
              "      <th>0</th>\n",
              "      <td>1</td>\n",
              "      <td>70+</td>\n",
              "      <td>Married</td>\n",
              "      <td>0</td>\n",
              "      <td>2</td>\n",
              "      <td>NaN</td>\n",
              "      <td>4</td>\n",
              "    </tr>\n",
              "    <tr>\n",
              "      <th>1</th>\n",
              "      <td>6</td>\n",
              "      <td>46-55</td>\n",
              "      <td>Married</td>\n",
              "      <td>0</td>\n",
              "      <td>2</td>\n",
              "      <td>NaN</td>\n",
              "      <td>5</td>\n",
              "    </tr>\n",
              "    <tr>\n",
              "      <th>2</th>\n",
              "      <td>7</td>\n",
              "      <td>26-35</td>\n",
              "      <td>NaN</td>\n",
              "      <td>0</td>\n",
              "      <td>3</td>\n",
              "      <td>1</td>\n",
              "      <td>3</td>\n",
              "    </tr>\n",
              "    <tr>\n",
              "      <th>3</th>\n",
              "      <td>8</td>\n",
              "      <td>26-35</td>\n",
              "      <td>NaN</td>\n",
              "      <td>0</td>\n",
              "      <td>4</td>\n",
              "      <td>2</td>\n",
              "      <td>6</td>\n",
              "    </tr>\n",
              "    <tr>\n",
              "      <th>4</th>\n",
              "      <td>10</td>\n",
              "      <td>46-55</td>\n",
              "      <td>Single</td>\n",
              "      <td>0</td>\n",
              "      <td>1</td>\n",
              "      <td>NaN</td>\n",
              "      <td>5</td>\n",
              "    </tr>\n",
              "  </tbody>\n",
              "</table>\n",
              "</div>"
            ],
            "text/plain": [
              "   customer_id age_range  ... no_of_children  income_bracket\n",
              "0            1       70+  ...            NaN               4\n",
              "1            6     46-55  ...            NaN               5\n",
              "2            7     26-35  ...              1               3\n",
              "3            8     26-35  ...              2               6\n",
              "4           10     46-55  ...            NaN               5\n",
              "\n",
              "[5 rows x 7 columns]"
            ]
          },
          "metadata": {
            "tags": []
          },
          "execution_count": 10
        }
      ]
    },
    {
      "cell_type": "code",
      "metadata": {
        "id": "aX3684vfcDu8",
        "colab_type": "code",
        "colab": {
          "base_uri": "https://localhost:8080/",
          "height": 153
        },
        "outputId": "e8dbfd15-3aeb-40e4-ba6f-51022d19192e"
      },
      "source": [
        "customer_demographics.isna().sum()"
      ],
      "execution_count": null,
      "outputs": [
        {
          "output_type": "execute_result",
          "data": {
            "text/plain": [
              "customer_id         0\n",
              "age_range           0\n",
              "marital_status    329\n",
              "rented              0\n",
              "family_size         0\n",
              "no_of_children    538\n",
              "income_bracket      0\n",
              "dtype: int64"
            ]
          },
          "metadata": {
            "tags": []
          },
          "execution_count": 11
        }
      ]
    },
    {
      "cell_type": "code",
      "metadata": {
        "id": "7hRPYI-zcIx6",
        "colab_type": "code",
        "colab": {}
      },
      "source": [
        "customer_demographics['marital_status'].fillna(customer_demographics['marital_status'].mode()[0],inplace=True)\n",
        "customer_demographics['no_of_children'].fillna(0,inplace=True)"
      ],
      "execution_count": null,
      "outputs": []
    },
    {
      "cell_type": "code",
      "metadata": {
        "id": "PAUW6l1QWX-o",
        "colab_type": "code",
        "colab": {}
      },
      "source": [
        "train=pd.merge(train,customer_demographics,on='customer_id',how='left')\n",
        "test=pd.merge(test,customer_demographics,on='customer_id',how='left')"
      ],
      "execution_count": null,
      "outputs": []
    },
    {
      "cell_type": "code",
      "metadata": {
        "id": "phPoLOloiwey",
        "colab_type": "code",
        "colab": {
          "base_uri": "https://localhost:8080/",
          "height": 34
        },
        "outputId": "2818ef00-3c2a-4443-fc93-4048c6bcbaf2"
      },
      "source": [
        "train.shape,test.shape"
      ],
      "execution_count": null,
      "outputs": [
        {
          "output_type": "execute_result",
          "data": {
            "text/plain": [
              "((78369, 14), (50226, 13))"
            ]
          },
          "metadata": {
            "tags": []
          },
          "execution_count": 14
        }
      ]
    },
    {
      "cell_type": "code",
      "metadata": {
        "id": "r5W-DceqcZhM",
        "colab_type": "code",
        "colab": {
          "base_uri": "https://localhost:8080/",
          "height": 224
        },
        "outputId": "1aa8b2b9-8cdd-42d3-9e28-771935e71972"
      },
      "source": [
        "train.head()"
      ],
      "execution_count": null,
      "outputs": [
        {
          "output_type": "execute_result",
          "data": {
            "text/html": [
              "<div>\n",
              "<style scoped>\n",
              "    .dataframe tbody tr th:only-of-type {\n",
              "        vertical-align: middle;\n",
              "    }\n",
              "\n",
              "    .dataframe tbody tr th {\n",
              "        vertical-align: top;\n",
              "    }\n",
              "\n",
              "    .dataframe thead th {\n",
              "        text-align: right;\n",
              "    }\n",
              "</style>\n",
              "<table border=\"1\" class=\"dataframe\">\n",
              "  <thead>\n",
              "    <tr style=\"text-align: right;\">\n",
              "      <th></th>\n",
              "      <th>id</th>\n",
              "      <th>campaign_id</th>\n",
              "      <th>coupon_id</th>\n",
              "      <th>customer_id</th>\n",
              "      <th>redemption_status</th>\n",
              "      <th>campaign_type</th>\n",
              "      <th>start_date</th>\n",
              "      <th>end_date</th>\n",
              "      <th>age_range</th>\n",
              "      <th>marital_status</th>\n",
              "      <th>rented</th>\n",
              "      <th>family_size</th>\n",
              "      <th>no_of_children</th>\n",
              "      <th>income_bracket</th>\n",
              "    </tr>\n",
              "  </thead>\n",
              "  <tbody>\n",
              "    <tr>\n",
              "      <th>0</th>\n",
              "      <td>1</td>\n",
              "      <td>13</td>\n",
              "      <td>27</td>\n",
              "      <td>1053</td>\n",
              "      <td>0</td>\n",
              "      <td>X</td>\n",
              "      <td>19/05/13</td>\n",
              "      <td>05/07/13</td>\n",
              "      <td>46-55</td>\n",
              "      <td>Married</td>\n",
              "      <td>0.0</td>\n",
              "      <td>1</td>\n",
              "      <td>0</td>\n",
              "      <td>5.0</td>\n",
              "    </tr>\n",
              "    <tr>\n",
              "      <th>1</th>\n",
              "      <td>2</td>\n",
              "      <td>13</td>\n",
              "      <td>116</td>\n",
              "      <td>48</td>\n",
              "      <td>0</td>\n",
              "      <td>X</td>\n",
              "      <td>19/05/13</td>\n",
              "      <td>05/07/13</td>\n",
              "      <td>36-45</td>\n",
              "      <td>Married</td>\n",
              "      <td>0.0</td>\n",
              "      <td>2</td>\n",
              "      <td>0</td>\n",
              "      <td>3.0</td>\n",
              "    </tr>\n",
              "    <tr>\n",
              "      <th>2</th>\n",
              "      <td>6</td>\n",
              "      <td>9</td>\n",
              "      <td>635</td>\n",
              "      <td>205</td>\n",
              "      <td>0</td>\n",
              "      <td>Y</td>\n",
              "      <td>11/03/13</td>\n",
              "      <td>12/04/13</td>\n",
              "      <td>46-55</td>\n",
              "      <td>Married</td>\n",
              "      <td>0.0</td>\n",
              "      <td>2</td>\n",
              "      <td>0</td>\n",
              "      <td>7.0</td>\n",
              "    </tr>\n",
              "    <tr>\n",
              "      <th>3</th>\n",
              "      <td>7</td>\n",
              "      <td>13</td>\n",
              "      <td>644</td>\n",
              "      <td>1050</td>\n",
              "      <td>0</td>\n",
              "      <td>X</td>\n",
              "      <td>19/05/13</td>\n",
              "      <td>05/07/13</td>\n",
              "      <td>NaN</td>\n",
              "      <td>NaN</td>\n",
              "      <td>NaN</td>\n",
              "      <td>NaN</td>\n",
              "      <td>NaN</td>\n",
              "      <td>NaN</td>\n",
              "    </tr>\n",
              "    <tr>\n",
              "      <th>4</th>\n",
              "      <td>9</td>\n",
              "      <td>8</td>\n",
              "      <td>1017</td>\n",
              "      <td>1489</td>\n",
              "      <td>0</td>\n",
              "      <td>X</td>\n",
              "      <td>16/02/13</td>\n",
              "      <td>05/04/13</td>\n",
              "      <td>46-55</td>\n",
              "      <td>Married</td>\n",
              "      <td>0.0</td>\n",
              "      <td>2</td>\n",
              "      <td>0</td>\n",
              "      <td>3.0</td>\n",
              "    </tr>\n",
              "  </tbody>\n",
              "</table>\n",
              "</div>"
            ],
            "text/plain": [
              "   id  campaign_id  coupon_id  ...  family_size  no_of_children income_bracket\n",
              "0   1           13         27  ...            1               0            5.0\n",
              "1   2           13        116  ...            2               0            3.0\n",
              "2   6            9        635  ...            2               0            7.0\n",
              "3   7           13        644  ...          NaN             NaN            NaN\n",
              "4   9            8       1017  ...            2               0            3.0\n",
              "\n",
              "[5 rows x 14 columns]"
            ]
          },
          "metadata": {
            "tags": []
          },
          "execution_count": 15
        }
      ]
    },
    {
      "cell_type": "code",
      "metadata": {
        "id": "p6qD9HEdT5Ar",
        "colab_type": "code",
        "colab": {
          "base_uri": "https://localhost:8080/",
          "height": 204
        },
        "outputId": "461b503d-48ac-4099-c08b-d4a202b20c65"
      },
      "source": [
        "customer_transaction_data.head()"
      ],
      "execution_count": null,
      "outputs": [
        {
          "output_type": "execute_result",
          "data": {
            "text/html": [
              "<div>\n",
              "<style scoped>\n",
              "    .dataframe tbody tr th:only-of-type {\n",
              "        vertical-align: middle;\n",
              "    }\n",
              "\n",
              "    .dataframe tbody tr th {\n",
              "        vertical-align: top;\n",
              "    }\n",
              "\n",
              "    .dataframe thead th {\n",
              "        text-align: right;\n",
              "    }\n",
              "</style>\n",
              "<table border=\"1\" class=\"dataframe\">\n",
              "  <thead>\n",
              "    <tr style=\"text-align: right;\">\n",
              "      <th></th>\n",
              "      <th>date</th>\n",
              "      <th>customer_id</th>\n",
              "      <th>item_id</th>\n",
              "      <th>quantity</th>\n",
              "      <th>selling_price</th>\n",
              "      <th>other_discount</th>\n",
              "      <th>coupon_discount</th>\n",
              "    </tr>\n",
              "  </thead>\n",
              "  <tbody>\n",
              "    <tr>\n",
              "      <th>0</th>\n",
              "      <td>2012-01-02</td>\n",
              "      <td>1501</td>\n",
              "      <td>26830</td>\n",
              "      <td>1</td>\n",
              "      <td>35.26</td>\n",
              "      <td>-10.69</td>\n",
              "      <td>0.0</td>\n",
              "    </tr>\n",
              "    <tr>\n",
              "      <th>1</th>\n",
              "      <td>2012-01-02</td>\n",
              "      <td>1501</td>\n",
              "      <td>54253</td>\n",
              "      <td>1</td>\n",
              "      <td>53.43</td>\n",
              "      <td>-13.89</td>\n",
              "      <td>0.0</td>\n",
              "    </tr>\n",
              "    <tr>\n",
              "      <th>2</th>\n",
              "      <td>2012-01-02</td>\n",
              "      <td>1501</td>\n",
              "      <td>31962</td>\n",
              "      <td>1</td>\n",
              "      <td>106.50</td>\n",
              "      <td>-14.25</td>\n",
              "      <td>0.0</td>\n",
              "    </tr>\n",
              "    <tr>\n",
              "      <th>3</th>\n",
              "      <td>2012-01-02</td>\n",
              "      <td>1501</td>\n",
              "      <td>33647</td>\n",
              "      <td>1</td>\n",
              "      <td>67.32</td>\n",
              "      <td>0.00</td>\n",
              "      <td>0.0</td>\n",
              "    </tr>\n",
              "    <tr>\n",
              "      <th>4</th>\n",
              "      <td>2012-01-02</td>\n",
              "      <td>1501</td>\n",
              "      <td>48199</td>\n",
              "      <td>1</td>\n",
              "      <td>71.24</td>\n",
              "      <td>-28.14</td>\n",
              "      <td>0.0</td>\n",
              "    </tr>\n",
              "  </tbody>\n",
              "</table>\n",
              "</div>"
            ],
            "text/plain": [
              "         date  customer_id  ...  other_discount  coupon_discount\n",
              "0  2012-01-02         1501  ...          -10.69              0.0\n",
              "1  2012-01-02         1501  ...          -13.89              0.0\n",
              "2  2012-01-02         1501  ...          -14.25              0.0\n",
              "3  2012-01-02         1501  ...            0.00              0.0\n",
              "4  2012-01-02         1501  ...          -28.14              0.0\n",
              "\n",
              "[5 rows x 7 columns]"
            ]
          },
          "metadata": {
            "tags": []
          },
          "execution_count": 16
        }
      ]
    },
    {
      "cell_type": "code",
      "metadata": {
        "id": "NdFrtBCKWnEG",
        "colab_type": "code",
        "colab": {
          "base_uri": "https://localhost:8080/",
          "height": 204
        },
        "outputId": "8a265a80-062f-4571-f27a-328519d777d8"
      },
      "source": [
        "item_data=pd.read_csv('item_data.csv')\n",
        "item_data.head()"
      ],
      "execution_count": null,
      "outputs": [
        {
          "output_type": "execute_result",
          "data": {
            "text/html": [
              "<div>\n",
              "<style scoped>\n",
              "    .dataframe tbody tr th:only-of-type {\n",
              "        vertical-align: middle;\n",
              "    }\n",
              "\n",
              "    .dataframe tbody tr th {\n",
              "        vertical-align: top;\n",
              "    }\n",
              "\n",
              "    .dataframe thead th {\n",
              "        text-align: right;\n",
              "    }\n",
              "</style>\n",
              "<table border=\"1\" class=\"dataframe\">\n",
              "  <thead>\n",
              "    <tr style=\"text-align: right;\">\n",
              "      <th></th>\n",
              "      <th>item_id</th>\n",
              "      <th>brand</th>\n",
              "      <th>brand_type</th>\n",
              "      <th>category</th>\n",
              "    </tr>\n",
              "  </thead>\n",
              "  <tbody>\n",
              "    <tr>\n",
              "      <th>0</th>\n",
              "      <td>1</td>\n",
              "      <td>1</td>\n",
              "      <td>Established</td>\n",
              "      <td>Grocery</td>\n",
              "    </tr>\n",
              "    <tr>\n",
              "      <th>1</th>\n",
              "      <td>2</td>\n",
              "      <td>1</td>\n",
              "      <td>Established</td>\n",
              "      <td>Miscellaneous</td>\n",
              "    </tr>\n",
              "    <tr>\n",
              "      <th>2</th>\n",
              "      <td>3</td>\n",
              "      <td>56</td>\n",
              "      <td>Local</td>\n",
              "      <td>Bakery</td>\n",
              "    </tr>\n",
              "    <tr>\n",
              "      <th>3</th>\n",
              "      <td>4</td>\n",
              "      <td>56</td>\n",
              "      <td>Local</td>\n",
              "      <td>Grocery</td>\n",
              "    </tr>\n",
              "    <tr>\n",
              "      <th>4</th>\n",
              "      <td>5</td>\n",
              "      <td>56</td>\n",
              "      <td>Local</td>\n",
              "      <td>Grocery</td>\n",
              "    </tr>\n",
              "  </tbody>\n",
              "</table>\n",
              "</div>"
            ],
            "text/plain": [
              "   item_id  brand   brand_type       category\n",
              "0        1      1  Established        Grocery\n",
              "1        2      1  Established  Miscellaneous\n",
              "2        3     56        Local         Bakery\n",
              "3        4     56        Local        Grocery\n",
              "4        5     56        Local        Grocery"
            ]
          },
          "metadata": {
            "tags": []
          },
          "execution_count": 9
        }
      ]
    },
    {
      "cell_type": "code",
      "metadata": {
        "id": "jr7SHFY3UJ5M",
        "colab_type": "code",
        "colab": {}
      },
      "source": [
        "customerdata=pd.merge(customer_transaction_data.groupby('item_id').agg({'quantity':'sum','selling_price':'mean','other_discount':'mean','coupon_discount':'mean'}).reset_index(),item_data,on='item_id',how='left')"
      ],
      "execution_count": null,
      "outputs": []
    },
    {
      "cell_type": "code",
      "metadata": {
        "id": "uYlxZXg5VsD-",
        "colab_type": "code",
        "colab": {
          "base_uri": "https://localhost:8080/",
          "height": 34
        },
        "outputId": "ca6812e9-9c00-49f0-8714-f021d22e65e3"
      },
      "source": [
        "customerdata.shape"
      ],
      "execution_count": null,
      "outputs": [
        {
          "output_type": "execute_result",
          "data": {
            "text/plain": [
              "(74063, 8)"
            ]
          },
          "metadata": {
            "tags": []
          },
          "execution_count": 19
        }
      ]
    },
    {
      "cell_type": "code",
      "metadata": {
        "id": "ulAP9XEHczrq",
        "colab_type": "code",
        "colab": {
          "base_uri": "https://localhost:8080/",
          "height": 204
        },
        "outputId": "f54c1979-b019-42d1-a6ff-c424d3c7a662"
      },
      "source": [
        "customerdata.head()"
      ],
      "execution_count": null,
      "outputs": [
        {
          "output_type": "execute_result",
          "data": {
            "text/html": [
              "<div>\n",
              "<style scoped>\n",
              "    .dataframe tbody tr th:only-of-type {\n",
              "        vertical-align: middle;\n",
              "    }\n",
              "\n",
              "    .dataframe tbody tr th {\n",
              "        vertical-align: top;\n",
              "    }\n",
              "\n",
              "    .dataframe thead th {\n",
              "        text-align: right;\n",
              "    }\n",
              "</style>\n",
              "<table border=\"1\" class=\"dataframe\">\n",
              "  <thead>\n",
              "    <tr style=\"text-align: right;\">\n",
              "      <th></th>\n",
              "      <th>item_id</th>\n",
              "      <th>quantity</th>\n",
              "      <th>selling_price</th>\n",
              "      <th>other_discount</th>\n",
              "      <th>coupon_discount</th>\n",
              "      <th>brand</th>\n",
              "      <th>brand_type</th>\n",
              "      <th>category</th>\n",
              "    </tr>\n",
              "  </thead>\n",
              "  <tbody>\n",
              "    <tr>\n",
              "      <th>0</th>\n",
              "      <td>1</td>\n",
              "      <td>2</td>\n",
              "      <td>124.31</td>\n",
              "      <td>0.0</td>\n",
              "      <td>0.0</td>\n",
              "      <td>1</td>\n",
              "      <td>Established</td>\n",
              "      <td>Grocery</td>\n",
              "    </tr>\n",
              "    <tr>\n",
              "      <th>1</th>\n",
              "      <td>2</td>\n",
              "      <td>1</td>\n",
              "      <td>35.26</td>\n",
              "      <td>0.0</td>\n",
              "      <td>0.0</td>\n",
              "      <td>1</td>\n",
              "      <td>Established</td>\n",
              "      <td>Miscellaneous</td>\n",
              "    </tr>\n",
              "    <tr>\n",
              "      <th>2</th>\n",
              "      <td>3</td>\n",
              "      <td>1</td>\n",
              "      <td>56.64</td>\n",
              "      <td>0.0</td>\n",
              "      <td>0.0</td>\n",
              "      <td>56</td>\n",
              "      <td>Local</td>\n",
              "      <td>Bakery</td>\n",
              "    </tr>\n",
              "    <tr>\n",
              "      <th>3</th>\n",
              "      <td>4</td>\n",
              "      <td>1</td>\n",
              "      <td>54.85</td>\n",
              "      <td>0.0</td>\n",
              "      <td>0.0</td>\n",
              "      <td>56</td>\n",
              "      <td>Local</td>\n",
              "      <td>Grocery</td>\n",
              "    </tr>\n",
              "    <tr>\n",
              "      <th>4</th>\n",
              "      <td>5</td>\n",
              "      <td>1</td>\n",
              "      <td>81.57</td>\n",
              "      <td>0.0</td>\n",
              "      <td>0.0</td>\n",
              "      <td>56</td>\n",
              "      <td>Local</td>\n",
              "      <td>Grocery</td>\n",
              "    </tr>\n",
              "  </tbody>\n",
              "</table>\n",
              "</div>"
            ],
            "text/plain": [
              "   item_id  quantity  selling_price  ...  brand   brand_type       category\n",
              "0        1         2         124.31  ...      1  Established        Grocery\n",
              "1        2         1          35.26  ...      1  Established  Miscellaneous\n",
              "2        3         1          56.64  ...     56        Local         Bakery\n",
              "3        4         1          54.85  ...     56        Local        Grocery\n",
              "4        5         1          81.57  ...     56        Local        Grocery\n",
              "\n",
              "[5 rows x 8 columns]"
            ]
          },
          "metadata": {
            "tags": []
          },
          "execution_count": 20
        }
      ]
    },
    {
      "cell_type": "code",
      "metadata": {
        "id": "rEq_VmtlX86v",
        "colab_type": "code",
        "colab": {
          "base_uri": "https://localhost:8080/",
          "height": 204
        },
        "outputId": "310977ac-bc74-4d48-b982-f435f5c8db72"
      },
      "source": [
        "customerdata.head()"
      ],
      "execution_count": null,
      "outputs": [
        {
          "output_type": "execute_result",
          "data": {
            "text/html": [
              "<div>\n",
              "<style scoped>\n",
              "    .dataframe tbody tr th:only-of-type {\n",
              "        vertical-align: middle;\n",
              "    }\n",
              "\n",
              "    .dataframe tbody tr th {\n",
              "        vertical-align: top;\n",
              "    }\n",
              "\n",
              "    .dataframe thead th {\n",
              "        text-align: right;\n",
              "    }\n",
              "</style>\n",
              "<table border=\"1\" class=\"dataframe\">\n",
              "  <thead>\n",
              "    <tr style=\"text-align: right;\">\n",
              "      <th></th>\n",
              "      <th>item_id</th>\n",
              "      <th>quantity</th>\n",
              "      <th>selling_price</th>\n",
              "      <th>other_discount</th>\n",
              "      <th>coupon_discount</th>\n",
              "      <th>brand</th>\n",
              "      <th>brand_type</th>\n",
              "      <th>category</th>\n",
              "    </tr>\n",
              "  </thead>\n",
              "  <tbody>\n",
              "    <tr>\n",
              "      <th>0</th>\n",
              "      <td>1</td>\n",
              "      <td>2</td>\n",
              "      <td>124.31</td>\n",
              "      <td>0.0</td>\n",
              "      <td>0.0</td>\n",
              "      <td>1</td>\n",
              "      <td>Established</td>\n",
              "      <td>Grocery</td>\n",
              "    </tr>\n",
              "    <tr>\n",
              "      <th>1</th>\n",
              "      <td>2</td>\n",
              "      <td>1</td>\n",
              "      <td>35.26</td>\n",
              "      <td>0.0</td>\n",
              "      <td>0.0</td>\n",
              "      <td>1</td>\n",
              "      <td>Established</td>\n",
              "      <td>Miscellaneous</td>\n",
              "    </tr>\n",
              "    <tr>\n",
              "      <th>2</th>\n",
              "      <td>3</td>\n",
              "      <td>1</td>\n",
              "      <td>56.64</td>\n",
              "      <td>0.0</td>\n",
              "      <td>0.0</td>\n",
              "      <td>56</td>\n",
              "      <td>Local</td>\n",
              "      <td>Bakery</td>\n",
              "    </tr>\n",
              "    <tr>\n",
              "      <th>3</th>\n",
              "      <td>4</td>\n",
              "      <td>1</td>\n",
              "      <td>54.85</td>\n",
              "      <td>0.0</td>\n",
              "      <td>0.0</td>\n",
              "      <td>56</td>\n",
              "      <td>Local</td>\n",
              "      <td>Grocery</td>\n",
              "    </tr>\n",
              "    <tr>\n",
              "      <th>4</th>\n",
              "      <td>5</td>\n",
              "      <td>1</td>\n",
              "      <td>81.57</td>\n",
              "      <td>0.0</td>\n",
              "      <td>0.0</td>\n",
              "      <td>56</td>\n",
              "      <td>Local</td>\n",
              "      <td>Grocery</td>\n",
              "    </tr>\n",
              "  </tbody>\n",
              "</table>\n",
              "</div>"
            ],
            "text/plain": [
              "   item_id  quantity  selling_price  ...  brand   brand_type       category\n",
              "0        1         2         124.31  ...      1  Established        Grocery\n",
              "1        2         1          35.26  ...      1  Established  Miscellaneous\n",
              "2        3         1          56.64  ...     56        Local         Bakery\n",
              "3        4         1          54.85  ...     56        Local        Grocery\n",
              "4        5         1          81.57  ...     56        Local        Grocery\n",
              "\n",
              "[5 rows x 8 columns]"
            ]
          },
          "metadata": {
            "tags": []
          },
          "execution_count": 21
        }
      ]
    },
    {
      "cell_type": "code",
      "metadata": {
        "id": "iCyUhy_NdRWx",
        "colab_type": "code",
        "colab": {
          "base_uri": "https://localhost:8080/",
          "height": 204
        },
        "outputId": "e15c0b78-ac07-4c99-af7e-7d5f93fa12f0"
      },
      "source": [
        "coupon_item_mapping=pd.read_csv('coupon_item_mapping.csv')\n",
        "coupon_item_mapping.head()"
      ],
      "execution_count": null,
      "outputs": [
        {
          "output_type": "execute_result",
          "data": {
            "text/html": [
              "<div>\n",
              "<style scoped>\n",
              "    .dataframe tbody tr th:only-of-type {\n",
              "        vertical-align: middle;\n",
              "    }\n",
              "\n",
              "    .dataframe tbody tr th {\n",
              "        vertical-align: top;\n",
              "    }\n",
              "\n",
              "    .dataframe thead th {\n",
              "        text-align: right;\n",
              "    }\n",
              "</style>\n",
              "<table border=\"1\" class=\"dataframe\">\n",
              "  <thead>\n",
              "    <tr style=\"text-align: right;\">\n",
              "      <th></th>\n",
              "      <th>coupon_id</th>\n",
              "      <th>item_id</th>\n",
              "    </tr>\n",
              "  </thead>\n",
              "  <tbody>\n",
              "    <tr>\n",
              "      <th>0</th>\n",
              "      <td>105</td>\n",
              "      <td>37</td>\n",
              "    </tr>\n",
              "    <tr>\n",
              "      <th>1</th>\n",
              "      <td>107</td>\n",
              "      <td>75</td>\n",
              "    </tr>\n",
              "    <tr>\n",
              "      <th>2</th>\n",
              "      <td>494</td>\n",
              "      <td>76</td>\n",
              "    </tr>\n",
              "    <tr>\n",
              "      <th>3</th>\n",
              "      <td>522</td>\n",
              "      <td>77</td>\n",
              "    </tr>\n",
              "    <tr>\n",
              "      <th>4</th>\n",
              "      <td>518</td>\n",
              "      <td>77</td>\n",
              "    </tr>\n",
              "  </tbody>\n",
              "</table>\n",
              "</div>"
            ],
            "text/plain": [
              "   coupon_id  item_id\n",
              "0        105       37\n",
              "1        107       75\n",
              "2        494       76\n",
              "3        522       77\n",
              "4        518       77"
            ]
          },
          "metadata": {
            "tags": []
          },
          "execution_count": 11
        }
      ]
    },
    {
      "cell_type": "code",
      "metadata": {
        "id": "Gg0GoUVcfUTt",
        "colab_type": "code",
        "colab": {
          "base_uri": "https://localhost:8080/",
          "height": 224
        },
        "outputId": "8d1077ad-c987-42b6-b5dc-f44770c25e19"
      },
      "source": [
        "train.head()"
      ],
      "execution_count": null,
      "outputs": [
        {
          "output_type": "execute_result",
          "data": {
            "text/html": [
              "<div>\n",
              "<style scoped>\n",
              "    .dataframe tbody tr th:only-of-type {\n",
              "        vertical-align: middle;\n",
              "    }\n",
              "\n",
              "    .dataframe tbody tr th {\n",
              "        vertical-align: top;\n",
              "    }\n",
              "\n",
              "    .dataframe thead th {\n",
              "        text-align: right;\n",
              "    }\n",
              "</style>\n",
              "<table border=\"1\" class=\"dataframe\">\n",
              "  <thead>\n",
              "    <tr style=\"text-align: right;\">\n",
              "      <th></th>\n",
              "      <th>id</th>\n",
              "      <th>campaign_id</th>\n",
              "      <th>coupon_id</th>\n",
              "      <th>customer_id</th>\n",
              "      <th>redemption_status</th>\n",
              "      <th>campaign_type</th>\n",
              "      <th>start_date</th>\n",
              "      <th>end_date</th>\n",
              "      <th>age_range</th>\n",
              "      <th>marital_status</th>\n",
              "      <th>rented</th>\n",
              "      <th>family_size</th>\n",
              "      <th>no_of_children</th>\n",
              "      <th>income_bracket</th>\n",
              "    </tr>\n",
              "  </thead>\n",
              "  <tbody>\n",
              "    <tr>\n",
              "      <th>0</th>\n",
              "      <td>1</td>\n",
              "      <td>13</td>\n",
              "      <td>27</td>\n",
              "      <td>1053</td>\n",
              "      <td>0</td>\n",
              "      <td>X</td>\n",
              "      <td>19/05/13</td>\n",
              "      <td>05/07/13</td>\n",
              "      <td>46-55</td>\n",
              "      <td>Married</td>\n",
              "      <td>0.0</td>\n",
              "      <td>1</td>\n",
              "      <td>0</td>\n",
              "      <td>5.0</td>\n",
              "    </tr>\n",
              "    <tr>\n",
              "      <th>1</th>\n",
              "      <td>2</td>\n",
              "      <td>13</td>\n",
              "      <td>116</td>\n",
              "      <td>48</td>\n",
              "      <td>0</td>\n",
              "      <td>X</td>\n",
              "      <td>19/05/13</td>\n",
              "      <td>05/07/13</td>\n",
              "      <td>36-45</td>\n",
              "      <td>Married</td>\n",
              "      <td>0.0</td>\n",
              "      <td>2</td>\n",
              "      <td>0</td>\n",
              "      <td>3.0</td>\n",
              "    </tr>\n",
              "    <tr>\n",
              "      <th>2</th>\n",
              "      <td>6</td>\n",
              "      <td>9</td>\n",
              "      <td>635</td>\n",
              "      <td>205</td>\n",
              "      <td>0</td>\n",
              "      <td>Y</td>\n",
              "      <td>11/03/13</td>\n",
              "      <td>12/04/13</td>\n",
              "      <td>46-55</td>\n",
              "      <td>Married</td>\n",
              "      <td>0.0</td>\n",
              "      <td>2</td>\n",
              "      <td>0</td>\n",
              "      <td>7.0</td>\n",
              "    </tr>\n",
              "    <tr>\n",
              "      <th>3</th>\n",
              "      <td>7</td>\n",
              "      <td>13</td>\n",
              "      <td>644</td>\n",
              "      <td>1050</td>\n",
              "      <td>0</td>\n",
              "      <td>X</td>\n",
              "      <td>19/05/13</td>\n",
              "      <td>05/07/13</td>\n",
              "      <td>NaN</td>\n",
              "      <td>NaN</td>\n",
              "      <td>NaN</td>\n",
              "      <td>NaN</td>\n",
              "      <td>NaN</td>\n",
              "      <td>NaN</td>\n",
              "    </tr>\n",
              "    <tr>\n",
              "      <th>4</th>\n",
              "      <td>9</td>\n",
              "      <td>8</td>\n",
              "      <td>1017</td>\n",
              "      <td>1489</td>\n",
              "      <td>0</td>\n",
              "      <td>X</td>\n",
              "      <td>16/02/13</td>\n",
              "      <td>05/04/13</td>\n",
              "      <td>46-55</td>\n",
              "      <td>Married</td>\n",
              "      <td>0.0</td>\n",
              "      <td>2</td>\n",
              "      <td>0</td>\n",
              "      <td>3.0</td>\n",
              "    </tr>\n",
              "  </tbody>\n",
              "</table>\n",
              "</div>"
            ],
            "text/plain": [
              "   id  campaign_id  coupon_id  ...  family_size  no_of_children income_bracket\n",
              "0   1           13         27  ...            1               0            5.0\n",
              "1   2           13        116  ...            2               0            3.0\n",
              "2   6            9        635  ...            2               0            7.0\n",
              "3   7           13        644  ...          NaN             NaN            NaN\n",
              "4   9            8       1017  ...            2               0            3.0\n",
              "\n",
              "[5 rows x 14 columns]"
            ]
          },
          "metadata": {
            "tags": []
          },
          "execution_count": 23
        }
      ]
    },
    {
      "cell_type": "code",
      "metadata": {
        "id": "jAl2VLB7datz",
        "colab_type": "code",
        "colab": {
          "base_uri": "https://localhost:8080/",
          "height": 34
        },
        "outputId": "cbc1a6a6-ae00-447a-a3aa-581b77982764"
      },
      "source": [
        "train.shape"
      ],
      "execution_count": null,
      "outputs": [
        {
          "output_type": "execute_result",
          "data": {
            "text/plain": [
              "(78369, 14)"
            ]
          },
          "metadata": {
            "tags": []
          },
          "execution_count": 24
        }
      ]
    },
    {
      "cell_type": "code",
      "metadata": {
        "id": "JNSPWkwsfu9l",
        "colab_type": "code",
        "colab": {}
      },
      "source": [
        "dict={}\n",
        "for i in range(0,len(coupon_item_mapping['coupon_id'])):\n",
        "  dict[coupon_item_mapping['coupon_id'][i]]=coupon_item_mapping['item_id'][i]"
      ],
      "execution_count": null,
      "outputs": []
    },
    {
      "cell_type": "code",
      "metadata": {
        "id": "lhx6dNvMhgbm",
        "colab_type": "code",
        "colab": {}
      },
      "source": [
        "ids=[]\n",
        "for i in range(0,len(train)):\n",
        "  ids.append(dict[train['coupon_id'][i]])"
      ],
      "execution_count": null,
      "outputs": []
    },
    {
      "cell_type": "code",
      "metadata": {
        "id": "018gLWwUhsMB",
        "colab_type": "code",
        "colab": {
          "base_uri": "https://localhost:8080/",
          "height": 34
        },
        "outputId": "e9e7fbaf-337c-4fda-c932-4c3b2116c1dc"
      },
      "source": [
        "len(ids)==len(train)"
      ],
      "execution_count": null,
      "outputs": [
        {
          "output_type": "execute_result",
          "data": {
            "text/plain": [
              "True"
            ]
          },
          "metadata": {
            "tags": []
          },
          "execution_count": 27
        }
      ]
    },
    {
      "cell_type": "code",
      "metadata": {
        "id": "_wvkQKfmjDOM",
        "colab_type": "code",
        "colab": {}
      },
      "source": [
        "id_test=[]\n",
        "for i in range(0,len(test)):\n",
        "  id_test.append(dict[test['coupon_id'][i]])"
      ],
      "execution_count": null,
      "outputs": []
    },
    {
      "cell_type": "code",
      "metadata": {
        "id": "K8S9FkdwjKDQ",
        "colab_type": "code",
        "colab": {
          "base_uri": "https://localhost:8080/",
          "height": 34
        },
        "outputId": "d49c3a85-7837-425f-e4b6-4946f7f863f7"
      },
      "source": [
        "len(id_test)==len(test)"
      ],
      "execution_count": null,
      "outputs": [
        {
          "output_type": "execute_result",
          "data": {
            "text/plain": [
              "True"
            ]
          },
          "metadata": {
            "tags": []
          },
          "execution_count": 29
        }
      ]
    },
    {
      "cell_type": "code",
      "metadata": {
        "id": "iYs504ZqhuWI",
        "colab_type": "code",
        "colab": {}
      },
      "source": [
        "train['item_id']=ids\n",
        "test['item_id']=id_test"
      ],
      "execution_count": null,
      "outputs": []
    },
    {
      "cell_type": "code",
      "metadata": {
        "id": "8vCILgVOhyan",
        "colab_type": "code",
        "colab": {
          "base_uri": "https://localhost:8080/",
          "height": 224
        },
        "outputId": "a8c6da92-1293-4571-8d18-bb7d8410bb53"
      },
      "source": [
        "train.head()"
      ],
      "execution_count": null,
      "outputs": [
        {
          "output_type": "execute_result",
          "data": {
            "text/html": [
              "<div>\n",
              "<style scoped>\n",
              "    .dataframe tbody tr th:only-of-type {\n",
              "        vertical-align: middle;\n",
              "    }\n",
              "\n",
              "    .dataframe tbody tr th {\n",
              "        vertical-align: top;\n",
              "    }\n",
              "\n",
              "    .dataframe thead th {\n",
              "        text-align: right;\n",
              "    }\n",
              "</style>\n",
              "<table border=\"1\" class=\"dataframe\">\n",
              "  <thead>\n",
              "    <tr style=\"text-align: right;\">\n",
              "      <th></th>\n",
              "      <th>id</th>\n",
              "      <th>campaign_id</th>\n",
              "      <th>coupon_id</th>\n",
              "      <th>customer_id</th>\n",
              "      <th>redemption_status</th>\n",
              "      <th>campaign_type</th>\n",
              "      <th>start_date</th>\n",
              "      <th>end_date</th>\n",
              "      <th>age_range</th>\n",
              "      <th>marital_status</th>\n",
              "      <th>rented</th>\n",
              "      <th>family_size</th>\n",
              "      <th>no_of_children</th>\n",
              "      <th>income_bracket</th>\n",
              "      <th>item_id</th>\n",
              "    </tr>\n",
              "  </thead>\n",
              "  <tbody>\n",
              "    <tr>\n",
              "      <th>0</th>\n",
              "      <td>1</td>\n",
              "      <td>13</td>\n",
              "      <td>27</td>\n",
              "      <td>1053</td>\n",
              "      <td>0</td>\n",
              "      <td>X</td>\n",
              "      <td>19/05/13</td>\n",
              "      <td>05/07/13</td>\n",
              "      <td>46-55</td>\n",
              "      <td>Married</td>\n",
              "      <td>0.0</td>\n",
              "      <td>1</td>\n",
              "      <td>0</td>\n",
              "      <td>5.0</td>\n",
              "      <td>3051</td>\n",
              "    </tr>\n",
              "    <tr>\n",
              "      <th>1</th>\n",
              "      <td>2</td>\n",
              "      <td>13</td>\n",
              "      <td>116</td>\n",
              "      <td>48</td>\n",
              "      <td>0</td>\n",
              "      <td>X</td>\n",
              "      <td>19/05/13</td>\n",
              "      <td>05/07/13</td>\n",
              "      <td>36-45</td>\n",
              "      <td>Married</td>\n",
              "      <td>0.0</td>\n",
              "      <td>2</td>\n",
              "      <td>0</td>\n",
              "      <td>3.0</td>\n",
              "      <td>4157</td>\n",
              "    </tr>\n",
              "    <tr>\n",
              "      <th>2</th>\n",
              "      <td>6</td>\n",
              "      <td>9</td>\n",
              "      <td>635</td>\n",
              "      <td>205</td>\n",
              "      <td>0</td>\n",
              "      <td>Y</td>\n",
              "      <td>11/03/13</td>\n",
              "      <td>12/04/13</td>\n",
              "      <td>46-55</td>\n",
              "      <td>Married</td>\n",
              "      <td>0.0</td>\n",
              "      <td>2</td>\n",
              "      <td>0</td>\n",
              "      <td>7.0</td>\n",
              "      <td>71612</td>\n",
              "    </tr>\n",
              "    <tr>\n",
              "      <th>3</th>\n",
              "      <td>7</td>\n",
              "      <td>13</td>\n",
              "      <td>644</td>\n",
              "      <td>1050</td>\n",
              "      <td>0</td>\n",
              "      <td>X</td>\n",
              "      <td>19/05/13</td>\n",
              "      <td>05/07/13</td>\n",
              "      <td>NaN</td>\n",
              "      <td>NaN</td>\n",
              "      <td>NaN</td>\n",
              "      <td>NaN</td>\n",
              "      <td>NaN</td>\n",
              "      <td>NaN</td>\n",
              "      <td>12342</td>\n",
              "    </tr>\n",
              "    <tr>\n",
              "      <th>4</th>\n",
              "      <td>9</td>\n",
              "      <td>8</td>\n",
              "      <td>1017</td>\n",
              "      <td>1489</td>\n",
              "      <td>0</td>\n",
              "      <td>X</td>\n",
              "      <td>16/02/13</td>\n",
              "      <td>05/04/13</td>\n",
              "      <td>46-55</td>\n",
              "      <td>Married</td>\n",
              "      <td>0.0</td>\n",
              "      <td>2</td>\n",
              "      <td>0</td>\n",
              "      <td>3.0</td>\n",
              "      <td>27619</td>\n",
              "    </tr>\n",
              "  </tbody>\n",
              "</table>\n",
              "</div>"
            ],
            "text/plain": [
              "   id  campaign_id  coupon_id  ...  no_of_children  income_bracket item_id\n",
              "0   1           13         27  ...               0             5.0    3051\n",
              "1   2           13        116  ...               0             3.0    4157\n",
              "2   6            9        635  ...               0             7.0   71612\n",
              "3   7           13        644  ...             NaN             NaN   12342\n",
              "4   9            8       1017  ...               0             3.0   27619\n",
              "\n",
              "[5 rows x 15 columns]"
            ]
          },
          "metadata": {
            "tags": []
          },
          "execution_count": 31
        }
      ]
    },
    {
      "cell_type": "code",
      "metadata": {
        "id": "AtIndV1Uhzsd",
        "colab_type": "code",
        "colab": {
          "base_uri": "https://localhost:8080/",
          "height": 34
        },
        "outputId": "fffc943a-2dab-4bbb-b2cf-65245d2aa10f"
      },
      "source": [
        "train.shape,test.shape"
      ],
      "execution_count": null,
      "outputs": [
        {
          "output_type": "execute_result",
          "data": {
            "text/plain": [
              "((78369, 15), (50226, 14))"
            ]
          },
          "metadata": {
            "tags": []
          },
          "execution_count": 32
        }
      ]
    },
    {
      "cell_type": "code",
      "metadata": {
        "id": "trjCEr5xh2DR",
        "colab_type": "code",
        "colab": {
          "base_uri": "https://localhost:8080/",
          "height": 204
        },
        "outputId": "d0a230fa-e885-4114-a54f-81f0018e242c"
      },
      "source": [
        "customerdata.head()"
      ],
      "execution_count": null,
      "outputs": [
        {
          "output_type": "execute_result",
          "data": {
            "text/html": [
              "<div>\n",
              "<style scoped>\n",
              "    .dataframe tbody tr th:only-of-type {\n",
              "        vertical-align: middle;\n",
              "    }\n",
              "\n",
              "    .dataframe tbody tr th {\n",
              "        vertical-align: top;\n",
              "    }\n",
              "\n",
              "    .dataframe thead th {\n",
              "        text-align: right;\n",
              "    }\n",
              "</style>\n",
              "<table border=\"1\" class=\"dataframe\">\n",
              "  <thead>\n",
              "    <tr style=\"text-align: right;\">\n",
              "      <th></th>\n",
              "      <th>item_id</th>\n",
              "      <th>quantity</th>\n",
              "      <th>selling_price</th>\n",
              "      <th>other_discount</th>\n",
              "      <th>coupon_discount</th>\n",
              "      <th>brand</th>\n",
              "      <th>brand_type</th>\n",
              "      <th>category</th>\n",
              "    </tr>\n",
              "  </thead>\n",
              "  <tbody>\n",
              "    <tr>\n",
              "      <th>0</th>\n",
              "      <td>1</td>\n",
              "      <td>2</td>\n",
              "      <td>124.31</td>\n",
              "      <td>0.0</td>\n",
              "      <td>0.0</td>\n",
              "      <td>1</td>\n",
              "      <td>Established</td>\n",
              "      <td>Grocery</td>\n",
              "    </tr>\n",
              "    <tr>\n",
              "      <th>1</th>\n",
              "      <td>2</td>\n",
              "      <td>1</td>\n",
              "      <td>35.26</td>\n",
              "      <td>0.0</td>\n",
              "      <td>0.0</td>\n",
              "      <td>1</td>\n",
              "      <td>Established</td>\n",
              "      <td>Miscellaneous</td>\n",
              "    </tr>\n",
              "    <tr>\n",
              "      <th>2</th>\n",
              "      <td>3</td>\n",
              "      <td>1</td>\n",
              "      <td>56.64</td>\n",
              "      <td>0.0</td>\n",
              "      <td>0.0</td>\n",
              "      <td>56</td>\n",
              "      <td>Local</td>\n",
              "      <td>Bakery</td>\n",
              "    </tr>\n",
              "    <tr>\n",
              "      <th>3</th>\n",
              "      <td>4</td>\n",
              "      <td>1</td>\n",
              "      <td>54.85</td>\n",
              "      <td>0.0</td>\n",
              "      <td>0.0</td>\n",
              "      <td>56</td>\n",
              "      <td>Local</td>\n",
              "      <td>Grocery</td>\n",
              "    </tr>\n",
              "    <tr>\n",
              "      <th>4</th>\n",
              "      <td>5</td>\n",
              "      <td>1</td>\n",
              "      <td>81.57</td>\n",
              "      <td>0.0</td>\n",
              "      <td>0.0</td>\n",
              "      <td>56</td>\n",
              "      <td>Local</td>\n",
              "      <td>Grocery</td>\n",
              "    </tr>\n",
              "  </tbody>\n",
              "</table>\n",
              "</div>"
            ],
            "text/plain": [
              "   item_id  quantity  selling_price  ...  brand   brand_type       category\n",
              "0        1         2         124.31  ...      1  Established        Grocery\n",
              "1        2         1          35.26  ...      1  Established  Miscellaneous\n",
              "2        3         1          56.64  ...     56        Local         Bakery\n",
              "3        4         1          54.85  ...     56        Local        Grocery\n",
              "4        5         1          81.57  ...     56        Local        Grocery\n",
              "\n",
              "[5 rows x 8 columns]"
            ]
          },
          "metadata": {
            "tags": []
          },
          "execution_count": 33
        }
      ]
    },
    {
      "cell_type": "code",
      "metadata": {
        "id": "qC-okCcniAlT",
        "colab_type": "code",
        "colab": {}
      },
      "source": [
        "train=pd.merge(train,customerdata,on='item_id',how='left')\n",
        "test=pd.merge(test,customerdata,on='item_id',how='left')"
      ],
      "execution_count": null,
      "outputs": []
    },
    {
      "cell_type": "code",
      "metadata": {
        "id": "rpCuuzPEiOLE",
        "colab_type": "code",
        "colab": {
          "base_uri": "https://localhost:8080/",
          "height": 34
        },
        "outputId": "f252a2a7-3015-40c4-fe21-4a4643357ff7"
      },
      "source": [
        "train.shape,test.shape"
      ],
      "execution_count": null,
      "outputs": [
        {
          "output_type": "execute_result",
          "data": {
            "text/plain": [
              "((78369, 22), (50226, 21))"
            ]
          },
          "metadata": {
            "tags": []
          },
          "execution_count": 35
        }
      ]
    },
    {
      "cell_type": "code",
      "metadata": {
        "id": "rNdAzrdujnpk",
        "colab_type": "code",
        "colab": {
          "base_uri": "https://localhost:8080/",
          "height": 224
        },
        "outputId": "af827a36-ce1e-4471-a5f9-98c655db5637"
      },
      "source": [
        "train.head()"
      ],
      "execution_count": null,
      "outputs": [
        {
          "output_type": "execute_result",
          "data": {
            "text/html": [
              "<div>\n",
              "<style scoped>\n",
              "    .dataframe tbody tr th:only-of-type {\n",
              "        vertical-align: middle;\n",
              "    }\n",
              "\n",
              "    .dataframe tbody tr th {\n",
              "        vertical-align: top;\n",
              "    }\n",
              "\n",
              "    .dataframe thead th {\n",
              "        text-align: right;\n",
              "    }\n",
              "</style>\n",
              "<table border=\"1\" class=\"dataframe\">\n",
              "  <thead>\n",
              "    <tr style=\"text-align: right;\">\n",
              "      <th></th>\n",
              "      <th>id</th>\n",
              "      <th>campaign_id</th>\n",
              "      <th>coupon_id</th>\n",
              "      <th>customer_id</th>\n",
              "      <th>redemption_status</th>\n",
              "      <th>campaign_type</th>\n",
              "      <th>start_date</th>\n",
              "      <th>end_date</th>\n",
              "      <th>age_range</th>\n",
              "      <th>marital_status</th>\n",
              "      <th>rented</th>\n",
              "      <th>family_size</th>\n",
              "      <th>no_of_children</th>\n",
              "      <th>income_bracket</th>\n",
              "      <th>item_id</th>\n",
              "      <th>quantity</th>\n",
              "      <th>selling_price</th>\n",
              "      <th>other_discount</th>\n",
              "      <th>coupon_discount</th>\n",
              "      <th>brand</th>\n",
              "      <th>brand_type</th>\n",
              "      <th>category</th>\n",
              "    </tr>\n",
              "  </thead>\n",
              "  <tbody>\n",
              "    <tr>\n",
              "      <th>0</th>\n",
              "      <td>1</td>\n",
              "      <td>13</td>\n",
              "      <td>27</td>\n",
              "      <td>1053</td>\n",
              "      <td>0</td>\n",
              "      <td>X</td>\n",
              "      <td>19/05/13</td>\n",
              "      <td>05/07/13</td>\n",
              "      <td>46-55</td>\n",
              "      <td>Married</td>\n",
              "      <td>0.0</td>\n",
              "      <td>1</td>\n",
              "      <td>0</td>\n",
              "      <td>5.0</td>\n",
              "      <td>3051</td>\n",
              "      <td>1</td>\n",
              "      <td>89.050000</td>\n",
              "      <td>-42.390000</td>\n",
              "      <td>0.000000</td>\n",
              "      <td>1636</td>\n",
              "      <td>Established</td>\n",
              "      <td>Grocery</td>\n",
              "    </tr>\n",
              "    <tr>\n",
              "      <th>1</th>\n",
              "      <td>2</td>\n",
              "      <td>13</td>\n",
              "      <td>116</td>\n",
              "      <td>48</td>\n",
              "      <td>0</td>\n",
              "      <td>X</td>\n",
              "      <td>19/05/13</td>\n",
              "      <td>05/07/13</td>\n",
              "      <td>36-45</td>\n",
              "      <td>Married</td>\n",
              "      <td>0.0</td>\n",
              "      <td>2</td>\n",
              "      <td>0</td>\n",
              "      <td>3.0</td>\n",
              "      <td>4157</td>\n",
              "      <td>1</td>\n",
              "      <td>53.430000</td>\n",
              "      <td>-10.330000</td>\n",
              "      <td>0.000000</td>\n",
              "      <td>56</td>\n",
              "      <td>Local</td>\n",
              "      <td>Grocery</td>\n",
              "    </tr>\n",
              "    <tr>\n",
              "      <th>2</th>\n",
              "      <td>6</td>\n",
              "      <td>9</td>\n",
              "      <td>635</td>\n",
              "      <td>205</td>\n",
              "      <td>0</td>\n",
              "      <td>Y</td>\n",
              "      <td>11/03/13</td>\n",
              "      <td>12/04/13</td>\n",
              "      <td>46-55</td>\n",
              "      <td>Married</td>\n",
              "      <td>0.0</td>\n",
              "      <td>2</td>\n",
              "      <td>0</td>\n",
              "      <td>7.0</td>\n",
              "      <td>71612</td>\n",
              "      <td>1</td>\n",
              "      <td>427.080000</td>\n",
              "      <td>0.000000</td>\n",
              "      <td>0.000000</td>\n",
              "      <td>560</td>\n",
              "      <td>Established</td>\n",
              "      <td>Pharmaceutical</td>\n",
              "    </tr>\n",
              "    <tr>\n",
              "      <th>3</th>\n",
              "      <td>7</td>\n",
              "      <td>13</td>\n",
              "      <td>644</td>\n",
              "      <td>1050</td>\n",
              "      <td>0</td>\n",
              "      <td>X</td>\n",
              "      <td>19/05/13</td>\n",
              "      <td>05/07/13</td>\n",
              "      <td>NaN</td>\n",
              "      <td>NaN</td>\n",
              "      <td>NaN</td>\n",
              "      <td>NaN</td>\n",
              "      <td>NaN</td>\n",
              "      <td>NaN</td>\n",
              "      <td>12342</td>\n",
              "      <td>27</td>\n",
              "      <td>105.922273</td>\n",
              "      <td>-11.674545</td>\n",
              "      <td>0.000000</td>\n",
              "      <td>611</td>\n",
              "      <td>Established</td>\n",
              "      <td>Grocery</td>\n",
              "    </tr>\n",
              "    <tr>\n",
              "      <th>4</th>\n",
              "      <td>9</td>\n",
              "      <td>8</td>\n",
              "      <td>1017</td>\n",
              "      <td>1489</td>\n",
              "      <td>0</td>\n",
              "      <td>X</td>\n",
              "      <td>16/02/13</td>\n",
              "      <td>05/04/13</td>\n",
              "      <td>46-55</td>\n",
              "      <td>Married</td>\n",
              "      <td>0.0</td>\n",
              "      <td>2</td>\n",
              "      <td>0</td>\n",
              "      <td>3.0</td>\n",
              "      <td>27619</td>\n",
              "      <td>113</td>\n",
              "      <td>187.336505</td>\n",
              "      <td>-35.844272</td>\n",
              "      <td>-0.172913</td>\n",
              "      <td>1558</td>\n",
              "      <td>Established</td>\n",
              "      <td>Grocery</td>\n",
              "    </tr>\n",
              "  </tbody>\n",
              "</table>\n",
              "</div>"
            ],
            "text/plain": [
              "   id  campaign_id  coupon_id  ...  brand   brand_type        category\n",
              "0   1           13         27  ...   1636  Established         Grocery\n",
              "1   2           13        116  ...     56        Local         Grocery\n",
              "2   6            9        635  ...    560  Established  Pharmaceutical\n",
              "3   7           13        644  ...    611  Established         Grocery\n",
              "4   9            8       1017  ...   1558  Established         Grocery\n",
              "\n",
              "[5 rows x 22 columns]"
            ]
          },
          "metadata": {
            "tags": []
          },
          "execution_count": 36
        }
      ]
    },
    {
      "cell_type": "code",
      "metadata": {
        "id": "0FVZ-CsYjrRY",
        "colab_type": "code",
        "colab": {
          "base_uri": "https://localhost:8080/",
          "height": 279
        },
        "outputId": "766584f6-085c-452b-ffa2-dad8a902d521"
      },
      "source": [
        "train['redemption_status'].value_counts().plot(kind='bar')"
      ],
      "execution_count": null,
      "outputs": [
        {
          "output_type": "execute_result",
          "data": {
            "text/plain": [
              "<matplotlib.axes._subplots.AxesSubplot at 0x7fe5d3bfc8d0>"
            ]
          },
          "metadata": {
            "tags": []
          },
          "execution_count": 37
        },
        {
          "output_type": "display_data",
          "data": {
            "image/png": "[encoded data removed]",
            "text/plain": [
              "<Figure size 432x288 with 1 Axes>"
            ]
          },
          "metadata": {
            "tags": [],
            "needs_background": "light"
          }
        }
      ]
    },
    {
      "cell_type": "code",
      "metadata": {
        "id": "KHXrknmIjyhb",
        "colab_type": "code",
        "colab": {
          "base_uri": "https://localhost:8080/",
          "height": 408
        },
        "outputId": "1a8f384e-f9de-4eea-9e99-020d99ae317c"
      },
      "source": [
        "train.isnull().sum()"
      ],
      "execution_count": null,
      "outputs": [
        {
          "output_type": "execute_result",
          "data": {
            "text/plain": [
              "id                       0\n",
              "campaign_id              0\n",
              "coupon_id                0\n",
              "customer_id              0\n",
              "redemption_status        0\n",
              "campaign_type            0\n",
              "start_date               0\n",
              "end_date                 0\n",
              "age_range            34708\n",
              "marital_status       34708\n",
              "rented               34708\n",
              "family_size          34708\n",
              "no_of_children       34708\n",
              "income_bracket       34708\n",
              "item_id                  0\n",
              "quantity                 0\n",
              "selling_price            0\n",
              "other_discount           0\n",
              "coupon_discount          0\n",
              "brand                    0\n",
              "brand_type               0\n",
              "category                 0\n",
              "dtype: int64"
            ]
          },
          "metadata": {
            "tags": []
          },
          "execution_count": 38
        }
      ]
    },
    {
      "cell_type": "code",
      "metadata": {
        "id": "kb0yg04xnb1K",
        "colab_type": "code",
        "colab": {
          "base_uri": "https://localhost:8080/",
          "height": 391
        },
        "outputId": "4ebfa282-8a53-4eb8-94dd-dbdba52e8a54"
      },
      "source": [
        "test.isnull().sum()"
      ],
      "execution_count": null,
      "outputs": [
        {
          "output_type": "execute_result",
          "data": {
            "text/plain": [
              "id                     0\n",
              "campaign_id            0\n",
              "coupon_id              0\n",
              "customer_id            0\n",
              "campaign_type          0\n",
              "start_date             0\n",
              "end_date               0\n",
              "age_range          19287\n",
              "marital_status     19287\n",
              "rented             19287\n",
              "family_size        19287\n",
              "no_of_children     19287\n",
              "income_bracket     19287\n",
              "item_id                0\n",
              "quantity               0\n",
              "selling_price          0\n",
              "other_discount         0\n",
              "coupon_discount        0\n",
              "brand                  0\n",
              "brand_type             0\n",
              "category               0\n",
              "dtype: int64"
            ]
          },
          "metadata": {
            "tags": []
          },
          "execution_count": 39
        }
      ]
    },
    {
      "cell_type": "code",
      "metadata": {
        "id": "2OmcNjr0nidD",
        "colab_type": "code",
        "colab": {
          "base_uri": "https://localhost:8080/",
          "height": 224
        },
        "outputId": "2ad93244-1d63-4eee-f9b7-6a6db303abe1"
      },
      "source": [
        "combine=train.append(test)\n",
        "combine.head()"
      ],
      "execution_count": null,
      "outputs": [
        {
          "output_type": "execute_result",
          "data": {
            "text/html": [
              "<div>\n",
              "<style scoped>\n",
              "    .dataframe tbody tr th:only-of-type {\n",
              "        vertical-align: middle;\n",
              "    }\n",
              "\n",
              "    .dataframe tbody tr th {\n",
              "        vertical-align: top;\n",
              "    }\n",
              "\n",
              "    .dataframe thead th {\n",
              "        text-align: right;\n",
              "    }\n",
              "</style>\n",
              "<table border=\"1\" class=\"dataframe\">\n",
              "  <thead>\n",
              "    <tr style=\"text-align: right;\">\n",
              "      <th></th>\n",
              "      <th>id</th>\n",
              "      <th>campaign_id</th>\n",
              "      <th>coupon_id</th>\n",
              "      <th>customer_id</th>\n",
              "      <th>redemption_status</th>\n",
              "      <th>campaign_type</th>\n",
              "      <th>start_date</th>\n",
              "      <th>end_date</th>\n",
              "      <th>age_range</th>\n",
              "      <th>marital_status</th>\n",
              "      <th>rented</th>\n",
              "      <th>family_size</th>\n",
              "      <th>no_of_children</th>\n",
              "      <th>income_bracket</th>\n",
              "      <th>item_id</th>\n",
              "      <th>quantity</th>\n",
              "      <th>selling_price</th>\n",
              "      <th>other_discount</th>\n",
              "      <th>coupon_discount</th>\n",
              "      <th>brand</th>\n",
              "      <th>brand_type</th>\n",
              "      <th>category</th>\n",
              "    </tr>\n",
              "  </thead>\n",
              "  <tbody>\n",
              "    <tr>\n",
              "      <th>0</th>\n",
              "      <td>1</td>\n",
              "      <td>13</td>\n",
              "      <td>27</td>\n",
              "      <td>1053</td>\n",
              "      <td>0.0</td>\n",
              "      <td>X</td>\n",
              "      <td>19/05/13</td>\n",
              "      <td>05/07/13</td>\n",
              "      <td>46-55</td>\n",
              "      <td>Married</td>\n",
              "      <td>0.0</td>\n",
              "      <td>1</td>\n",
              "      <td>0</td>\n",
              "      <td>5.0</td>\n",
              "      <td>3051</td>\n",
              "      <td>1</td>\n",
              "      <td>89.050000</td>\n",
              "      <td>-42.390000</td>\n",
              "      <td>0.000000</td>\n",
              "      <td>1636</td>\n",
              "      <td>Established</td>\n",
              "      <td>Grocery</td>\n",
              "    </tr>\n",
              "    <tr>\n",
              "      <th>1</th>\n",
              "      <td>2</td>\n",
              "      <td>13</td>\n",
              "      <td>116</td>\n",
              "      <td>48</td>\n",
              "      <td>0.0</td>\n",
              "      <td>X</td>\n",
              "      <td>19/05/13</td>\n",
              "      <td>05/07/13</td>\n",
              "      <td>36-45</td>\n",
              "      <td>Married</td>\n",
              "      <td>0.0</td>\n",
              "      <td>2</td>\n",
              "      <td>0</td>\n",
              "      <td>3.0</td>\n",
              "      <td>4157</td>\n",
              "      <td>1</td>\n",
              "      <td>53.430000</td>\n",
              "      <td>-10.330000</td>\n",
              "      <td>0.000000</td>\n",
              "      <td>56</td>\n",
              "      <td>Local</td>\n",
              "      <td>Grocery</td>\n",
              "    </tr>\n",
              "    <tr>\n",
              "      <th>2</th>\n",
              "      <td>6</td>\n",
              "      <td>9</td>\n",
              "      <td>635</td>\n",
              "      <td>205</td>\n",
              "      <td>0.0</td>\n",
              "      <td>Y</td>\n",
              "      <td>11/03/13</td>\n",
              "      <td>12/04/13</td>\n",
              "      <td>46-55</td>\n",
              "      <td>Married</td>\n",
              "      <td>0.0</td>\n",
              "      <td>2</td>\n",
              "      <td>0</td>\n",
              "      <td>7.0</td>\n",
              "      <td>71612</td>\n",
              "      <td>1</td>\n",
              "      <td>427.080000</td>\n",
              "      <td>0.000000</td>\n",
              "      <td>0.000000</td>\n",
              "      <td>560</td>\n",
              "      <td>Established</td>\n",
              "      <td>Pharmaceutical</td>\n",
              "    </tr>\n",
              "    <tr>\n",
              "      <th>3</th>\n",
              "      <td>7</td>\n",
              "      <td>13</td>\n",
              "      <td>644</td>\n",
              "      <td>1050</td>\n",
              "      <td>0.0</td>\n",
              "      <td>X</td>\n",
              "      <td>19/05/13</td>\n",
              "      <td>05/07/13</td>\n",
              "      <td>NaN</td>\n",
              "      <td>NaN</td>\n",
              "      <td>NaN</td>\n",
              "      <td>NaN</td>\n",
              "      <td>NaN</td>\n",
              "      <td>NaN</td>\n",
              "      <td>12342</td>\n",
              "      <td>27</td>\n",
              "      <td>105.922273</td>\n",
              "      <td>-11.674545</td>\n",
              "      <td>0.000000</td>\n",
              "      <td>611</td>\n",
              "      <td>Established</td>\n",
              "      <td>Grocery</td>\n",
              "    </tr>\n",
              "    <tr>\n",
              "      <th>4</th>\n",
              "      <td>9</td>\n",
              "      <td>8</td>\n",
              "      <td>1017</td>\n",
              "      <td>1489</td>\n",
              "      <td>0.0</td>\n",
              "      <td>X</td>\n",
              "      <td>16/02/13</td>\n",
              "      <td>05/04/13</td>\n",
              "      <td>46-55</td>\n",
              "      <td>Married</td>\n",
              "      <td>0.0</td>\n",
              "      <td>2</td>\n",
              "      <td>0</td>\n",
              "      <td>3.0</td>\n",
              "      <td>27619</td>\n",
              "      <td>113</td>\n",
              "      <td>187.336505</td>\n",
              "      <td>-35.844272</td>\n",
              "      <td>-0.172913</td>\n",
              "      <td>1558</td>\n",
              "      <td>Established</td>\n",
              "      <td>Grocery</td>\n",
              "    </tr>\n",
              "  </tbody>\n",
              "</table>\n",
              "</div>"
            ],
            "text/plain": [
              "   id  campaign_id  coupon_id  ...  brand   brand_type        category\n",
              "0   1           13         27  ...   1636  Established         Grocery\n",
              "1   2           13        116  ...     56        Local         Grocery\n",
              "2   6            9        635  ...    560  Established  Pharmaceutical\n",
              "3   7           13        644  ...    611  Established         Grocery\n",
              "4   9            8       1017  ...   1558  Established         Grocery\n",
              "\n",
              "[5 rows x 22 columns]"
            ]
          },
          "metadata": {
            "tags": []
          },
          "execution_count": 17
        }
      ]
    },
    {
      "cell_type": "code",
      "metadata": {
        "id": "a6zyLpfonvbC",
        "colab_type": "code",
        "colab": {
          "base_uri": "https://localhost:8080/",
          "height": 34
        },
        "outputId": "e9e76b3a-12d2-4bf8-cafc-befcc84f8787"
      },
      "source": [
        "combine['income_bracket'].dtypes"
      ],
      "execution_count": null,
      "outputs": [
        {
          "output_type": "execute_result",
          "data": {
            "text/plain": [
              "dtype('float64')"
            ]
          },
          "metadata": {
            "tags": []
          },
          "execution_count": 84
        }
      ]
    },
    {
      "cell_type": "code",
      "metadata": {
        "id": "rgVWnWxsnzIg",
        "colab_type": "code",
        "colab": {}
      },
      "source": [
        "combine['age_range'].fillna(combine['age_range'].mode()[0],inplace=True)"
      ],
      "execution_count": null,
      "outputs": []
    },
    {
      "cell_type": "code",
      "metadata": {
        "id": "OsGgOEUtoK0u",
        "colab_type": "code",
        "colab": {}
      },
      "source": [
        "combine['marital_status'].fillna(combine['marital_status'].mode()[0],inplace=True)"
      ],
      "execution_count": null,
      "outputs": []
    },
    {
      "cell_type": "code",
      "metadata": {
        "id": "IejUDks0ouBo",
        "colab_type": "code",
        "colab": {}
      },
      "source": [
        "combine['rented'].fillna(0.056461,inplace=True)"
      ],
      "execution_count": null,
      "outputs": []
    },
    {
      "cell_type": "code",
      "metadata": {
        "id": "rSyOPbYGpXFm",
        "colab_type": "code",
        "colab": {}
      },
      "source": [
        "combine['family_size'].fillna(combine['family_size'].mode()[0],inplace=True)"
      ],
      "execution_count": null,
      "outputs": []
    },
    {
      "cell_type": "code",
      "metadata": {
        "id": "6ZZ3W8AZqamq",
        "colab_type": "code",
        "colab": {}
      },
      "source": [
        "combine['no_of_children'].fillna(combine['no_of_children'].mode()[0],inplace=True)"
      ],
      "execution_count": null,
      "outputs": []
    },
    {
      "cell_type": "code",
      "metadata": {
        "id": "9RMVuwQ6qgmk",
        "colab_type": "code",
        "colab": {}
      },
      "source": [
        "combine['income_bracket'].fillna(combine['income_bracket'].mean(),inplace=True)"
      ],
      "execution_count": null,
      "outputs": []
    },
    {
      "cell_type": "code",
      "metadata": {
        "id": "dbFuRko2nrng",
        "colab_type": "code",
        "colab": {
          "base_uri": "https://localhost:8080/",
          "height": 408
        },
        "outputId": "f55704c3-9ab7-42cf-b373-a69d7d278627"
      },
      "source": [
        "combine.isnull().sum()"
      ],
      "execution_count": null,
      "outputs": [
        {
          "output_type": "execute_result",
          "data": {
            "text/plain": [
              "id                       0\n",
              "campaign_id              0\n",
              "coupon_id                0\n",
              "customer_id              0\n",
              "redemption_status    50226\n",
              "campaign_type            0\n",
              "start_date               0\n",
              "end_date                 0\n",
              "age_range                0\n",
              "marital_status           0\n",
              "rented                   0\n",
              "family_size              0\n",
              "no_of_children           0\n",
              "income_bracket           0\n",
              "item_id                  0\n",
              "quantity                 0\n",
              "selling_price            0\n",
              "other_discount           0\n",
              "coupon_discount          0\n",
              "brand                    0\n",
              "brand_type               0\n",
              "category                 0\n",
              "dtype: int64"
            ]
          },
          "metadata": {
            "tags": []
          },
          "execution_count": 24
        }
      ]
    },
    {
      "cell_type": "code",
      "metadata": {
        "id": "0AbA_IDIquFO",
        "colab_type": "code",
        "colab": {
          "base_uri": "https://localhost:8080/",
          "height": 224
        },
        "outputId": "ccd399f5-1a93-43cb-b159-041f05844afd"
      },
      "source": [
        "combine.head()"
      ],
      "execution_count": null,
      "outputs": [
        {
          "output_type": "execute_result",
          "data": {
            "text/html": [
              "<div>\n",
              "<style scoped>\n",
              "    .dataframe tbody tr th:only-of-type {\n",
              "        vertical-align: middle;\n",
              "    }\n",
              "\n",
              "    .dataframe tbody tr th {\n",
              "        vertical-align: top;\n",
              "    }\n",
              "\n",
              "    .dataframe thead th {\n",
              "        text-align: right;\n",
              "    }\n",
              "</style>\n",
              "<table border=\"1\" class=\"dataframe\">\n",
              "  <thead>\n",
              "    <tr style=\"text-align: right;\">\n",
              "      <th></th>\n",
              "      <th>id</th>\n",
              "      <th>campaign_id</th>\n",
              "      <th>coupon_id</th>\n",
              "      <th>customer_id</th>\n",
              "      <th>redemption_status</th>\n",
              "      <th>campaign_type</th>\n",
              "      <th>start_date</th>\n",
              "      <th>end_date</th>\n",
              "      <th>age_range</th>\n",
              "      <th>marital_status</th>\n",
              "      <th>rented</th>\n",
              "      <th>family_size</th>\n",
              "      <th>no_of_children</th>\n",
              "      <th>income_bracket</th>\n",
              "      <th>item_id</th>\n",
              "      <th>quantity</th>\n",
              "      <th>selling_price</th>\n",
              "      <th>other_discount</th>\n",
              "      <th>coupon_discount</th>\n",
              "      <th>brand</th>\n",
              "      <th>brand_type</th>\n",
              "      <th>category</th>\n",
              "    </tr>\n",
              "  </thead>\n",
              "  <tbody>\n",
              "    <tr>\n",
              "      <th>0</th>\n",
              "      <td>1</td>\n",
              "      <td>13</td>\n",
              "      <td>27</td>\n",
              "      <td>1053</td>\n",
              "      <td>0.0</td>\n",
              "      <td>X</td>\n",
              "      <td>19/05/13</td>\n",
              "      <td>05/07/13</td>\n",
              "      <td>46-55</td>\n",
              "      <td>Married</td>\n",
              "      <td>0.000000</td>\n",
              "      <td>1</td>\n",
              "      <td>0</td>\n",
              "      <td>5.000000</td>\n",
              "      <td>3051</td>\n",
              "      <td>1</td>\n",
              "      <td>89.050000</td>\n",
              "      <td>-42.390000</td>\n",
              "      <td>0.000000</td>\n",
              "      <td>1636</td>\n",
              "      <td>Established</td>\n",
              "      <td>Grocery</td>\n",
              "    </tr>\n",
              "    <tr>\n",
              "      <th>1</th>\n",
              "      <td>2</td>\n",
              "      <td>13</td>\n",
              "      <td>116</td>\n",
              "      <td>48</td>\n",
              "      <td>0.0</td>\n",
              "      <td>X</td>\n",
              "      <td>19/05/13</td>\n",
              "      <td>05/07/13</td>\n",
              "      <td>36-45</td>\n",
              "      <td>Married</td>\n",
              "      <td>0.000000</td>\n",
              "      <td>2</td>\n",
              "      <td>0</td>\n",
              "      <td>3.000000</td>\n",
              "      <td>4157</td>\n",
              "      <td>1</td>\n",
              "      <td>53.430000</td>\n",
              "      <td>-10.330000</td>\n",
              "      <td>0.000000</td>\n",
              "      <td>56</td>\n",
              "      <td>Local</td>\n",
              "      <td>Grocery</td>\n",
              "    </tr>\n",
              "    <tr>\n",
              "      <th>2</th>\n",
              "      <td>6</td>\n",
              "      <td>9</td>\n",
              "      <td>635</td>\n",
              "      <td>205</td>\n",
              "      <td>0.0</td>\n",
              "      <td>Y</td>\n",
              "      <td>11/03/13</td>\n",
              "      <td>12/04/13</td>\n",
              "      <td>46-55</td>\n",
              "      <td>Married</td>\n",
              "      <td>0.000000</td>\n",
              "      <td>2</td>\n",
              "      <td>0</td>\n",
              "      <td>7.000000</td>\n",
              "      <td>71612</td>\n",
              "      <td>1</td>\n",
              "      <td>427.080000</td>\n",
              "      <td>0.000000</td>\n",
              "      <td>0.000000</td>\n",
              "      <td>560</td>\n",
              "      <td>Established</td>\n",
              "      <td>Pharmaceutical</td>\n",
              "    </tr>\n",
              "    <tr>\n",
              "      <th>3</th>\n",
              "      <td>7</td>\n",
              "      <td>13</td>\n",
              "      <td>644</td>\n",
              "      <td>1050</td>\n",
              "      <td>0.0</td>\n",
              "      <td>X</td>\n",
              "      <td>19/05/13</td>\n",
              "      <td>05/07/13</td>\n",
              "      <td>46-55</td>\n",
              "      <td>Married</td>\n",
              "      <td>0.056461</td>\n",
              "      <td>2</td>\n",
              "      <td>0</td>\n",
              "      <td>4.843539</td>\n",
              "      <td>12342</td>\n",
              "      <td>27</td>\n",
              "      <td>105.922273</td>\n",
              "      <td>-11.674545</td>\n",
              "      <td>0.000000</td>\n",
              "      <td>611</td>\n",
              "      <td>Established</td>\n",
              "      <td>Grocery</td>\n",
              "    </tr>\n",
              "    <tr>\n",
              "      <th>4</th>\n",
              "      <td>9</td>\n",
              "      <td>8</td>\n",
              "      <td>1017</td>\n",
              "      <td>1489</td>\n",
              "      <td>0.0</td>\n",
              "      <td>X</td>\n",
              "      <td>16/02/13</td>\n",
              "      <td>05/04/13</td>\n",
              "      <td>46-55</td>\n",
              "      <td>Married</td>\n",
              "      <td>0.000000</td>\n",
              "      <td>2</td>\n",
              "      <td>0</td>\n",
              "      <td>3.000000</td>\n",
              "      <td>27619</td>\n",
              "      <td>113</td>\n",
              "      <td>187.336505</td>\n",
              "      <td>-35.844272</td>\n",
              "      <td>-0.172913</td>\n",
              "      <td>1558</td>\n",
              "      <td>Established</td>\n",
              "      <td>Grocery</td>\n",
              "    </tr>\n",
              "  </tbody>\n",
              "</table>\n",
              "</div>"
            ],
            "text/plain": [
              "   id  campaign_id  coupon_id  ...  brand   brand_type        category\n",
              "0   1           13         27  ...   1636  Established         Grocery\n",
              "1   2           13        116  ...     56        Local         Grocery\n",
              "2   6            9        635  ...    560  Established  Pharmaceutical\n",
              "3   7           13        644  ...    611  Established         Grocery\n",
              "4   9            8       1017  ...   1558  Established         Grocery\n",
              "\n",
              "[5 rows x 22 columns]"
            ]
          },
          "metadata": {
            "tags": []
          },
          "execution_count": 25
        }
      ]
    },
    {
      "cell_type": "code",
      "metadata": {
        "id": "p49u-IP_q1F5",
        "colab_type": "code",
        "colab": {
          "base_uri": "https://localhost:8080/",
          "height": 408
        },
        "outputId": "eccc8ce5-419d-4753-a312-7fdcb92efc5e"
      },
      "source": [
        "combine.dtypes"
      ],
      "execution_count": null,
      "outputs": [
        {
          "output_type": "execute_result",
          "data": {
            "text/plain": [
              "id                     int64\n",
              "campaign_id            int64\n",
              "coupon_id              int64\n",
              "customer_id            int64\n",
              "redemption_status    float64\n",
              "campaign_type         object\n",
              "start_date            object\n",
              "end_date              object\n",
              "age_range             object\n",
              "marital_status        object\n",
              "rented               float64\n",
              "family_size           object\n",
              "no_of_children        object\n",
              "income_bracket       float64\n",
              "item_id                int64\n",
              "quantity               int64\n",
              "selling_price        float64\n",
              "other_discount       float64\n",
              "coupon_discount      float64\n",
              "brand                  int64\n",
              "brand_type            object\n",
              "category              object\n",
              "dtype: object"
            ]
          },
          "metadata": {
            "tags": []
          },
          "execution_count": 88
        }
      ]
    },
    {
      "cell_type": "code",
      "metadata": {
        "id": "elhkKNZvryXR",
        "colab_type": "code",
        "colab": {}
      },
      "source": [
        "combine['family_size']=combine['family_size'].replace('5+','5')"
      ],
      "execution_count": null,
      "outputs": []
    },
    {
      "cell_type": "code",
      "metadata": {
        "id": "vJVdnX4wr9v7",
        "colab_type": "code",
        "colab": {}
      },
      "source": [
        "combine['no_of_children']=combine['no_of_children'].replace('3+','3')"
      ],
      "execution_count": null,
      "outputs": []
    },
    {
      "cell_type": "code",
      "metadata": {
        "id": "Cv9n_MYAq2V8",
        "colab_type": "code",
        "colab": {}
      },
      "source": [
        "from sklearn.preprocessing import LabelEncoder\n",
        "le=LabelEncoder()\n",
        "combine['age_range']=le.fit_transform(combine['age_range'])\n",
        "combine['marital_status']=le.fit_transform(combine['marital_status'])\n",
        "combine['family_size']=combine['family_size'].astype(int)\n",
        "combine['no_of_children']=combine['no_of_children'].astype(int)\n",
        "combine['brand_type']=le.fit_transform(combine['brand_type'])\n",
        "combine['category']=le.fit_transform(combine['category'])"
      ],
      "execution_count": null,
      "outputs": []
    },
    {
      "cell_type": "code",
      "metadata": {
        "id": "RFcqtvPEs5rp",
        "colab_type": "code",
        "colab": {}
      },
      "source": [
        "combine['start_date']=pd.to_datetime(combine['start_date'])\n",
        "combine['end_date']=pd.to_datetime(combine['end_date'])"
      ],
      "execution_count": null,
      "outputs": []
    },
    {
      "cell_type": "code",
      "metadata": {
        "id": "nkpWwYRqtA4K",
        "colab_type": "code",
        "colab": {}
      },
      "source": [
        "combine['no_of_days']=(combine['end_date']-combine['start_date']).dt.days"
      ],
      "execution_count": null,
      "outputs": []
    },
    {
      "cell_type": "code",
      "metadata": {
        "id": "jrUz_LVwuSEo",
        "colab_type": "code",
        "colab": {}
      },
      "source": [
        "combine['campaign_type']=le.fit_transform(combine['campaign_type'])"
      ],
      "execution_count": null,
      "outputs": []
    },
    {
      "cell_type": "code",
      "metadata": {
        "id": "PEK0DInqvG7B",
        "colab_type": "code",
        "colab": {}
      },
      "source": [
        "from sklearn.preprocessing import MinMaxScaler\n",
        "sc=MinMaxScaler()\n",
        "combine['selling_price']=sc.fit_transform(np.array(combine['selling_price']).reshape(-1,1))\n",
        "combine['brand']=sc.fit_transform(np.array(combine['brand']).reshape(-1,1))"
      ],
      "execution_count": null,
      "outputs": []
    },
    {
      "cell_type": "code",
      "metadata": {
        "id": "SvOTYlCLrK-S",
        "colab_type": "code",
        "colab": {
          "base_uri": "https://localhost:8080/",
          "height": 309
        },
        "outputId": "bb3433d6-460d-4e7b-8a8b-d9bfc22c6891"
      },
      "source": [
        "combine.head()"
      ],
      "execution_count": null,
      "outputs": [
        {
          "output_type": "execute_result",
          "data": {
            "text/html": [
              "<div>\n",
              "<style scoped>\n",
              "    .dataframe tbody tr th:only-of-type {\n",
              "        vertical-align: middle;\n",
              "    }\n",
              "\n",
              "    .dataframe tbody tr th {\n",
              "        vertical-align: top;\n",
              "    }\n",
              "\n",
              "    .dataframe thead th {\n",
              "        text-align: right;\n",
              "    }\n",
              "</style>\n",
              "<table border=\"1\" class=\"dataframe\">\n",
              "  <thead>\n",
              "    <tr style=\"text-align: right;\">\n",
              "      <th></th>\n",
              "      <th>id</th>\n",
              "      <th>campaign_id</th>\n",
              "      <th>coupon_id</th>\n",
              "      <th>customer_id</th>\n",
              "      <th>redemption_status</th>\n",
              "      <th>campaign_type</th>\n",
              "      <th>start_date</th>\n",
              "      <th>end_date</th>\n",
              "      <th>age_range</th>\n",
              "      <th>marital_status</th>\n",
              "      <th>rented</th>\n",
              "      <th>family_size</th>\n",
              "      <th>no_of_children</th>\n",
              "      <th>income_bracket</th>\n",
              "      <th>item_id</th>\n",
              "      <th>quantity</th>\n",
              "      <th>selling_price</th>\n",
              "      <th>other_discount</th>\n",
              "      <th>coupon_discount</th>\n",
              "      <th>brand</th>\n",
              "      <th>brand_type</th>\n",
              "      <th>category</th>\n",
              "      <th>no_of_days</th>\n",
              "    </tr>\n",
              "  </thead>\n",
              "  <tbody>\n",
              "    <tr>\n",
              "      <th>0</th>\n",
              "      <td>1</td>\n",
              "      <td>13</td>\n",
              "      <td>27</td>\n",
              "      <td>1053</td>\n",
              "      <td>0.0</td>\n",
              "      <td>0</td>\n",
              "      <td>2013-05-19</td>\n",
              "      <td>2013-05-07</td>\n",
              "      <td>3</td>\n",
              "      <td>0</td>\n",
              "      <td>0.000000</td>\n",
              "      <td>1</td>\n",
              "      <td>0</td>\n",
              "      <td>5.000000</td>\n",
              "      <td>3051</td>\n",
              "      <td>1</td>\n",
              "      <td>0.053764</td>\n",
              "      <td>-42.390000</td>\n",
              "      <td>0.000000</td>\n",
              "      <td>0.298609</td>\n",
              "      <td>0</td>\n",
              "      <td>3</td>\n",
              "      <td>-12</td>\n",
              "    </tr>\n",
              "    <tr>\n",
              "      <th>1</th>\n",
              "      <td>2</td>\n",
              "      <td>13</td>\n",
              "      <td>116</td>\n",
              "      <td>48</td>\n",
              "      <td>0.0</td>\n",
              "      <td>0</td>\n",
              "      <td>2013-05-19</td>\n",
              "      <td>2013-05-07</td>\n",
              "      <td>2</td>\n",
              "      <td>0</td>\n",
              "      <td>0.000000</td>\n",
              "      <td>2</td>\n",
              "      <td>0</td>\n",
              "      <td>3.000000</td>\n",
              "      <td>4157</td>\n",
              "      <td>1</td>\n",
              "      <td>0.028524</td>\n",
              "      <td>-10.330000</td>\n",
              "      <td>0.000000</td>\n",
              "      <td>0.009337</td>\n",
              "      <td>1</td>\n",
              "      <td>3</td>\n",
              "      <td>-12</td>\n",
              "    </tr>\n",
              "    <tr>\n",
              "      <th>2</th>\n",
              "      <td>6</td>\n",
              "      <td>9</td>\n",
              "      <td>635</td>\n",
              "      <td>205</td>\n",
              "      <td>0.0</td>\n",
              "      <td>1</td>\n",
              "      <td>2013-11-03</td>\n",
              "      <td>2013-12-04</td>\n",
              "      <td>3</td>\n",
              "      <td>0</td>\n",
              "      <td>0.000000</td>\n",
              "      <td>2</td>\n",
              "      <td>0</td>\n",
              "      <td>7.000000</td>\n",
              "      <td>71612</td>\n",
              "      <td>1</td>\n",
              "      <td>0.293287</td>\n",
              "      <td>0.000000</td>\n",
              "      <td>0.000000</td>\n",
              "      <td>0.101611</td>\n",
              "      <td>0</td>\n",
              "      <td>8</td>\n",
              "      <td>31</td>\n",
              "    </tr>\n",
              "    <tr>\n",
              "      <th>3</th>\n",
              "      <td>7</td>\n",
              "      <td>13</td>\n",
              "      <td>644</td>\n",
              "      <td>1050</td>\n",
              "      <td>0.0</td>\n",
              "      <td>0</td>\n",
              "      <td>2013-05-19</td>\n",
              "      <td>2013-05-07</td>\n",
              "      <td>3</td>\n",
              "      <td>0</td>\n",
              "      <td>0.056461</td>\n",
              "      <td>2</td>\n",
              "      <td>0</td>\n",
              "      <td>4.843539</td>\n",
              "      <td>12342</td>\n",
              "      <td>27</td>\n",
              "      <td>0.065719</td>\n",
              "      <td>-11.674545</td>\n",
              "      <td>0.000000</td>\n",
              "      <td>0.110948</td>\n",
              "      <td>0</td>\n",
              "      <td>3</td>\n",
              "      <td>-12</td>\n",
              "    </tr>\n",
              "    <tr>\n",
              "      <th>4</th>\n",
              "      <td>9</td>\n",
              "      <td>8</td>\n",
              "      <td>1017</td>\n",
              "      <td>1489</td>\n",
              "      <td>0.0</td>\n",
              "      <td>0</td>\n",
              "      <td>2013-02-16</td>\n",
              "      <td>2013-05-04</td>\n",
              "      <td>3</td>\n",
              "      <td>0</td>\n",
              "      <td>0.000000</td>\n",
              "      <td>2</td>\n",
              "      <td>0</td>\n",
              "      <td>3.000000</td>\n",
              "      <td>27619</td>\n",
              "      <td>113</td>\n",
              "      <td>0.123408</td>\n",
              "      <td>-35.844272</td>\n",
              "      <td>-0.172913</td>\n",
              "      <td>0.284328</td>\n",
              "      <td>0</td>\n",
              "      <td>3</td>\n",
              "      <td>77</td>\n",
              "    </tr>\n",
              "  </tbody>\n",
              "</table>\n",
              "</div>"
            ],
            "text/plain": [
              "   id  campaign_id  coupon_id  ...  brand_type  category  no_of_days\n",
              "0   1           13         27  ...           0         3         -12\n",
              "1   2           13        116  ...           1         3         -12\n",
              "2   6            9        635  ...           0         8          31\n",
              "3   7           13        644  ...           0         3         -12\n",
              "4   9            8       1017  ...           0         3          77\n",
              "\n",
              "[5 rows x 23 columns]"
            ]
          },
          "metadata": {
            "tags": []
          },
          "execution_count": 54
        }
      ]
    },
    {
      "cell_type": "code",
      "metadata": {
        "id": "eN2YZziww8Ic",
        "colab_type": "code",
        "colab": {
          "base_uri": "https://localhost:8080/",
          "height": 34
        },
        "outputId": "6b28ee48-76bb-4272-df17-8ecd721d50f8"
      },
      "source": [
        "X = combine[combine['redemption_status'].isnull()!=True].drop(['id','campaign_id','coupon_id','customer_id','redemption_status','start_date','end_date','item_id','brand_type'], axis=1)\n",
        "y = combine[combine['redemption_status'].isnull()!=True]['redemption_status']\n",
        "\n",
        "test = combine[combine['redemption_status'].isnull()==True].drop(['id','campaign_id','coupon_id','customer_id','redemption_status','start_date','end_date','item_id','brand_type'], axis=1)\n",
        "\n",
        "X.shape, y.shape, test.shape"
      ],
      "execution_count": null,
      "outputs": [
        {
          "output_type": "execute_result",
          "data": {
            "text/plain": [
              "((78369, 14), (78369,), (50226, 14))"
            ]
          },
          "metadata": {
            "tags": []
          },
          "execution_count": 76
        }
      ]
    },
    {
      "cell_type": "code",
      "metadata": {
        "id": "tVq0pMKqwiPl",
        "colab_type": "code",
        "colab": {
          "base_uri": "https://localhost:8080/",
          "height": 224
        },
        "outputId": "4f4eee46-87b0-41e9-8eba-c20ad7ff5bb7"
      },
      "source": [
        "X.head()"
      ],
      "execution_count": null,
      "outputs": [
        {
          "output_type": "execute_result",
          "data": {
            "text/html": [
              "<div>\n",
              "<style scoped>\n",
              "    .dataframe tbody tr th:only-of-type {\n",
              "        vertical-align: middle;\n",
              "    }\n",
              "\n",
              "    .dataframe tbody tr th {\n",
              "        vertical-align: top;\n",
              "    }\n",
              "\n",
              "    .dataframe thead th {\n",
              "        text-align: right;\n",
              "    }\n",
              "</style>\n",
              "<table border=\"1\" class=\"dataframe\">\n",
              "  <thead>\n",
              "    <tr style=\"text-align: right;\">\n",
              "      <th></th>\n",
              "      <th>campaign_type</th>\n",
              "      <th>age_range</th>\n",
              "      <th>marital_status</th>\n",
              "      <th>rented</th>\n",
              "      <th>family_size</th>\n",
              "      <th>no_of_children</th>\n",
              "      <th>income_bracket</th>\n",
              "      <th>quantity</th>\n",
              "      <th>selling_price</th>\n",
              "      <th>other_discount</th>\n",
              "      <th>coupon_discount</th>\n",
              "      <th>brand</th>\n",
              "      <th>brand_type</th>\n",
              "      <th>category</th>\n",
              "      <th>no_of_days</th>\n",
              "    </tr>\n",
              "  </thead>\n",
              "  <tbody>\n",
              "    <tr>\n",
              "      <th>0</th>\n",
              "      <td>0</td>\n",
              "      <td>3</td>\n",
              "      <td>0</td>\n",
              "      <td>0.000000</td>\n",
              "      <td>1</td>\n",
              "      <td>0</td>\n",
              "      <td>5.000000</td>\n",
              "      <td>1</td>\n",
              "      <td>0.053764</td>\n",
              "      <td>-42.390000</td>\n",
              "      <td>0.000000</td>\n",
              "      <td>0.298609</td>\n",
              "      <td>0</td>\n",
              "      <td>3</td>\n",
              "      <td>-12</td>\n",
              "    </tr>\n",
              "    <tr>\n",
              "      <th>1</th>\n",
              "      <td>0</td>\n",
              "      <td>2</td>\n",
              "      <td>0</td>\n",
              "      <td>0.000000</td>\n",
              "      <td>2</td>\n",
              "      <td>0</td>\n",
              "      <td>3.000000</td>\n",
              "      <td>1</td>\n",
              "      <td>0.028524</td>\n",
              "      <td>-10.330000</td>\n",
              "      <td>0.000000</td>\n",
              "      <td>0.009337</td>\n",
              "      <td>1</td>\n",
              "      <td>3</td>\n",
              "      <td>-12</td>\n",
              "    </tr>\n",
              "    <tr>\n",
              "      <th>2</th>\n",
              "      <td>1</td>\n",
              "      <td>3</td>\n",
              "      <td>0</td>\n",
              "      <td>0.000000</td>\n",
              "      <td>2</td>\n",
              "      <td>0</td>\n",
              "      <td>7.000000</td>\n",
              "      <td>1</td>\n",
              "      <td>0.293287</td>\n",
              "      <td>0.000000</td>\n",
              "      <td>0.000000</td>\n",
              "      <td>0.101611</td>\n",
              "      <td>0</td>\n",
              "      <td>8</td>\n",
              "      <td>31</td>\n",
              "    </tr>\n",
              "    <tr>\n",
              "      <th>3</th>\n",
              "      <td>0</td>\n",
              "      <td>3</td>\n",
              "      <td>0</td>\n",
              "      <td>0.056461</td>\n",
              "      <td>2</td>\n",
              "      <td>0</td>\n",
              "      <td>4.843539</td>\n",
              "      <td>27</td>\n",
              "      <td>0.065719</td>\n",
              "      <td>-11.674545</td>\n",
              "      <td>0.000000</td>\n",
              "      <td>0.110948</td>\n",
              "      <td>0</td>\n",
              "      <td>3</td>\n",
              "      <td>-12</td>\n",
              "    </tr>\n",
              "    <tr>\n",
              "      <th>4</th>\n",
              "      <td>0</td>\n",
              "      <td>3</td>\n",
              "      <td>0</td>\n",
              "      <td>0.000000</td>\n",
              "      <td>2</td>\n",
              "      <td>0</td>\n",
              "      <td>3.000000</td>\n",
              "      <td>113</td>\n",
              "      <td>0.123408</td>\n",
              "      <td>-35.844272</td>\n",
              "      <td>-0.172913</td>\n",
              "      <td>0.284328</td>\n",
              "      <td>0</td>\n",
              "      <td>3</td>\n",
              "      <td>77</td>\n",
              "    </tr>\n",
              "  </tbody>\n",
              "</table>\n",
              "</div>"
            ],
            "text/plain": [
              "   campaign_type  age_range  marital_status  ...  brand_type  category  no_of_days\n",
              "0              0          3               0  ...           0         3         -12\n",
              "1              0          2               0  ...           1         3         -12\n",
              "2              1          3               0  ...           0         8          31\n",
              "3              0          3               0  ...           0         3         -12\n",
              "4              0          3               0  ...           0         3          77\n",
              "\n",
              "[5 rows x 15 columns]"
            ]
          },
          "metadata": {
            "tags": []
          },
          "execution_count": 61
        }
      ]
    },
    {
      "cell_type": "code",
      "metadata": {
        "id": "pcqWECuuxUqh",
        "colab_type": "code",
        "colab": {}
      },
      "source": [
        "from sklearn.model_selection import train_test_split\n",
        "np.random.seed(23)\n",
        "X_train,X_test,y_train,y_test=train_test_split(X,y,test_size=0.2,random_state=42)"
      ],
      "execution_count": null,
      "outputs": []
    },
    {
      "cell_type": "code",
      "metadata": {
        "id": "mpuZyX3Vxy6W",
        "colab_type": "code",
        "colab": {
          "base_uri": "https://localhost:8080/",
          "height": 139
        },
        "outputId": "50b61b67-21a8-4039-a1e1-66de2b1a91bc"
      },
      "source": [
        "from lightgbm import LGBMClassifier\n",
        "model = LGBMClassifier(max_depth=5,\n",
        "                       learning_rate=0.4, n_estimators=100)\n",
        "\n",
        "model.fit(X_train,y_train,\n",
        "          eval_set=[(X_train,y_train),(X_test, y_test.values)],\n",
        "          eval_metric='auc',\n",
        "          early_stopping_rounds=100,\n",
        "          verbose=200)\n",
        "\n",
        "pred_y = model.predict_proba(X_test)[:,1]\n",
        "from sklearn.metrics import accuracy_score, confusion_matrix, roc_auc_score, roc_curve\n",
        "print(roc_auc_score(y_test, pred_y))\n",
        "confusion_matrix(y_test, pred_y>0.5)"
      ],
      "execution_count": null,
      "outputs": [
        {
          "output_type": "stream",
          "text": [
            "Training until validation scores don't improve for 100 rounds.\n",
            "Did not meet early stopping. Best iteration is:\n",
            "[63]\ttraining's binary_logloss: 0.042383\ttraining's auc: 0.921867\tvalid_1's binary_logloss: 0.0475302\tvalid_1's auc: 0.813719\n",
            "0.8138525567887148\n"
          ],
          "name": "stdout"
        },
        {
          "output_type": "execute_result",
          "data": {
            "text/plain": [
              "array([[15544,     6],\n",
              "       [  123,     1]])"
            ]
          },
          "metadata": {
            "tags": []
          },
          "execution_count": 78
        }
      ]
    },
    {
      "cell_type": "code",
      "metadata": {
        "id": "fsZoV5K4yC4W",
        "colab_type": "code",
        "colab": {
          "base_uri": "https://localhost:8080/",
          "height": 417
        },
        "outputId": "bddcd157-5e80-4d87-f0e5-2c4e32dd4ef8"
      },
      "source": [
        "import plotly.express as px\n",
        "fpr, tpr, thresholds = roc_curve(y_test, pred_y)\n",
        "fig = px.line(x=fpr, y=tpr, width=400, height=400,\n",
        "              labels={'x':'False Positive Rates','y':'True Positive Rates'})\n",
        "fig.show()"
      ],
      "execution_count": null,
      "outputs": [
        {
          "output_type": "display_data",
          "data": {
            "text/html": [
              "<html>\n",
              "<head><meta charset=\"utf-8\" /></head>\n",
              "<body>\n",
              "    <div>\n",
              "            <script src=\"https://cdnjs.cloudflare.com/ajax/libs/mathjax/2.7.5/MathJax.js?config=TeX-AMS-MML_SVG\"></script><script type=\"text/javascript\">if (window.MathJax) {MathJax.Hub.Config({SVG: {font: \"STIX-Web\"}});}</script>\n",
              "                <script type=\"text/javascript\">window.PlotlyConfig = {MathJaxConfig: 'local'};</script>\n",
              "        <script src=\"https://cdn.plot.ly/plotly-latest.min.js\"></script>    \n",
              "            <div id=\"a02487a9-909c-400c-911c-7a28200ddb17\" class=\"plotly-graph-div\" style=\"height:400px; width:400px;\"></div>\n",
              "            <script type=\"text/javascript\">\n",
              "                \n",
              "                    window.PLOTLYENV=window.PLOTLYENV || {};\n",
              "                    \n",
              "                if (document.getElementById(\"a02487a9-909c-400c-911c-7a28200ddb17\")) {\n",
              "                    Plotly.newPlot(\n",
              "                        'a02487a9-909c-400c-911c-7a28200ddb17',\n",
              "                        [{\"hoverlabel\": {\"namelength\": 0}, \"hovertemplate\": \"False Positive Rates=%{x}<br>True Positive Rates=%{y}\", \"legendgroup\": \"\", \"line\": {\"color\": \"#636efa\", \"dash\": \"solid\"}, \"mode\": \"lines\", \"name\": \"\", \"showlegend\": false, \"type\": \"scattergl\", \"x\": [0.0, 6.430868167202572e-05, 0.0002572347266881029, 0.0003215434083601286, 0.0003215434083601286, 0.0003858520900321543, 0.0003858520900321543, 0.0014790996784565917, 0.001607717041800643, 0.0018006430868167203, 0.0019292604501607716, 0.0019935691318327974, 0.002122186495176849, 0.0025080385852090034, 0.0026366559485530546, 0.0030868167202572345, 0.003215434083601286, 0.0034083601286173633, 0.0037942122186495177, 0.0037942122186495177, 0.004244372990353698, 0.004372990353697749, 0.004694533762057878, 0.004694533762057878, 0.004951768488745981, 0.004951768488745981, 0.005016077170418007, 0.005144694533762058, 0.005852090032154341, 0.005980707395498392, 0.006109324758842444, 0.006237942122186495, 0.006430868167202572, 0.0066237942122186495, 0.006752411575562701, 0.0077170418006430866, 0.007845659163987138, 0.007845659163987138, 0.008038585209003215, 0.008295819935691319, 0.008810289389067524, 0.009260450160771705, 0.00932475884244373, 0.010032154340836014, 0.01022508038585209, 0.01022508038585209, 0.010418006430868168, 0.01067524115755627, 0.0109967845659164, 0.01112540192926045, 0.011318327974276527, 0.011318327974276527, 0.011832797427652733, 0.011897106109324759, 0.012540192926045015, 0.012733118971061093, 0.012861736334405145, 0.012990353697749197, 0.013440514469453376, 0.013762057877813505, 0.013890675241157556, 0.013954983922829583, 0.014019292604501608, 0.014083601286173633, 0.014083601286173633, 0.01427652733118971, 0.01427652733118971, 0.014662379421221864, 0.014662379421221864, 0.014790996784565916, 0.014790996784565916, 0.015562700964630225, 0.015562700964630225, 0.015884244372990353, 0.01594855305466238, 0.016141479099678457, 0.016334405144694534, 0.016913183279742765, 0.017041800643086816, 0.017106109324758843, 0.017234726688102893, 0.017620578778135047, 0.0177491961414791, 0.018392282958199356, 0.018392282958199356, 0.019356913183279742, 0.019356913183279742, 0.01987138263665595, 0.020064308681672027, 0.020192926045016078, 0.020257234726688104, 0.020321543408360128, 0.020578778135048232, 0.021157556270096464, 0.021672025723472668, 0.021800643086816722, 0.022057877813504823, 0.02302250803858521, 0.02315112540192926, 0.023279742765273313, 0.02540192926045016, 0.02559485530546624, 0.02572347266881029, 0.02585209003215434, 0.026495176848874598, 0.026623794212218648, 0.026881028938906752, 0.02694533762057878, 0.02707395498392283, 0.027331189710610933, 0.027331189710610933, 0.02752411575562701, 0.027909967845659165, 0.028102893890675242, 0.028231511254019293, 0.028231511254019293, 0.0290032154340836, 0.029067524115755628, 0.02919614147909968, 0.029260450160771705, 0.029389067524115756, 0.029453376205787783, 0.029517684887459806, 0.029581993569131833, 0.030032154340836014, 0.030289389067524115, 0.030482315112540192, 0.030932475884244373, 0.03112540192926045, 0.031832797427652736, 0.03292604501607717, 0.03382636655948553, 0.03382636655948553, 0.03434083601286174, 0.034469453376205786, 0.034533762057877816, 0.034533762057877816, 0.03504823151125402, 0.03517684887459807, 0.035819935691318326, 0.0360128617363344, 0.036077170418006434, 0.03627009646302251, 0.036334405144694534, 0.03672025723472669, 0.03697749196141479, 0.037363344051446944, 0.03813504823151125, 0.03858520900321544, 0.038713826366559484, 0.039035369774919615, 0.039356913183279746, 0.03954983922829582, 0.03954983922829582, 0.039807073954983924, 0.03993569131832798, 0.04, 0.040128617363344055, 0.04019292604501608, 0.04019292604501608, 0.04032154340836013, 0.040643086816720256, 0.04122186495176849, 0.04154340836012862, 0.04154340836012862, 0.04160771704180064, 0.04237942122186495, 0.042829581993569135, 0.04347266881028939, 0.04372990353697749, 0.04469453376205788, 0.04482315112540193, 0.045209003215434085, 0.04533762057877813, 0.04630225080385852, 0.04630225080385852, 0.04668810289389067, 0.04668810289389067, 0.046816720257234726, 0.04771704180064309, 0.048167202572347266, 0.048617363344051444, 0.0487459807073955, 0.04906752411575563, 0.049260450160771706, 0.04938906752411575, 0.04977491961414791, 0.04983922829581994, 0.04990353697749196, 0.04990353697749196, 0.050032154340836014, 0.05016077170418006, 0.05035369774919614, 0.05048231511254019, 0.050610932475884246, 0.05073954983922829, 0.051061093247588424, 0.05112540192926045, 0.0515112540192926, 0.05170418006430868, 0.05202572347266881, 0.052154340836012864, 0.05356913183279743, 0.05369774919614148, 0.05414790996784566, 0.05427652733118971, 0.055112540192926045, 0.05530546623794212, 0.055369774919614145, 0.0554983922829582, 0.055691318327974276, 0.05581993569131833, 0.056205787781350484, 0.056205787781350484, 0.05639871382636656, 0.05652733118971061, 0.056720257234726686, 0.05697749196141479, 0.05717041800643087, 0.05729903536977492, 0.057556270096463025, 0.05768488745980707, 0.057813504823151125, 0.0582636655948553, 0.05871382636655949, 0.05871382636655949, 0.05935691318327974, 0.0594855305466238, 0.05961414790996784, 0.0597427652733119, 0.060257234726688105, 0.060257234726688105, 0.06032154340836013, 0.06083601286173634, 0.06192926045016077, 0.06192926045016077, 0.06205787781350482, 0.06295819935691319, 0.06315112540192926, 0.06321543408360128, 0.06360128617363343, 0.06392282958199356, 0.0642443729903537, 0.06482315112540193, 0.06488745980707396, 0.06643086816720258, 0.06694533762057878, 0.0670096463022508, 0.06713826366559486, 0.06771704180064309, 0.06784565916398713, 0.06816720257234726, 0.06829581993569132, 0.06887459807073955, 0.06893890675241157, 0.06906752411575563, 0.0692604501607717, 0.06983922829581994, 0.06983922829581994, 0.07035369774919614, 0.07048231511254019, 0.07093247588424437, 0.07118971061093247, 0.07189710610932476, 0.07221864951768489, 0.07247588424437298, 0.07260450160771705, 0.07273311897106109, 0.07286173633440514, 0.07337620578778135, 0.0735048231511254, 0.07356913183279742, 0.07440514469453376, 0.07459807073954984, 0.07491961414790997, 0.07504823151125402, 0.07511254019292604, 0.07530546623794213, 0.07581993569131833, 0.07665594855305466, 0.07672025723472668, 0.07684887459807074, 0.07742765273311897, 0.07742765273311897, 0.07755627009646303, 0.07768488745980708, 0.07781350482315112, 0.07807073954983923, 0.07832797427652734, 0.07884244372990354, 0.07890675241157556, 0.07909967845659165, 0.07916398713826367, 0.07967845659163987, 0.07980707395498392, 0.08006430868167203, 0.08019292604501607, 0.08045016077170418, 0.08057877813504823, 0.08218649517684888, 0.08231511254019293, 0.08257234726688104, 0.08302250803858521, 0.08360128617363344, 0.0837299035369775, 0.08469453376205788, 0.08469453376205788, 0.08508038585209003, 0.08508038585209003, 0.08610932475884245, 0.08655948553054663, 0.08668810289389067, 0.08694533762057878, 0.08713826366559485, 0.08745980707395498, 0.08745980707395498, 0.08765273311897107, 0.08790996784565916, 0.08842443729903537, 0.08868167202572347, 0.08881028938906753, 0.09028938906752411, 0.09080385852090032, 0.09112540192926046, 0.09112540192926046, 0.09151125401929261, 0.09163987138263666, 0.09196141479099679, 0.09241157556270096, 0.09286173633440514, 0.09305466237942123, 0.09311897106109325, 0.09311897106109325, 0.09344051446945338, 0.09363344051446945, 0.09369774919614147, 0.09389067524115756, 0.0940192926045016, 0.09414790996784565, 0.09446945337620578, 0.09459807073954984, 0.09466237942122187, 0.09479099678456591, 0.09491961414790996, 0.09504823151125402, 0.09588424437299035, 0.09633440514469453, 0.09639871382636656, 0.09659163987138264, 0.09691318327974277, 0.09704180064308682, 0.09723472668810289, 0.09736334405144695, 0.09819935691318328, 0.09890675241157557, 0.09903536977491961, 0.09954983922829581, 0.09967845659163987, 0.09993569131832797, 0.10032154340836012, 0.10038585209003216, 0.1005144694533762, 0.10057877813504823, 0.10083601286173634, 0.10102893890675241, 0.10128617363344052, 0.10141479099678456, 0.10154340836012862, 0.1017363344051447, 0.10186495176848874, 0.10218649517684887, 0.10231511254019293, 0.102508038585209, 0.10263665594855305, 0.1030225080385852, 0.10315112540192926, 0.10327974276527331, 0.10327974276527331, 0.10334405144694533, 0.10360128617363344, 0.10392282958199357, 0.10411575562700964, 0.10418006430868167, 0.10430868167202573, 0.10437299035369775, 0.10443729903536977, 0.10456591639871382, 0.10617363344051448, 0.10643086816720257, 0.10681672025723472, 0.10694533762057878, 0.10700964630225081, 0.10784565916398714, 0.1082315112540193, 0.10829581993569132, 0.1087459807073955, 0.10887459807073956, 0.10926045016077171, 0.10938906752411576, 0.10938906752411576, 0.10945337620578778, 0.10958199356913183, 0.10983922829581994, 0.11009646302250804, 0.11022508038585209, 0.11209003215434084, 0.11215434083601286, 0.11241157556270097, 0.11254019292604502, 0.11331189710610932, 0.11344051446945337, 0.11356913183279743, 0.11356913183279743, 0.11363344051446946, 0.1137620578778135, 0.11389067524115756, 0.11466237942122187, 0.1147266881028939, 0.11485530546623794, 0.11536977491961414, 0.1157556270096463, 0.11588424437299036, 0.11588424437299036, 0.11633440514469454, 0.11659163987138264, 0.11665594855305467, 0.11678456591639871, 0.11729903536977491, 0.11742765273311898, 0.11762057877813505, 0.11781350482315113, 0.11794212218649518, 0.11807073954983922, 0.11826366559485531, 0.11877813504823151, 0.11909967845659164, 0.11922829581993569, 0.11929260450160771, 0.11942122186495177, 0.11961414790996784, 0.1197427652733119, 0.11993569131832797, 0.12051446945337621, 0.12167202572347267, 0.12180064308681672, 0.12180064308681672, 0.12192926045016077, 0.12205787781350483, 0.12263665594855305, 0.12282958199356914, 0.12327974276527331, 0.12340836012861736, 0.12443729903536978, 0.12469453376205787, 0.12475884244372991, 0.12540192926045016, 0.1255305466237942, 0.12578778135048233, 0.12604501607717042, 0.12617363344051447, 0.1262379421221865, 0.12636655948553055, 0.12668810289389068, 0.12681672025723473, 0.1270096463022508, 0.12713826366559486, 0.1272668810289389, 0.1284887459807074, 0.12893890675241157, 0.12906752411575562, 0.1291961414790997, 0.12938906752411575, 0.12971061093247588, 0.129967845659164, 0.130032154340836, 0.13054662379421222, 0.13086816720257236, 0.1310610932475884, 0.13131832797427653, 0.13189710610932476, 0.13209003215434084, 0.13241157556270097, 0.13266881028938907, 0.1327974276527331, 0.13331189710610933, 0.13363344051446946, 0.13440514469453377, 0.13466237942122186, 0.13485530546623795, 0.13511254019292604, 0.13530546623794212, 0.13543408360128617, 0.13556270096463022, 0.13569131832797426, 0.13581993569131834, 0.13646302250803857, 0.13659163987138265, 0.1367845659163987, 0.13691318327974278, 0.13704180064308683, 0.13723472668810288, 0.13742765273311897, 0.137556270096463, 0.13762057877813505, 0.13832797427652732, 0.13864951768488745, 0.1387781350482315, 0.13909967845659163, 0.13961414790996785, 0.13980707395498393, 0.13993569131832798, 0.1402572347266881, 0.14038585209003215, 0.14077170418006432, 0.14096463022508038, 0.14135048231511255, 0.1417363344051447, 0.1422508038585209, 0.14315112540192926, 0.1439871382636656, 0.14411575562700965, 0.1442443729903537, 0.14437299035369774, 0.14469453376205788, 0.14488745980707396, 0.14508038585209004, 0.14508038585209004, 0.14546623794212218, 0.14559485530546623, 0.1467524115755627, 0.1467524115755627, 0.1469453376205788, 0.14758842443729903, 0.14771704180064307, 0.14842443729903537, 0.14861736334405146, 0.1488102893890675, 0.1489389067524116, 0.14945337620578777, 0.14958199356913182, 0.1497106109324759, 0.15028938906752412, 0.15061093247588425, 0.15093247588424438, 0.15112540192926044, 0.15196141479099678, 0.15209003215434083, 0.15331189710610932, 0.1536977491961415, 0.1542765273311897, 0.1545337620578778, 0.15466237942122185, 0.1547266881028939, 0.15491961414790997, 0.15517684887459807, 0.15543408360128616, 0.1554983922829582, 0.15562700964630224, 0.15569131832797428, 0.15639871382636655, 0.15684887459807073, 0.15697749196141478, 0.1572347266881029, 0.15781350482315112, 0.15839228295819935, 0.1585209003215434, 0.15864951768488747, 0.1590353697749196, 0.1592926045016077, 0.15942122186495178, 0.15954983922829583, 0.15967845659163987, 0.15987138263665596, 0.16, 0.16038585209003214, 0.16051446945337622, 0.16090032154340836, 0.1610289389067524, 0.16109324758842444, 0.16180064308681671, 0.1619935691318328, 0.16218649517684888, 0.16231511254019293, 0.16282958199356914, 0.16308681672025724, 0.16360128617363345, 0.16418006430868168, 0.16430868167202572, 0.16456591639871382, 0.16546623794212217, 0.16565916398713826, 0.1657877813504823, 0.16610932475884244, 0.16623794212218648, 0.16630225080385852, 0.16681672025723474, 0.16694533762057878, 0.16720257234726688, 0.16733118971061092, 0.16739549839228296, 0.16758842443729904, 0.1677170418006431, 0.16829581993569132, 0.16842443729903536, 0.16868167202572348, 0.16938906752411576, 0.17003215434083602, 0.17035369774919615, 0.1704823151125402, 0.17067524115755628, 0.17086816720257234, 0.17112540192926046, 0.17189710610932477, 0.1720257234726688, 0.17215434083601286, 0.17234726688102894, 0.172475884244373, 0.17311897106109325, 0.1735048231511254, 0.1737620578778135, 0.17453376205787782, 0.17453376205787782, 0.17466237942122187, 0.17479099678456592, 0.17607717041800644, 0.1762700964630225, 0.17639871382636657, 0.17691318327974276, 0.17762057877813506, 0.17807073954983924, 0.17819935691318328, 0.17832797427652733, 0.17922829581993568, 0.17935691318327973, 0.17993569131832798, 0.1805144694533762, 0.1807717041800643, 0.1814790996784566, 0.1815434083601286, 0.18205787781350483, 0.18263665594855305, 0.18360128617363344, 0.18366559485530545, 0.18392282958199357, 0.18418006430868167, 0.1847588424437299, 0.18488745980707397, 0.18520900321543407, 0.1854662379421222, 0.18565916398713828, 0.18610932475884245, 0.18688102893890676, 0.18765273311897107, 0.18810289389067525, 0.18810289389067525, 0.1882315112540193, 0.18913183279742765, 0.1891961414790997, 0.18932475884244374, 0.18938906752411575, 0.18951768488745982, 0.18971061093247588, 0.19028938906752413, 0.19035369774919614, 0.19093247588424436, 0.19106109324758844, 0.1917684887459807, 0.19241157556270097, 0.19266881028938906, 0.19337620578778136, 0.1935048231511254, 0.19459807073954985, 0.194983922829582, 0.1957556270096463, 0.19588424437299035, 0.19633440514469452, 0.1965273311897106, 0.19684887459807074, 0.19717041800643087, 0.19736334405144695, 0.19742765273311896, 0.19762057877813505, 0.19768488745980708, 0.19768488745980708, 0.19781350482315113, 0.19800643086816722, 0.1985209003215434, 0.19864951768488745, 0.19897106109324758, 0.19909967845659163, 0.19967845659163988, 0.20019292604501607, 0.20032154340836014, 0.2004501607717042, 0.20057877813504824, 0.20109324758842445, 0.2012861736334405, 0.20141479099678455, 0.20173633440514468, 0.20186495176848876, 0.20212218649517685, 0.2022508038585209, 0.20308681672025725, 0.2032154340836013, 0.20340836012861738, 0.20360128617363343, 0.20372990353697748, 0.20411575562700965, 0.20488745980707396, 0.205016077170418, 0.2052090032154341, 0.20533762057877814, 0.20617363344051448, 0.20636655948553054, 0.20649517684887458, 0.20662379421221866, 0.20784565916398715, 0.20836012861736333, 0.20868167202572346, 0.20868167202572346, 0.2088102893890675, 0.20938906752411576, 0.21016077170418007, 0.21022508038585208, 0.21035369774919613, 0.2105466237942122, 0.21067524115755626, 0.21080385852090033, 0.2109967845659164, 0.21202572347266882, 0.21215434083601287, 0.21305466237942122, 0.21344051446945336, 0.21382636655948553, 0.21389067524115757, 0.21401929260450162, 0.21434083601286175, 0.21485530546623793, 0.2153054662379421, 0.21543408360128619, 0.21594855305466237, 0.2162057877813505, 0.21633440514469454, 0.21659163987138264, 0.21678456591639872, 0.21717041800643086, 0.2172990353697749, 0.217491961414791, 0.21755627009646303, 0.21813504823151125, 0.2182636655948553, 0.21839228295819935, 0.2190353697749196, 0.21942122186495178, 0.22019292604501609, 0.2202572347266881, 0.2202572347266881, 0.22038585209003214, 0.22057877813504823, 0.22064308681672026, 0.2207717041800643, 0.2209646302250804, 0.2210289389067524, 0.2212218649517685, 0.22147909967845658, 0.2219935691318328, 0.22231511254019293, 0.22340836012861737, 0.22360128617363345, 0.22366559485530546, 0.2237942122186495, 0.22443729903536977, 0.22456591639871382, 0.22508038585209003, 0.22565916398713826, 0.22643086816720256, 0.22643086816720256, 0.2265594855305466, 0.2266881028938907, 0.2267524115755627, 0.22810289389067523, 0.22855305466237943, 0.22868167202572348, 0.22964630225080385, 0.2304823151125402, 0.23080385852090032, 0.23093247588424437, 0.23112540192926045, 0.23183279742765273, 0.23209003215434085, 0.2322829581993569, 0.23254019292604503, 0.23273311897106108, 0.2329903536977492, 0.23311897106109325, 0.2331832797427653, 0.23331189710610933, 0.23344051446945338, 0.23408360128617364, 0.2342765273311897, 0.23446945337620578, 0.23466237942122187, 0.23479099678456591, 0.23517684887459808, 0.23536977491961414, 0.23562700964630226, 0.2357556270096463, 0.2360128617363344, 0.23614147909967845, 0.23633440514469453, 0.23659163987138263, 0.2367845659163987, 0.2370418006430868, 0.23742765273311897, 0.23755627009646302, 0.23845659163987137, 0.23864951768488746, 0.23903536977491963, 0.23980707395498393, 0.23993569131832798, 0.24057877813504824, 0.24109324758842443, 0.24160771704180065, 0.24180064308681673, 0.24205787781350482, 0.24218649517684887, 0.24231511254019292, 0.24263665594855305, 0.24308681672025723, 0.24315112540192926, 0.2432797427652733, 0.24360128617363344, 0.24385852090032153, 0.24398713826366558, 0.24463022508038584, 0.2454662379421222, 0.24559485530546624, 0.24585209003215433, 0.2463022508038585, 0.24636655948553055, 0.2464951768488746, 0.24707395498392282, 0.2472668810289389, 0.24733118971061094, 0.24745980707395498, 0.24810289389067525, 0.24836012861736334, 0.2484887459807074, 0.24855305466237942, 0.24932475884244373, 0.24964630225080386, 0.2497749196141479, 0.24983922829581995, 0.249967845659164, 0.2504823151125402, 0.2507395498392283, 0.2508038585209003, 0.2508681672025723, 0.2515112540192926, 0.25202572347266883, 0.25202572347266883, 0.25209003215434084, 0.25234726688102893, 0.2527331189710611, 0.2531832797427653, 0.25337620578778136, 0.25337620578778136, 0.25344051446945337, 0.25363344051446945, 0.2543408360128617, 0.2546623794212219, 0.2551768488745981, 0.25530546623794215, 0.2564630225080386, 0.2572347266881029, 0.25755627009646304, 0.25768488745980705, 0.2580707395498392, 0.2585209003215434, 0.25890675241157557, 0.25967845659163985, 0.26012861736334403, 0.2605144694533762, 0.26090032154340836, 0.26141479099678455, 0.2617363344051447, 0.2619292604501608, 0.262443729903537, 0.26289389067524116, 0.2635369774919614, 0.26366559485530544, 0.2641800643086817, 0.26495176848874596, 0.26508038585209004, 0.26540192926045014, 0.2655305466237942, 0.2657877813504823, 0.2659163987138264, 0.2660450160771704, 0.2661736334405145, 0.26636655948553056, 0.2664951768488746, 0.26662379421221866, 0.2667524115755627, 0.26688102893890675, 0.26707395498392283, 0.26720257234726685, 0.267459807073955, 0.2682315112540193, 0.26842443729903537, 0.26906752411575563, 0.26913183279742764, 0.270032154340836, 0.27035369774919615, 0.2707395498392283, 0.27086816720257234, 0.2716398713826367, 0.27215434083601286, 0.27234726688102895, 0.27260450160771704, 0.2727331189710611, 0.2735048231511254, 0.2737620578778135, 0.27408360128617365, 0.27421221864951767, 0.27485530546623793, 0.2753054662379421, 0.2754340836012862, 0.2756913183279743, 0.27588424437299036, 0.27646302250803856, 0.27736334405144697, 0.277556270096463, 0.2785209003215434, 0.2789067524115756, 0.2790353697749196, 0.2790996784565916, 0.2792282958199357, 0.27935691318327976, 0.2794855305466238, 0.27961414790996786, 0.2797427652733119, 0.28019292604501606, 0.28064308681672023, 0.2807717041800643, 0.2814790996784566, 0.28180064308681674, 0.28192926045016076, 0.28212218649517684, 0.282508038585209, 0.2827009646302251, 0.2828938906752412, 0.28360128617363345, 0.28385852090032154, 0.2842443729903537, 0.28437299035369773, 0.284887459807074, 0.28514469453376207, 0.2862379421221865, 0.2868167202572347, 0.28745980707395496, 0.28752411575562703, 0.2877170418006431, 0.28790996784565914, 0.2880385852090032, 0.2881028938906752, 0.2884244372990354, 0.2885530546623794, 0.28938906752411575, 0.2897106109324759, 0.2897749196141479, 0.2904180064308682, 0.2904823151125402, 0.29061093247588426, 0.29093247588424437, 0.29106109324758844, 0.29163987138263664, 0.29189710610932473, 0.29260450160771706, 0.29286173633440515, 0.2932475884244373, 0.29337620578778134, 0.2942765273311897, 0.29440514469453377, 0.29485530546623795, 0.29498392282958197, 0.2952411575562701, 0.29543408360128615, 0.2962057877813505, 0.29678456591639873, 0.29678456591639873, 0.29717041800643085, 0.2972990353697749, 0.297491961414791, 0.2982636655948553, 0.29832797427652735, 0.29845659163987137, 0.29871382636655947, 0.29890675241157555, 0.2992282958199357, 0.2993569131832797, 0.2994855305466238, 0.300064308681672, 0.30012861736334406, 0.3002572347266881, 0.30109324758842443, 0.3012218649517685, 0.3015434083601286, 0.3016720257234727, 0.30212218649517686, 0.3022508038585209, 0.30231511254019294, 0.3029581993569132, 0.3030225080385852, 0.30315112540192923, 0.3034726688102894, 0.3037942122186495, 0.30456591639871383, 0.30469453376205785, 0.30508038585209, 0.3054662379421222, 0.30565916398713827, 0.3059807073954984, 0.30610932475884245, 0.30617363344051446, 0.30636655948553054, 0.30662379421221864, 0.3068167202572347, 0.30765273311897107, 0.30861736334405143, 0.3090675241157556, 0.3091961414790997, 0.31016077170418005, 0.3108681672025723, 0.31163987138263666, 0.31189710610932475, 0.3122186495176849, 0.31234726688102893, 0.3130546623794212, 0.31344051446945337, 0.31363344051446945, 0.3137620578778135, 0.3142122186495177, 0.3145337620578778, 0.3145980707395498, 0.31556270096463024, 0.3163987138263666, 0.3165273311897106, 0.3170418006430868, 0.31717041800643087, 0.31762057877813504, 0.31787781350482314, 0.3179421221864952, 0.3185852090032154, 0.31935691318327974, 0.3194855305466238, 0.31954983922829583, 0.3198070739549839, 0.32, 0.320128617363344, 0.3203858520900322, 0.32115755627009646, 0.3220578778135048, 0.322508038585209, 0.32263665594855306, 0.3227009646302251, 0.32315112540192925, 0.32334405144694534, 0.3235369774919614, 0.3247588424437299, 0.32540192926045014, 0.3255305466237942, 0.3256591639871383, 0.3261736334405145, 0.32681672025723474, 0.32688102893890675, 0.32713826366559484, 0.32739549839228294, 0.32842443729903537, 0.32855305466237944, 0.3287459807073955, 0.32887459807073954, 0.32938906752411573, 0.329967845659164, 0.33041800643086816, 0.33054662379421224, 0.33086816720257234, 0.3309967845659164, 0.3311897106109325, 0.3314469453376206, 0.3317041800643087, 0.33228295819935694, 0.33241157556270096, 0.33260450160771704, 0.3333762057877814, 0.3335048231511254, 0.33427652733118973, 0.335048231511254, 0.3351768488745981, 0.33562700964630227, 0.3360128617363344, 0.33607717041800644, 0.33639871382636655, 0.33659163987138263, 0.3367845659163987, 0.33736334405144697, 0.33768488745980707, 0.33781350482315115, 0.3382636655948553, 0.3385852090032154, 0.3387138263665595, 0.33935691318327976, 0.33993569131832796, 0.3403215434083601, 0.34038585209003214, 0.3405144694533762, 0.34064308681672023, 0.3407717041800643, 0.3409003215434084, 0.34109324758842446, 0.34167202572347266, 0.34180064308681674, 0.34192926045016075, 0.34237942122186493, 0.3427652733118971, 0.3428295819935691, 0.3430225080385852, 0.3432797427652733, 0.34340836012861736, 0.34392282958199355, 0.3445659163987138, 0.34508038585209005, 0.34546623794212217, 0.3461736334405145, 0.3463022508038585, 0.3464951768488746, 0.3469453376205788, 0.3470096463022508, 0.34733118971061094, 0.34745980707395496, 0.34758842443729904, 0.3482315112540193, 0.3483601286173633, 0.3485530546623794, 0.3490032154340836, 0.34913183279742765, 0.34926045016077173, 0.34945337620578776, 0.350032154340836, 0.3501607717041801, 0.3501607717041801, 0.3504180064308682, 0.35086816720257236, 0.35093247588424437, 0.352540192926045, 0.35279742765273314, 0.35344051446945335, 0.3538263665594855, 0.3539549839228296, 0.3542122186495177, 0.3547266881028939, 0.3554983922829582, 0.3555627009646302, 0.3562057877813505, 0.3565273311897106, 0.35717041800643085, 0.357427652733119, 0.3576848874598071, 0.3578135048231511, 0.3578778135048232, 0.35871382636655946, 0.35884244372990354, 0.35890675241157555, 0.35909967845659163, 0.36006430868167205, 0.36019292604501607, 0.36057877813504824, 0.36090032154340834, 0.3610289389067524, 0.3614147909967846, 0.36160771704180067, 0.36212218649517686, 0.3622508038585209, 0.362508038585209, 0.36263665594855304, 0.36289389067524114, 0.3631511254019293, 0.3632797427652733, 0.3636655948553055, 0.36392282958199357, 0.36430868167202574, 0.3657877813504823, 0.3659807073954984, 0.3668167202572347, 0.3670739549839228, 0.3672025723472669, 0.367459807073955, 0.3677170418006431, 0.36778135048231514, 0.36836012861736334, 0.36842443729903535, 0.3685530546623794, 0.36958199356913185, 0.36996784565916396, 0.37041800643086814, 0.3706752411575563, 0.37138263665594856, 0.372475884244373, 0.37311897106109326, 0.37356913183279744, 0.37369774919614146, 0.3742765273311897, 0.3744051446945338, 0.375048231511254, 0.37517684887459807, 0.3754983922829582, 0.3762700964630225, 0.3765273311897106, 0.3766559485530547, 0.3767202572347267, 0.37684887459807076, 0.37710610932475885, 0.377491961414791, 0.37768488745980705, 0.3779421221864952, 0.37864951768488747, 0.37903536977491964, 0.37916398713826366, 0.379935691318328, 0.38083601286173635, 0.38128617363344053, 0.3814790996784566, 0.3818006430868167, 0.38257234726688105, 0.38302250803858523, 0.3834726688102894, 0.3837299035369775, 0.3845016077170418, 0.38456591639871385, 0.38495176848874596, 0.38508038585209003, 0.3859807073954984, 0.3862379421221865, 0.38636655948553056, 0.38643086816720257, 0.38688102893890675, 0.38694533762057876, 0.3879099678456592, 0.3879742765273312, 0.3882315112540193, 0.38842443729903536, 0.38842443729903536, 0.38861736334405145, 0.3890032154340836, 0.3892604501607717, 0.3892604501607717, 0.3893247588424437, 0.390032154340836, 0.39016077170418006, 0.39028938906752414, 0.39041800643086816, 0.39067524115755625, 0.3908038585209003, 0.3913183279742765, 0.39247588424437296, 0.39254019292604503, 0.3927331189710611, 0.3932475884244373, 0.3933762057877814, 0.3940192926045016, 0.3947266881028939, 0.395048231511254, 0.3952411575562701, 0.3953054662379421, 0.3954340836012862, 0.3957556270096463, 0.39588424437299036, 0.39594855305466237, 0.3967202572347267, 0.3969774919614148, 0.3971061093247588, 0.3972990353697749, 0.39755627009646305, 0.39768488745980707, 0.39781350482315114, 0.39813504823151125, 0.3984565916398714, 0.3985852090032154, 0.3987138263665595, 0.3987781350482315, 0.3989067524115756, 0.39942122186495177, 0.39954983922829584, 0.39987138263665595, 0.4, 0.4007073954983923, 0.4012861736334405, 0.40141479099678457, 0.40180064308681673, 0.4019935691318328, 0.40212218649517684, 0.40237942122186493, 0.40366559485530545, 0.40392282958199355, 0.4040514469453376, 0.40411575562700963, 0.4042443729903537, 0.4043086816720257, 0.4045016077170418, 0.40514469453376206, 0.40533762057877815, 0.40559485530546624, 0.40585209003215433, 0.4060450160771704, 0.4063022508038585, 0.4065594855305466, 0.4069453376205788, 0.40713826366559486, 0.4077813504823151, 0.4081028938906752, 0.4081672025723473, 0.4090032154340836, 0.40938906752411575, 0.40945337620578776, 0.4104823151125402, 0.4107395498392283, 0.41080385852090034, 0.4115112540192926, 0.4119614147909968, 0.4120900321543408, 0.41266881028938907, 0.41292604501607716, 0.41311897106109324, 0.41318327974276525, 0.41337620578778134, 0.4135048231511254, 0.4140192926045016, 0.4141479099678457, 0.41434083601286176, 0.4144694533762058, 0.41459807073954985, 0.41466237942122186, 0.41466237942122186, 0.41479099678456594, 0.41536977491961413, 0.4156913183279743, 0.4158199356913183, 0.4160128617363344, 0.41684887459807074, 0.4169774919614148, 0.417556270096463, 0.4180064308681672, 0.4182636655948553, 0.41832797427652735, 0.41852090032154343, 0.41858520900321544, 0.4187781350482315, 0.4190353697749196, 0.41916398713826364, 0.4193569131832797, 0.4197427652733119, 0.42, 0.42070739549839226, 0.42083601286173633, 0.4211575562700965, 0.42186495176848876, 0.42212218649517685, 0.42244372990353696, 0.42257234726688103, 0.4227652733118971, 0.4230225080385852, 0.4237942122186495, 0.4245659163987138, 0.4254662379421222, 0.42559485530546626, 0.42565916398713827, 0.42617363344051445, 0.42630225080385853, 0.4270096463022508, 0.4271382636655949, 0.42816720257234725, 0.4282958199356913, 0.4282958199356913, 0.4285530546623794, 0.4286816720257235, 0.4287459807073955, 0.4288745980707396, 0.42990353697749195, 0.42996784565916396, 0.43009646302250804, 0.4307395498392283, 0.4311897106109325, 0.43144694533762057, 0.4319614147909968, 0.43209003215434083, 0.43215434083601284, 0.43331189710610934, 0.43414790996784564, 0.43485530546623796, 0.43504823151125405, 0.43511254019292606, 0.43588424437299034, 0.4363987138263666, 0.43659163987138266, 0.4367845659163987, 0.43691318327974277, 0.43723472668810287, 0.4378135048231511, 0.4380064308681672, 0.4383922829581994, 0.4385209003215434, 0.4385209003215434, 0.43864951768488747, 0.4387781350482315, 0.43884244372990355, 0.43903536977491964, 0.43909967845659165, 0.43942122186495175, 0.4396784565916399, 0.4397427652733119, 0.4398713826366559, 0.439935691318328, 0.4401929260450161, 0.44038585209003217, 0.4405144694533762, 0.44102893890675243, 0.44115755627009645, 0.4412861736334405, 0.44160771704180063, 0.4418649517684887, 0.4419935691318328, 0.4421864951768489, 0.44263665594855306, 0.44270096463022507, 0.44308681672025724, 0.44340836012861734, 0.4435369774919614, 0.44443729903536977, 0.44469453376205786, 0.44508038585209003, 0.4453376205787781, 0.4462379421221865, 0.4464951768488746, 0.4467524115755627, 0.44688102893890674, 0.44694533762057875, 0.4479099678456592, 0.4479742765273312, 0.44816720257234727, 0.44836012861736335, 0.44848874598070737, 0.44855305466237944, 0.44868167202572345, 0.44887459807073954, 0.44983922829581996, 0.449967845659164, 0.45048231511254017, 0.4513183279742765, 0.4514469453376206, 0.4515755627009646, 0.45163987138263667, 0.45241157556270095, 0.4531189710610932, 0.4532475884244373, 0.4534405144694534, 0.4535691318327974, 0.4537620578778135, 0.45427652733118973, 0.45440514469453375, 0.4545337620578778, 0.45556270096463025, 0.4557556270096463, 0.45620578778135046, 0.45762057877813506, 0.45819935691318325, 0.4584565916398714, 0.4592282958199357, 0.4594855305466238, 0.45987138263665595, 0.4605144694533762, 0.4606430868167203, 0.4607073954983923, 0.4610289389067524, 0.46180064308681673, 0.46212218649517683, 0.4622508038585209, 0.4627009646302251, 0.46347266881028937, 0.46360128617363344, 0.4637299035369775, 0.4643086816720257, 0.4644372990353698, 0.4647588424437299, 0.46488745980707397, 0.46514469453376206, 0.46527331189710613, 0.46559485530546624, 0.4661093247588424, 0.4663665594855306, 0.4665594855305466, 0.46733118971061094, 0.4682958199356913, 0.4695176848874598, 0.46964630225080384, 0.4697106109324759, 0.470096463022508, 0.4702250803858521, 0.47106109324758844, 0.47118971061093246, 0.47131832797427653, 0.47138263665594854, 0.4718327974276527, 0.4718971061093248, 0.4720900321543408, 0.4721543408360129, 0.47234726688102896, 0.47260450160771705, 0.4727331189710611, 0.47279742765273314, 0.4732475884244373, 0.4735048231511254, 0.47363344051446943, 0.47511254019292604, 0.47607717041800646, 0.47614147909967847, 0.47639871382636656, 0.47678456591639873, 0.47684887459807074, 0.47710610932475883, 0.4772347266881029, 0.4778135048231511, 0.4779421221864952, 0.47858520900321544, 0.4787781350482315, 0.4796784565916399, 0.4798070739549839, 0.4802572347266881, 0.48038585209003215, 0.48045016077170416, 0.48057877813504823, 0.48083601286173633, 0.4810932475884244, 0.4812218649517685, 0.48237942122186495, 0.4827652733118971, 0.4835369774919614, 0.48392282958199356, 0.48443729903536975, 0.4845659163987138, 0.4846945337620579, 0.4848231511254019, 0.484951768488746, 0.4851446945337621, 0.48533762057877816, 0.4854662379421222, 0.48565916398713826, 0.48578778135048234, 0.48585209003215435, 0.4870739549839228, 0.48983922829581994, 0.489967845659164, 0.4906109324758842, 0.4910610932475884, 0.49138263665594856, 0.492411575562701, 0.4932475884244373, 0.49344051446945336, 0.49459807073954987, 0.49491961414790997, 0.49504823151125404, 0.4954983922829582, 0.4967202572347267, 0.49691318327974277, 0.49710610932475885, 0.497556270096463, 0.4976848874598071, 0.4977491961414791, 0.49909967845659164, 0.49961414790996783, 0.5001929260450161, 0.5002572347266881, 0.5010289389067524, 0.5011575562700965, 0.5014790996784566, 0.5016720257234727, 0.502379421221865, 0.5027009646302251, 0.5030868167202572, 0.5032154340836013, 0.5033440514469454, 0.5036012861736334, 0.5039228295819935, 0.5043086816720257, 0.5044372990353698, 0.5045659163987138, 0.504887459807074, 0.50508038585209, 0.5052733118971061, 0.5054019292604501, 0.5054662379421222, 0.5056591639871383, 0.5066237942122187, 0.5073954983922829, 0.5083601286173633, 0.5085530546623794, 0.5088745980707395, 0.5090032154340836, 0.5094533762057878, 0.5095819935691318, 0.5096463022508039, 0.5101607717041801, 0.5113183279742766, 0.5118971061093247, 0.5120257234726688, 0.512411575562701, 0.512475884244373, 0.5126045016077171, 0.5129903536977491, 0.5133762057877813, 0.5139549839228296, 0.5142122186495177, 0.5143408360128617, 0.5145980707395499, 0.5149839228295819, 0.5151125401929261, 0.5152411575562701, 0.5154340836012862, 0.5158199356913183, 0.5159485530546624, 0.5161414790996784, 0.5162700964630225, 0.5163987138263666, 0.517556270096463, 0.5181350482315112, 0.5182636655948553, 0.5183279742765273, 0.5185209003215434, 0.5186495176848874, 0.5190996784565917, 0.5192282958199357, 0.5195498392282958, 0.519871382636656, 0.520064308681672, 0.5221221864951768, 0.5222508038585209, 0.522379421221865, 0.522636655948553, 0.5228295819935691, 0.5229581993569132, 0.5230868167202573, 0.5233440514469453, 0.5235369774919614, 0.5243086816720257, 0.5246302250803858, 0.5251446945337621, 0.5255305466237942, 0.5256591639871383, 0.5257877813504823, 0.5266237942122186, 0.5268167202572347, 0.527524115755627, 0.5277813504823151, 0.5281028938906752, 0.5282958199356913, 0.5284244372990353, 0.5286173633440514, 0.5292604501607717, 0.5300321543408361, 0.530096463022508, 0.5302250803858521, 0.5307395498392283, 0.5309967845659164, 0.5315755627009646, 0.5324115755627009, 0.5327974276527331, 0.5330546623794212, 0.5331189710610933, 0.5332475884244373, 0.5333118971061094, 0.5340192926045016, 0.5343408360128618, 0.5344051446945337, 0.5345337620578778, 0.53491961414791, 0.535048231511254, 0.5351125401929261, 0.5352411575562701, 0.5353054662379422, 0.5355627009646302, 0.5358199356913184, 0.5359485530546624, 0.5360771704180064, 0.5362700964630225, 0.5363987138263666, 0.5365273311897106, 0.5371704180064308, 0.537684887459807, 0.5381350482315113, 0.5385209003215434, 0.5387138263665595, 0.5392282958199357, 0.5396141479099679, 0.539807073954984, 0.539935691318328, 0.5403215434083601, 0.5404501607717042, 0.5405787781350482, 0.5407073954983923, 0.5407717041800643, 0.5411575562700964, 0.5416720257234726, 0.542443729903537, 0.5425723472668811, 0.542636655948553, 0.5427652733118971, 0.5428295819935691, 0.5433440514469453, 0.5434083601286174, 0.5435369774919614, 0.5437299035369775, 0.5439871382636656, 0.5441157556270096, 0.5443729903536978, 0.5445016077170418, 0.545144694533762, 0.5452733118971061, 0.5461093247588424, 0.5462379421221865, 0.5468810289389068, 0.5470739549839229, 0.5473311897106109, 0.547459807073955, 0.5480385852090032, 0.5482315112540193, 0.5483601286173634, 0.5487459807073956, 0.5489389067524115, 0.5490675241157557, 0.5491961414790997, 0.5495176848874598, 0.5497749196141479, 0.549967845659164, 0.5501607717041801, 0.5510610932475885, 0.5512540192926045, 0.5514469453376206, 0.5520257234726688, 0.5522829581993569, 0.5528617363344052, 0.5531189710610932, 0.5534405144694534, 0.5537620578778135, 0.5554340836012862, 0.5558199356913184, 0.5562057877813504, 0.5563987138263665, 0.5565273311897107, 0.5567202572347267, 0.5568488745980708, 0.5569774919614148, 0.557427652733119, 0.5578778135048231, 0.5585209003215434, 0.5592282958199357, 0.5594212218649518, 0.560064308681672, 0.5603858520900321, 0.5611575562700964, 0.5612218649517685, 0.5613504823151125, 0.5616720257234726, 0.5620578778135048, 0.5621864951768488, 0.5622508038585209, 0.562508038585209, 0.562636655948553, 0.5630225080385852, 0.5632797427652733, 0.5642443729903537, 0.5645016077170418, 0.5646302250803859, 0.5647588424437299, 0.5652090032154341, 0.5654662379421221, 0.5655305466237942, 0.5656591639871382, 0.5659163987138264, 0.5664951768488746, 0.5666237942122186, 0.5670739549839229, 0.5672025723472669, 0.5672668810289389, 0.5675884244372991, 0.5683601286173633, 0.5684887459807074, 0.5688102893890675, 0.5695176848874598, 0.5703536977491961, 0.5705466237942122, 0.5706752411575563, 0.5707395498392283, 0.5709324758842443, 0.5711897106109325, 0.5716398713826366, 0.5721543408360129, 0.572411575562701, 0.5729260450160771, 0.5736977491961415, 0.5738906752411576, 0.5740192926045016, 0.5742765273311897, 0.5745980707395498, 0.575112540192926, 0.5751768488745981, 0.5751768488745981, 0.5752411575562701, 0.5753697749196142, 0.5755627009646302, 0.5756913183279743, 0.5758842443729904, 0.5760128617363344, 0.5761414790996785, 0.5769131832797427, 0.577556270096463, 0.5782636655948553, 0.5789067524115755, 0.5790353697749197, 0.5798070739549839, 0.5798713826366559, 0.580064308681672, 0.5802572347266881, 0.5803858520900321, 0.5806430868167203, 0.5807717041800643, 0.5811575562700965, 0.5816720257234727, 0.5818006430868167, 0.5828938906752411, 0.5837299035369775, 0.5839228295819936, 0.5840514469453376, 0.5841157556270097, 0.5843086816720258, 0.5846945337620579, 0.585016077170418, 0.5852733118971061, 0.5855305466237942, 0.5856591639871382, 0.5861736334405144, 0.5863022508038586, 0.5863665594855305, 0.5864951768488746, 0.5868167202572347, 0.5873311897106109, 0.587395498392283, 0.5883601286173633, 0.5884244372990354, 0.5886173633440515, 0.5888102893890675, 0.5890675241157556, 0.5892604501607717, 0.5893890675241158, 0.5895819935691319, 0.5897106109324759, 0.5902250803858521, 0.5903536977491961, 0.5908038585209003, 0.5909324758842444, 0.5911897106109325, 0.5913183279742765, 0.5915112540192926, 0.5917684887459808, 0.5918971061093248, 0.5919614147909967, 0.5922186495176849, 0.592540192926045, 0.5927974276527331, 0.5940192926045016, 0.5942765273311897, 0.5944051446945338, 0.595112540192926, 0.5953054662379421, 0.5954983922829582, 0.5956270096463022, 0.5956913183279743, 0.5957556270096463, 0.5958842443729904, 0.5962057877813505, 0.5965916398713826, 0.5966559485530547, 0.5967845659163987, 0.597491961414791, 0.5978778135048232, 0.5988424437299036, 0.5989710610932476, 0.5992282958199356, 0.5996141479099678, 0.599871382636656, 0.600064308681672, 0.6001929260450161, 0.6005144694533762, 0.6006430868167203, 0.6010289389067525, 0.6016077170418006, 0.6021221864951769, 0.6022508038585209, 0.6023151125401929, 0.602443729903537, 0.602508038585209, 0.6028295819935692, 0.6036012861736334, 0.6037299035369775, 0.6039228295819936, 0.6041800643086817, 0.6043729903536977, 0.604951768488746, 0.6052090032154341, 0.6052733118971061, 0.6055305466237942, 0.6055948553054662, 0.6061736334405144, 0.6062379421221865, 0.6063665594855305, 0.6065594855305466, 0.6066881028938906, 0.6067524115755627, 0.6069453376205788, 0.6070096463022508, 0.607331189710611, 0.6076527331189711, 0.6084887459807073, 0.6090032154340836, 0.6091961414790997, 0.6097106109324759, 0.6098392282958199, 0.609967845659164, 0.6100964630225081, 0.6106752411575562, 0.6109967845659164, 0.6115112540192926, 0.6123472668810289, 0.6124758842443729, 0.6129903536977492, 0.6131189710610933, 0.6135048231511254, 0.6136334405144694, 0.6137620578778135, 0.6138906752411576, 0.6145980707395499, 0.6148553054662379, 0.6153697749196142, 0.6156270096463022, 0.6157556270096463, 0.6166559485530546, 0.6167202572347267, 0.6169774919614148, 0.6170418006430868, 0.6178778135048232, 0.6180707395498393, 0.6181993569131833, 0.6184565916398714, 0.6187138263665595, 0.6188424437299035, 0.6192282958199357, 0.6192926045016077, 0.6196141479099678, 0.6198070739549839, 0.6207073954983923, 0.6209003215434084, 0.6210932475884244, 0.6212218649517685, 0.6214147909967845, 0.6220578778135049, 0.622443729903537, 0.6226366559485531, 0.6228938906752411, 0.6230868167202572, 0.6232154340836012, 0.6232797427652733, 0.6236655948553055, 0.6238585209003216, 0.6240514469453377, 0.6241800643086817, 0.6243729903536978, 0.624951768488746, 0.62508038585209, 0.6254662379421222, 0.6257234726688103, 0.6261736334405145, 0.6262379421221865, 0.6271382636655949, 0.6276527331189711, 0.6277170418006431, 0.6278456591639872, 0.6281672025723473, 0.6283601286173633, 0.6287459807073955, 0.6289389067524116, 0.6290032154340836, 0.6291318327974277, 0.6293247588424438, 0.6294533762057878, 0.6296463022508039, 0.6299035369774919, 0.630096463022508, 0.6305466237942122, 0.6308038585209004, 0.6309324758842444, 0.6309967845659163, 0.6318327974276527, 0.6319614147909968, 0.6320900321543408, 0.632411575562701, 0.632540192926045, 0.632668810289389, 0.632668810289389, 0.6331189710610933, 0.6331832797427652, 0.6333118971061094, 0.6336334405144695, 0.6340836012861736, 0.6344694533762057, 0.6345980707395499, 0.6346623794212218, 0.6348553054662379, 0.634983922829582, 0.6351125401929261, 0.6356270096463023, 0.6360128617363344, 0.6365916398713827, 0.6369131832797428, 0.6371061093247589, 0.637427652733119, 0.637491961414791, 0.637620578778135, 0.6383279742765273, 0.6389067524115756, 0.6404501607717041, 0.6405787781350483, 0.6407717041800643, 0.6410932475884245, 0.6416077170418006, 0.6422508038585208, 0.6434083601286174, 0.6434726688102894, 0.6438585209003216, 0.6441800643086817, 0.6455305466237942, 0.6457877813504823, 0.6458520900321544, 0.6460450160771705, 0.6461736334405145, 0.6463665594855306, 0.6466881028938907, 0.6468810289389068, 0.6472668810289389, 0.647588424437299, 0.647717041800643, 0.6479099678456591, 0.6487459807073955, 0.6490032154340836, 0.6491318327974277, 0.6492604501607717, 0.6493890675241157, 0.6497106109324758, 0.64983922829582, 0.6509967845659164, 0.6511254019292605, 0.6512540192926045, 0.6513826366559485, 0.6514469453376206, 0.6517041800643086, 0.6520900321543408, 0.652347266881029, 0.652475884244373, 0.652604501607717, 0.6527331189710611, 0.6532475884244373, 0.6539549839228296, 0.6541479099678457, 0.6542765273311897, 0.6547266881028939, 0.6552411575562701, 0.6556270096463023, 0.6559485530546624, 0.6560771704180064, 0.6563987138263666, 0.6576205787781351, 0.6577491961414791, 0.6578778135048231, 0.6580064308681672, 0.6580707395498392, 0.6581993569131833, 0.6583922829581994, 0.6593569131832797, 0.6595498392282958, 0.6596784565916398, 0.6601929260450161, 0.6603858520900322, 0.6605144694533762, 0.6605787781350483, 0.6608360128617363, 0.6610289389067524, 0.6612861736334406, 0.6618006430868167, 0.6619292604501608, 0.662379421221865, 0.662636655948553, 0.6628295819935691, 0.6630225080385852, 0.6640514469453376, 0.6643086816720257, 0.6644372990353697, 0.6645016077170418, 0.6659163987138264, 0.6662379421221865, 0.6663665594855306, 0.6671382636655948, 0.667524115755627, 0.6676527331189711, 0.6679742765273312, 0.6685530546623795, 0.6689389067524115, 0.6690675241157557, 0.6692604501607717, 0.6693890675241158, 0.6694533762057878, 0.6695819935691318, 0.6697106109324759, 0.6704180064308681, 0.6709324758842444, 0.6710610932475884, 0.6719614147909968, 0.6722186495176848, 0.672540192926045, 0.6728617363344052, 0.6730546623794212, 0.6731832797427653, 0.6733118971061093, 0.6734405144694534, 0.6738906752411575, 0.6740192926045017, 0.6741479099678457, 0.6743408360128618, 0.6744694533762058, 0.6747909967845659, 0.6757556270096463, 0.6765273311897106, 0.6767202572347267, 0.6768488745980707, 0.6776205787781351, 0.6778778135048231, 0.6780064308681673, 0.6780707395498392, 0.6783279742765274, 0.6783922829581993, 0.6786495176848875, 0.6798713826366559, 0.6802572347266881, 0.6806430868167203, 0.6807717041800643, 0.6810932475884245, 0.6812218649517685, 0.6813504823151125, 0.6819935691318328, 0.6822508038585209, 0.6823794212218649, 0.6828938906752412, 0.6830225080385852, 0.6831511254019292, 0.6834083601286174, 0.6837299035369775, 0.6838585209003215, 0.6841157556270097, 0.6842443729903537, 0.6847588424437299, 0.6852733118971062, 0.6854019292604502, 0.6855948553054663, 0.6857234726688103, 0.6861093247588425, 0.6862379421221865, 0.6864951768488746, 0.6877170418006431, 0.6886173633440514, 0.6891961414790997, 0.6895819935691319, 0.6902250803858521, 0.6904180064308681, 0.6907395498392283, 0.6908681672025724, 0.6909324758842443, 0.6913826366559486, 0.6915755627009647, 0.6917684887459807, 0.6918971061093248, 0.6920900321543408, 0.6922186495176849, 0.692347266881029, 0.6933762057877814, 0.6936977491961415, 0.6940192926045016, 0.6942122186495177, 0.6947909967845659, 0.694983922829582, 0.6952411575562701, 0.6966559485530547, 0.6969131832797427, 0.6970418006430869, 0.6972347266881029, 0.697363344051447, 0.697556270096463, 0.6976848874598071, 0.6978778135048231, 0.6980064308681672, 0.6980707395498392, 0.6987781350482315, 0.6989067524115755, 0.6990353697749196, 0.7007717041800643, 0.7012218649517685, 0.7012861736334405, 0.7019292604501608, 0.7021864951768488, 0.7029581993569132, 0.7036012861736335, 0.7038585209003215, 0.7039871382636655, 0.7040514469453376, 0.7043086816720258, 0.7044372990353698, 0.7045016077170418, 0.70508038585209, 0.7052090032154341, 0.7063665594855305, 0.7064308681672026, 0.7064308681672026, 0.7065594855305466, 0.7066881028938907, 0.7077170418006431, 0.7080385852090032, 0.7082958199356914, 0.7086173633440515, 0.7087459807073955, 0.7088745980707396, 0.7093890675241158, 0.709774919614148, 0.709903536977492, 0.7103536977491961, 0.7104823151125402, 0.7106752411575563, 0.7108038585209003, 0.7109324758842444, 0.7110610932475884, 0.7115755627009647, 0.7118327974276527, 0.7121543408360128, 0.7131189710610932, 0.7133118971061093, 0.7135691318327975, 0.7136334405144694, 0.7139549839228296, 0.7140192926045016, 0.7143408360128617, 0.7144694533762058, 0.7145980707395498, 0.7146623794212219, 0.7156270096463022, 0.7156913183279743, 0.7165273311897106, 0.7165916398713826, 0.7176848874598071, 0.7179421221864952, 0.7182636655948553, 0.7185209003215434, 0.7186495176848875, 0.7187781350482315, 0.7192282958199356, 0.7193569131832798, 0.7194212218649517, 0.7203215434083601, 0.7203858520900321, 0.7205144694533762, 0.7209646302250804, 0.7212861736334405, 0.7218006430868167, 0.7220578778135048, 0.722572347266881, 0.7232797427652733, 0.7235369774919614, 0.7238585209003215, 0.7239871382636656, 0.7241800643086816, 0.7242443729903537, 0.7243729903536977, 0.7247588424437299, 0.7248874598070739, 0.72508038585209, 0.7253376205787782, 0.7257234726688103, 0.7259807073954984, 0.7263665594855305, 0.7264951768488745, 0.7270739549839228, 0.7272025723472669, 0.727331189710611, 0.7280385852090032, 0.7281028938906753, 0.7287459807073955, 0.7290675241157556, 0.7295819935691318, 0.7297106109324759, 0.7303536977491961, 0.7313183279742765, 0.7314469453376206, 0.7320257234726688, 0.7326045016077171, 0.7327331189710611, 0.7330546623794212, 0.7331832797427653, 0.7338906752411576, 0.7341479099678456, 0.7342765273311898, 0.7347909967845659, 0.7348553054662379, 0.734983922829582, 0.7353054662379421, 0.7355627009646303, 0.7359485530546623, 0.7361414790996784, 0.7365273311897106, 0.7367202572347267, 0.7368488745980707, 0.7369774919614148, 0.7371704180064309, 0.7372347266881029, 0.7376848874598071, 0.7385209003215434, 0.7390996784565916, 0.7391639871382637, 0.7393569131832798, 0.7395498392282959, 0.7396784565916399, 0.7398070739549839, 0.7403215434083601, 0.7405144694533762, 0.7405787781350482, 0.7407073954983923, 0.7412861736334405, 0.7419935691318328, 0.742572347266881, 0.7428295819935691, 0.7430225080385852, 0.7437299035369775, 0.7438585209003216, 0.7440514469453376, 0.7441800643086817, 0.744951768488746, 0.7469453376205788, 0.7470739549839228, 0.7481028938906752, 0.7482958199356913, 0.7484244372990354, 0.7492604501607717, 0.7493890675241157, 0.7495819935691318, 0.7497106109324759, 0.750096463022508, 0.7504823151125402, 0.7511254019292605, 0.7516398713826367, 0.7526045016077171, 0.7527974276527332, 0.7535048231511254, 0.7536334405144695, 0.7537620578778135, 0.7539549839228296, 0.7541479099678456, 0.7543408360128617, 0.7548553054662379, 0.755048231511254, 0.7558842443729904, 0.7560128617363344, 0.7565916398713827, 0.7572990353697749, 0.757427652733119, 0.7578135048231511, 0.7579421221864951, 0.7581350482315112, 0.7586495176848874, 0.7587138263665595, 0.7595498392282958, 0.7602572347266882, 0.7605144694533762, 0.7605787781350483, 0.7609003215434084, 0.7609646302250804, 0.7610932475884244, 0.7614147909967846, 0.7620578778135049, 0.762508038585209, 0.762636655948553, 0.7627652733118971, 0.7630225080385852, 0.7632154340836013, 0.7634726688102894, 0.7637942122186495, 0.7639871382636656, 0.7641157556270096, 0.7646302250803858, 0.7647588424437299, 0.7652733118971061, 0.7654662379421222, 0.7657877813504823, 0.7662379421221865, 0.7663665594855306, 0.7670096463022508, 0.7678456591639872, 0.7681672025723473, 0.7682958199356913, 0.7683601286173634, 0.7684887459807074, 0.7686816720257235, 0.7691961414790996, 0.76983922829582, 0.7702250803858521, 0.7703536977491962, 0.7708038585209003, 0.7714469453376206, 0.7718327974276528, 0.7731832797427652, 0.7733762057877813, 0.7735048231511255, 0.7738906752411575, 0.7740836012861736, 0.7741479099678457, 0.7744051446945338, 0.7746623794212218, 0.7754983922829582, 0.7761414790996785, 0.7771704180064308, 0.7772347266881029, 0.777491961414791, 0.7776848874598071, 0.7778135048231511, 0.7784565916398714, 0.7791639871382636, 0.7793569131832797, 0.7797427652733119, 0.780064308681672, 0.7802572347266881, 0.7806430868167202, 0.7812861736334406, 0.7814147909967846, 0.7824437299035369, 0.7834083601286174, 0.7836655948553055, 0.7846945337620579, 0.7849517684887459, 0.7854019292604502, 0.7855305466237942, 0.7857234726688103, 0.7858520900321544, 0.7866237942122186, 0.7867524115755627, 0.7869453376205788, 0.7872025723472669, 0.7876527331189711, 0.7878456591639872, 0.7881028938906752, 0.7884887459807074, 0.7886816720257235, 0.7888745980707396, 0.7890675241157556, 0.7893890675241158, 0.7897106109324759, 0.790225080385852, 0.7903536977491962, 0.7905466237942123, 0.7915112540192926, 0.7916398713826367, 0.7918971061093247, 0.7920257234726689, 0.7922829581993569, 0.7924115755627009, 0.792604501607717, 0.7926688102893891, 0.7931189710610933, 0.7932475884244373, 0.7939549839228296, 0.7941479099678457, 0.7944051446945337, 0.7944694533762058, 0.7953054662379421, 0.7955627009646302, 0.7959485530546624, 0.7960128617363345, 0.7970418006430868, 0.7971061093247589, 0.7972347266881029, 0.797427652733119, 0.797684887459807, 0.7978135048231512, 0.7980707395498392, 0.7985209003215434, 0.7989710610932476, 0.7992282958199357, 0.799935691318328, 0.800064308681672, 0.8007717041800643, 0.8008360128617363, 0.8010289389067524, 0.8010932475884245, 0.8013504823151125, 0.8017363344051447, 0.802443729903537, 0.8030225080385852, 0.8032154340836013, 0.8033440514469453, 0.8042443729903537, 0.8045659163987138, 0.8046945337620579, 0.8053376205787781, 0.8054662379421221, 0.8055948553054663, 0.8063665594855306, 0.8066881028938907, 0.8072025723472669, 0.807266881028939, 0.807524115755627, 0.8075884244372991, 0.8082958199356913, 0.8091318327974276, 0.8093890675241158, 0.809903536977492, 0.8107395498392282, 0.8108681672025724, 0.8114469453376206, 0.8115112540192926, 0.8116398713826366, 0.8118971061093248, 0.8120257234726688, 0.8126688102893891, 0.8130546623794213, 0.8133118971061093, 0.8133762057877814, 0.8139549839228296, 0.8143408360128618, 0.8147909967845659, 0.8160128617363344, 0.8167845659163987, 0.8169131832797427, 0.8171061093247588, 0.8171704180064309, 0.817556270096463, 0.8182636655948553, 0.8187781350482315, 0.8194212218649518, 0.820064308681672, 0.8203858520900321, 0.8205144694533762, 0.8209003215434083, 0.8210289389067524, 0.8222508038585209, 0.8234083601286174, 0.8237299035369775, 0.8239871382636655, 0.8253376205787781, 0.8254662379421221, 0.8255305466237942, 0.8256591639871382, 0.8257234726688103, 0.8258520900321543, 0.8270096463022508, 0.827459807073955, 0.8280385852090032, 0.8283601286173633, 0.8290032154340836, 0.8293247588424437, 0.8294533762057877, 0.8300964630225081, 0.8306109324758842, 0.8308038585209003, 0.8312540192926045, 0.8315112540192926, 0.8326688102893891, 0.8333118971061093, 0.8334405144694533, 0.8340836012861736, 0.8342122186495177, 0.8350482315112541, 0.8351768488745981, 0.8358199356913183, 0.8359485530546624, 0.8363344051446945, 0.8369131832797427, 0.8369774919614148, 0.837491961414791, 0.837556270096463, 0.8388424437299036, 0.8389710610932476, 0.8390996784565916, 0.8391639871382637, 0.84, 0.8401286173633441, 0.8407717041800643, 0.8413504823151126, 0.8419935691318328, 0.842572347266881, 0.842700964630225, 0.8427652733118971, 0.8429581993569132, 0.8431511254019293, 0.8439871382636656, 0.8443729903536977, 0.8458520900321543, 0.8467524115755627, 0.8469453376205788, 0.847395498392283, 0.847524115755627, 0.8481672025723472, 0.8482315112540193, 0.8484887459807074, 0.8486816720257234, 0.8488102893890676, 0.8488745980707395, 0.849903536977492, 0.8500964630225081, 0.8502893890675242, 0.8508681672025723, 0.8515755627009647, 0.8523472668810289, 0.852411575562701, 0.8529260450160772, 0.8530546623794212, 0.8532475884244373, 0.8533762057877814, 0.8539549839228295, 0.8540836012861737, 0.8542122186495177, 0.8542765273311898, 0.8544694533762058, 0.8547909967845659, 0.8562057877813505, 0.8569774919614148, 0.857491961414791, 0.8580707395498393, 0.8581993569131833, 0.8583279742765273, 0.8587781350482315, 0.8590996784565916, 0.8592926045016077, 0.8594212218649517, 0.8596784565916399, 0.8598070739549839, 0.860064308681672, 0.8609003215434083, 0.8615434083601287, 0.8616720257234727, 0.862508038585209, 0.8629581993569132, 0.8632154340836012, 0.8632797427652733, 0.8634083601286173, 0.8656591639871383, 0.8658520900321544, 0.8664308681672026, 0.867459807073955, 0.867588424437299, 0.8683601286173633, 0.8685530546623794, 0.8686816720257234, 0.8692604501607717, 0.8695176848874598, 0.8697749196141479, 0.869903536977492, 0.8703536977491961, 0.8705466237942122, 0.8709967845659164, 0.8718971061093248, 0.8720257234726688, 0.8722186495176849, 0.8727331189710611, 0.8728617363344051, 0.8730546623794212, 0.8732475884244373, 0.8736334405144695, 0.8744694533762057, 0.8745980707395499, 0.8754983922829582, 0.8756270096463022, 0.8763987138263666, 0.8765273311897106, 0.8765916398713827, 0.8772347266881029, 0.8790996784565916, 0.8792282958199357, 0.8799356913183279, 0.8807717041800643, 0.8814790996784566, 0.8816077170418006, 0.8823151125401929, 0.8830868167202572, 0.8836012861736334, 0.8837299035369774, 0.8839871382636656, 0.8841800643086817, 0.8844372990353698, 0.8845659163987138, 0.8847588424437299, 0.884887459807074, 0.8859807073954984, 0.8861093247588424, 0.8864308681672026, 0.8865594855305466, 0.887331189710611, 0.887459807073955, 0.887717041800643, 0.8882958199356913, 0.8888745980707395, 0.8890032154340836, 0.8894533762057878, 0.889967845659164, 0.8904180064308682, 0.8907395498392283, 0.8909967845659164, 0.8911897106109324, 0.8920900321543408, 0.8922186495176849, 0.8927974276527331, 0.8929260450160772, 0.8931189710610933, 0.8932475884244373, 0.8935691318327974, 0.8936977491961415, 0.8938906752411575, 0.8941479099678457, 0.8942765273311897, 0.8947909967845659, 0.89491961414791, 0.8964630225080386, 0.8966559485530546, 0.8967845659163988, 0.8968488745980707, 0.8972347266881029, 0.8976205787781351, 0.8981993569131833, 0.8983279742765273, 0.8986495176848874, 0.8997427652733119, 0.8998070739549839, 0.899935691318328, 0.9005787781350483, 0.9006430868167202, 0.9009003215434084, 0.9010289389067524, 0.9019292604501608, 0.9024437299035369, 0.9025723472668811, 0.9034726688102894, 0.9039228295819935, 0.9040514469453376, 0.9041157556270096, 0.9044372990353697, 0.9046302250803858, 0.9054019292604502, 0.9054662379421222, 0.9055948553054662, 0.9057877813504823, 0.9059163987138263, 0.9061093247588424, 0.9062379421221864, 0.9064951768488746, 0.9066237942122186, 0.9069453376205788, 0.9071382636655948, 0.907395498392283, 0.9091961414790997, 0.9093247588424437, 0.9097749196141479, 0.9102893890675241, 0.9106752411575563, 0.9108038585209003, 0.9115112540192926, 0.9116398713826367, 0.9122829581993569, 0.912540192926045, 0.9133762057877813, 0.9135048231511254, 0.9140192926045017, 0.9145337620578778, 0.9151125401929261, 0.9159485530546624, 1.0], \"xaxis\": \"x\", \"y\": [0.0, 0.0, 0.0, 0.0, 0.008064516129032258, 0.008064516129032258, 0.016129032258064516, 0.016129032258064516, 0.016129032258064516, 0.016129032258064516, 0.016129032258064516, 0.016129032258064516, 0.016129032258064516, 0.016129032258064516, 0.016129032258064516, 0.016129032258064516, 0.016129032258064516, 0.016129032258064516, 0.016129032258064516, 0.024193548387096774, 0.024193548387096774, 0.024193548387096774, 0.024193548387096774, 0.03225806451612903, 0.03225806451612903, 0.04032258064516129, 0.04032258064516129, 0.04032258064516129, 0.04032258064516129, 0.04838709677419355, 0.04838709677419355, 0.04838709677419355, 0.04838709677419355, 0.04838709677419355, 0.04838709677419355, 0.04838709677419355, 0.04838709677419355, 0.056451612903225805, 0.056451612903225805, 0.056451612903225805, 0.056451612903225805, 0.056451612903225805, 0.06451612903225806, 0.06451612903225806, 0.06451612903225806, 0.07258064516129033, 0.07258064516129033, 0.07258064516129033, 0.07258064516129033, 0.07258064516129033, 0.07258064516129033, 0.08870967741935484, 0.08870967741935484, 0.0967741935483871, 0.0967741935483871, 0.0967741935483871, 0.0967741935483871, 0.0967741935483871, 0.0967741935483871, 0.10483870967741936, 0.10483870967741936, 0.10483870967741936, 0.11290322580645161, 0.11290322580645161, 0.12096774193548387, 0.12096774193548387, 0.13709677419354838, 0.13709677419354838, 0.14516129032258066, 0.14516129032258066, 0.1532258064516129, 0.1532258064516129, 0.16129032258064516, 0.16129032258064516, 0.1693548387096774, 0.1693548387096774, 0.1693548387096774, 0.1693548387096774, 0.1693548387096774, 0.1693548387096774, 0.1693548387096774, 0.1693548387096774, 0.1693548387096774, 0.1693548387096774, 0.18548387096774194, 0.18548387096774194, 0.1935483870967742, 0.1935483870967742, 0.1935483870967742, 0.1935483870967742, 0.20967741935483872, 0.20967741935483872, 0.20967741935483872, 0.21774193548387097, 0.21774193548387097, 0.21774193548387097, 0.21774193548387097, 0.21774193548387097, 0.21774193548387097, 0.21774193548387097, 0.21774193548387097, 0.21774193548387097, 0.21774193548387097, 0.22580645161290322, 0.22580645161290322, 0.22580645161290322, 0.22580645161290322, 0.23387096774193547, 0.23387096774193547, 0.23387096774193547, 0.24193548387096775, 0.24193548387096775, 0.24193548387096775, 0.24193548387096775, 0.24193548387096775, 0.25, 0.25, 0.25, 0.25, 0.25, 0.25, 0.25, 0.25806451612903225, 0.25806451612903225, 0.25806451612903225, 0.25806451612903225, 0.25806451612903225, 0.25806451612903225, 0.25806451612903225, 0.25806451612903225, 0.2661290322580645, 0.2661290322580645, 0.27419354838709675, 0.27419354838709675, 0.27419354838709675, 0.27419354838709675, 0.28225806451612906, 0.28225806451612906, 0.28225806451612906, 0.28225806451612906, 0.28225806451612906, 0.28225806451612906, 0.28225806451612906, 0.28225806451612906, 0.2903225806451613, 0.2903225806451613, 0.2903225806451613, 0.3064516129032258, 0.3064516129032258, 0.3064516129032258, 0.3064516129032258, 0.3064516129032258, 0.3064516129032258, 0.31451612903225806, 0.31451612903225806, 0.31451612903225806, 0.31451612903225806, 0.31451612903225806, 0.31451612903225806, 0.3225806451612903, 0.3225806451612903, 0.3225806451612903, 0.3225806451612903, 0.3225806451612903, 0.33064516129032256, 0.33064516129032256, 0.33064516129032256, 0.33064516129032256, 0.33064516129032256, 0.33064516129032256, 0.33064516129032256, 0.33064516129032256, 0.33064516129032256, 0.33064516129032256, 0.33064516129032256, 0.3467741935483871, 0.3467741935483871, 0.3548387096774194, 0.3548387096774194, 0.3548387096774194, 0.3548387096774194, 0.3548387096774194, 0.3548387096774194, 0.3548387096774194, 0.3548387096774194, 0.3548387096774194, 0.3548387096774194, 0.3629032258064516, 0.3629032258064516, 0.3709677419354839, 0.3709677419354839, 0.3709677419354839, 0.3709677419354839, 0.3709677419354839, 0.3709677419354839, 0.3709677419354839, 0.3709677419354839, 0.3790322580645161, 0.3790322580645161, 0.3790322580645161, 0.3790322580645161, 0.3790322580645161, 0.3790322580645161, 0.3790322580645161, 0.3790322580645161, 0.3790322580645161, 0.3790322580645161, 0.3790322580645161, 0.3790322580645161, 0.3790322580645161, 0.3790322580645161, 0.3790322580645161, 0.3790322580645161, 0.3870967741935484, 0.3870967741935484, 0.3870967741935484, 0.3870967741935484, 0.3870967741935484, 0.3870967741935484, 0.3870967741935484, 0.3870967741935484, 0.3870967741935484, 0.3870967741935484, 0.3870967741935484, 0.3870967741935484, 0.3951612903225806, 0.3951612903225806, 0.3951612903225806, 0.3951612903225806, 0.3951612903225806, 0.3951612903225806, 0.4032258064516129, 0.4032258064516129, 0.4032258064516129, 0.4032258064516129, 0.4112903225806452, 0.4112903225806452, 0.4112903225806452, 0.4112903225806452, 0.4112903225806452, 0.4112903225806452, 0.4112903225806452, 0.4112903225806452, 0.4112903225806452, 0.41935483870967744, 0.41935483870967744, 0.41935483870967744, 0.41935483870967744, 0.41935483870967744, 0.41935483870967744, 0.41935483870967744, 0.41935483870967744, 0.41935483870967744, 0.41935483870967744, 0.4274193548387097, 0.4274193548387097, 0.4274193548387097, 0.4274193548387097, 0.43548387096774194, 0.43548387096774194, 0.43548387096774194, 0.43548387096774194, 0.43548387096774194, 0.43548387096774194, 0.43548387096774194, 0.43548387096774194, 0.43548387096774194, 0.43548387096774194, 0.43548387096774194, 0.43548387096774194, 0.43548387096774194, 0.43548387096774194, 0.43548387096774194, 0.43548387096774194, 0.43548387096774194, 0.43548387096774194, 0.43548387096774194, 0.43548387096774194, 0.43548387096774194, 0.4435483870967742, 0.4435483870967742, 0.4435483870967742, 0.4435483870967742, 0.45161290322580644, 0.45161290322580644, 0.45161290322580644, 0.45161290322580644, 0.45161290322580644, 0.45161290322580644, 0.45161290322580644, 0.45161290322580644, 0.45161290322580644, 0.45161290322580644, 0.4596774193548387, 0.4596774193548387, 0.4596774193548387, 0.4596774193548387, 0.4596774193548387, 0.4596774193548387, 0.4596774193548387, 0.4596774193548387, 0.4596774193548387, 0.4596774193548387, 0.4596774193548387, 0.4596774193548387, 0.4596774193548387, 0.46774193548387094, 0.46774193548387094, 0.47580645161290325, 0.47580645161290325, 0.47580645161290325, 0.47580645161290325, 0.47580645161290325, 0.47580645161290325, 0.47580645161290325, 0.4838709677419355, 0.4838709677419355, 0.4838709677419355, 0.4838709677419355, 0.4838709677419355, 0.4838709677419355, 0.4838709677419355, 0.49193548387096775, 0.49193548387096775, 0.5, 0.5, 0.5, 0.5, 0.5, 0.5, 0.5, 0.5, 0.5080645161290323, 0.5080645161290323, 0.5080645161290323, 0.5080645161290323, 0.5080645161290323, 0.5080645161290323, 0.5080645161290323, 0.5080645161290323, 0.5080645161290323, 0.5080645161290323, 0.5080645161290323, 0.5080645161290323, 0.5080645161290323, 0.5080645161290323, 0.5080645161290323, 0.5080645161290323, 0.5080645161290323, 0.5080645161290323, 0.5080645161290323, 0.5080645161290323, 0.5080645161290323, 0.5161290322580645, 0.5161290322580645, 0.5161290322580645, 0.5161290322580645, 0.5161290322580645, 0.5161290322580645, 0.5161290322580645, 0.5161290322580645, 0.5161290322580645, 0.5161290322580645, 0.5161290322580645, 0.5161290322580645, 0.5161290322580645, 0.5161290322580645, 0.5161290322580645, 0.5161290322580645, 0.5161290322580645, 0.5161290322580645, 0.5161290322580645, 0.5161290322580645, 0.5161290322580645, 0.5161290322580645, 0.5161290322580645, 0.5161290322580645, 0.5241935483870968, 0.5241935483870968, 0.5241935483870968, 0.5241935483870968, 0.5241935483870968, 0.5241935483870968, 0.5241935483870968, 0.532258064516129, 0.532258064516129, 0.532258064516129, 0.532258064516129, 0.532258064516129, 0.532258064516129, 0.532258064516129, 0.532258064516129, 0.532258064516129, 0.532258064516129, 0.5403225806451613, 0.5403225806451613, 0.5403225806451613, 0.5403225806451613, 0.5403225806451613, 0.5483870967741935, 0.5483870967741935, 0.5483870967741935, 0.5483870967741935, 0.5483870967741935, 0.5483870967741935, 0.5483870967741935, 0.5564516129032258, 0.5564516129032258, 0.5564516129032258, 0.5564516129032258, 0.5564516129032258, 0.5564516129032258, 0.5645161290322581, 0.5645161290322581, 0.5645161290322581, 0.5645161290322581, 0.5645161290322581, 0.5645161290322581, 0.5645161290322581, 0.5645161290322581, 0.5645161290322581, 0.5725806451612904, 0.5806451612903226, 0.5806451612903226, 0.5806451612903226, 0.5806451612903226, 0.5806451612903226, 0.5806451612903226, 0.5806451612903226, 0.5806451612903226, 0.5806451612903226, 0.5806451612903226, 0.5806451612903226, 0.5806451612903226, 0.5887096774193549, 0.5887096774193549, 0.5887096774193549, 0.5887096774193549, 0.5887096774193549, 0.5887096774193549, 0.5887096774193549, 0.5887096774193549, 0.5887096774193549, 0.5887096774193549, 0.5887096774193549, 0.5967741935483871, 0.5967741935483871, 0.5967741935483871, 0.5967741935483871, 0.5967741935483871, 0.5967741935483871, 0.5967741935483871, 0.5967741935483871, 0.5967741935483871, 0.5967741935483871, 0.5967741935483871, 0.5967741935483871, 0.5967741935483871, 0.5967741935483871, 0.5967741935483871, 0.5967741935483871, 0.5967741935483871, 0.5967741935483871, 0.5967741935483871, 0.5967741935483871, 0.5967741935483871, 0.5967741935483871, 0.6048387096774194, 0.6048387096774194, 0.6048387096774194, 0.6048387096774194, 0.6048387096774194, 0.6048387096774194, 0.6048387096774194, 0.6048387096774194, 0.6048387096774194, 0.6048387096774194, 0.6048387096774194, 0.6048387096774194, 0.6048387096774194, 0.6048387096774194, 0.6048387096774194, 0.6048387096774194, 0.6048387096774194, 0.6048387096774194, 0.6048387096774194, 0.6048387096774194, 0.6048387096774194, 0.6048387096774194, 0.6048387096774194, 0.6048387096774194, 0.6048387096774194, 0.6048387096774194, 0.6048387096774194, 0.6048387096774194, 0.6048387096774194, 0.6048387096774194, 0.6048387096774194, 0.6048387096774194, 0.6048387096774194, 0.6048387096774194, 0.6048387096774194, 0.6048387096774194, 0.6048387096774194, 0.6048387096774194, 0.6048387096774194, 0.6048387096774194, 0.6048387096774194, 0.6048387096774194, 0.6048387096774194, 0.6048387096774194, 0.6048387096774194, 0.6048387096774194, 0.6048387096774194, 0.6048387096774194, 0.6048387096774194, 0.6048387096774194, 0.6048387096774194, 0.6129032258064516, 0.6129032258064516, 0.6129032258064516, 0.6129032258064516, 0.6129032258064516, 0.6129032258064516, 0.6129032258064516, 0.6129032258064516, 0.6209677419354839, 0.6209677419354839, 0.6209677419354839, 0.6209677419354839, 0.6290322580645161, 0.6290322580645161, 0.6290322580645161, 0.6290322580645161, 0.6290322580645161, 0.6290322580645161, 0.6290322580645161, 0.6290322580645161, 0.6370967741935484, 0.6370967741935484, 0.6370967741935484, 0.6370967741935484, 0.6370967741935484, 0.6370967741935484, 0.6370967741935484, 0.6370967741935484, 0.6370967741935484, 0.6370967741935484, 0.6370967741935484, 0.6370967741935484, 0.6370967741935484, 0.6370967741935484, 0.6370967741935484, 0.6370967741935484, 0.6370967741935484, 0.6370967741935484, 0.6370967741935484, 0.6370967741935484, 0.6370967741935484, 0.6370967741935484, 0.6370967741935484, 0.6370967741935484, 0.6370967741935484, 0.6370967741935484, 0.6370967741935484, 0.6370967741935484, 0.6370967741935484, 0.6370967741935484, 0.6370967741935484, 0.6370967741935484, 0.6370967741935484, 0.6370967741935484, 0.6370967741935484, 0.6370967741935484, 0.6370967741935484, 0.6370967741935484, 0.6370967741935484, 0.6370967741935484, 0.6370967741935484, 0.6370967741935484, 0.6370967741935484, 0.6370967741935484, 0.6370967741935484, 0.6370967741935484, 0.6370967741935484, 0.6370967741935484, 0.6370967741935484, 0.6370967741935484, 0.6370967741935484, 0.6370967741935484, 0.6370967741935484, 0.6370967741935484, 0.6370967741935484, 0.6370967741935484, 0.6370967741935484, 0.6370967741935484, 0.6370967741935484, 0.6370967741935484, 0.6370967741935484, 0.6370967741935484, 0.6370967741935484, 0.6370967741935484, 0.6370967741935484, 0.6370967741935484, 0.6370967741935484, 0.6370967741935484, 0.6370967741935484, 0.6370967741935484, 0.6370967741935484, 0.6370967741935484, 0.6370967741935484, 0.6370967741935484, 0.6451612903225806, 0.6451612903225806, 0.6451612903225806, 0.6451612903225806, 0.6451612903225806, 0.6532258064516129, 0.6532258064516129, 0.6532258064516129, 0.6532258064516129, 0.6612903225806451, 0.6612903225806451, 0.6612903225806451, 0.6612903225806451, 0.6612903225806451, 0.6612903225806451, 0.6612903225806451, 0.6612903225806451, 0.6612903225806451, 0.6612903225806451, 0.6612903225806451, 0.6612903225806451, 0.6612903225806451, 0.6612903225806451, 0.6612903225806451, 0.6612903225806451, 0.6612903225806451, 0.6612903225806451, 0.6612903225806451, 0.6612903225806451, 0.6612903225806451, 0.6612903225806451, 0.6612903225806451, 0.6612903225806451, 0.6612903225806451, 0.6612903225806451, 0.6612903225806451, 0.6612903225806451, 0.6612903225806451, 0.6612903225806451, 0.6612903225806451, 0.6612903225806451, 0.6612903225806451, 0.6693548387096774, 0.6693548387096774, 0.6693548387096774, 0.6693548387096774, 0.6693548387096774, 0.6693548387096774, 0.6693548387096774, 0.6693548387096774, 0.6693548387096774, 0.6693548387096774, 0.6693548387096774, 0.6693548387096774, 0.6693548387096774, 0.6693548387096774, 0.6693548387096774, 0.6693548387096774, 0.6693548387096774, 0.6693548387096774, 0.6693548387096774, 0.6693548387096774, 0.6693548387096774, 0.6693548387096774, 0.6693548387096774, 0.6693548387096774, 0.6693548387096774, 0.6693548387096774, 0.6693548387096774, 0.6693548387096774, 0.6693548387096774, 0.6774193548387096, 0.6774193548387096, 0.6774193548387096, 0.6774193548387096, 0.6774193548387096, 0.6774193548387096, 0.6774193548387096, 0.6774193548387096, 0.6774193548387096, 0.6774193548387096, 0.6774193548387096, 0.6774193548387096, 0.6774193548387096, 0.6774193548387096, 0.6774193548387096, 0.6774193548387096, 0.6774193548387096, 0.6774193548387096, 0.6774193548387096, 0.6774193548387096, 0.6774193548387096, 0.6774193548387096, 0.6774193548387096, 0.6774193548387096, 0.6774193548387096, 0.6774193548387096, 0.6774193548387096, 0.6774193548387096, 0.6774193548387096, 0.6774193548387096, 0.6774193548387096, 0.6774193548387096, 0.6774193548387096, 0.6774193548387096, 0.6774193548387096, 0.6774193548387096, 0.6854838709677419, 0.6854838709677419, 0.6854838709677419, 0.6854838709677419, 0.6854838709677419, 0.6854838709677419, 0.6854838709677419, 0.6854838709677419, 0.6854838709677419, 0.6854838709677419, 0.6935483870967742, 0.6935483870967742, 0.6935483870967742, 0.6935483870967742, 0.6935483870967742, 0.6935483870967742, 0.6935483870967742, 0.6935483870967742, 0.6935483870967742, 0.6935483870967742, 0.6935483870967742, 0.6935483870967742, 0.6935483870967742, 0.6935483870967742, 0.6935483870967742, 0.6935483870967742, 0.6935483870967742, 0.6935483870967742, 0.6935483870967742, 0.6935483870967742, 0.6935483870967742, 0.6935483870967742, 0.6935483870967742, 0.6935483870967742, 0.6935483870967742, 0.6935483870967742, 0.6935483870967742, 0.7016129032258065, 0.7016129032258065, 0.7016129032258065, 0.7016129032258065, 0.7016129032258065, 0.7016129032258065, 0.7016129032258065, 0.7016129032258065, 0.7016129032258065, 0.7016129032258065, 0.7016129032258065, 0.7096774193548387, 0.7096774193548387, 0.7096774193548387, 0.7096774193548387, 0.7096774193548387, 0.7096774193548387, 0.7096774193548387, 0.7096774193548387, 0.7096774193548387, 0.717741935483871, 0.717741935483871, 0.717741935483871, 0.717741935483871, 0.717741935483871, 0.717741935483871, 0.717741935483871, 0.717741935483871, 0.717741935483871, 0.717741935483871, 0.717741935483871, 0.717741935483871, 0.717741935483871, 0.717741935483871, 0.717741935483871, 0.717741935483871, 0.717741935483871, 0.717741935483871, 0.717741935483871, 0.717741935483871, 0.717741935483871, 0.717741935483871, 0.717741935483871, 0.717741935483871, 0.717741935483871, 0.717741935483871, 0.717741935483871, 0.717741935483871, 0.717741935483871, 0.717741935483871, 0.717741935483871, 0.717741935483871, 0.717741935483871, 0.717741935483871, 0.717741935483871, 0.717741935483871, 0.717741935483871, 0.717741935483871, 0.717741935483871, 0.717741935483871, 0.717741935483871, 0.717741935483871, 0.717741935483871, 0.717741935483871, 0.717741935483871, 0.7338709677419355, 0.7338709677419355, 0.7338709677419355, 0.7338709677419355, 0.7338709677419355, 0.7338709677419355, 0.7338709677419355, 0.7338709677419355, 0.7338709677419355, 0.7338709677419355, 0.7338709677419355, 0.7338709677419355, 0.7338709677419355, 0.7338709677419355, 0.7338709677419355, 0.7338709677419355, 0.7338709677419355, 0.7338709677419355, 0.7338709677419355, 0.7338709677419355, 0.7338709677419355, 0.7338709677419355, 0.7338709677419355, 0.7338709677419355, 0.7338709677419355, 0.7338709677419355, 0.7338709677419355, 0.7338709677419355, 0.7338709677419355, 0.7338709677419355, 0.7338709677419355, 0.7338709677419355, 0.7338709677419355, 0.7338709677419355, 0.7338709677419355, 0.7419354838709677, 0.7419354838709677, 0.7419354838709677, 0.7419354838709677, 0.75, 0.75, 0.75, 0.75, 0.75, 0.75, 0.7580645161290323, 0.7580645161290323, 0.7580645161290323, 0.7580645161290323, 0.7580645161290323, 0.7580645161290323, 0.7580645161290323, 0.7580645161290323, 0.7580645161290323, 0.7580645161290323, 0.7580645161290323, 0.7580645161290323, 0.7580645161290323, 0.7580645161290323, 0.7580645161290323, 0.7580645161290323, 0.7580645161290323, 0.7580645161290323, 0.7661290322580645, 0.7661290322580645, 0.7661290322580645, 0.7661290322580645, 0.7661290322580645, 0.7661290322580645, 0.7661290322580645, 0.7661290322580645, 0.7661290322580645, 0.7661290322580645, 0.7661290322580645, 0.7661290322580645, 0.7661290322580645, 0.7661290322580645, 0.7661290322580645, 0.7661290322580645, 0.7661290322580645, 0.7661290322580645, 0.7661290322580645, 0.7661290322580645, 0.7661290322580645, 0.7661290322580645, 0.7661290322580645, 0.7661290322580645, 0.7661290322580645, 0.7661290322580645, 0.7661290322580645, 0.7661290322580645, 0.7661290322580645, 0.7661290322580645, 0.7661290322580645, 0.7661290322580645, 0.7661290322580645, 0.7661290322580645, 0.7661290322580645, 0.7661290322580645, 0.7661290322580645, 0.7661290322580645, 0.7661290322580645, 0.7661290322580645, 0.7661290322580645, 0.7661290322580645, 0.7661290322580645, 0.7661290322580645, 0.7661290322580645, 0.7661290322580645, 0.7661290322580645, 0.7661290322580645, 0.7661290322580645, 0.7661290322580645, 0.7661290322580645, 0.7661290322580645, 0.7661290322580645, 0.7661290322580645, 0.7661290322580645, 0.7661290322580645, 0.7661290322580645, 0.7661290322580645, 0.7661290322580645, 0.7661290322580645, 0.7661290322580645, 0.7661290322580645, 0.7661290322580645, 0.7661290322580645, 0.7661290322580645, 0.7661290322580645, 0.7661290322580645, 0.7661290322580645, 0.7661290322580645, 0.7741935483870968, 0.7741935483870968, 0.7741935483870968, 0.7741935483870968, 0.7741935483870968, 0.782258064516129, 0.782258064516129, 0.782258064516129, 0.782258064516129, 0.782258064516129, 0.782258064516129, 0.782258064516129, 0.782258064516129, 0.782258064516129, 0.782258064516129, 0.782258064516129, 0.782258064516129, 0.782258064516129, 0.7903225806451613, 0.7903225806451613, 0.7903225806451613, 0.7903225806451613, 0.7903225806451613, 0.7903225806451613, 0.7903225806451613, 0.7903225806451613, 0.7903225806451613, 0.7903225806451613, 0.7903225806451613, 0.7903225806451613, 0.7903225806451613, 0.7903225806451613, 0.7903225806451613, 0.7903225806451613, 0.7903225806451613, 0.7903225806451613, 0.7903225806451613, 0.7983870967741935, 0.7983870967741935, 0.7983870967741935, 0.7983870967741935, 0.7983870967741935, 0.7983870967741935, 0.7983870967741935, 0.7983870967741935, 0.7983870967741935, 0.7983870967741935, 0.7983870967741935, 0.7983870967741935, 0.7983870967741935, 0.7983870967741935, 0.7983870967741935, 0.7983870967741935, 0.7983870967741935, 0.7983870967741935, 0.7983870967741935, 0.7983870967741935, 0.7983870967741935, 0.7983870967741935, 0.7983870967741935, 0.7983870967741935, 0.7983870967741935, 0.7983870967741935, 0.7983870967741935, 0.7983870967741935, 0.7983870967741935, 0.7983870967741935, 0.7983870967741935, 0.7983870967741935, 0.7983870967741935, 0.7983870967741935, 0.7983870967741935, 0.7983870967741935, 0.7983870967741935, 0.7983870967741935, 0.7983870967741935, 0.7983870967741935, 0.7983870967741935, 0.7983870967741935, 0.7983870967741935, 0.7983870967741935, 0.7983870967741935, 0.7983870967741935, 0.7983870967741935, 0.7983870967741935, 0.7983870967741935, 0.7983870967741935, 0.7983870967741935, 0.7983870967741935, 0.7983870967741935, 0.8064516129032258, 0.8064516129032258, 0.8064516129032258, 0.8064516129032258, 0.8064516129032258, 0.8064516129032258, 0.8064516129032258, 0.8064516129032258, 0.8064516129032258, 0.8064516129032258, 0.8064516129032258, 0.8064516129032258, 0.8064516129032258, 0.8064516129032258, 0.8064516129032258, 0.8064516129032258, 0.8064516129032258, 0.8064516129032258, 0.8064516129032258, 0.8064516129032258, 0.8064516129032258, 0.8064516129032258, 0.8064516129032258, 0.8064516129032258, 0.8064516129032258, 0.8064516129032258, 0.8064516129032258, 0.8145161290322581, 0.8145161290322581, 0.8145161290322581, 0.8145161290322581, 0.8145161290322581, 0.8145161290322581, 0.8145161290322581, 0.8145161290322581, 0.8225806451612904, 0.8225806451612904, 0.8225806451612904, 0.8225806451612904, 0.8225806451612904, 0.8225806451612904, 0.8225806451612904, 0.8225806451612904, 0.8225806451612904, 0.8225806451612904, 0.8225806451612904, 0.8225806451612904, 0.8225806451612904, 0.8225806451612904, 0.8225806451612904, 0.8225806451612904, 0.8225806451612904, 0.8225806451612904, 0.8225806451612904, 0.8225806451612904, 0.8225806451612904, 0.8225806451612904, 0.8225806451612904, 0.8225806451612904, 0.8225806451612904, 0.8225806451612904, 0.8225806451612904, 0.8225806451612904, 0.8225806451612904, 0.8225806451612904, 0.8225806451612904, 0.8225806451612904, 0.8225806451612904, 0.8225806451612904, 0.8225806451612904, 0.8225806451612904, 0.8225806451612904, 0.8225806451612904, 0.8225806451612904, 0.8225806451612904, 0.8225806451612904, 0.8225806451612904, 0.8225806451612904, 0.8225806451612904, 0.8225806451612904, 0.8225806451612904, 0.8225806451612904, 0.8225806451612904, 0.8225806451612904, 0.8225806451612904, 0.8225806451612904, 0.8225806451612904, 0.8225806451612904, 0.8225806451612904, 0.8225806451612904, 0.8225806451612904, 0.8225806451612904, 0.8225806451612904, 0.8225806451612904, 0.8225806451612904, 0.8225806451612904, 0.8225806451612904, 0.8225806451612904, 0.8225806451612904, 0.8225806451612904, 0.8225806451612904, 0.8225806451612904, 0.8225806451612904, 0.8225806451612904, 0.8225806451612904, 0.8225806451612904, 0.8225806451612904, 0.8306451612903226, 0.8306451612903226, 0.8306451612903226, 0.8306451612903226, 0.8306451612903226, 0.8306451612903226, 0.8306451612903226, 0.8306451612903226, 0.8306451612903226, 0.8387096774193549, 0.8387096774193549, 0.8387096774193549, 0.8387096774193549, 0.8387096774193549, 0.8387096774193549, 0.8387096774193549, 0.8387096774193549, 0.8387096774193549, 0.8387096774193549, 0.8387096774193549, 0.8387096774193549, 0.8467741935483871, 0.8467741935483871, 0.8467741935483871, 0.8467741935483871, 0.8467741935483871, 0.8467741935483871, 0.8467741935483871, 0.8467741935483871, 0.8467741935483871, 0.8467741935483871, 0.8467741935483871, 0.8467741935483871, 0.8467741935483871, 0.8467741935483871, 0.8467741935483871, 0.8467741935483871, 0.8467741935483871, 0.8467741935483871, 0.8467741935483871, 0.8467741935483871, 0.8467741935483871, 0.8467741935483871, 0.8467741935483871, 0.8467741935483871, 0.8467741935483871, 0.8467741935483871, 0.8467741935483871, 0.8467741935483871, 0.8467741935483871, 0.8467741935483871, 0.8467741935483871, 0.8467741935483871, 0.8467741935483871, 0.8467741935483871, 0.8467741935483871, 0.8467741935483871, 0.8467741935483871, 0.8548387096774194, 0.8548387096774194, 0.8548387096774194, 0.8548387096774194, 0.8548387096774194, 0.8548387096774194, 0.8548387096774194, 0.8548387096774194, 0.8548387096774194, 0.8548387096774194, 0.8548387096774194, 0.8548387096774194, 0.8548387096774194, 0.8548387096774194, 0.8548387096774194, 0.8548387096774194, 0.8548387096774194, 0.8548387096774194, 0.8548387096774194, 0.8548387096774194, 0.8548387096774194, 0.8548387096774194, 0.8548387096774194, 0.8548387096774194, 0.8548387096774194, 0.8548387096774194, 0.8548387096774194, 0.8548387096774194, 0.8548387096774194, 0.8629032258064516, 0.8629032258064516, 0.8629032258064516, 0.8629032258064516, 0.8629032258064516, 0.8629032258064516, 0.8629032258064516, 0.8629032258064516, 0.8629032258064516, 0.8629032258064516, 0.8629032258064516, 0.8629032258064516, 0.8629032258064516, 0.8629032258064516, 0.8709677419354839, 0.8709677419354839, 0.8709677419354839, 0.8709677419354839, 0.8790322580645161, 0.8790322580645161, 0.8790322580645161, 0.8790322580645161, 0.8790322580645161, 0.8790322580645161, 0.8790322580645161, 0.8790322580645161, 0.8790322580645161, 0.8790322580645161, 0.8790322580645161, 0.8790322580645161, 0.8790322580645161, 0.8790322580645161, 0.8790322580645161, 0.8790322580645161, 0.8790322580645161, 0.8790322580645161, 0.8790322580645161, 0.8790322580645161, 0.8790322580645161, 0.8790322580645161, 0.8790322580645161, 0.8790322580645161, 0.8790322580645161, 0.8790322580645161, 0.8790322580645161, 0.8790322580645161, 0.8790322580645161, 0.8790322580645161, 0.8790322580645161, 0.8790322580645161, 0.8790322580645161, 0.8790322580645161, 0.8790322580645161, 0.8790322580645161, 0.8790322580645161, 0.8790322580645161, 0.8790322580645161, 0.8790322580645161, 0.8790322580645161, 0.8790322580645161, 0.8790322580645161, 0.8790322580645161, 0.8790322580645161, 0.8790322580645161, 0.8790322580645161, 0.8790322580645161, 0.8790322580645161, 0.8790322580645161, 0.8790322580645161, 0.8790322580645161, 0.8790322580645161, 0.8790322580645161, 0.8790322580645161, 0.8790322580645161, 0.8790322580645161, 0.8790322580645161, 0.8790322580645161, 0.8790322580645161, 0.8790322580645161, 0.8790322580645161, 0.8790322580645161, 0.8790322580645161, 0.8790322580645161, 0.8790322580645161, 0.8790322580645161, 0.8790322580645161, 0.8790322580645161, 0.8790322580645161, 0.8790322580645161, 0.8790322580645161, 0.8790322580645161, 0.8790322580645161, 0.8790322580645161, 0.8790322580645161, 0.8790322580645161, 0.8790322580645161, 0.8790322580645161, 0.8790322580645161, 0.8790322580645161, 0.8790322580645161, 0.8790322580645161, 0.8790322580645161, 0.8790322580645161, 0.8790322580645161, 0.8790322580645161, 0.8870967741935484, 0.8870967741935484, 0.8870967741935484, 0.8870967741935484, 0.8870967741935484, 0.8870967741935484, 0.8870967741935484, 0.8870967741935484, 0.8870967741935484, 0.8870967741935484, 0.8870967741935484, 0.8870967741935484, 0.8870967741935484, 0.8870967741935484, 0.8870967741935484, 0.8870967741935484, 0.8870967741935484, 0.8870967741935484, 0.8870967741935484, 0.8870967741935484, 0.8870967741935484, 0.8870967741935484, 0.8870967741935484, 0.8870967741935484, 0.8870967741935484, 0.8870967741935484, 0.8870967741935484, 0.8870967741935484, 0.8870967741935484, 0.8870967741935484, 0.8870967741935484, 0.8870967741935484, 0.8870967741935484, 0.8870967741935484, 0.8870967741935484, 0.8870967741935484, 0.8870967741935484, 0.8870967741935484, 0.8870967741935484, 0.8870967741935484, 0.8951612903225806, 0.8951612903225806, 0.8951612903225806, 0.8951612903225806, 0.8951612903225806, 0.8951612903225806, 0.8951612903225806, 0.8951612903225806, 0.8951612903225806, 0.8951612903225806, 0.8951612903225806, 0.8951612903225806, 0.8951612903225806, 0.8951612903225806, 0.8951612903225806, 0.8951612903225806, 0.8951612903225806, 0.8951612903225806, 0.8951612903225806, 0.8951612903225806, 0.8951612903225806, 0.8951612903225806, 0.8951612903225806, 0.8951612903225806, 0.8951612903225806, 0.8951612903225806, 0.8951612903225806, 0.8951612903225806, 0.8951612903225806, 0.9032258064516129, 0.9032258064516129, 0.9032258064516129, 0.9032258064516129, 0.9032258064516129, 0.9032258064516129, 0.9032258064516129, 0.9032258064516129, 0.9032258064516129, 0.9032258064516129, 0.9032258064516129, 0.9032258064516129, 0.9032258064516129, 0.9032258064516129, 0.9032258064516129, 0.9032258064516129, 0.9032258064516129, 0.9032258064516129, 0.9032258064516129, 0.9032258064516129, 0.9032258064516129, 0.9032258064516129, 0.9032258064516129, 0.9032258064516129, 0.9032258064516129, 0.9032258064516129, 0.9032258064516129, 0.9032258064516129, 0.9032258064516129, 0.9032258064516129, 0.9032258064516129, 0.9032258064516129, 0.9032258064516129, 0.9032258064516129, 0.9032258064516129, 0.9032258064516129, 0.9032258064516129, 0.9032258064516129, 0.9032258064516129, 0.9032258064516129, 0.9032258064516129, 0.9032258064516129, 0.9032258064516129, 0.9032258064516129, 0.9032258064516129, 0.9032258064516129, 0.9032258064516129, 0.9032258064516129, 0.9032258064516129, 0.9032258064516129, 0.9032258064516129, 0.9032258064516129, 0.9032258064516129, 0.9032258064516129, 0.9032258064516129, 0.9032258064516129, 0.9032258064516129, 0.9032258064516129, 0.9032258064516129, 0.9032258064516129, 0.9032258064516129, 0.9032258064516129, 0.9032258064516129, 0.9032258064516129, 0.9032258064516129, 0.9032258064516129, 0.9032258064516129, 0.9032258064516129, 0.9032258064516129, 0.9032258064516129, 0.9032258064516129, 0.9032258064516129, 0.9032258064516129, 0.9032258064516129, 0.9032258064516129, 0.9032258064516129, 0.9032258064516129, 0.9032258064516129, 0.9032258064516129, 0.9032258064516129, 0.9032258064516129, 0.9032258064516129, 0.9032258064516129, 0.9032258064516129, 0.9032258064516129, 0.9032258064516129, 0.9032258064516129, 0.9032258064516129, 0.9032258064516129, 0.9032258064516129, 0.9032258064516129, 0.9032258064516129, 0.9032258064516129, 0.9032258064516129, 0.9032258064516129, 0.9032258064516129, 0.9032258064516129, 0.9032258064516129, 0.9032258064516129, 0.9032258064516129, 0.9032258064516129, 0.9032258064516129, 0.9032258064516129, 0.9032258064516129, 0.9032258064516129, 0.9032258064516129, 0.9032258064516129, 0.9032258064516129, 0.9032258064516129, 0.9032258064516129, 0.9032258064516129, 0.9032258064516129, 0.9032258064516129, 0.9032258064516129, 0.9112903225806451, 0.9112903225806451, 0.9112903225806451, 0.9112903225806451, 0.9112903225806451, 0.9112903225806451, 0.9112903225806451, 0.9112903225806451, 0.9112903225806451, 0.9112903225806451, 0.9112903225806451, 0.9112903225806451, 0.9112903225806451, 0.9112903225806451, 0.9112903225806451, 0.9112903225806451, 0.9112903225806451, 0.9112903225806451, 0.9112903225806451, 0.9112903225806451, 0.9112903225806451, 0.9112903225806451, 0.9112903225806451, 0.9112903225806451, 0.9112903225806451, 0.9112903225806451, 0.9112903225806451, 0.9112903225806451, 0.9112903225806451, 0.9112903225806451, 0.9112903225806451, 0.9112903225806451, 0.9112903225806451, 0.9112903225806451, 0.9112903225806451, 0.9112903225806451, 0.9112903225806451, 0.9112903225806451, 0.9112903225806451, 0.9112903225806451, 0.9112903225806451, 0.9112903225806451, 0.9112903225806451, 0.9112903225806451, 0.9112903225806451, 0.9112903225806451, 0.9112903225806451, 0.9112903225806451, 0.9112903225806451, 0.9112903225806451, 0.9112903225806451, 0.9112903225806451, 0.9112903225806451, 0.9112903225806451, 0.9112903225806451, 0.9112903225806451, 0.9112903225806451, 0.9112903225806451, 0.9112903225806451, 0.9112903225806451, 0.9112903225806451, 0.9112903225806451, 0.9112903225806451, 0.9112903225806451, 0.9112903225806451, 0.9112903225806451, 0.9112903225806451, 0.9112903225806451, 0.9112903225806451, 0.9112903225806451, 0.9112903225806451, 0.9112903225806451, 0.9112903225806451, 0.9112903225806451, 0.9112903225806451, 0.9112903225806451, 0.9112903225806451, 0.9112903225806451, 0.9112903225806451, 0.9112903225806451, 0.9112903225806451, 0.9112903225806451, 0.9112903225806451, 0.9112903225806451, 0.9112903225806451, 0.9112903225806451, 0.9112903225806451, 0.9112903225806451, 0.9112903225806451, 0.9112903225806451, 0.9112903225806451, 0.9112903225806451, 0.9112903225806451, 0.9112903225806451, 0.9112903225806451, 0.9112903225806451, 0.9112903225806451, 0.9112903225806451, 0.9112903225806451, 0.9112903225806451, 0.9112903225806451, 0.9112903225806451, 0.9112903225806451, 0.9112903225806451, 0.9112903225806451, 0.9112903225806451, 0.9112903225806451, 0.9112903225806451, 0.9112903225806451, 0.9112903225806451, 0.9112903225806451, 0.9112903225806451, 0.9112903225806451, 0.9112903225806451, 0.9112903225806451, 0.9112903225806451, 0.9112903225806451, 0.9112903225806451, 0.9112903225806451, 0.9112903225806451, 0.9112903225806451, 0.9112903225806451, 0.9112903225806451, 0.9112903225806451, 0.9112903225806451, 0.9112903225806451, 0.9112903225806451, 0.9112903225806451, 0.9112903225806451, 0.9112903225806451, 0.9112903225806451, 0.9112903225806451, 0.9112903225806451, 0.9112903225806451, 0.9112903225806451, 0.9112903225806451, 0.9112903225806451, 0.9112903225806451, 0.9112903225806451, 0.9112903225806451, 0.9112903225806451, 0.9112903225806451, 0.9112903225806451, 0.9112903225806451, 0.9112903225806451, 0.9112903225806451, 0.9112903225806451, 0.9112903225806451, 0.9112903225806451, 0.9112903225806451, 0.9112903225806451, 0.9112903225806451, 0.9112903225806451, 0.9112903225806451, 0.9112903225806451, 0.9112903225806451, 0.9112903225806451, 0.9112903225806451, 0.9112903225806451, 0.9112903225806451, 0.9112903225806451, 0.9112903225806451, 0.9112903225806451, 0.9112903225806451, 0.9112903225806451, 0.9112903225806451, 0.9112903225806451, 0.9112903225806451, 0.9112903225806451, 0.9112903225806451, 0.9112903225806451, 0.9112903225806451, 0.9112903225806451, 0.9112903225806451, 0.9112903225806451, 0.9112903225806451, 0.9112903225806451, 0.9112903225806451, 0.9112903225806451, 0.9112903225806451, 0.9112903225806451, 0.9112903225806451, 0.9112903225806451, 0.9112903225806451, 0.9112903225806451, 0.9112903225806451, 0.9112903225806451, 0.9112903225806451, 0.9112903225806451, 0.9112903225806451, 0.9112903225806451, 0.9112903225806451, 0.9112903225806451, 0.9112903225806451, 0.9112903225806451, 0.9112903225806451, 0.9112903225806451, 0.9112903225806451, 0.9112903225806451, 0.9112903225806451, 0.9112903225806451, 0.9112903225806451, 0.9112903225806451, 0.9112903225806451, 0.9112903225806451, 0.9112903225806451, 0.9112903225806451, 0.9112903225806451, 0.9112903225806451, 0.9112903225806451, 0.9112903225806451, 0.9112903225806451, 0.9112903225806451, 0.9112903225806451, 0.9112903225806451, 0.9112903225806451, 0.9112903225806451, 0.9112903225806451, 0.9112903225806451, 0.9112903225806451, 0.9112903225806451, 0.9112903225806451, 0.9112903225806451, 0.9112903225806451, 0.9112903225806451, 0.9112903225806451, 0.9112903225806451, 0.9112903225806451, 0.9112903225806451, 0.9112903225806451, 0.9112903225806451, 0.9112903225806451, 0.9112903225806451, 0.9112903225806451, 0.9112903225806451, 0.9112903225806451, 0.9112903225806451, 0.9112903225806451, 0.9112903225806451, 0.9112903225806451, 0.9112903225806451, 0.9112903225806451, 0.9112903225806451, 0.9112903225806451, 0.9112903225806451, 0.9112903225806451, 0.9112903225806451, 0.9112903225806451, 0.9112903225806451, 0.9112903225806451, 0.9112903225806451, 0.9112903225806451, 0.9112903225806451, 0.9112903225806451, 0.9112903225806451, 0.9112903225806451, 0.9112903225806451, 0.9112903225806451, 0.9112903225806451, 0.9112903225806451, 0.9112903225806451, 0.9112903225806451, 0.9112903225806451, 0.9112903225806451, 0.9112903225806451, 0.9112903225806451, 0.9112903225806451, 0.9112903225806451, 0.9112903225806451, 0.9112903225806451, 0.9112903225806451, 0.9112903225806451, 0.9112903225806451, 0.9112903225806451, 0.9112903225806451, 0.9112903225806451, 0.9112903225806451, 0.9112903225806451, 0.9112903225806451, 0.9112903225806451, 0.9112903225806451, 0.9112903225806451, 0.9112903225806451, 0.9112903225806451, 0.9112903225806451, 0.9112903225806451, 0.9112903225806451, 0.9193548387096774, 0.9193548387096774, 0.9274193548387096, 0.9274193548387096, 0.9274193548387096, 0.9274193548387096, 0.9274193548387096, 0.9274193548387096, 0.9274193548387096, 0.9274193548387096, 0.9274193548387096, 0.9274193548387096, 0.9274193548387096, 0.9274193548387096, 0.9274193548387096, 0.9274193548387096, 0.9274193548387096, 0.9274193548387096, 0.9274193548387096, 0.9274193548387096, 0.9274193548387096, 0.9274193548387096, 0.9274193548387096, 0.9274193548387096, 0.9274193548387096, 0.9274193548387096, 0.9274193548387096, 0.9274193548387096, 0.9274193548387096, 0.9274193548387096, 0.9274193548387096, 0.9274193548387096, 0.9274193548387096, 0.9274193548387096, 0.9274193548387096, 0.9274193548387096, 0.9274193548387096, 0.9274193548387096, 0.9274193548387096, 0.9274193548387096, 0.9274193548387096, 0.9274193548387096, 0.9274193548387096, 0.9274193548387096, 0.9274193548387096, 0.9274193548387096, 0.9274193548387096, 0.9274193548387096, 0.9274193548387096, 0.9274193548387096, 0.9274193548387096, 0.9274193548387096, 0.9274193548387096, 0.9274193548387096, 0.9274193548387096, 0.9274193548387096, 0.9274193548387096, 0.9274193548387096, 0.9274193548387096, 0.9274193548387096, 0.9274193548387096, 0.9274193548387096, 0.9274193548387096, 0.9274193548387096, 0.9274193548387096, 0.9274193548387096, 0.9274193548387096, 0.9274193548387096, 0.9274193548387096, 0.9274193548387096, 0.9274193548387096, 0.9274193548387096, 0.9274193548387096, 0.9354838709677419, 0.9354838709677419, 0.9354838709677419, 0.9354838709677419, 0.9354838709677419, 0.9354838709677419, 0.9354838709677419, 0.9354838709677419, 0.9354838709677419, 0.9354838709677419, 0.9354838709677419, 0.9354838709677419, 0.9354838709677419, 0.9354838709677419, 0.9354838709677419, 0.9354838709677419, 0.9354838709677419, 0.9354838709677419, 0.9354838709677419, 0.9354838709677419, 0.9354838709677419, 0.9354838709677419, 0.9354838709677419, 0.9354838709677419, 0.9354838709677419, 0.9354838709677419, 0.9354838709677419, 0.9435483870967742, 0.9435483870967742, 0.9435483870967742, 0.9435483870967742, 0.9435483870967742, 0.9435483870967742, 0.9435483870967742, 0.9435483870967742, 0.9435483870967742, 0.9435483870967742, 0.9435483870967742, 0.9435483870967742, 0.9435483870967742, 0.9435483870967742, 0.9435483870967742, 0.9435483870967742, 0.9435483870967742, 0.9435483870967742, 0.9435483870967742, 0.9435483870967742, 0.9435483870967742, 0.9435483870967742, 0.9435483870967742, 0.9435483870967742, 0.9435483870967742, 0.9435483870967742, 0.9435483870967742, 0.9435483870967742, 0.9435483870967742, 0.9435483870967742, 0.9435483870967742, 0.9435483870967742, 0.9435483870967742, 0.9435483870967742, 0.9435483870967742, 0.9435483870967742, 0.9435483870967742, 0.9435483870967742, 0.9435483870967742, 0.9435483870967742, 0.9435483870967742, 0.9435483870967742, 0.9435483870967742, 0.9435483870967742, 0.9435483870967742, 0.9435483870967742, 0.9435483870967742, 0.9435483870967742, 0.9435483870967742, 0.9435483870967742, 0.9435483870967742, 0.9435483870967742, 0.9435483870967742, 0.9435483870967742, 0.9435483870967742, 0.9435483870967742, 0.9435483870967742, 0.9435483870967742, 0.9435483870967742, 0.9435483870967742, 0.9435483870967742, 0.9435483870967742, 0.9435483870967742, 0.9435483870967742, 0.9435483870967742, 0.9435483870967742, 0.9435483870967742, 0.9435483870967742, 0.9435483870967742, 0.9435483870967742, 0.9435483870967742, 0.9435483870967742, 0.9435483870967742, 0.9435483870967742, 0.9435483870967742, 0.9435483870967742, 0.9435483870967742, 0.9435483870967742, 0.9435483870967742, 0.9435483870967742, 0.9435483870967742, 0.9435483870967742, 0.9435483870967742, 0.9435483870967742, 0.9435483870967742, 0.9435483870967742, 0.9435483870967742, 0.9435483870967742, 0.9435483870967742, 0.9435483870967742, 0.9435483870967742, 0.9435483870967742, 0.9435483870967742, 0.9435483870967742, 0.9435483870967742, 0.9435483870967742, 0.9435483870967742, 0.9435483870967742, 0.9435483870967742, 0.9435483870967742, 0.9435483870967742, 0.9435483870967742, 0.9435483870967742, 0.9516129032258065, 0.9516129032258065, 0.9516129032258065, 0.9516129032258065, 0.9516129032258065, 0.9516129032258065, 0.9516129032258065, 0.9516129032258065, 0.9516129032258065, 0.9516129032258065, 0.9516129032258065, 0.9516129032258065, 0.9516129032258065, 0.9516129032258065, 0.9516129032258065, 0.9516129032258065, 0.9516129032258065, 0.9516129032258065, 0.9516129032258065, 0.9516129032258065, 0.9516129032258065, 0.9596774193548387, 0.9596774193548387, 0.9596774193548387, 0.9596774193548387, 0.9596774193548387, 0.9596774193548387, 0.9596774193548387, 0.9596774193548387, 0.9596774193548387, 0.9596774193548387, 0.9596774193548387, 0.9596774193548387, 0.9596774193548387, 0.9596774193548387, 0.9596774193548387, 0.9596774193548387, 0.9596774193548387, 0.9596774193548387, 0.9596774193548387, 0.9596774193548387, 0.9596774193548387, 0.9596774193548387, 0.9596774193548387, 0.9596774193548387, 0.9596774193548387, 0.9596774193548387, 0.9596774193548387, 0.9596774193548387, 0.9596774193548387, 0.9596774193548387, 0.9596774193548387, 0.9596774193548387, 0.9596774193548387, 0.9596774193548387, 0.9596774193548387, 0.9596774193548387, 0.9596774193548387, 0.9596774193548387, 0.9596774193548387, 0.9596774193548387, 0.9596774193548387, 0.9596774193548387, 0.9596774193548387, 0.9596774193548387, 0.9596774193548387, 0.9596774193548387, 0.9596774193548387, 0.9596774193548387, 0.9596774193548387, 0.9596774193548387, 0.9596774193548387, 0.9596774193548387, 0.9596774193548387, 0.9596774193548387, 0.9596774193548387, 0.9596774193548387, 0.9596774193548387, 0.9596774193548387, 0.9596774193548387, 0.9596774193548387, 0.9596774193548387, 0.9596774193548387, 0.9596774193548387, 0.9596774193548387, 0.9596774193548387, 0.9596774193548387, 0.9596774193548387, 0.9596774193548387, 0.9596774193548387, 0.9596774193548387, 0.9596774193548387, 0.9596774193548387, 0.9596774193548387, 0.9596774193548387, 0.9596774193548387, 0.9596774193548387, 0.9596774193548387, 0.9596774193548387, 0.9596774193548387, 0.9596774193548387, 0.9596774193548387, 0.9596774193548387, 0.9596774193548387, 0.9596774193548387, 0.9596774193548387, 0.9596774193548387, 0.9596774193548387, 0.9596774193548387, 0.9596774193548387, 0.9596774193548387, 0.9596774193548387, 0.9596774193548387, 0.9596774193548387, 0.9596774193548387, 0.9596774193548387, 0.9596774193548387, 0.9596774193548387, 0.9596774193548387, 0.9596774193548387, 0.9596774193548387, 0.9596774193548387, 0.9596774193548387, 0.9596774193548387, 0.9596774193548387, 0.9596774193548387, 0.9596774193548387, 0.9596774193548387, 0.9596774193548387, 0.9596774193548387, 0.9596774193548387, 0.9596774193548387, 0.9596774193548387, 0.9596774193548387, 0.9596774193548387, 0.9596774193548387, 0.9596774193548387, 0.9596774193548387, 0.9596774193548387, 0.9596774193548387, 0.9596774193548387, 0.9596774193548387, 0.9596774193548387, 0.9596774193548387, 0.9596774193548387, 0.9596774193548387, 0.9596774193548387, 0.9596774193548387, 0.9596774193548387, 0.9596774193548387, 0.9596774193548387, 0.9596774193548387, 0.9596774193548387, 0.9596774193548387, 0.9596774193548387, 0.9596774193548387, 0.9596774193548387, 0.9596774193548387, 0.9596774193548387, 0.9596774193548387, 0.9596774193548387, 0.9596774193548387, 0.9596774193548387, 0.9596774193548387, 0.9596774193548387, 0.9596774193548387, 0.9596774193548387, 0.9596774193548387, 0.9596774193548387, 0.9596774193548387, 0.9596774193548387, 0.9596774193548387, 0.9596774193548387, 0.9596774193548387, 0.9596774193548387, 0.9596774193548387, 0.9596774193548387, 0.9596774193548387, 0.9596774193548387, 0.9596774193548387, 0.9596774193548387, 0.9596774193548387, 0.9596774193548387, 0.9596774193548387, 0.9596774193548387, 0.9596774193548387, 0.9596774193548387, 0.9596774193548387, 0.9596774193548387, 0.9596774193548387, 0.9596774193548387, 0.9596774193548387, 0.9596774193548387, 0.9596774193548387, 0.9596774193548387, 0.9596774193548387, 0.9596774193548387, 0.9596774193548387, 0.9596774193548387, 0.9596774193548387, 0.9596774193548387, 0.9596774193548387, 0.9596774193548387, 0.9596774193548387, 0.9596774193548387, 0.9596774193548387, 0.9596774193548387, 0.9596774193548387, 0.9596774193548387, 0.967741935483871, 0.967741935483871, 0.967741935483871, 0.967741935483871, 0.967741935483871, 0.967741935483871, 0.967741935483871, 0.967741935483871, 0.967741935483871, 0.967741935483871, 0.967741935483871, 0.967741935483871, 0.9758064516129032, 0.9758064516129032, 0.9758064516129032, 0.9758064516129032, 0.9758064516129032, 0.9758064516129032, 0.9758064516129032, 0.9758064516129032, 0.9758064516129032, 0.9758064516129032, 0.9758064516129032, 0.9758064516129032, 0.9758064516129032, 0.9758064516129032, 0.9758064516129032, 0.9758064516129032, 0.9758064516129032, 0.9758064516129032, 0.9758064516129032, 0.9758064516129032, 0.9758064516129032, 0.9758064516129032, 0.9758064516129032, 0.9758064516129032, 0.9758064516129032, 0.9758064516129032, 0.9758064516129032, 0.9758064516129032, 0.9758064516129032, 0.9758064516129032, 0.9758064516129032, 0.9758064516129032, 0.9758064516129032, 0.9758064516129032, 0.9758064516129032, 0.9758064516129032, 0.9758064516129032, 0.9758064516129032, 0.9758064516129032, 0.9758064516129032, 0.9758064516129032, 0.9758064516129032, 0.9758064516129032, 0.9758064516129032, 0.9758064516129032, 0.9758064516129032, 0.9758064516129032, 0.9758064516129032, 0.9758064516129032, 0.9758064516129032, 0.9758064516129032, 0.9758064516129032, 0.9758064516129032, 0.9758064516129032, 0.9758064516129032, 0.9758064516129032, 0.9758064516129032, 0.9758064516129032, 0.9758064516129032, 0.9758064516129032, 0.9758064516129032, 0.9758064516129032, 0.9758064516129032, 0.9758064516129032, 0.9758064516129032, 0.9758064516129032, 0.9758064516129032, 0.9758064516129032, 0.9758064516129032, 0.9758064516129032, 0.9758064516129032, 0.9758064516129032, 0.9758064516129032, 0.9758064516129032, 0.9758064516129032, 0.9758064516129032, 0.9758064516129032, 0.9758064516129032, 0.9758064516129032, 0.9758064516129032, 0.9758064516129032, 0.9758064516129032, 0.9758064516129032, 0.9758064516129032, 0.9758064516129032, 0.9758064516129032, 0.9758064516129032, 0.9758064516129032, 0.9758064516129032, 0.9758064516129032, 0.9758064516129032, 0.9758064516129032, 0.9758064516129032, 0.9758064516129032, 0.9758064516129032, 0.9758064516129032, 0.9758064516129032, 0.9758064516129032, 0.9758064516129032, 0.9758064516129032, 0.9758064516129032, 0.9758064516129032, 0.9758064516129032, 0.9758064516129032, 0.9758064516129032, 0.9758064516129032, 0.9758064516129032, 0.9758064516129032, 0.9758064516129032, 0.9758064516129032, 0.9758064516129032, 0.9758064516129032, 0.9758064516129032, 0.9758064516129032, 0.9758064516129032, 0.9758064516129032, 0.9758064516129032, 0.9758064516129032, 0.9758064516129032, 0.9758064516129032, 0.9758064516129032, 0.9758064516129032, 0.9758064516129032, 0.9758064516129032, 0.9758064516129032, 0.9758064516129032, 0.9758064516129032, 0.9758064516129032, 0.9758064516129032, 0.9758064516129032, 0.9758064516129032, 0.9758064516129032, 0.9758064516129032, 0.9758064516129032, 0.9758064516129032, 0.9758064516129032, 0.9758064516129032, 0.9758064516129032, 0.9758064516129032, 0.9758064516129032, 0.9758064516129032, 0.9758064516129032, 0.9758064516129032, 0.9758064516129032, 0.9758064516129032, 0.9758064516129032, 0.9758064516129032, 0.9758064516129032, 0.9758064516129032, 0.9758064516129032, 0.9758064516129032, 0.9758064516129032, 0.9758064516129032, 0.9758064516129032, 0.9758064516129032, 0.9758064516129032, 0.9758064516129032, 0.9758064516129032, 0.9758064516129032, 0.9758064516129032, 0.9758064516129032, 0.9758064516129032, 0.9758064516129032, 0.9758064516129032, 0.9758064516129032, 0.9758064516129032, 0.9758064516129032, 0.9758064516129032, 0.9758064516129032, 0.9758064516129032, 0.9758064516129032, 0.9758064516129032, 0.9758064516129032, 0.9758064516129032, 0.9758064516129032, 0.9758064516129032, 0.9758064516129032, 0.9758064516129032, 0.9758064516129032, 0.9758064516129032, 0.9758064516129032, 0.9758064516129032, 0.9758064516129032, 0.9758064516129032, 0.9758064516129032, 0.9758064516129032, 0.9758064516129032, 0.9758064516129032, 0.9758064516129032, 0.9758064516129032, 0.9758064516129032, 0.9758064516129032, 0.9758064516129032, 0.9758064516129032, 0.9758064516129032, 0.9758064516129032, 0.9758064516129032, 0.9758064516129032, 0.9758064516129032, 0.9758064516129032, 0.9758064516129032, 0.9758064516129032, 0.9758064516129032, 0.9758064516129032, 0.9758064516129032, 0.9758064516129032, 0.9758064516129032, 0.9758064516129032, 0.9758064516129032, 0.9758064516129032, 0.9758064516129032, 0.9758064516129032, 0.9758064516129032, 0.9758064516129032, 0.9758064516129032, 0.9758064516129032, 0.9758064516129032, 0.9758064516129032, 0.9758064516129032, 0.9758064516129032, 0.9758064516129032, 0.9758064516129032, 0.9758064516129032, 0.9758064516129032, 0.9758064516129032, 0.9758064516129032, 0.9758064516129032, 0.9758064516129032, 0.9758064516129032, 0.9758064516129032, 0.9758064516129032, 0.9758064516129032, 0.9758064516129032, 0.9758064516129032, 0.9758064516129032, 0.9758064516129032, 0.9758064516129032, 0.9758064516129032, 0.9758064516129032, 0.9758064516129032, 0.9758064516129032, 0.9758064516129032, 0.9758064516129032, 0.9758064516129032, 0.9758064516129032, 0.9758064516129032, 0.9758064516129032, 0.9758064516129032, 0.9758064516129032, 0.9758064516129032, 0.9758064516129032, 0.9758064516129032, 0.9758064516129032, 0.9758064516129032, 0.9758064516129032, 0.9758064516129032, 0.9758064516129032, 0.9758064516129032, 0.9758064516129032, 0.9758064516129032, 0.9758064516129032, 0.9758064516129032, 0.9758064516129032, 0.9758064516129032, 0.9758064516129032, 0.9758064516129032, 0.9758064516129032, 0.9758064516129032, 0.9758064516129032, 0.9758064516129032, 0.9758064516129032, 0.9758064516129032, 0.9758064516129032, 0.9758064516129032, 0.9758064516129032, 0.9758064516129032, 0.9758064516129032, 0.9758064516129032, 0.9758064516129032, 0.9758064516129032, 0.9758064516129032, 0.9758064516129032, 0.9758064516129032, 0.9758064516129032, 0.9758064516129032, 0.9758064516129032, 0.9758064516129032, 0.9758064516129032, 0.9758064516129032, 0.9758064516129032, 0.9758064516129032, 0.9758064516129032, 0.9758064516129032, 0.9758064516129032, 0.9758064516129032, 0.9758064516129032, 0.9758064516129032, 0.9758064516129032, 0.9758064516129032, 0.9758064516129032, 0.9758064516129032, 0.9758064516129032, 0.9758064516129032, 0.9758064516129032, 0.9758064516129032, 0.9758064516129032, 0.9758064516129032, 0.9758064516129032, 0.9758064516129032, 0.9758064516129032, 0.9758064516129032, 0.9758064516129032, 0.9758064516129032, 0.9758064516129032, 0.9758064516129032, 0.9758064516129032, 0.9758064516129032, 0.9758064516129032, 0.9758064516129032, 0.9758064516129032, 0.9758064516129032, 0.9758064516129032, 0.9758064516129032, 0.9758064516129032, 0.9758064516129032, 0.9758064516129032, 0.9758064516129032, 0.9758064516129032, 0.9758064516129032, 0.9758064516129032, 0.9758064516129032, 0.9758064516129032, 0.9758064516129032, 0.9758064516129032, 0.9758064516129032, 0.9758064516129032, 0.9758064516129032, 0.9758064516129032, 0.9758064516129032, 0.9758064516129032, 0.9758064516129032, 0.9758064516129032, 0.9758064516129032, 0.9758064516129032, 0.9758064516129032, 0.9758064516129032, 0.9758064516129032, 0.9758064516129032, 0.9758064516129032, 0.9758064516129032, 0.9758064516129032, 0.9758064516129032, 0.9758064516129032, 0.9758064516129032, 0.9758064516129032, 0.9758064516129032, 0.9758064516129032, 0.9758064516129032, 0.9758064516129032, 0.9758064516129032, 0.9758064516129032, 0.9758064516129032, 0.9758064516129032, 0.9758064516129032, 0.9758064516129032, 0.9758064516129032, 0.9758064516129032, 0.9758064516129032, 0.9758064516129032, 0.9758064516129032, 0.9758064516129032, 0.9758064516129032, 0.9758064516129032, 0.9758064516129032, 0.9758064516129032, 0.9758064516129032, 0.9758064516129032, 0.9758064516129032, 0.9758064516129032, 0.9758064516129032, 0.9758064516129032, 0.9758064516129032, 0.9758064516129032, 0.9758064516129032, 0.9758064516129032, 0.9758064516129032, 0.9758064516129032, 0.9758064516129032, 0.9758064516129032, 0.9758064516129032, 0.9758064516129032, 0.9758064516129032, 0.9758064516129032, 0.9758064516129032, 0.9758064516129032, 0.9758064516129032, 0.9758064516129032, 0.9758064516129032, 0.9758064516129032, 0.9758064516129032, 0.9758064516129032, 0.9758064516129032, 0.9758064516129032, 0.9758064516129032, 0.9758064516129032, 0.9758064516129032, 0.9758064516129032, 0.9758064516129032, 0.9758064516129032, 0.9758064516129032, 0.9758064516129032, 0.9758064516129032, 0.9758064516129032, 0.9758064516129032, 0.9758064516129032, 0.9758064516129032, 0.9758064516129032, 0.9758064516129032, 0.9758064516129032, 0.9758064516129032, 0.9758064516129032, 0.9758064516129032, 0.9758064516129032, 0.9758064516129032, 0.9758064516129032, 0.9758064516129032, 0.9758064516129032, 0.9758064516129032, 0.9758064516129032, 0.9758064516129032, 0.9758064516129032, 0.9758064516129032, 0.9758064516129032, 0.9758064516129032, 0.9758064516129032, 0.9758064516129032, 0.9758064516129032, 0.9758064516129032, 0.9758064516129032, 0.9758064516129032, 0.9758064516129032, 0.9758064516129032, 0.9758064516129032, 0.9758064516129032, 0.9758064516129032, 0.9758064516129032, 0.9758064516129032, 0.9758064516129032, 0.9758064516129032, 0.9758064516129032, 0.9758064516129032, 0.9758064516129032, 0.9758064516129032, 0.9758064516129032, 0.9758064516129032, 0.9758064516129032, 0.9758064516129032, 0.9758064516129032, 0.9758064516129032, 0.9758064516129032, 0.9758064516129032, 0.9758064516129032, 0.9758064516129032, 0.9758064516129032, 0.9758064516129032, 0.9758064516129032, 0.9758064516129032, 0.9758064516129032, 0.9758064516129032, 0.9758064516129032, 0.9758064516129032, 0.9758064516129032, 0.9758064516129032, 0.9758064516129032, 0.9758064516129032, 0.9758064516129032, 0.9758064516129032, 0.9758064516129032, 0.9758064516129032, 0.9758064516129032, 0.9758064516129032, 0.9758064516129032, 0.9758064516129032, 0.9758064516129032, 0.9758064516129032, 0.9758064516129032, 0.9758064516129032, 0.9758064516129032, 0.9758064516129032, 0.9758064516129032, 0.9758064516129032, 0.9758064516129032, 0.9758064516129032, 0.9758064516129032, 0.9758064516129032, 0.9758064516129032, 0.9758064516129032, 0.9758064516129032, 0.9758064516129032, 0.9758064516129032, 0.9758064516129032, 0.9758064516129032, 0.9758064516129032, 0.9758064516129032, 0.9758064516129032, 0.9758064516129032, 0.9758064516129032, 0.9758064516129032, 0.9758064516129032, 0.9758064516129032, 0.9758064516129032, 0.9758064516129032, 0.9758064516129032, 0.9758064516129032, 0.9758064516129032, 0.9758064516129032, 0.9758064516129032, 0.9758064516129032, 0.9758064516129032, 0.9758064516129032, 0.9758064516129032, 0.9758064516129032, 0.9758064516129032, 0.9758064516129032, 0.9758064516129032, 0.9758064516129032, 0.9758064516129032, 0.9758064516129032, 0.9758064516129032, 0.9758064516129032, 0.9758064516129032, 0.9758064516129032, 0.9758064516129032, 0.9758064516129032, 0.9758064516129032, 0.9758064516129032, 0.9758064516129032, 0.9758064516129032, 0.9758064516129032, 0.9758064516129032, 0.9758064516129032, 0.9758064516129032, 0.9758064516129032, 0.9758064516129032, 0.9758064516129032, 0.9758064516129032, 0.9758064516129032, 0.9758064516129032, 0.9758064516129032, 0.9758064516129032, 0.9758064516129032, 0.9758064516129032, 0.9758064516129032, 0.9758064516129032, 0.9758064516129032, 0.9758064516129032, 0.9758064516129032, 1.0], \"yaxis\": \"y\"}],\n",
              "                        {\"height\": 400, \"legend\": {\"tracegroupgap\": 0}, \"margin\": {\"t\": 60}, \"template\": {\"data\": {\"bar\": [{\"error_x\": {\"color\": \"#2a3f5f\"}, \"error_y\": {\"color\": \"#2a3f5f\"}, \"marker\": {\"line\": {\"color\": \"#E5ECF6\", \"width\": 0.5}}, \"type\": \"bar\"}], \"barpolar\": [{\"marker\": {\"line\": {\"color\": \"#E5ECF6\", \"width\": 0.5}}, \"type\": \"barpolar\"}], \"carpet\": [{\"aaxis\": {\"endlinecolor\": \"#2a3f5f\", \"gridcolor\": \"white\", \"linecolor\": \"white\", \"minorgridcolor\": \"white\", \"startlinecolor\": \"#2a3f5f\"}, \"baxis\": {\"endlinecolor\": \"#2a3f5f\", \"gridcolor\": \"white\", \"linecolor\": \"white\", \"minorgridcolor\": \"white\", \"startlinecolor\": \"#2a3f5f\"}, \"type\": \"carpet\"}], \"choropleth\": [{\"colorbar\": {\"outlinewidth\": 0, \"ticks\": \"\"}, \"type\": \"choropleth\"}], \"contour\": [{\"colorbar\": {\"outlinewidth\": 0, \"ticks\": \"\"}, \"colorscale\": [[0.0, \"#0d0887\"], [0.1111111111111111, \"#46039f\"], [0.2222222222222222, \"#7201a8\"], [0.3333333333333333, \"#9c179e\"], [0.4444444444444444, \"#bd3786\"], [0.5555555555555556, \"#d8576b\"], [0.6666666666666666, \"#ed7953\"], [0.7777777777777778, \"#fb9f3a\"], [0.8888888888888888, \"#fdca26\"], [1.0, \"#f0f921\"]], \"type\": \"contour\"}], \"contourcarpet\": [{\"colorbar\": {\"outlinewidth\": 0, \"ticks\": \"\"}, \"type\": \"contourcarpet\"}], \"heatmap\": [{\"colorbar\": {\"outlinewidth\": 0, \"ticks\": \"\"}, \"colorscale\": [[0.0, \"#0d0887\"], [0.1111111111111111, \"#46039f\"], [0.2222222222222222, \"#7201a8\"], [0.3333333333333333, \"#9c179e\"], [0.4444444444444444, \"#bd3786\"], [0.5555555555555556, \"#d8576b\"], [0.6666666666666666, \"#ed7953\"], [0.7777777777777778, \"#fb9f3a\"], [0.8888888888888888, \"#fdca26\"], [1.0, \"#f0f921\"]], \"type\": \"heatmap\"}], \"heatmapgl\": [{\"colorbar\": {\"outlinewidth\": 0, \"ticks\": \"\"}, \"colorscale\": [[0.0, \"#0d0887\"], [0.1111111111111111, \"#46039f\"], [0.2222222222222222, \"#7201a8\"], [0.3333333333333333, \"#9c179e\"], [0.4444444444444444, \"#bd3786\"], [0.5555555555555556, \"#d8576b\"], [0.6666666666666666, \"#ed7953\"], [0.7777777777777778, \"#fb9f3a\"], [0.8888888888888888, \"#fdca26\"], [1.0, \"#f0f921\"]], \"type\": \"heatmapgl\"}], \"histogram\": [{\"marker\": {\"colorbar\": {\"outlinewidth\": 0, \"ticks\": \"\"}}, \"type\": \"histogram\"}], \"histogram2d\": [{\"colorbar\": {\"outlinewidth\": 0, \"ticks\": \"\"}, \"colorscale\": [[0.0, \"#0d0887\"], [0.1111111111111111, \"#46039f\"], [0.2222222222222222, \"#7201a8\"], [0.3333333333333333, \"#9c179e\"], [0.4444444444444444, \"#bd3786\"], [0.5555555555555556, \"#d8576b\"], [0.6666666666666666, \"#ed7953\"], [0.7777777777777778, \"#fb9f3a\"], [0.8888888888888888, \"#fdca26\"], [1.0, \"#f0f921\"]], \"type\": \"histogram2d\"}], \"histogram2dcontour\": [{\"colorbar\": {\"outlinewidth\": 0, \"ticks\": \"\"}, \"colorscale\": [[0.0, \"#0d0887\"], [0.1111111111111111, \"#46039f\"], [0.2222222222222222, \"#7201a8\"], [0.3333333333333333, \"#9c179e\"], [0.4444444444444444, \"#bd3786\"], [0.5555555555555556, \"#d8576b\"], [0.6666666666666666, \"#ed7953\"], [0.7777777777777778, \"#fb9f3a\"], [0.8888888888888888, \"#fdca26\"], [1.0, \"#f0f921\"]], \"type\": \"histogram2dcontour\"}], \"mesh3d\": [{\"colorbar\": {\"outlinewidth\": 0, \"ticks\": \"\"}, \"type\": \"mesh3d\"}], \"parcoords\": [{\"line\": {\"colorbar\": {\"outlinewidth\": 0, \"ticks\": \"\"}}, \"type\": \"parcoords\"}], \"pie\": [{\"automargin\": true, \"type\": \"pie\"}], \"scatter\": [{\"marker\": {\"colorbar\": {\"outlinewidth\": 0, \"ticks\": \"\"}}, \"type\": \"scatter\"}], \"scatter3d\": [{\"line\": {\"colorbar\": {\"outlinewidth\": 0, \"ticks\": \"\"}}, \"marker\": {\"colorbar\": {\"outlinewidth\": 0, \"ticks\": \"\"}}, \"type\": \"scatter3d\"}], \"scattercarpet\": [{\"marker\": {\"colorbar\": {\"outlinewidth\": 0, \"ticks\": \"\"}}, \"type\": \"scattercarpet\"}], \"scattergeo\": [{\"marker\": {\"colorbar\": {\"outlinewidth\": 0, \"ticks\": \"\"}}, \"type\": \"scattergeo\"}], \"scattergl\": [{\"marker\": {\"colorbar\": {\"outlinewidth\": 0, \"ticks\": \"\"}}, \"type\": \"scattergl\"}], \"scattermapbox\": [{\"marker\": {\"colorbar\": {\"outlinewidth\": 0, \"ticks\": \"\"}}, \"type\": \"scattermapbox\"}], \"scatterpolar\": [{\"marker\": {\"colorbar\": {\"outlinewidth\": 0, \"ticks\": \"\"}}, \"type\": \"scatterpolar\"}], \"scatterpolargl\": [{\"marker\": {\"colorbar\": {\"outlinewidth\": 0, \"ticks\": \"\"}}, \"type\": \"scatterpolargl\"}], \"scatterternary\": [{\"marker\": {\"colorbar\": {\"outlinewidth\": 0, \"ticks\": \"\"}}, \"type\": \"scatterternary\"}], \"surface\": [{\"colorbar\": {\"outlinewidth\": 0, \"ticks\": \"\"}, \"colorscale\": [[0.0, \"#0d0887\"], [0.1111111111111111, \"#46039f\"], [0.2222222222222222, \"#7201a8\"], [0.3333333333333333, \"#9c179e\"], [0.4444444444444444, \"#bd3786\"], [0.5555555555555556, \"#d8576b\"], [0.6666666666666666, \"#ed7953\"], [0.7777777777777778, \"#fb9f3a\"], [0.8888888888888888, \"#fdca26\"], [1.0, \"#f0f921\"]], \"type\": \"surface\"}], \"table\": [{\"cells\": {\"fill\": {\"color\": \"#EBF0F8\"}, \"line\": {\"color\": \"white\"}}, \"header\": {\"fill\": {\"color\": \"#C8D4E3\"}, \"line\": {\"color\": \"white\"}}, \"type\": \"table\"}]}, \"layout\": {\"annotationdefaults\": {\"arrowcolor\": \"#2a3f5f\", \"arrowhead\": 0, \"arrowwidth\": 1}, \"coloraxis\": {\"colorbar\": {\"outlinewidth\": 0, \"ticks\": \"\"}}, \"colorscale\": {\"diverging\": [[0, \"#8e0152\"], [0.1, \"#c51b7d\"], [0.2, \"#de77ae\"], [0.3, \"#f1b6da\"], [0.4, \"#fde0ef\"], [0.5, \"#f7f7f7\"], [0.6, \"#e6f5d0\"], [0.7, \"#b8e186\"], [0.8, \"#7fbc41\"], [0.9, \"#4d9221\"], [1, \"#276419\"]], \"sequential\": [[0.0, \"#0d0887\"], [0.1111111111111111, \"#46039f\"], [0.2222222222222222, \"#7201a8\"], [0.3333333333333333, \"#9c179e\"], [0.4444444444444444, \"#bd3786\"], [0.5555555555555556, \"#d8576b\"], [0.6666666666666666, \"#ed7953\"], [0.7777777777777778, \"#fb9f3a\"], [0.8888888888888888, \"#fdca26\"], [1.0, \"#f0f921\"]], \"sequentialminus\": [[0.0, \"#0d0887\"], [0.1111111111111111, \"#46039f\"], [0.2222222222222222, \"#7201a8\"], [0.3333333333333333, \"#9c179e\"], [0.4444444444444444, \"#bd3786\"], [0.5555555555555556, \"#d8576b\"], [0.6666666666666666, \"#ed7953\"], [0.7777777777777778, \"#fb9f3a\"], [0.8888888888888888, \"#fdca26\"], [1.0, \"#f0f921\"]]}, \"colorway\": [\"#636efa\", \"#EF553B\", \"#00cc96\", \"#ab63fa\", \"#FFA15A\", \"#19d3f3\", \"#FF6692\", \"#B6E880\", \"#FF97FF\", \"#FECB52\"], \"font\": {\"color\": \"#2a3f5f\"}, \"geo\": {\"bgcolor\": \"white\", \"lakecolor\": \"white\", \"landcolor\": \"#E5ECF6\", \"showlakes\": true, \"showland\": true, \"subunitcolor\": \"white\"}, \"hoverlabel\": {\"align\": \"left\"}, \"hovermode\": \"closest\", \"mapbox\": {\"style\": \"light\"}, \"paper_bgcolor\": \"white\", \"plot_bgcolor\": \"#E5ECF6\", \"polar\": {\"angularaxis\": {\"gridcolor\": \"white\", \"linecolor\": \"white\", \"ticks\": \"\"}, \"bgcolor\": \"#E5ECF6\", \"radialaxis\": {\"gridcolor\": \"white\", \"linecolor\": \"white\", \"ticks\": \"\"}}, \"scene\": {\"xaxis\": {\"backgroundcolor\": \"#E5ECF6\", \"gridcolor\": \"white\", \"gridwidth\": 2, \"linecolor\": \"white\", \"showbackground\": true, \"ticks\": \"\", \"zerolinecolor\": \"white\"}, \"yaxis\": {\"backgroundcolor\": \"#E5ECF6\", \"gridcolor\": \"white\", \"gridwidth\": 2, \"linecolor\": \"white\", \"showbackground\": true, \"ticks\": \"\", \"zerolinecolor\": \"white\"}, \"zaxis\": {\"backgroundcolor\": \"#E5ECF6\", \"gridcolor\": \"white\", \"gridwidth\": 2, \"linecolor\": \"white\", \"showbackground\": true, \"ticks\": \"\", \"zerolinecolor\": \"white\"}}, \"shapedefaults\": {\"line\": {\"color\": \"#2a3f5f\"}}, \"ternary\": {\"aaxis\": {\"gridcolor\": \"white\", \"linecolor\": \"white\", \"ticks\": \"\"}, \"baxis\": {\"gridcolor\": \"white\", \"linecolor\": \"white\", \"ticks\": \"\"}, \"bgcolor\": \"#E5ECF6\", \"caxis\": {\"gridcolor\": \"white\", \"linecolor\": \"white\", \"ticks\": \"\"}}, \"title\": {\"x\": 0.05}, \"xaxis\": {\"automargin\": true, \"gridcolor\": \"white\", \"linecolor\": \"white\", \"ticks\": \"\", \"title\": {\"standoff\": 15}, \"zerolinecolor\": \"white\", \"zerolinewidth\": 2}, \"yaxis\": {\"automargin\": true, \"gridcolor\": \"white\", \"linecolor\": \"white\", \"ticks\": \"\", \"title\": {\"standoff\": 15}, \"zerolinecolor\": \"white\", \"zerolinewidth\": 2}}}, \"width\": 400, \"xaxis\": {\"anchor\": \"y\", \"domain\": [0.0, 1.0], \"title\": {\"text\": \"False Positive Rates\"}}, \"yaxis\": {\"anchor\": \"x\", \"domain\": [0.0, 1.0], \"title\": {\"text\": \"True Positive Rates\"}}},\n",
              "                        {\"responsive\": true}\n",
              "                    ).then(function(){\n",
              "                            \n",
              "var gd = document.getElementById('a02487a9-909c-400c-911c-7a28200ddb17');\n",
              "var x = new MutationObserver(function (mutations, observer) {{\n",
              "        var display = window.getComputedStyle(gd).display;\n",
              "        if (!display || display === 'none') {{\n",
              "            console.log([gd, 'removed!']);\n",
              "            Plotly.purge(gd);\n",
              "            observer.disconnect();\n",
              "        }}\n",
              "}});\n",
              "\n",
              "// Listen for the removal of the full notebook cells\n",
              "var notebookContainer = gd.closest('#notebook-container');\n",
              "if (notebookContainer) {{\n",
              "    x.observe(notebookContainer, {childList: true});\n",
              "}}\n",
              "\n",
              "// Listen for the clearing of the current output cell\n",
              "var outputEl = gd.closest('.output');\n",
              "if (outputEl) {{\n",
              "    x.observe(outputEl, {childList: true});\n",
              "}}\n",
              "\n",
              "                        })\n",
              "                };\n",
              "                \n",
              "            </script>\n",
              "        </div>\n",
              "</body>\n",
              "</html>"
            ]
          },
          "metadata": {
            "tags": []
          }
        }
      ]
    },
    {
      "cell_type": "code",
      "metadata": {
        "id": "vN1Ftl7WyIJQ",
        "colab_type": "code",
        "colab": {
          "base_uri": "https://localhost:8080/",
          "height": 312
        },
        "outputId": "d5c2f6db-a586-4dda-a8e2-7a98c3db9cc5"
      },
      "source": [
        "import lightgbm\n",
        "lightgbm.plot_importance(model)"
      ],
      "execution_count": null,
      "outputs": [
        {
          "output_type": "execute_result",
          "data": {
            "text/plain": [
              "<matplotlib.axes._subplots.AxesSubplot at 0x7f730d71e4a8>"
            ]
          },
          "metadata": {
            "tags": []
          },
          "execution_count": 67
        },
        {
          "output_type": "display_data",
          "data": {
            "image/png": "[encoded data removed]",
            "text/plain": [
              "<Figure size 432x288 with 1 Axes>"
            ]
          },
          "metadata": {
            "tags": [],
            "needs_background": "light"
          }
        }
      ]
    },
    {
      "cell_type": "code",
      "metadata": {
        "id": "e700AOBiykGf",
        "colab_type": "code",
        "colab": {
          "base_uri": "https://localhost:8080/",
          "height": 1000
        },
        "outputId": "d679e72c-05fd-4e9d-bca0-abc580aa32df"
      },
      "source": [
        "y_pred_tot_lgm = []\n",
        "\n",
        "from sklearn.model_selection import StratifiedKFold\n",
        "\n",
        "fold = StratifiedKFold(n_splits=15)\n",
        "i = 1\n",
        "for train_index, test_index in fold.split(X, y):\n",
        "    x_train, x_val = X.iloc[train_index], X.iloc[test_index]\n",
        "    y_train, y_val = y[train_index], y[test_index]\n",
        "    m = LGBMClassifier(boosting_type='gbdt',\n",
        "                       max_depth=5,\n",
        "                       learning_rate=0.05,\n",
        "                       n_estimators=5000,\n",
        "                       min_child_weight=0.01,\n",
        "                       colsample_bytree=0.5,\n",
        "                       random_state=1994)\n",
        "    m.fit(x_train, y_train,\n",
        "          eval_set=[(x_train,y_train),(x_val, y_val)],\n",
        "          early_stopping_rounds=200,\n",
        "          eval_metric='auc',\n",
        "          verbose=200)\n",
        "    pred_y = m.predict_proba(x_val)[:,1]\n",
        "    print(\"err_lgm: \",roc_auc_score(y_val,pred_y))\n",
        "    pred_test = m.predict_proba(test)[:,1]\n",
        "    i = i + 1\n",
        "    y_pred_tot_lgm.append(pred_test)"
      ],
      "execution_count": null,
      "outputs": [
        {
          "output_type": "stream",
          "text": [
            "Training until validation scores don't improve for 200 rounds.\n",
            "[200]\ttraining's binary_logloss: 0.0362055\ttraining's auc: 0.934273\tvalid_1's binary_logloss: 0.0435642\tvalid_1's auc: 0.846369\n",
            "[400]\ttraining's binary_logloss: 0.0321209\ttraining's auc: 0.957626\tvalid_1's binary_logloss: 0.0436787\tvalid_1's auc: 0.851164\n",
            "Early stopping, best iteration is:\n",
            "[289]\ttraining's binary_logloss: 0.0343435\ttraining's auc: 0.946391\tvalid_1's binary_logloss: 0.0432257\tvalid_1's auc: 0.855556\n",
            "err_lgm:  0.8555558622212409\n",
            "Training until validation scores don't improve for 200 rounds.\n",
            "[200]\ttraining's binary_logloss: 0.0365852\ttraining's auc: 0.931487\tvalid_1's binary_logloss: 0.044131\tvalid_1's auc: 0.844333\n",
            "Early stopping, best iteration is:\n",
            "[37]\ttraining's binary_logloss: 0.0427302\ttraining's auc: 0.889832\tvalid_1's binary_logloss: 0.0451336\tvalid_1's auc: 0.856439\n",
            "err_lgm:  0.85643905939501\n",
            "Training until validation scores don't improve for 200 rounds.\n",
            "[200]\ttraining's binary_logloss: 0.0364483\ttraining's auc: 0.93209\tvalid_1's binary_logloss: 0.0407872\tvalid_1's auc: 0.904936\n",
            "[400]\ttraining's binary_logloss: 0.0322716\ttraining's auc: 0.956652\tvalid_1's binary_logloss: 0.040222\tvalid_1's auc: 0.910231\n",
            "Early stopping, best iteration is:\n",
            "[339]\ttraining's binary_logloss: 0.0335772\ttraining's auc: 0.950443\tvalid_1's binary_logloss: 0.0402025\tvalid_1's auc: 0.911292\n",
            "err_lgm:  0.9112919124373088\n",
            "Training until validation scores don't improve for 200 rounds.\n",
            "[200]\ttraining's binary_logloss: 0.0365199\ttraining's auc: 0.931906\tvalid_1's binary_logloss: 0.0408575\tvalid_1's auc: 0.880534\n",
            "[400]\ttraining's binary_logloss: 0.0326475\ttraining's auc: 0.955519\tvalid_1's binary_logloss: 0.0405661\tvalid_1's auc: 0.880049\n",
            "Early stopping, best iteration is:\n",
            "[282]\ttraining's binary_logloss: 0.0346613\ttraining's auc: 0.945371\tvalid_1's binary_logloss: 0.0405397\tvalid_1's auc: 0.883254\n",
            "err_lgm:  0.8832543450146674\n",
            "Training until validation scores don't improve for 200 rounds.\n",
            "[200]\ttraining's binary_logloss: 0.0364114\ttraining's auc: 0.933081\tvalid_1's binary_logloss: 0.0450717\tvalid_1's auc: 0.813204\n",
            "[400]\ttraining's binary_logloss: 0.0321102\ttraining's auc: 0.957677\tvalid_1's binary_logloss: 0.044838\tvalid_1's auc: 0.829659\n",
            "Early stopping, best iteration is:\n",
            "[325]\ttraining's binary_logloss: 0.0335446\ttraining's auc: 0.951074\tvalid_1's binary_logloss: 0.0447303\tvalid_1's auc: 0.825007\n",
            "err_lgm:  0.8250067028356938\n",
            "Training until validation scores don't improve for 200 rounds.\n",
            "[200]\ttraining's binary_logloss: 0.0365044\ttraining's auc: 0.93148\tvalid_1's binary_logloss: 0.0407027\tvalid_1's auc: 0.896516\n",
            "[400]\ttraining's binary_logloss: 0.0325298\ttraining's auc: 0.954371\tvalid_1's binary_logloss: 0.0400358\tvalid_1's auc: 0.897029\n",
            "Early stopping, best iteration is:\n",
            "[283]\ttraining's binary_logloss: 0.0348048\ttraining's auc: 0.942545\tvalid_1's binary_logloss: 0.0402685\tvalid_1's auc: 0.898874\n",
            "err_lgm:  0.8988739236034444\n",
            "Training until validation scores don't improve for 200 rounds.\n",
            "[200]\ttraining's binary_logloss: 0.0363203\ttraining's auc: 0.932992\tvalid_1's binary_logloss: 0.0434446\tvalid_1's auc: 0.846089\n",
            "Early stopping, best iteration is:\n",
            "[181]\ttraining's binary_logloss: 0.0366619\ttraining's auc: 0.93059\tvalid_1's binary_logloss: 0.0433117\tvalid_1's auc: 0.848072\n",
            "err_lgm:  0.8480723433113586\n",
            "Training until validation scores don't improve for 200 rounds.\n",
            "[200]\ttraining's binary_logloss: 0.0363992\ttraining's auc: 0.93374\tvalid_1's binary_logloss: 0.043079\tvalid_1's auc: 0.849663\n",
            "Early stopping, best iteration is:\n",
            "[100]\ttraining's binary_logloss: 0.0392616\ttraining's auc: 0.912109\tvalid_1's binary_logloss: 0.0433355\tvalid_1's auc: 0.85323\n",
            "err_lgm:  0.8532295839510456\n",
            "Training until validation scores don't improve for 200 rounds.\n",
            "[200]\ttraining's binary_logloss: 0.0365532\ttraining's auc: 0.932055\tvalid_1's binary_logloss: 0.0420544\tvalid_1's auc: 0.861147\n",
            "[400]\ttraining's binary_logloss: 0.0322656\ttraining's auc: 0.956074\tvalid_1's binary_logloss: 0.0418348\tvalid_1's auc: 0.863351\n",
            "Early stopping, best iteration is:\n",
            "[300]\ttraining's binary_logloss: 0.0341538\ttraining's auc: 0.947471\tvalid_1's binary_logloss: 0.0416075\tvalid_1's auc: 0.86809\n",
            "err_lgm:  0.8680901649686149\n",
            "Training until validation scores don't improve for 200 rounds.\n",
            "[200]\ttraining's binary_logloss: 0.0366784\ttraining's auc: 0.929662\tvalid_1's binary_logloss: 0.0416848\tvalid_1's auc: 0.857652\n",
            "Early stopping, best iteration is:\n",
            "[42]\ttraining's binary_logloss: 0.0422449\ttraining's auc: 0.893078\tvalid_1's binary_logloss: 0.043262\tvalid_1's auc: 0.863623\n",
            "err_lgm:  0.8636233739052035\n",
            "Training until validation scores don't improve for 200 rounds.\n",
            "[200]\ttraining's binary_logloss: 0.0362249\ttraining's auc: 0.933872\tvalid_1's binary_logloss: 0.0441774\tvalid_1's auc: 0.844462\n",
            "[400]\ttraining's binary_logloss: 0.0323615\ttraining's auc: 0.955633\tvalid_1's binary_logloss: 0.0444372\tvalid_1's auc: 0.848922\n",
            "Early stopping, best iteration is:\n",
            "[267]\ttraining's binary_logloss: 0.0347828\ttraining's auc: 0.942808\tvalid_1's binary_logloss: 0.0439674\tvalid_1's auc: 0.849457\n",
            "err_lgm:  0.8494574317362185\n",
            "Training until validation scores don't improve for 200 rounds.\n",
            "[200]\ttraining's binary_logloss: 0.0365992\ttraining's auc: 0.931839\tvalid_1's binary_logloss: 0.0418008\tvalid_1's auc: 0.879136\n",
            "Early stopping, best iteration is:\n",
            "[96]\ttraining's binary_logloss: 0.039279\ttraining's auc: 0.911109\tvalid_1's binary_logloss: 0.0417296\tvalid_1's auc: 0.88401\n",
            "err_lgm:  0.8840099336682123\n",
            "Training until validation scores don't improve for 200 rounds.\n",
            "[200]\ttraining's binary_logloss: 0.0364443\ttraining's auc: 0.933209\tvalid_1's binary_logloss: 0.0424013\tvalid_1's auc: 0.856145\n",
            "[400]\ttraining's binary_logloss: 0.0324878\ttraining's auc: 0.956165\tvalid_1's binary_logloss: 0.0420461\tvalid_1's auc: 0.863211\n",
            "Early stopping, best iteration is:\n",
            "[391]\ttraining's binary_logloss: 0.0327061\ttraining's auc: 0.95523\tvalid_1's binary_logloss: 0.0419974\tvalid_1's auc: 0.863239\n",
            "err_lgm:  0.8632389876352395\n",
            "Training until validation scores don't improve for 200 rounds.\n",
            "[200]\ttraining's binary_logloss: 0.0364473\ttraining's auc: 0.931592\tvalid_1's binary_logloss: 0.0433854\tvalid_1's auc: 0.85501\n",
            "[400]\ttraining's binary_logloss: 0.0325812\ttraining's auc: 0.954497\tvalid_1's binary_logloss: 0.0427759\tvalid_1's auc: 0.863557\n",
            "[600]\ttraining's binary_logloss: 0.0298509\ttraining's auc: 0.965408\tvalid_1's binary_logloss: 0.0426551\tvalid_1's auc: 0.869099\n",
            "Early stopping, best iteration is:\n",
            "[596]\ttraining's binary_logloss: 0.0298882\ttraining's auc: 0.965301\tvalid_1's binary_logloss: 0.0426132\tvalid_1's auc: 0.869325\n",
            "err_lgm:  0.8693247681607419\n",
            "Training until validation scores don't improve for 200 rounds.\n",
            "[200]\ttraining's binary_logloss: 0.0364122\ttraining's auc: 0.93214\tvalid_1's binary_logloss: 0.0449477\tvalid_1's auc: 0.824346\n",
            "[400]\ttraining's binary_logloss: 0.0322899\ttraining's auc: 0.956485\tvalid_1's binary_logloss: 0.0447247\tvalid_1's auc: 0.836563\n",
            "Early stopping, best iteration is:\n",
            "[299]\ttraining's binary_logloss: 0.0340857\ttraining's auc: 0.947242\tvalid_1's binary_logloss: 0.0445813\tvalid_1's auc: 0.832164\n",
            "err_lgm:  0.8321640745749612\n"
          ],
          "name": "stdout"
        }
      ]
    },
    {
      "cell_type": "code",
      "metadata": {
        "id": "B6DRkekwy2w-",
        "colab_type": "code",
        "colab": {}
      },
      "source": [
        "submission=pd.read_csv('/content/sample_submission.csv')\n",
        "submission['redemption_status']=np.mean(y_pred_tot_lgm, 0)"
      ],
      "execution_count": null,
      "outputs": []
    },
    {
      "cell_type": "code",
      "metadata": {
        "id": "rnJoKjr90PCh",
        "colab_type": "code",
        "colab": {
          "base_uri": "https://localhost:8080/",
          "height": 204
        },
        "outputId": "348073a4-066e-4fe8-e894-729f03789508"
      },
      "source": [
        "submission.head()"
      ],
      "execution_count": null,
      "outputs": [
        {
          "output_type": "execute_result",
          "data": {
            "text/html": [
              "<div>\n",
              "<style scoped>\n",
              "    .dataframe tbody tr th:only-of-type {\n",
              "        vertical-align: middle;\n",
              "    }\n",
              "\n",
              "    .dataframe tbody tr th {\n",
              "        vertical-align: top;\n",
              "    }\n",
              "\n",
              "    .dataframe thead th {\n",
              "        text-align: right;\n",
              "    }\n",
              "</style>\n",
              "<table border=\"1\" class=\"dataframe\">\n",
              "  <thead>\n",
              "    <tr style=\"text-align: right;\">\n",
              "      <th></th>\n",
              "      <th>id</th>\n",
              "      <th>redemption_status</th>\n",
              "    </tr>\n",
              "  </thead>\n",
              "  <tbody>\n",
              "    <tr>\n",
              "      <th>0</th>\n",
              "      <td>3</td>\n",
              "      <td>0.024761</td>\n",
              "    </tr>\n",
              "    <tr>\n",
              "      <th>1</th>\n",
              "      <td>4</td>\n",
              "      <td>0.976362</td>\n",
              "    </tr>\n",
              "    <tr>\n",
              "      <th>2</th>\n",
              "      <td>5</td>\n",
              "      <td>0.008123</td>\n",
              "    </tr>\n",
              "    <tr>\n",
              "      <th>3</th>\n",
              "      <td>8</td>\n",
              "      <td>0.000427</td>\n",
              "    </tr>\n",
              "    <tr>\n",
              "      <th>4</th>\n",
              "      <td>10</td>\n",
              "      <td>0.000315</td>\n",
              "    </tr>\n",
              "  </tbody>\n",
              "</table>\n",
              "</div>"
            ],
            "text/plain": [
              "   id  redemption_status\n",
              "0   3           0.024761\n",
              "1   4           0.976362\n",
              "2   5           0.008123\n",
              "3   8           0.000427\n",
              "4  10           0.000315"
            ]
          },
          "metadata": {
            "tags": []
          },
          "execution_count": 80
        }
      ]
    },
    {
      "cell_type": "code",
      "metadata": {
        "id": "W8Mqg8aM0Qz6",
        "colab_type": "code",
        "colab": {}
      },
      "source": [
        "submission.to_csv('amexpert_01.csv',index=False)"
      ],
      "execution_count": null,
      "outputs": []
    }
  ]
}