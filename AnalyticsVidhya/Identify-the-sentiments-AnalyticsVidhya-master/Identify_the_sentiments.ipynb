{
  "nbformat": 4,
  "nbformat_minor": 0,
  "metadata": {
    "colab": {
      "name": "Identify the sentiments.ipynb",
      "provenance": [],
      "collapsed_sections": []
    },
    "kernelspec": {
      "name": "python3",
      "display_name": "Python 3"
    },
    "accelerator": "GPU"
  },
  "cells": [
    {
      "cell_type": "code",
      "metadata": {
        "id": "bR_yuQnihLvG",
        "colab_type": "code",
        "colab": {}
      },
      "source": [
        "import pandas as pd\n",
        "import numpy as np\n",
        "import matplotlib.pyplot as plt\n",
        "%matplotlib inline\n",
        "\n",
        "import re\n",
        "import spacy\n",
        "import string\n",
        "import nltk\n",
        "import warnings\n",
        "warnings.filterwarnings('ignore')\n",
        "\n",
        "import tensorflow as tf\n",
        "from tensorflow import keras\n",
        "import tensorflow_hub as hub\n",
        "import pickle\n",
        "import logging\n",
        "#from bert_serving.client import BertClient"
      ],
      "execution_count": 0,
      "outputs": []
    },
    {
      "cell_type": "code",
      "metadata": {
        "id": "vzZxRLJvhdbX",
        "colab_type": "code",
        "colab": {}
      },
      "source": [
        "train=pd.read_csv('/content/train.csv')\n",
        "test=pd.read_csv('/content/test.csv')"
      ],
      "execution_count": 0,
      "outputs": []
    },
    {
      "cell_type": "code",
      "metadata": {
        "id": "JE2a8VFdMGAO",
        "colab_type": "code",
        "outputId": "dc97f43a-6447-437c-b3b0-92b099d2c0a4",
        "colab": {
          "base_uri": "https://localhost:8080/",
          "height": 204
        }
      },
      "source": [
        "test.head()"
      ],
      "execution_count": 0,
      "outputs": [
        {
          "output_type": "execute_result",
          "data": {
            "text/html": [
              "<div>\n",
              "<style scoped>\n",
              "    .dataframe tbody tr th:only-of-type {\n",
              "        vertical-align: middle;\n",
              "    }\n",
              "\n",
              "    .dataframe tbody tr th {\n",
              "        vertical-align: top;\n",
              "    }\n",
              "\n",
              "    .dataframe thead th {\n",
              "        text-align: right;\n",
              "    }\n",
              "</style>\n",
              "<table border=\"1\" class=\"dataframe\">\n",
              "  <thead>\n",
              "    <tr style=\"text-align: right;\">\n",
              "      <th></th>\n",
              "      <th>id</th>\n",
              "      <th>tweet</th>\n",
              "    </tr>\n",
              "  </thead>\n",
              "  <tbody>\n",
              "    <tr>\n",
              "      <th>0</th>\n",
              "      <td>7921</td>\n",
              "      <td>I hate the new #iphone upgrade. Won't let me d...</td>\n",
              "    </tr>\n",
              "    <tr>\n",
              "      <th>1</th>\n",
              "      <td>7922</td>\n",
              "      <td>currently shitting my fucking pants. #apple #i...</td>\n",
              "    </tr>\n",
              "    <tr>\n",
              "      <th>2</th>\n",
              "      <td>7923</td>\n",
              "      <td>I'd like to puts some CD-ROMS on my iPad, is t...</td>\n",
              "    </tr>\n",
              "    <tr>\n",
              "      <th>3</th>\n",
              "      <td>7924</td>\n",
              "      <td>My ipod is officially dead. I lost all my pict...</td>\n",
              "    </tr>\n",
              "    <tr>\n",
              "      <th>4</th>\n",
              "      <td>7925</td>\n",
              "      <td>Been fighting iTunes all night! I only want th...</td>\n",
              "    </tr>\n",
              "  </tbody>\n",
              "</table>\n",
              "</div>"
            ],
            "text/plain": [
              "     id                                              tweet\n",
              "0  7921  I hate the new #iphone upgrade. Won't let me d...\n",
              "1  7922  currently shitting my fucking pants. #apple #i...\n",
              "2  7923  I'd like to puts some CD-ROMS on my iPad, is t...\n",
              "3  7924  My ipod is officially dead. I lost all my pict...\n",
              "4  7925  Been fighting iTunes all night! I only want th..."
            ]
          },
          "metadata": {
            "tags": []
          },
          "execution_count": 20
        }
      ]
    },
    {
      "cell_type": "code",
      "metadata": {
        "id": "DwKmQxS9eozb",
        "colab_type": "code",
        "colab": {}
      },
      "source": [
        "# data cleaning: remove URL's from train and test\n",
        "train['clean_tweet'] = train['tweet'].apply(lambda x: re.sub(r'http\\S+', '', x))\n",
        "test['clean_tweet'] = test['tweet'].apply(lambda x: re.sub(r'http\\S+', '', x))\n",
        "\n",
        "#removing twitterlinks\n",
        "def remove_twitterlinks(stringliteral):\n",
        "  return re.sub(r'pic.twitter.com\\S+', '', stringliteral)\n",
        "train['clean_tweet']=train['clean_tweet'].apply(remove_twitterlinks)\n",
        "test['clean_tweet']=test['clean_tweet'].apply(remove_twitterlinks)\n",
        "\n",
        "# remove twitter handles (@user)\n",
        "train['clean_tweet'] = train['clean_tweet'].apply(lambda x: re.sub(\"@[\\w]*\", '', x))\n",
        "test['clean_tweet'] = test['clean_tweet'].apply(lambda x: re.sub(\"@[\\w]*\", '', x))\n",
        "  \n",
        "# remove punctuation marks\n",
        "punctuation = '.,\\'!\"#$%&()*+-/:;<=>?@[\\\\]^_`{|}~«»®´·º½¾¿¡§£₤'\n",
        "\n",
        "train['clean_tweet'] = train['clean_tweet'].apply(lambda x: ''.join(ch for ch in x if ch not in set(punctuation)))\n",
        "test['clean_tweet'] = test['clean_tweet'].apply(lambda x: ''.join(ch for ch in x if ch not in set(punctuation)))\n",
        "\n",
        "# convert text to lowercase\n",
        "train['clean_tweet'] = train['clean_tweet'].str.lower()\n",
        "test['clean_tweet'] = test['clean_tweet'].str.lower()\n",
        "\n",
        "# remove numbers\n",
        "train['clean_tweet'] = train['clean_tweet'].str.replace(\"[0-9]\", \" \")\n",
        "test['clean_tweet'] = test['clean_tweet'].str.replace(\"[0-9]\", \" \")\n",
        "\n",
        "# remove whitespaces\n",
        "train['clean_tweet'] = train['clean_tweet'].apply(lambda x:' '.join(x.split()))\n",
        "test['clean_tweet'] = test['clean_tweet'].apply(lambda x: ' '.join(x.split()))\n",
        "\n",
        "#Normalize the words to its base form\n",
        "# import spaCy's language model\n",
        "nlp = spacy.load('en', disable=['parser', 'ner'])\n",
        "def lemmatization(texts):\n",
        "    output = []\n",
        "    for i in texts:\n",
        "        s = [token.lemma_ for token in nlp(i)]\n",
        "        output.append(' '.join(s))\n",
        "    return output\n",
        "\n",
        "#train['clean_tweet'] = lemmatization(train['clean_tweet'])\n",
        "#test['clean_tweet'] = lemmatization(test['clean_tweet'])\n",
        "\n",
        "# remove special characters, numbers, punctuations\n",
        "train['clean_tweet']=train['clean_tweet'].str.replace('iphoneonly', \"iphone\").str.replace('iphonesia', \"iphone\").str.replace('iphonex', \"iphone\").str.replace('goodvibes',\"good vibes\").str.replace('positivevibes', \"positive vibes\").str.replace('hateitunes', \"hate itunes\").str.replace('samsungblast', \"samsung blast\").str.replace('appleevent', \"apple event\").str.replace('applespecialevent', \"apple special event\")\n",
        "test['clean_tweet']=test['clean_tweet'].str.replace('iphoneonly',\"iphone\").str.replace('iphonesia', \"iphone\").str.replace('iphonex', \"iphone\").str.replace('goodvibes',\"good vibes\").str.replace('positivevibes', \"positive vibes\").str.replace('hateitunes', \"hate itunes\").str.replace('samsungblast', \"samsung blast\").str.replace('appleevent', \"apple event\").str.replace('applespecialevent', \"apple special event\")\n",
        "\n",
        "# remove special characters, numbers, punctuations\n",
        "train['clean_tweet']=train['clean_tweet'].str.replace('swagswagswag', \"swag\").str.replace('appleisbest', \"apple is best\").str.replace('iphoneapps', \"iphone apps\").str.replace('iphonegraphy', \"iphone\")\n",
        "test['clean_tweet']=test['clean_tweet'].str.replace('swagswagswag',\"swag\").str.replace('appleisbest', \"apple is best\").str.replace('iphoneapps', \"iphone apps\").str.replace('iphonegraphy', \"iphone\").str.replace('kissromancehotmovieiphonesexporn', \"iphone\")\n",
        "\n",
        "#Removing Short Words\n",
        "train['clean_tweet'] = train['clean_tweet'].apply(lambda x: ' '.join([w for w in x.split() if len(w)>3]))\n",
        "test['clean_tweet'] = test['clean_tweet'].apply(lambda x: ' '.join([w for w in x.split() if len(w)>3]))"
      ],
      "execution_count": 0,
      "outputs": []
    },
    {
      "cell_type": "code",
      "metadata": {
        "id": "RWt7UEoc1Hpa",
        "colab_type": "code",
        "colab": {}
      },
      "source": [
        "X=train['clean_tweet'].values\n",
        "y=train['label'].values"
      ],
      "execution_count": 0,
      "outputs": []
    },
    {
      "cell_type": "code",
      "metadata": {
        "id": "fpRFHcFc-Bgn",
        "colab_type": "code",
        "colab": {}
      },
      "source": [
        "from sklearn.model_selection import train_test_split\n",
        "X_train,X_valid,y_train,y_valid=train_test_split(X,y,test_size=0.20,random_state=42)"
      ],
      "execution_count": 0,
      "outputs": []
    },
    {
      "cell_type": "code",
      "metadata": {
        "id": "T6HeTyv1-7xS",
        "colab_type": "code",
        "colab": {}
      },
      "source": [
        "#pretrained a model\n",
        "embedding=\"https://tfhub.dev/google/tf2-preview/nnlm-es-dim50-with-normalization/1\"\n",
        "hub_layer=hub.KerasLayer(embedding,input_shape=[],dtype=tf.string,trainable=True)"
      ],
      "execution_count": 0,
      "outputs": []
    },
    {
      "cell_type": "code",
      "metadata": {
        "id": "9znQf4tkRZ68",
        "colab_type": "code",
        "colab": {}
      },
      "source": [
        "X_train=hub_layer(X_train)\n",
        "X_valid=hub_layer(X_valid)"
      ],
      "execution_count": 0,
      "outputs": []
    },
    {
      "cell_type": "code",
      "metadata": {
        "id": "tfdaeV_0DNGG",
        "colab_type": "code",
        "outputId": "ec89873c-7562-4bc7-d440-3c0c1a9a2833",
        "colab": {
          "base_uri": "https://localhost:8080/",
          "height": 289
        }
      },
      "source": [
        "l2_model=keras.models.Sequential()\n",
        "l2_model.add(hub_layer)\n",
        "l2_model.add(keras.layers.Dense(32,kernel_regularizer=keras.regularizers.l2(0.001),activation='relu'))\n",
        "l2_model.add(keras.layers.Dropout(0.5))\n",
        "l2_model.add(keras.layers.Dense(1,activation='sigmoid'))\n",
        "\n",
        "l2_model.compile(loss='binary_crossentropy',\n",
        "                      optimizer='adam',\n",
        "                      metrics=['accuracy'])\n",
        "\n",
        "l2_model.summary()"
      ],
      "execution_count": 0,
      "outputs": [
        {
          "output_type": "stream",
          "text": [
            "Model: \"sequential_2\"\n",
            "_________________________________________________________________\n",
            "Layer (type)                 Output Shape              Param #   \n",
            "=================================================================\n",
            "keras_layer (KerasLayer)     (None, 50)                48832000  \n",
            "_________________________________________________________________\n",
            "dense_6 (Dense)              (None, 32)                1632      \n",
            "_________________________________________________________________\n",
            "dropout_4 (Dropout)          (None, 32)                0         \n",
            "_________________________________________________________________\n",
            "dense_7 (Dense)              (None, 1)                 33        \n",
            "=================================================================\n",
            "Total params: 48,833,665\n",
            "Trainable params: 48,833,665\n",
            "Non-trainable params: 0\n",
            "_________________________________________________________________\n"
          ],
          "name": "stdout"
        }
      ]
    },
    {
      "cell_type": "code",
      "metadata": {
        "id": "HnCX8Z8pEFkG",
        "colab_type": "code",
        "outputId": "ad3f0973-bda3-4881-99af-2d2c38c35ed8",
        "colab": {
          "base_uri": "https://localhost:8080/",
          "height": 224
        }
      },
      "source": [
        "l2_model.fit(X_train,y_train,epochs=5,batch_size=128,validation_split=0.2)"
      ],
      "execution_count": 0,
      "outputs": [
        {
          "output_type": "stream",
          "text": [
            "Epoch 1/5\n",
            "45/45 [==============================] - 2s 35ms/step - loss: 0.4850 - accuracy: 0.8127 - val_loss: 0.4004 - val_accuracy: 0.8345\n",
            "Epoch 2/5\n",
            "45/45 [==============================] - 1s 32ms/step - loss: 0.2486 - accuracy: 0.9526 - val_loss: 0.3274 - val_accuracy: 0.8710\n",
            "Epoch 3/5\n",
            "45/45 [==============================] - 1s 32ms/step - loss: 0.1542 - accuracy: 0.9753 - val_loss: 0.3378 - val_accuracy: 0.8717\n",
            "Epoch 4/5\n",
            "45/45 [==============================] - 1s 32ms/step - loss: 0.1233 - accuracy: 0.9823 - val_loss: 0.3683 - val_accuracy: 0.8675\n",
            "Epoch 5/5\n",
            "45/45 [==============================] - 1s 32ms/step - loss: 0.1044 - accuracy: 0.9842 - val_loss: 0.3902 - val_accuracy: 0.8696\n"
          ],
          "name": "stdout"
        },
        {
          "output_type": "execute_result",
          "data": {
            "text/plain": [
              "<tensorflow.python.keras.callbacks.History at 0x7f3c9a6bb8d0>"
            ]
          },
          "metadata": {
            "tags": []
          },
          "execution_count": 12
        }
      ]
    },
    {
      "cell_type": "code",
      "metadata": {
        "id": "UJ5pXtRIEUXR",
        "colab_type": "code",
        "outputId": "0b64be06-6c7a-4533-dc95-b7e5f068d6bf",
        "colab": {
          "base_uri": "https://localhost:8080/",
          "height": 51
        }
      },
      "source": [
        "l2_model.evaluate(X_valid,y_valid)"
      ],
      "execution_count": 0,
      "outputs": [
        {
          "output_type": "stream",
          "text": [
            "25/25 [==============================] - 0s 4ms/step - loss: 0.3160 - accuracy: 0.8927\n"
          ],
          "name": "stdout"
        },
        {
          "output_type": "execute_result",
          "data": {
            "text/plain": [
              "[0.3160145580768585, 0.8926767706871033]"
            ]
          },
          "metadata": {
            "tags": []
          },
          "execution_count": 13
        }
      ]
    },
    {
      "cell_type": "code",
      "metadata": {
        "id": "AoE1QZG6LiHS",
        "colab_type": "code",
        "colab": {}
      },
      "source": [
        "k=l2_model.predict(test['clean_tweet'])"
      ],
      "execution_count": 0,
      "outputs": []
    },
    {
      "cell_type": "code",
      "metadata": {
        "id": "dq8XnuwHMOgu",
        "colab_type": "code",
        "colab": {}
      },
      "source": [
        "actual=np.where(k>=0.5,1,0)"
      ],
      "execution_count": 0,
      "outputs": []
    },
    {
      "cell_type": "code",
      "metadata": {
        "id": "C5Yq0-x4L_SG",
        "colab_type": "code",
        "colab": {}
      },
      "source": [
        "submission=pd.DataFrame()\n",
        "submission['id']=test['id']\n",
        "submission['label']=actual"
      ],
      "execution_count": 0,
      "outputs": []
    },
    {
      "cell_type": "code",
      "metadata": {
        "id": "fKR73GxBMVuD",
        "colab_type": "code",
        "outputId": "412decb5-82be-4d9a-c3d5-fc523f4e7707",
        "colab": {
          "base_uri": "https://localhost:8080/",
          "height": 204
        }
      },
      "source": [
        "submission.head()"
      ],
      "execution_count": 0,
      "outputs": [
        {
          "output_type": "execute_result",
          "data": {
            "text/html": [
              "<div>\n",
              "<style scoped>\n",
              "    .dataframe tbody tr th:only-of-type {\n",
              "        vertical-align: middle;\n",
              "    }\n",
              "\n",
              "    .dataframe tbody tr th {\n",
              "        vertical-align: top;\n",
              "    }\n",
              "\n",
              "    .dataframe thead th {\n",
              "        text-align: right;\n",
              "    }\n",
              "</style>\n",
              "<table border=\"1\" class=\"dataframe\">\n",
              "  <thead>\n",
              "    <tr style=\"text-align: right;\">\n",
              "      <th></th>\n",
              "      <th>id</th>\n",
              "      <th>label</th>\n",
              "    </tr>\n",
              "  </thead>\n",
              "  <tbody>\n",
              "    <tr>\n",
              "      <th>0</th>\n",
              "      <td>7921</td>\n",
              "      <td>1</td>\n",
              "    </tr>\n",
              "    <tr>\n",
              "      <th>1</th>\n",
              "      <td>7922</td>\n",
              "      <td>1</td>\n",
              "    </tr>\n",
              "    <tr>\n",
              "      <th>2</th>\n",
              "      <td>7923</td>\n",
              "      <td>1</td>\n",
              "    </tr>\n",
              "    <tr>\n",
              "      <th>3</th>\n",
              "      <td>7924</td>\n",
              "      <td>1</td>\n",
              "    </tr>\n",
              "    <tr>\n",
              "      <th>4</th>\n",
              "      <td>7925</td>\n",
              "      <td>1</td>\n",
              "    </tr>\n",
              "  </tbody>\n",
              "</table>\n",
              "</div>"
            ],
            "text/plain": [
              "     id  label\n",
              "0  7921      1\n",
              "1  7922      1\n",
              "2  7923      1\n",
              "3  7924      1\n",
              "4  7925      1"
            ]
          },
          "metadata": {
            "tags": []
          },
          "execution_count": 28
        }
      ]
    },
    {
      "cell_type": "code",
      "metadata": {
        "id": "qSibZOEwMYk_",
        "colab_type": "code",
        "colab": {}
      },
      "source": [
        "submission.to_csv('sample_01.csv',index=False)"
      ],
      "execution_count": 0,
      "outputs": []
    }
  ]
}