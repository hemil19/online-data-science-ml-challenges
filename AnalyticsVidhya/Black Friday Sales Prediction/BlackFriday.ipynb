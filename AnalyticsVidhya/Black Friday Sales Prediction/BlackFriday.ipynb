{
  "nbformat": 4,
  "nbformat_minor": 0,
  "metadata": {
    "colab": {
      "name": "BlackFriday.ipynb",
      "provenance": [],
      "authorship_tag": "ABX9TyMr5XuUabfQMzA/ZP0in7gn",
      "include_colab_link": true
    },
    "kernelspec": {
      "name": "python3",
      "display_name": "Python 3"
    },
    "accelerator": "GPU"
  },
  "cells": [
    {
      "cell_type": "markdown",
      "metadata": {
        "id": "view-in-github",
        "colab_type": "text"
      },
      "source": [
        "<a href=\"https://colab.research.google.com/github/hemil19/online-data-science-ml-challenges/blob/master/AnalyticsVidhya/Black%20Friday%20Sales%20Prediction/BlackFriday.ipynb\" target=\"_parent\"><img src=\"https://colab.research.google.com/assets/colab-badge.svg\" alt=\"Open In Colab\"/></a>"
      ]
    },
    {
      "cell_type": "code",
      "metadata": {
        "id": "a_PPokuB169C",
        "colab_type": "code",
        "colab": {}
      },
      "source": [
        "import pandas as pd\n",
        "import numpy as np\n",
        "import matplotlib.pyplot as plt\n",
        "%matplotlib inline"
      ],
      "execution_count": null,
      "outputs": []
    },
    {
      "cell_type": "code",
      "metadata": {
        "id": "ni9AGS3b2V80",
        "colab_type": "code",
        "colab": {}
      },
      "source": [
        "train=pd.read_csv('/content/train.csv')\n",
        "test=pd.read_csv('/content/test.csv')"
      ],
      "execution_count": null,
      "outputs": []
    },
    {
      "cell_type": "code",
      "metadata": {
        "id": "BIu_4_0l2nN3",
        "colab_type": "code",
        "colab": {
          "base_uri": "https://localhost:8080/"
        },
        "outputId": "2893882a-4427-48e8-b486-6fcdf1bd0288"
      },
      "source": [
        "train.head()"
      ],
      "execution_count": null,
      "outputs": [
        {
          "output_type": "execute_result",
          "data": {
            "text/html": [
              "<div>\n",
              "<style scoped>\n",
              "    .dataframe tbody tr th:only-of-type {\n",
              "        vertical-align: middle;\n",
              "    }\n",
              "\n",
              "    .dataframe tbody tr th {\n",
              "        vertical-align: top;\n",
              "    }\n",
              "\n",
              "    .dataframe thead th {\n",
              "        text-align: right;\n",
              "    }\n",
              "</style>\n",
              "<table border=\"1\" class=\"dataframe\">\n",
              "  <thead>\n",
              "    <tr style=\"text-align: right;\">\n",
              "      <th></th>\n",
              "      <th>User_ID</th>\n",
              "      <th>Product_ID</th>\n",
              "      <th>Gender</th>\n",
              "      <th>Age</th>\n",
              "      <th>Occupation</th>\n",
              "      <th>City_Category</th>\n",
              "      <th>Stay_In_Current_City_Years</th>\n",
              "      <th>Marital_Status</th>\n",
              "      <th>Product_Category_1</th>\n",
              "      <th>Product_Category_2</th>\n",
              "      <th>Product_Category_3</th>\n",
              "      <th>Purchase</th>\n",
              "    </tr>\n",
              "  </thead>\n",
              "  <tbody>\n",
              "    <tr>\n",
              "      <th>0</th>\n",
              "      <td>1000001</td>\n",
              "      <td>P00069042</td>\n",
              "      <td>F</td>\n",
              "      <td>0-17</td>\n",
              "      <td>10</td>\n",
              "      <td>A</td>\n",
              "      <td>2</td>\n",
              "      <td>0</td>\n",
              "      <td>3</td>\n",
              "      <td>NaN</td>\n",
              "      <td>NaN</td>\n",
              "      <td>8370</td>\n",
              "    </tr>\n",
              "    <tr>\n",
              "      <th>1</th>\n",
              "      <td>1000001</td>\n",
              "      <td>P00248942</td>\n",
              "      <td>F</td>\n",
              "      <td>0-17</td>\n",
              "      <td>10</td>\n",
              "      <td>A</td>\n",
              "      <td>2</td>\n",
              "      <td>0</td>\n",
              "      <td>1</td>\n",
              "      <td>6.0</td>\n",
              "      <td>14.0</td>\n",
              "      <td>15200</td>\n",
              "    </tr>\n",
              "    <tr>\n",
              "      <th>2</th>\n",
              "      <td>1000001</td>\n",
              "      <td>P00087842</td>\n",
              "      <td>F</td>\n",
              "      <td>0-17</td>\n",
              "      <td>10</td>\n",
              "      <td>A</td>\n",
              "      <td>2</td>\n",
              "      <td>0</td>\n",
              "      <td>12</td>\n",
              "      <td>NaN</td>\n",
              "      <td>NaN</td>\n",
              "      <td>1422</td>\n",
              "    </tr>\n",
              "    <tr>\n",
              "      <th>3</th>\n",
              "      <td>1000001</td>\n",
              "      <td>P00085442</td>\n",
              "      <td>F</td>\n",
              "      <td>0-17</td>\n",
              "      <td>10</td>\n",
              "      <td>A</td>\n",
              "      <td>2</td>\n",
              "      <td>0</td>\n",
              "      <td>12</td>\n",
              "      <td>14.0</td>\n",
              "      <td>NaN</td>\n",
              "      <td>1057</td>\n",
              "    </tr>\n",
              "    <tr>\n",
              "      <th>4</th>\n",
              "      <td>1000002</td>\n",
              "      <td>P00285442</td>\n",
              "      <td>M</td>\n",
              "      <td>55+</td>\n",
              "      <td>16</td>\n",
              "      <td>C</td>\n",
              "      <td>4+</td>\n",
              "      <td>0</td>\n",
              "      <td>8</td>\n",
              "      <td>NaN</td>\n",
              "      <td>NaN</td>\n",
              "      <td>7969</td>\n",
              "    </tr>\n",
              "  </tbody>\n",
              "</table>\n",
              "</div>"
            ],
            "text/plain": [
              "   User_ID Product_ID Gender  ... Product_Category_2  Product_Category_3 Purchase\n",
              "0  1000001  P00069042      F  ...                NaN                 NaN     8370\n",
              "1  1000001  P00248942      F  ...                6.0                14.0    15200\n",
              "2  1000001  P00087842      F  ...                NaN                 NaN     1422\n",
              "3  1000001  P00085442      F  ...               14.0                 NaN     1057\n",
              "4  1000002  P00285442      M  ...                NaN                 NaN     7969\n",
              "\n",
              "[5 rows x 12 columns]"
            ]
          },
          "metadata": {
            "tags": []
          },
          "execution_count": 3
        }
      ]
    },
    {
      "cell_type": "code",
      "metadata": {
        "id": "wwpSRTT52uCv",
        "colab_type": "code",
        "colab": {
          "base_uri": "https://localhost:8080/",
          "height": 309
        },
        "outputId": "873d5ea3-d9cd-44fc-da90-3cf2e52e928c"
      },
      "source": [
        "test.head()"
      ],
      "execution_count": null,
      "outputs": [
        {
          "output_type": "execute_result",
          "data": {
            "text/html": [
              "<div>\n",
              "<style scoped>\n",
              "    .dataframe tbody tr th:only-of-type {\n",
              "        vertical-align: middle;\n",
              "    }\n",
              "\n",
              "    .dataframe tbody tr th {\n",
              "        vertical-align: top;\n",
              "    }\n",
              "\n",
              "    .dataframe thead th {\n",
              "        text-align: right;\n",
              "    }\n",
              "</style>\n",
              "<table border=\"1\" class=\"dataframe\">\n",
              "  <thead>\n",
              "    <tr style=\"text-align: right;\">\n",
              "      <th></th>\n",
              "      <th>User_ID</th>\n",
              "      <th>Product_ID</th>\n",
              "      <th>Gender</th>\n",
              "      <th>Age</th>\n",
              "      <th>Occupation</th>\n",
              "      <th>City_Category</th>\n",
              "      <th>Stay_In_Current_City_Years</th>\n",
              "      <th>Marital_Status</th>\n",
              "      <th>Product_Category_1</th>\n",
              "      <th>Product_Category_2</th>\n",
              "      <th>Product_Category_3</th>\n",
              "    </tr>\n",
              "  </thead>\n",
              "  <tbody>\n",
              "    <tr>\n",
              "      <th>0</th>\n",
              "      <td>1000004</td>\n",
              "      <td>P00128942</td>\n",
              "      <td>M</td>\n",
              "      <td>46-50</td>\n",
              "      <td>7</td>\n",
              "      <td>B</td>\n",
              "      <td>2</td>\n",
              "      <td>1</td>\n",
              "      <td>1</td>\n",
              "      <td>11.0</td>\n",
              "      <td>NaN</td>\n",
              "    </tr>\n",
              "    <tr>\n",
              "      <th>1</th>\n",
              "      <td>1000009</td>\n",
              "      <td>P00113442</td>\n",
              "      <td>M</td>\n",
              "      <td>26-35</td>\n",
              "      <td>17</td>\n",
              "      <td>C</td>\n",
              "      <td>0</td>\n",
              "      <td>0</td>\n",
              "      <td>3</td>\n",
              "      <td>5.0</td>\n",
              "      <td>NaN</td>\n",
              "    </tr>\n",
              "    <tr>\n",
              "      <th>2</th>\n",
              "      <td>1000010</td>\n",
              "      <td>P00288442</td>\n",
              "      <td>F</td>\n",
              "      <td>36-45</td>\n",
              "      <td>1</td>\n",
              "      <td>B</td>\n",
              "      <td>4+</td>\n",
              "      <td>1</td>\n",
              "      <td>5</td>\n",
              "      <td>14.0</td>\n",
              "      <td>NaN</td>\n",
              "    </tr>\n",
              "    <tr>\n",
              "      <th>3</th>\n",
              "      <td>1000010</td>\n",
              "      <td>P00145342</td>\n",
              "      <td>F</td>\n",
              "      <td>36-45</td>\n",
              "      <td>1</td>\n",
              "      <td>B</td>\n",
              "      <td>4+</td>\n",
              "      <td>1</td>\n",
              "      <td>4</td>\n",
              "      <td>9.0</td>\n",
              "      <td>NaN</td>\n",
              "    </tr>\n",
              "    <tr>\n",
              "      <th>4</th>\n",
              "      <td>1000011</td>\n",
              "      <td>P00053842</td>\n",
              "      <td>F</td>\n",
              "      <td>26-35</td>\n",
              "      <td>1</td>\n",
              "      <td>C</td>\n",
              "      <td>1</td>\n",
              "      <td>0</td>\n",
              "      <td>4</td>\n",
              "      <td>5.0</td>\n",
              "      <td>12.0</td>\n",
              "    </tr>\n",
              "  </tbody>\n",
              "</table>\n",
              "</div>"
            ],
            "text/plain": [
              "   User_ID Product_ID  ... Product_Category_2 Product_Category_3\n",
              "0  1000004  P00128942  ...               11.0                NaN\n",
              "1  1000009  P00113442  ...                5.0                NaN\n",
              "2  1000010  P00288442  ...               14.0                NaN\n",
              "3  1000010  P00145342  ...                9.0                NaN\n",
              "4  1000011  P00053842  ...                5.0               12.0\n",
              "\n",
              "[5 rows x 11 columns]"
            ]
          },
          "metadata": {
            "tags": []
          },
          "execution_count": 4
        }
      ]
    },
    {
      "cell_type": "code",
      "metadata": {
        "id": "FCB2rhW92va8",
        "colab_type": "code",
        "colab": {
          "base_uri": "https://localhost:8080/",
          "height": 34
        },
        "outputId": "d5792d45-3f36-42e7-bbdb-335bb7b90098"
      },
      "source": [
        "train.shape,test.shape"
      ],
      "execution_count": null,
      "outputs": [
        {
          "output_type": "execute_result",
          "data": {
            "text/plain": [
              "((550068, 12), (233599, 11))"
            ]
          },
          "metadata": {
            "tags": []
          },
          "execution_count": 5
        }
      ]
    },
    {
      "cell_type": "code",
      "metadata": {
        "id": "vYkT1S-c2oyp",
        "colab_type": "code",
        "colab": {
          "base_uri": "https://localhost:8080/",
          "height": 238
        },
        "outputId": "0746b4e8-311c-4565-f461-00279abaa43d"
      },
      "source": [
        "train.isnull().sum()"
      ],
      "execution_count": null,
      "outputs": [
        {
          "output_type": "execute_result",
          "data": {
            "text/plain": [
              "User_ID                            0\n",
              "Product_ID                         0\n",
              "Gender                             0\n",
              "Age                                0\n",
              "Occupation                         0\n",
              "City_Category                      0\n",
              "Stay_In_Current_City_Years         0\n",
              "Marital_Status                     0\n",
              "Product_Category_1                 0\n",
              "Product_Category_2            173638\n",
              "Product_Category_3            383247\n",
              "Purchase                           0\n",
              "dtype: int64"
            ]
          },
          "metadata": {
            "tags": []
          },
          "execution_count": 6
        }
      ]
    },
    {
      "cell_type": "code",
      "metadata": {
        "id": "CEZaqGsx2rbg",
        "colab_type": "code",
        "colab": {
          "base_uri": "https://localhost:8080/",
          "height": 221
        },
        "outputId": "509ca3f7-5fe0-4245-e947-d2cbb36202e9"
      },
      "source": [
        "test.isnull().sum()"
      ],
      "execution_count": null,
      "outputs": [
        {
          "output_type": "execute_result",
          "data": {
            "text/plain": [
              "User_ID                            0\n",
              "Product_ID                         0\n",
              "Gender                             0\n",
              "Age                                0\n",
              "Occupation                         0\n",
              "City_Category                      0\n",
              "Stay_In_Current_City_Years         0\n",
              "Marital_Status                     0\n",
              "Product_Category_1                 0\n",
              "Product_Category_2             72344\n",
              "Product_Category_3            162562\n",
              "dtype: int64"
            ]
          },
          "metadata": {
            "tags": []
          },
          "execution_count": 7
        }
      ]
    },
    {
      "cell_type": "code",
      "metadata": {
        "id": "b8v42MUI4Lx0",
        "colab_type": "code",
        "colab": {
          "base_uri": "https://localhost:8080/",
          "height": 292
        },
        "outputId": "6e489fe3-3c69-4b3e-dab8-d791b27c48a1"
      },
      "source": [
        "combine=train.append(test)\n",
        "combine.head()"
      ],
      "execution_count": null,
      "outputs": [
        {
          "output_type": "execute_result",
          "data": {
            "text/html": [
              "<div>\n",
              "<style scoped>\n",
              "    .dataframe tbody tr th:only-of-type {\n",
              "        vertical-align: middle;\n",
              "    }\n",
              "\n",
              "    .dataframe tbody tr th {\n",
              "        vertical-align: top;\n",
              "    }\n",
              "\n",
              "    .dataframe thead th {\n",
              "        text-align: right;\n",
              "    }\n",
              "</style>\n",
              "<table border=\"1\" class=\"dataframe\">\n",
              "  <thead>\n",
              "    <tr style=\"text-align: right;\">\n",
              "      <th></th>\n",
              "      <th>User_ID</th>\n",
              "      <th>Product_ID</th>\n",
              "      <th>Gender</th>\n",
              "      <th>Age</th>\n",
              "      <th>Occupation</th>\n",
              "      <th>City_Category</th>\n",
              "      <th>Stay_In_Current_City_Years</th>\n",
              "      <th>Marital_Status</th>\n",
              "      <th>Product_Category_1</th>\n",
              "      <th>Product_Category_2</th>\n",
              "      <th>Product_Category_3</th>\n",
              "      <th>Purchase</th>\n",
              "    </tr>\n",
              "  </thead>\n",
              "  <tbody>\n",
              "    <tr>\n",
              "      <th>0</th>\n",
              "      <td>1000001</td>\n",
              "      <td>P00069042</td>\n",
              "      <td>F</td>\n",
              "      <td>0-17</td>\n",
              "      <td>10</td>\n",
              "      <td>A</td>\n",
              "      <td>2</td>\n",
              "      <td>0</td>\n",
              "      <td>3</td>\n",
              "      <td>NaN</td>\n",
              "      <td>NaN</td>\n",
              "      <td>8370.0</td>\n",
              "    </tr>\n",
              "    <tr>\n",
              "      <th>1</th>\n",
              "      <td>1000001</td>\n",
              "      <td>P00248942</td>\n",
              "      <td>F</td>\n",
              "      <td>0-17</td>\n",
              "      <td>10</td>\n",
              "      <td>A</td>\n",
              "      <td>2</td>\n",
              "      <td>0</td>\n",
              "      <td>1</td>\n",
              "      <td>6.0</td>\n",
              "      <td>14.0</td>\n",
              "      <td>15200.0</td>\n",
              "    </tr>\n",
              "    <tr>\n",
              "      <th>2</th>\n",
              "      <td>1000001</td>\n",
              "      <td>P00087842</td>\n",
              "      <td>F</td>\n",
              "      <td>0-17</td>\n",
              "      <td>10</td>\n",
              "      <td>A</td>\n",
              "      <td>2</td>\n",
              "      <td>0</td>\n",
              "      <td>12</td>\n",
              "      <td>NaN</td>\n",
              "      <td>NaN</td>\n",
              "      <td>1422.0</td>\n",
              "    </tr>\n",
              "    <tr>\n",
              "      <th>3</th>\n",
              "      <td>1000001</td>\n",
              "      <td>P00085442</td>\n",
              "      <td>F</td>\n",
              "      <td>0-17</td>\n",
              "      <td>10</td>\n",
              "      <td>A</td>\n",
              "      <td>2</td>\n",
              "      <td>0</td>\n",
              "      <td>12</td>\n",
              "      <td>14.0</td>\n",
              "      <td>NaN</td>\n",
              "      <td>1057.0</td>\n",
              "    </tr>\n",
              "    <tr>\n",
              "      <th>4</th>\n",
              "      <td>1000002</td>\n",
              "      <td>P00285442</td>\n",
              "      <td>M</td>\n",
              "      <td>55+</td>\n",
              "      <td>16</td>\n",
              "      <td>C</td>\n",
              "      <td>4+</td>\n",
              "      <td>0</td>\n",
              "      <td>8</td>\n",
              "      <td>NaN</td>\n",
              "      <td>NaN</td>\n",
              "      <td>7969.0</td>\n",
              "    </tr>\n",
              "  </tbody>\n",
              "</table>\n",
              "</div>"
            ],
            "text/plain": [
              "   User_ID Product_ID Gender  ... Product_Category_2  Product_Category_3 Purchase\n",
              "0  1000001  P00069042      F  ...                NaN                 NaN   8370.0\n",
              "1  1000001  P00248942      F  ...                6.0                14.0  15200.0\n",
              "2  1000001  P00087842      F  ...                NaN                 NaN   1422.0\n",
              "3  1000001  P00085442      F  ...               14.0                 NaN   1057.0\n",
              "4  1000002  P00285442      M  ...                NaN                 NaN   7969.0\n",
              "\n",
              "[5 rows x 12 columns]"
            ]
          },
          "metadata": {
            "tags": []
          },
          "execution_count": 8
        }
      ]
    },
    {
      "cell_type": "code",
      "metadata": {
        "id": "eI1dlVs54gdA",
        "colab_type": "code",
        "colab": {
          "base_uri": "https://localhost:8080/",
          "height": 34
        },
        "outputId": "2031018b-269c-43b6-c888-91d39b1ac925"
      },
      "source": [
        "combine.shape"
      ],
      "execution_count": null,
      "outputs": [
        {
          "output_type": "execute_result",
          "data": {
            "text/plain": [
              "(783667, 12)"
            ]
          },
          "metadata": {
            "tags": []
          },
          "execution_count": 9
        }
      ]
    },
    {
      "cell_type": "code",
      "metadata": {
        "id": "EbrjK7AR4Tmz",
        "colab_type": "code",
        "colab": {}
      },
      "source": [
        "total_product_buys=combine.groupby('User_ID')['Product_ID'].count()"
      ],
      "execution_count": null,
      "outputs": []
    },
    {
      "cell_type": "code",
      "metadata": {
        "id": "BBzNs2hd41y_",
        "colab_type": "code",
        "colab": {}
      },
      "source": [
        "dict={}\n",
        "for i in range(0,5891):\n",
        "  dict[total_product_buys.keys()[i]]=total_product_buys.values[i]"
      ],
      "execution_count": null,
      "outputs": []
    },
    {
      "cell_type": "code",
      "metadata": {
        "id": "S2YthQC-6D5u",
        "colab_type": "code",
        "colab": {}
      },
      "source": [
        "del total_product_buys"
      ],
      "execution_count": null,
      "outputs": []
    },
    {
      "cell_type": "code",
      "metadata": {
        "id": "RKPuKS_y4i3S",
        "colab_type": "code",
        "colab": {}
      },
      "source": [
        "total_product_buys=[]\n",
        "for i in combine['User_ID']:\n",
        "  total_product_buys.append(dict[i])"
      ],
      "execution_count": null,
      "outputs": []
    },
    {
      "cell_type": "code",
      "metadata": {
        "id": "0IUzjNjl6Q2H",
        "colab_type": "code",
        "colab": {
          "base_uri": "https://localhost:8080/",
          "height": 34
        },
        "outputId": "86f8b8e5-6ee1-4063-ed6c-722993124de3"
      },
      "source": [
        "len(total_product_buys)"
      ],
      "execution_count": null,
      "outputs": [
        {
          "output_type": "execute_result",
          "data": {
            "text/plain": [
              "783667"
            ]
          },
          "metadata": {
            "tags": []
          },
          "execution_count": 14
        }
      ]
    },
    {
      "cell_type": "code",
      "metadata": {
        "id": "CFr-9reP6SbP",
        "colab_type": "code",
        "colab": {}
      },
      "source": [
        "combine['totalproductsbuys']=total_product_buys"
      ],
      "execution_count": null,
      "outputs": []
    },
    {
      "cell_type": "code",
      "metadata": {
        "id": "wqabLIyl6Z5j",
        "colab_type": "code",
        "colab": {
          "base_uri": "https://localhost:8080/",
          "height": 292
        },
        "outputId": "4687d6ca-b06d-4a91-fa15-1ee71ea2af7a"
      },
      "source": [
        "combine.head()"
      ],
      "execution_count": null,
      "outputs": [
        {
          "output_type": "execute_result",
          "data": {
            "text/html": [
              "<div>\n",
              "<style scoped>\n",
              "    .dataframe tbody tr th:only-of-type {\n",
              "        vertical-align: middle;\n",
              "    }\n",
              "\n",
              "    .dataframe tbody tr th {\n",
              "        vertical-align: top;\n",
              "    }\n",
              "\n",
              "    .dataframe thead th {\n",
              "        text-align: right;\n",
              "    }\n",
              "</style>\n",
              "<table border=\"1\" class=\"dataframe\">\n",
              "  <thead>\n",
              "    <tr style=\"text-align: right;\">\n",
              "      <th></th>\n",
              "      <th>User_ID</th>\n",
              "      <th>Product_ID</th>\n",
              "      <th>Gender</th>\n",
              "      <th>Age</th>\n",
              "      <th>Occupation</th>\n",
              "      <th>City_Category</th>\n",
              "      <th>Stay_In_Current_City_Years</th>\n",
              "      <th>Marital_Status</th>\n",
              "      <th>Product_Category_1</th>\n",
              "      <th>Product_Category_2</th>\n",
              "      <th>Product_Category_3</th>\n",
              "      <th>Purchase</th>\n",
              "      <th>totalproductsbuys</th>\n",
              "    </tr>\n",
              "  </thead>\n",
              "  <tbody>\n",
              "    <tr>\n",
              "      <th>0</th>\n",
              "      <td>1000001</td>\n",
              "      <td>P00069042</td>\n",
              "      <td>F</td>\n",
              "      <td>0-17</td>\n",
              "      <td>10</td>\n",
              "      <td>A</td>\n",
              "      <td>2</td>\n",
              "      <td>0</td>\n",
              "      <td>3</td>\n",
              "      <td>NaN</td>\n",
              "      <td>NaN</td>\n",
              "      <td>8370.0</td>\n",
              "      <td>47</td>\n",
              "    </tr>\n",
              "    <tr>\n",
              "      <th>1</th>\n",
              "      <td>1000001</td>\n",
              "      <td>P00248942</td>\n",
              "      <td>F</td>\n",
              "      <td>0-17</td>\n",
              "      <td>10</td>\n",
              "      <td>A</td>\n",
              "      <td>2</td>\n",
              "      <td>0</td>\n",
              "      <td>1</td>\n",
              "      <td>6.0</td>\n",
              "      <td>14.0</td>\n",
              "      <td>15200.0</td>\n",
              "      <td>47</td>\n",
              "    </tr>\n",
              "    <tr>\n",
              "      <th>2</th>\n",
              "      <td>1000001</td>\n",
              "      <td>P00087842</td>\n",
              "      <td>F</td>\n",
              "      <td>0-17</td>\n",
              "      <td>10</td>\n",
              "      <td>A</td>\n",
              "      <td>2</td>\n",
              "      <td>0</td>\n",
              "      <td>12</td>\n",
              "      <td>NaN</td>\n",
              "      <td>NaN</td>\n",
              "      <td>1422.0</td>\n",
              "      <td>47</td>\n",
              "    </tr>\n",
              "    <tr>\n",
              "      <th>3</th>\n",
              "      <td>1000001</td>\n",
              "      <td>P00085442</td>\n",
              "      <td>F</td>\n",
              "      <td>0-17</td>\n",
              "      <td>10</td>\n",
              "      <td>A</td>\n",
              "      <td>2</td>\n",
              "      <td>0</td>\n",
              "      <td>12</td>\n",
              "      <td>14.0</td>\n",
              "      <td>NaN</td>\n",
              "      <td>1057.0</td>\n",
              "      <td>47</td>\n",
              "    </tr>\n",
              "    <tr>\n",
              "      <th>4</th>\n",
              "      <td>1000002</td>\n",
              "      <td>P00285442</td>\n",
              "      <td>M</td>\n",
              "      <td>55+</td>\n",
              "      <td>16</td>\n",
              "      <td>C</td>\n",
              "      <td>4+</td>\n",
              "      <td>0</td>\n",
              "      <td>8</td>\n",
              "      <td>NaN</td>\n",
              "      <td>NaN</td>\n",
              "      <td>7969.0</td>\n",
              "      <td>107</td>\n",
              "    </tr>\n",
              "  </tbody>\n",
              "</table>\n",
              "</div>"
            ],
            "text/plain": [
              "   User_ID Product_ID Gender  ... Product_Category_3  Purchase totalproductsbuys\n",
              "0  1000001  P00069042      F  ...                NaN    8370.0                47\n",
              "1  1000001  P00248942      F  ...               14.0   15200.0                47\n",
              "2  1000001  P00087842      F  ...                NaN    1422.0                47\n",
              "3  1000001  P00085442      F  ...                NaN    1057.0                47\n",
              "4  1000002  P00285442      M  ...                NaN    7969.0               107\n",
              "\n",
              "[5 rows x 13 columns]"
            ]
          },
          "metadata": {
            "tags": []
          },
          "execution_count": 16
        }
      ]
    },
    {
      "cell_type": "code",
      "metadata": {
        "id": "wuLWBFlD6ij8",
        "colab_type": "code",
        "colab": {}
      },
      "source": [
        "combine['Product_Category_2'].fillna(-1,inplace=True)\n",
        "combine['Product_Category_3'].fillna(-1,inplace=True)"
      ],
      "execution_count": null,
      "outputs": []
    },
    {
      "cell_type": "code",
      "metadata": {
        "id": "ddWKKZak6bDA",
        "colab_type": "code",
        "colab": {
          "base_uri": "https://localhost:8080/",
          "height": 255
        },
        "outputId": "60d050f4-3f28-4460-93fe-4596624e6931"
      },
      "source": [
        "combine.isnull().sum()"
      ],
      "execution_count": null,
      "outputs": [
        {
          "output_type": "execute_result",
          "data": {
            "text/plain": [
              "User_ID                            0\n",
              "Product_ID                         0\n",
              "Gender                             0\n",
              "Age                                0\n",
              "Occupation                         0\n",
              "City_Category                      0\n",
              "Stay_In_Current_City_Years         0\n",
              "Marital_Status                     0\n",
              "Product_Category_1                 0\n",
              "Product_Category_2                 0\n",
              "Product_Category_3                 0\n",
              "Purchase                      233599\n",
              "totalproductsbuys                  0\n",
              "dtype: int64"
            ]
          },
          "metadata": {
            "tags": []
          },
          "execution_count": 18
        }
      ]
    },
    {
      "cell_type": "code",
      "metadata": {
        "id": "VHEOSd1B65uj",
        "colab_type": "code",
        "colab": {
          "base_uri": "https://localhost:8080/",
          "height": 292
        },
        "outputId": "ed79492a-2ab9-41ae-a3ef-91ad49e298a1"
      },
      "source": [
        "combine.head()"
      ],
      "execution_count": null,
      "outputs": [
        {
          "output_type": "execute_result",
          "data": {
            "text/html": [
              "<div>\n",
              "<style scoped>\n",
              "    .dataframe tbody tr th:only-of-type {\n",
              "        vertical-align: middle;\n",
              "    }\n",
              "\n",
              "    .dataframe tbody tr th {\n",
              "        vertical-align: top;\n",
              "    }\n",
              "\n",
              "    .dataframe thead th {\n",
              "        text-align: right;\n",
              "    }\n",
              "</style>\n",
              "<table border=\"1\" class=\"dataframe\">\n",
              "  <thead>\n",
              "    <tr style=\"text-align: right;\">\n",
              "      <th></th>\n",
              "      <th>User_ID</th>\n",
              "      <th>Product_ID</th>\n",
              "      <th>Gender</th>\n",
              "      <th>Age</th>\n",
              "      <th>Occupation</th>\n",
              "      <th>City_Category</th>\n",
              "      <th>Stay_In_Current_City_Years</th>\n",
              "      <th>Marital_Status</th>\n",
              "      <th>Product_Category_1</th>\n",
              "      <th>Product_Category_2</th>\n",
              "      <th>Product_Category_3</th>\n",
              "      <th>Purchase</th>\n",
              "      <th>totalproductsbuys</th>\n",
              "    </tr>\n",
              "  </thead>\n",
              "  <tbody>\n",
              "    <tr>\n",
              "      <th>0</th>\n",
              "      <td>1000001</td>\n",
              "      <td>P00069042</td>\n",
              "      <td>F</td>\n",
              "      <td>0-17</td>\n",
              "      <td>10</td>\n",
              "      <td>A</td>\n",
              "      <td>2</td>\n",
              "      <td>0</td>\n",
              "      <td>3</td>\n",
              "      <td>-1.0</td>\n",
              "      <td>-1.0</td>\n",
              "      <td>8370.0</td>\n",
              "      <td>47</td>\n",
              "    </tr>\n",
              "    <tr>\n",
              "      <th>1</th>\n",
              "      <td>1000001</td>\n",
              "      <td>P00248942</td>\n",
              "      <td>F</td>\n",
              "      <td>0-17</td>\n",
              "      <td>10</td>\n",
              "      <td>A</td>\n",
              "      <td>2</td>\n",
              "      <td>0</td>\n",
              "      <td>1</td>\n",
              "      <td>6.0</td>\n",
              "      <td>14.0</td>\n",
              "      <td>15200.0</td>\n",
              "      <td>47</td>\n",
              "    </tr>\n",
              "    <tr>\n",
              "      <th>2</th>\n",
              "      <td>1000001</td>\n",
              "      <td>P00087842</td>\n",
              "      <td>F</td>\n",
              "      <td>0-17</td>\n",
              "      <td>10</td>\n",
              "      <td>A</td>\n",
              "      <td>2</td>\n",
              "      <td>0</td>\n",
              "      <td>12</td>\n",
              "      <td>-1.0</td>\n",
              "      <td>-1.0</td>\n",
              "      <td>1422.0</td>\n",
              "      <td>47</td>\n",
              "    </tr>\n",
              "    <tr>\n",
              "      <th>3</th>\n",
              "      <td>1000001</td>\n",
              "      <td>P00085442</td>\n",
              "      <td>F</td>\n",
              "      <td>0-17</td>\n",
              "      <td>10</td>\n",
              "      <td>A</td>\n",
              "      <td>2</td>\n",
              "      <td>0</td>\n",
              "      <td>12</td>\n",
              "      <td>14.0</td>\n",
              "      <td>-1.0</td>\n",
              "      <td>1057.0</td>\n",
              "      <td>47</td>\n",
              "    </tr>\n",
              "    <tr>\n",
              "      <th>4</th>\n",
              "      <td>1000002</td>\n",
              "      <td>P00285442</td>\n",
              "      <td>M</td>\n",
              "      <td>55+</td>\n",
              "      <td>16</td>\n",
              "      <td>C</td>\n",
              "      <td>4+</td>\n",
              "      <td>0</td>\n",
              "      <td>8</td>\n",
              "      <td>-1.0</td>\n",
              "      <td>-1.0</td>\n",
              "      <td>7969.0</td>\n",
              "      <td>107</td>\n",
              "    </tr>\n",
              "  </tbody>\n",
              "</table>\n",
              "</div>"
            ],
            "text/plain": [
              "   User_ID Product_ID Gender  ... Product_Category_3  Purchase totalproductsbuys\n",
              "0  1000001  P00069042      F  ...               -1.0    8370.0                47\n",
              "1  1000001  P00248942      F  ...               14.0   15200.0                47\n",
              "2  1000001  P00087842      F  ...               -1.0    1422.0                47\n",
              "3  1000001  P00085442      F  ...               -1.0    1057.0                47\n",
              "4  1000002  P00285442      M  ...               -1.0    7969.0               107\n",
              "\n",
              "[5 rows x 13 columns]"
            ]
          },
          "metadata": {
            "tags": []
          },
          "execution_count": 19
        }
      ]
    },
    {
      "cell_type": "code",
      "metadata": {
        "id": "bFC9hw2T69cx",
        "colab_type": "code",
        "colab": {}
      },
      "source": [
        "from sklearn.preprocessing import LabelEncoder\n",
        "le=LabelEncoder()\n",
        "combine['Gender']=le.fit_transform(combine['Gender'])\n",
        "combine['City_Category']=le.fit_transform(combine['City_Category'])"
      ],
      "execution_count": null,
      "outputs": []
    },
    {
      "cell_type": "code",
      "metadata": {
        "id": "ONchXCs57ugK",
        "colab_type": "code",
        "colab": {}
      },
      "source": [
        "combine['Age']=combine['Age'].map({'26-35':6,'36-45':5,'18-25':4,'46-50':3,'51-55':2,'55+':1,'0-17':0})"
      ],
      "execution_count": null,
      "outputs": []
    },
    {
      "cell_type": "code",
      "metadata": {
        "id": "2janh0nL7zJt",
        "colab_type": "code",
        "colab": {}
      },
      "source": [
        "combine['Stay_In_Current_City_Years']=combine['Stay_In_Current_City_Years'].replace('4+',4)\n",
        "combine['Stay_In_Current_City_Years']=combine['Stay_In_Current_City_Years'].astype(int)"
      ],
      "execution_count": null,
      "outputs": []
    },
    {
      "cell_type": "code",
      "metadata": {
        "id": "_sDH4q-m7qpU",
        "colab_type": "code",
        "colab": {
          "base_uri": "https://localhost:8080/",
          "height": 255
        },
        "outputId": "599ab37f-66fd-4ab1-cd90-8b895947b9ff"
      },
      "source": [
        "combine.dtypes"
      ],
      "execution_count": null,
      "outputs": [
        {
          "output_type": "execute_result",
          "data": {
            "text/plain": [
              "User_ID                         int64\n",
              "Product_ID                     object\n",
              "Gender                          int64\n",
              "Age                             int64\n",
              "Occupation                      int64\n",
              "City_Category                   int64\n",
              "Stay_In_Current_City_Years      int64\n",
              "Marital_Status                  int64\n",
              "Product_Category_1              int64\n",
              "Product_Category_2            float64\n",
              "Product_Category_3            float64\n",
              "Purchase                      float64\n",
              "totalproductsbuys               int64\n",
              "dtype: object"
            ]
          },
          "metadata": {
            "tags": []
          },
          "execution_count": 23
        }
      ]
    },
    {
      "cell_type": "code",
      "metadata": {
        "id": "4DTlkj3T8YvU",
        "colab_type": "code",
        "colab": {
          "base_uri": "https://localhost:8080/",
          "height": 224
        },
        "outputId": "1810a9db-96f6-4f11-8d8b-0d316abc13b4"
      },
      "source": [
        "combine.head()"
      ],
      "execution_count": null,
      "outputs": [
        {
          "output_type": "execute_result",
          "data": {
            "text/html": [
              "<div>\n",
              "<style scoped>\n",
              "    .dataframe tbody tr th:only-of-type {\n",
              "        vertical-align: middle;\n",
              "    }\n",
              "\n",
              "    .dataframe tbody tr th {\n",
              "        vertical-align: top;\n",
              "    }\n",
              "\n",
              "    .dataframe thead th {\n",
              "        text-align: right;\n",
              "    }\n",
              "</style>\n",
              "<table border=\"1\" class=\"dataframe\">\n",
              "  <thead>\n",
              "    <tr style=\"text-align: right;\">\n",
              "      <th></th>\n",
              "      <th>User_ID</th>\n",
              "      <th>Product_ID</th>\n",
              "      <th>Gender</th>\n",
              "      <th>Age</th>\n",
              "      <th>Occupation</th>\n",
              "      <th>City_Category</th>\n",
              "      <th>Stay_In_Current_City_Years</th>\n",
              "      <th>Marital_Status</th>\n",
              "      <th>Product_Category_1</th>\n",
              "      <th>Product_Category_2</th>\n",
              "      <th>Product_Category_3</th>\n",
              "      <th>Purchase</th>\n",
              "      <th>totalproductsbuys</th>\n",
              "    </tr>\n",
              "  </thead>\n",
              "  <tbody>\n",
              "    <tr>\n",
              "      <th>0</th>\n",
              "      <td>13.815513</td>\n",
              "      <td>P00069042</td>\n",
              "      <td>0</td>\n",
              "      <td>0</td>\n",
              "      <td>10</td>\n",
              "      <td>0</td>\n",
              "      <td>2</td>\n",
              "      <td>0</td>\n",
              "      <td>3</td>\n",
              "      <td>-1.0</td>\n",
              "      <td>-1.0</td>\n",
              "      <td>8370.0</td>\n",
              "      <td>47</td>\n",
              "    </tr>\n",
              "    <tr>\n",
              "      <th>1</th>\n",
              "      <td>13.815513</td>\n",
              "      <td>P00248942</td>\n",
              "      <td>0</td>\n",
              "      <td>0</td>\n",
              "      <td>10</td>\n",
              "      <td>0</td>\n",
              "      <td>2</td>\n",
              "      <td>0</td>\n",
              "      <td>1</td>\n",
              "      <td>6.0</td>\n",
              "      <td>14.0</td>\n",
              "      <td>15200.0</td>\n",
              "      <td>47</td>\n",
              "    </tr>\n",
              "    <tr>\n",
              "      <th>2</th>\n",
              "      <td>13.815513</td>\n",
              "      <td>P00087842</td>\n",
              "      <td>0</td>\n",
              "      <td>0</td>\n",
              "      <td>10</td>\n",
              "      <td>0</td>\n",
              "      <td>2</td>\n",
              "      <td>0</td>\n",
              "      <td>12</td>\n",
              "      <td>-1.0</td>\n",
              "      <td>-1.0</td>\n",
              "      <td>1422.0</td>\n",
              "      <td>47</td>\n",
              "    </tr>\n",
              "    <tr>\n",
              "      <th>3</th>\n",
              "      <td>13.815513</td>\n",
              "      <td>P00085442</td>\n",
              "      <td>0</td>\n",
              "      <td>0</td>\n",
              "      <td>10</td>\n",
              "      <td>0</td>\n",
              "      <td>2</td>\n",
              "      <td>0</td>\n",
              "      <td>12</td>\n",
              "      <td>14.0</td>\n",
              "      <td>-1.0</td>\n",
              "      <td>1057.0</td>\n",
              "      <td>47</td>\n",
              "    </tr>\n",
              "    <tr>\n",
              "      <th>4</th>\n",
              "      <td>13.815514</td>\n",
              "      <td>P00285442</td>\n",
              "      <td>1</td>\n",
              "      <td>1</td>\n",
              "      <td>16</td>\n",
              "      <td>2</td>\n",
              "      <td>4</td>\n",
              "      <td>0</td>\n",
              "      <td>8</td>\n",
              "      <td>-1.0</td>\n",
              "      <td>-1.0</td>\n",
              "      <td>7969.0</td>\n",
              "      <td>107</td>\n",
              "    </tr>\n",
              "  </tbody>\n",
              "</table>\n",
              "</div>"
            ],
            "text/plain": [
              "     User_ID Product_ID  ...  Purchase  totalproductsbuys\n",
              "0  13.815513  P00069042  ...    8370.0                 47\n",
              "1  13.815513  P00248942  ...   15200.0                 47\n",
              "2  13.815513  P00087842  ...    1422.0                 47\n",
              "3  13.815513  P00085442  ...    1057.0                 47\n",
              "4  13.815514  P00285442  ...    7969.0                107\n",
              "\n",
              "[5 rows x 13 columns]"
            ]
          },
          "metadata": {
            "tags": []
          },
          "execution_count": 41
        }
      ]
    },
    {
      "cell_type": "code",
      "metadata": {
        "id": "Y6kJ1Vfm8_vb",
        "colab_type": "code",
        "colab": {}
      },
      "source": [
        "combine['User_ID']=np.log1p(combine['User_ID'])"
      ],
      "execution_count": null,
      "outputs": []
    },
    {
      "cell_type": "code",
      "metadata": {
        "id": "lQJU4gvO-G4h",
        "colab_type": "code",
        "colab": {
          "base_uri": "https://localhost:8080/",
          "height": 34
        },
        "outputId": "da3f4239-a2cf-473e-a18b-48a587d36cb2"
      },
      "source": [
        "X = combine[combine['Purchase'].isnull()!=True].drop(['Product_ID','Purchase'], axis=1)\n",
        "y = combine[combine['Purchase'].isnull()!=True]['Purchase']\n",
        "\n",
        "test = combine[combine['Purchase'].isnull()==True].drop(['Product_ID','Purchase'], axis=1)\n",
        "\n",
        "X.shape, y.shape, test.shape"
      ],
      "execution_count": null,
      "outputs": [
        {
          "output_type": "execute_result",
          "data": {
            "text/plain": [
              "((550068, 11), (550068,), (233599, 11))"
            ]
          },
          "metadata": {
            "tags": []
          },
          "execution_count": 26
        }
      ]
    },
    {
      "cell_type": "code",
      "metadata": {
        "id": "Xf0ve9VD-pI0",
        "colab_type": "code",
        "colab": {
          "base_uri": "https://localhost:8080/"
        },
        "outputId": "3d49c889-e4d0-4a25-faa8-d3ad5a64b1f2"
      },
      "source": [
        "X.head()"
      ],
      "execution_count": null,
      "outputs": [
        {
          "output_type": "execute_result",
          "data": {
            "text/html": [
              "<div>\n",
              "<style scoped>\n",
              "    .dataframe tbody tr th:only-of-type {\n",
              "        vertical-align: middle;\n",
              "    }\n",
              "\n",
              "    .dataframe tbody tr th {\n",
              "        vertical-align: top;\n",
              "    }\n",
              "\n",
              "    .dataframe thead th {\n",
              "        text-align: right;\n",
              "    }\n",
              "</style>\n",
              "<table border=\"1\" class=\"dataframe\">\n",
              "  <thead>\n",
              "    <tr style=\"text-align: right;\">\n",
              "      <th></th>\n",
              "      <th>User_ID</th>\n",
              "      <th>Gender</th>\n",
              "      <th>Age</th>\n",
              "      <th>Occupation</th>\n",
              "      <th>City_Category</th>\n",
              "      <th>Stay_In_Current_City_Years</th>\n",
              "      <th>Marital_Status</th>\n",
              "      <th>Product_Category_1</th>\n",
              "      <th>Product_Category_2</th>\n",
              "      <th>Product_Category_3</th>\n",
              "      <th>totalproductsbuys</th>\n",
              "    </tr>\n",
              "  </thead>\n",
              "  <tbody>\n",
              "    <tr>\n",
              "      <th>0</th>\n",
              "      <td>13.815513</td>\n",
              "      <td>0</td>\n",
              "      <td>0</td>\n",
              "      <td>10</td>\n",
              "      <td>0</td>\n",
              "      <td>2</td>\n",
              "      <td>0</td>\n",
              "      <td>3</td>\n",
              "      <td>-1.0</td>\n",
              "      <td>-1.0</td>\n",
              "      <td>47</td>\n",
              "    </tr>\n",
              "    <tr>\n",
              "      <th>1</th>\n",
              "      <td>13.815513</td>\n",
              "      <td>0</td>\n",
              "      <td>0</td>\n",
              "      <td>10</td>\n",
              "      <td>0</td>\n",
              "      <td>2</td>\n",
              "      <td>0</td>\n",
              "      <td>1</td>\n",
              "      <td>6.0</td>\n",
              "      <td>14.0</td>\n",
              "      <td>47</td>\n",
              "    </tr>\n",
              "    <tr>\n",
              "      <th>2</th>\n",
              "      <td>13.815513</td>\n",
              "      <td>0</td>\n",
              "      <td>0</td>\n",
              "      <td>10</td>\n",
              "      <td>0</td>\n",
              "      <td>2</td>\n",
              "      <td>0</td>\n",
              "      <td>12</td>\n",
              "      <td>-1.0</td>\n",
              "      <td>-1.0</td>\n",
              "      <td>47</td>\n",
              "    </tr>\n",
              "    <tr>\n",
              "      <th>3</th>\n",
              "      <td>13.815513</td>\n",
              "      <td>0</td>\n",
              "      <td>0</td>\n",
              "      <td>10</td>\n",
              "      <td>0</td>\n",
              "      <td>2</td>\n",
              "      <td>0</td>\n",
              "      <td>12</td>\n",
              "      <td>14.0</td>\n",
              "      <td>-1.0</td>\n",
              "      <td>47</td>\n",
              "    </tr>\n",
              "    <tr>\n",
              "      <th>4</th>\n",
              "      <td>13.815514</td>\n",
              "      <td>1</td>\n",
              "      <td>1</td>\n",
              "      <td>16</td>\n",
              "      <td>2</td>\n",
              "      <td>4</td>\n",
              "      <td>0</td>\n",
              "      <td>8</td>\n",
              "      <td>-1.0</td>\n",
              "      <td>-1.0</td>\n",
              "      <td>107</td>\n",
              "    </tr>\n",
              "  </tbody>\n",
              "</table>\n",
              "</div>"
            ],
            "text/plain": [
              "     User_ID  Gender  ...  Product_Category_3  totalproductsbuys\n",
              "0  13.815513       0  ...                -1.0                 47\n",
              "1  13.815513       0  ...                14.0                 47\n",
              "2  13.815513       0  ...                -1.0                 47\n",
              "3  13.815513       0  ...                -1.0                 47\n",
              "4  13.815514       1  ...                -1.0                107\n",
              "\n",
              "[5 rows x 11 columns]"
            ]
          },
          "metadata": {
            "tags": []
          },
          "execution_count": 27
        }
      ]
    },
    {
      "cell_type": "code",
      "metadata": {
        "id": "VSMwKzl5-9hT",
        "colab_type": "code",
        "colab": {}
      },
      "source": [
        "from sklearn.model_selection import train_test_split\n",
        "np.random.seed(19)\n",
        "X_train,X_test,y_train,y_test=train_test_split(X,y,test_size=0.2,random_state=19)"
      ],
      "execution_count": null,
      "outputs": []
    },
    {
      "cell_type": "code",
      "metadata": {
        "id": "hatw15EaAhFJ",
        "colab_type": "code",
        "colab": {
          "base_uri": "https://localhost:8080/",
          "height": 221
        },
        "outputId": "8a972d0f-62ff-4e1a-ec17-41cbce6f375d"
      },
      "source": [
        "y_train"
      ],
      "execution_count": null,
      "outputs": [
        {
          "output_type": "execute_result",
          "data": {
            "text/plain": [
              "312635     5169.0\n",
              "69486      9937.0\n",
              "158300     6874.0\n",
              "549206       14.0\n",
              "439744     5249.0\n",
              "           ...   \n",
              "279882     5217.0\n",
              "480168     4518.0\n",
              "82677      3636.0\n",
              "207470    10794.0\n",
              "521821    19140.0\n",
              "Name: Purchase, Length: 440054, dtype: float64"
            ]
          },
          "metadata": {
            "tags": []
          },
          "execution_count": 29
        }
      ]
    },
    {
      "cell_type": "code",
      "metadata": {
        "id": "ZalU6l1q-uRo",
        "colab_type": "code",
        "colab": {
          "base_uri": "https://localhost:8080/",
          "height": 173
        },
        "outputId": "4327449e-f960-46b9-9d43-5c6d92e91931"
      },
      "source": [
        "from lightgbm import LGBMRegressor\n",
        "from sklearn.metrics import mean_squared_error\n",
        "model = LGBMRegressor(max_depth=5,\n",
        "                       learning_rate=0.4, \n",
        "                       n_estimators=6000)\n",
        "\n",
        "model.fit(X_train,y_train,\n",
        "          eval_set=[(X_train,y_train),(X_test, y_test.values)],\n",
        "          eval_metric='rmse',\n",
        "          early_stopping_rounds=100,\n",
        "          verbose=200)\n",
        "\n",
        "pred_y = model.predict(X_test)\n",
        "print(np.sqrt(mean_squared_error(pred_y,y_test)))"
      ],
      "execution_count": null,
      "outputs": [
        {
          "output_type": "stream",
          "text": [
            "Training until validation scores don't improve for 100 rounds.\n",
            "[200]\ttraining's l2: 7.50592e+06\ttraining's rmse: 2739.69\tvalid_1's l2: 7.70629e+06\tvalid_1's rmse: 2776.02\n",
            "[400]\ttraining's l2: 7.21157e+06\ttraining's rmse: 2685.44\tvalid_1's l2: 7.59813e+06\tvalid_1's rmse: 2756.47\n",
            "[600]\ttraining's l2: 7.02715e+06\ttraining's rmse: 2650.88\tvalid_1's l2: 7.5692e+06\tvalid_1's rmse: 2751.22\n",
            "[800]\ttraining's l2: 6.88684e+06\ttraining's rmse: 2624.28\tvalid_1's l2: 7.56024e+06\tvalid_1's rmse: 2749.59\n",
            "Early stopping, best iteration is:\n",
            "[788]\ttraining's l2: 6.89361e+06\ttraining's rmse: 2625.57\tvalid_1's l2: 7.55871e+06\tvalid_1's rmse: 2749.31\n",
            "2749.3117021365724\n"
          ],
          "name": "stdout"
        }
      ]
    },
    {
      "cell_type": "code",
      "metadata": {
        "id": "zF5UbnTF_l8c",
        "colab_type": "code",
        "colab": {
          "base_uri": "https://localhost:8080/",
          "height": 1000
        },
        "outputId": "0de0e1dd-f33f-40eb-82e6-9f4b85bebc1d"
      },
      "source": [
        "y_pred_tot_lgm = []\n",
        "\n",
        "from sklearn.model_selection import StratifiedKFold\n",
        "\n",
        "fold = StratifiedKFold(n_splits=3)\n",
        "i = 1\n",
        "for train_index, test_index in fold.split(X,y):\n",
        "    x_train, x_val = X.iloc[train_index,:], X.iloc[test_index,:]\n",
        "    y_train, y_val = y[train_index], y[test_index]\n",
        "    m = LGBMRegressor(boosting_type='gbdt',\n",
        "                       max_depth=5,\n",
        "                       learning_rate=0.05,\n",
        "                       n_estimators=5000,\n",
        "                       min_child_weight=0.01,\n",
        "                       colsample_bytree=0.5,\n",
        "                       random_state=1994)\n",
        "    m.fit(x_train, y_train,\n",
        "          eval_set=[(x_train,y_train),(x_val, y_val)],\n",
        "          early_stopping_rounds=200,\n",
        "          eval_metric='rmse',\n",
        "          verbose=200)\n",
        "    pred_y = m.predict(x_val)\n",
        "    print(\"err_lgm: \",np.sqrt(mean_squared_error(y_val,pred_y)))\n",
        "    pred_test = m.predict(test)\n",
        "    i = i + 1\n",
        "    y_pred_tot_lgm.append(pred_test)"
      ],
      "execution_count": null,
      "outputs": [
        {
          "output_type": "stream",
          "text": [
            "/usr/local/lib/python3.6/dist-packages/sklearn/model_selection/_split.py:667: UserWarning: The least populated class in y has only 1 members, which is less than n_splits=3.\n",
            "  % (min_groups, self.n_splits)), UserWarning)\n"
          ],
          "name": "stderr"
        },
        {
          "output_type": "stream",
          "text": [
            "Training until validation scores don't improve for 200 rounds.\n",
            "[200]\ttraining's l2: 8.50606e+06\ttraining's rmse: 2916.51\tvalid_1's l2: 8.56472e+06\tvalid_1's rmse: 2926.55\n",
            "[400]\ttraining's l2: 8.24571e+06\ttraining's rmse: 2871.53\tvalid_1's l2: 8.32797e+06\tvalid_1's rmse: 2885.82\n",
            "[600]\ttraining's l2: 8.06909e+06\ttraining's rmse: 2840.61\tvalid_1's l2: 8.18339e+06\tvalid_1's rmse: 2860.66\n",
            "[800]\ttraining's l2: 7.94351e+06\ttraining's rmse: 2818.42\tvalid_1's l2: 8.08405e+06\tvalid_1's rmse: 2843.25\n",
            "[1000]\ttraining's l2: 7.85169e+06\ttraining's rmse: 2802.09\tvalid_1's l2: 8.01665e+06\tvalid_1's rmse: 2831.37\n",
            "[1200]\ttraining's l2: 7.76959e+06\ttraining's rmse: 2787.4\tvalid_1's l2: 7.95752e+06\tvalid_1's rmse: 2820.91\n",
            "[1400]\ttraining's l2: 7.69641e+06\ttraining's rmse: 2774.24\tvalid_1's l2: 7.90708e+06\tvalid_1's rmse: 2811.95\n",
            "[1600]\ttraining's l2: 7.63831e+06\ttraining's rmse: 2763.75\tvalid_1's l2: 7.871e+06\tvalid_1's rmse: 2805.53\n",
            "[1800]\ttraining's l2: 7.58725e+06\ttraining's rmse: 2754.5\tvalid_1's l2: 7.83992e+06\tvalid_1's rmse: 2799.98\n",
            "[2000]\ttraining's l2: 7.53522e+06\ttraining's rmse: 2745.04\tvalid_1's l2: 7.808e+06\tvalid_1's rmse: 2794.28\n",
            "[2200]\ttraining's l2: 7.49021e+06\ttraining's rmse: 2736.82\tvalid_1's l2: 7.78306e+06\tvalid_1's rmse: 2789.81\n",
            "[2400]\ttraining's l2: 7.4548e+06\ttraining's rmse: 2730.35\tvalid_1's l2: 7.76486e+06\tvalid_1's rmse: 2786.55\n",
            "[2600]\ttraining's l2: 7.42191e+06\ttraining's rmse: 2724.32\tvalid_1's l2: 7.74831e+06\tvalid_1's rmse: 2783.58\n",
            "[2800]\ttraining's l2: 7.38638e+06\ttraining's rmse: 2717.79\tvalid_1's l2: 7.7311e+06\tvalid_1's rmse: 2780.49\n",
            "[3000]\ttraining's l2: 7.357e+06\ttraining's rmse: 2712.38\tvalid_1's l2: 7.71718e+06\tvalid_1's rmse: 2777.98\n",
            "[3200]\ttraining's l2: 7.32842e+06\ttraining's rmse: 2707.11\tvalid_1's l2: 7.70637e+06\tvalid_1's rmse: 2776.03\n",
            "[3400]\ttraining's l2: 7.30392e+06\ttraining's rmse: 2702.58\tvalid_1's l2: 7.69628e+06\tvalid_1's rmse: 2774.22\n",
            "[3600]\ttraining's l2: 7.27809e+06\ttraining's rmse: 2697.79\tvalid_1's l2: 7.68642e+06\tvalid_1's rmse: 2772.44\n",
            "[3800]\ttraining's l2: 7.25427e+06\ttraining's rmse: 2693.37\tvalid_1's l2: 7.67854e+06\tvalid_1's rmse: 2771.02\n",
            "[4000]\ttraining's l2: 7.22894e+06\ttraining's rmse: 2688.67\tvalid_1's l2: 7.67035e+06\tvalid_1's rmse: 2769.54\n",
            "[4200]\ttraining's l2: 7.20598e+06\ttraining's rmse: 2684.4\tvalid_1's l2: 7.66282e+06\tvalid_1's rmse: 2768.18\n",
            "[4400]\ttraining's l2: 7.18616e+06\ttraining's rmse: 2680.7\tvalid_1's l2: 7.6576e+06\tvalid_1's rmse: 2767.24\n",
            "[4600]\ttraining's l2: 7.16397e+06\ttraining's rmse: 2676.56\tvalid_1's l2: 7.65077e+06\tvalid_1's rmse: 2766\n",
            "[4800]\ttraining's l2: 7.14314e+06\ttraining's rmse: 2672.66\tvalid_1's l2: 7.64478e+06\tvalid_1's rmse: 2764.92\n",
            "[5000]\ttraining's l2: 7.12482e+06\ttraining's rmse: 2669.24\tvalid_1's l2: 7.64108e+06\tvalid_1's rmse: 2764.25\n",
            "Did not meet early stopping. Best iteration is:\n",
            "[5000]\ttraining's l2: 7.12482e+06\ttraining's rmse: 2669.24\tvalid_1's l2: 7.64108e+06\tvalid_1's rmse: 2764.25\n",
            "err_lgm:  2764.250336886169\n",
            "Training until validation scores don't improve for 200 rounds.\n",
            "[200]\ttraining's l2: 8.51878e+06\ttraining's rmse: 2918.69\tvalid_1's l2: 8.53522e+06\tvalid_1's rmse: 2921.51\n",
            "[400]\ttraining's l2: 8.24463e+06\ttraining's rmse: 2871.35\tvalid_1's l2: 8.28543e+06\tvalid_1's rmse: 2878.44\n",
            "[600]\ttraining's l2: 8.08316e+06\ttraining's rmse: 2843.09\tvalid_1's l2: 8.14474e+06\tvalid_1's rmse: 2853.9\n",
            "[800]\ttraining's l2: 7.96796e+06\ttraining's rmse: 2822.76\tvalid_1's l2: 8.05027e+06\tvalid_1's rmse: 2837.3\n",
            "[1000]\ttraining's l2: 7.87189e+06\ttraining's rmse: 2805.69\tvalid_1's l2: 7.97679e+06\tvalid_1's rmse: 2824.32\n",
            "[1200]\ttraining's l2: 7.79467e+06\ttraining's rmse: 2791.89\tvalid_1's l2: 7.91994e+06\tvalid_1's rmse: 2814.24\n",
            "[1400]\ttraining's l2: 7.72676e+06\ttraining's rmse: 2779.71\tvalid_1's l2: 7.87418e+06\tvalid_1's rmse: 2806.1\n",
            "[1600]\ttraining's l2: 7.66723e+06\ttraining's rmse: 2768.98\tvalid_1's l2: 7.83583e+06\tvalid_1's rmse: 2799.26\n",
            "[1800]\ttraining's l2: 7.61782e+06\ttraining's rmse: 2760.04\tvalid_1's l2: 7.80602e+06\tvalid_1's rmse: 2793.93\n",
            "[2000]\ttraining's l2: 7.57284e+06\ttraining's rmse: 2751.88\tvalid_1's l2: 7.77929e+06\tvalid_1's rmse: 2789.14\n",
            "[2200]\ttraining's l2: 7.52945e+06\ttraining's rmse: 2743.98\tvalid_1's l2: 7.75504e+06\tvalid_1's rmse: 2784.79\n",
            "[2400]\ttraining's l2: 7.49238e+06\ttraining's rmse: 2737.22\tvalid_1's l2: 7.73586e+06\tvalid_1's rmse: 2781.34\n",
            "[2600]\ttraining's l2: 7.45657e+06\ttraining's rmse: 2730.67\tvalid_1's l2: 7.7169e+06\tvalid_1's rmse: 2777.93\n",
            "[2800]\ttraining's l2: 7.42764e+06\ttraining's rmse: 2725.37\tvalid_1's l2: 7.70282e+06\tvalid_1's rmse: 2775.4\n",
            "[3000]\ttraining's l2: 7.39492e+06\ttraining's rmse: 2719.36\tvalid_1's l2: 7.68743e+06\tvalid_1's rmse: 2772.62\n",
            "[3200]\ttraining's l2: 7.36623e+06\ttraining's rmse: 2714.08\tvalid_1's l2: 7.67605e+06\tvalid_1's rmse: 2770.57\n",
            "[3400]\ttraining's l2: 7.3371e+06\ttraining's rmse: 2708.71\tvalid_1's l2: 7.66133e+06\tvalid_1's rmse: 2767.91\n",
            "[3600]\ttraining's l2: 7.30834e+06\ttraining's rmse: 2703.4\tvalid_1's l2: 7.64927e+06\tvalid_1's rmse: 2765.73\n",
            "[3800]\ttraining's l2: 7.28533e+06\ttraining's rmse: 2699.14\tvalid_1's l2: 7.64062e+06\tvalid_1's rmse: 2764.17\n",
            "[4000]\ttraining's l2: 7.26202e+06\ttraining's rmse: 2694.81\tvalid_1's l2: 7.63236e+06\tvalid_1's rmse: 2762.67\n",
            "[4200]\ttraining's l2: 7.23965e+06\ttraining's rmse: 2690.66\tvalid_1's l2: 7.62412e+06\tvalid_1's rmse: 2761.18\n",
            "[4400]\ttraining's l2: 7.21773e+06\ttraining's rmse: 2686.58\tvalid_1's l2: 7.61708e+06\tvalid_1's rmse: 2759.91\n",
            "[4600]\ttraining's l2: 7.1949e+06\ttraining's rmse: 2682.33\tvalid_1's l2: 7.6087e+06\tvalid_1's rmse: 2758.39\n",
            "[4800]\ttraining's l2: 7.17428e+06\ttraining's rmse: 2678.49\tvalid_1's l2: 7.60245e+06\tvalid_1's rmse: 2757.25\n",
            "[5000]\ttraining's l2: 7.15354e+06\ttraining's rmse: 2674.61\tvalid_1's l2: 7.59692e+06\tvalid_1's rmse: 2756.25\n",
            "Did not meet early stopping. Best iteration is:\n",
            "[5000]\ttraining's l2: 7.15354e+06\ttraining's rmse: 2674.61\tvalid_1's l2: 7.59692e+06\tvalid_1's rmse: 2756.25\n",
            "err_lgm:  2756.251537423043\n",
            "Training until validation scores don't improve for 200 rounds.\n",
            "[200]\ttraining's l2: 8.49203e+06\ttraining's rmse: 2914.11\tvalid_1's l2: 8.54711e+06\tvalid_1's rmse: 2923.54\n",
            "[400]\ttraining's l2: 8.24148e+06\ttraining's rmse: 2870.8\tvalid_1's l2: 8.33422e+06\tvalid_1's rmse: 2886.91\n",
            "[600]\ttraining's l2: 8.06382e+06\ttraining's rmse: 2839.69\tvalid_1's l2: 8.18599e+06\tvalid_1's rmse: 2861.12\n",
            "[800]\ttraining's l2: 7.94477e+06\ttraining's rmse: 2818.65\tvalid_1's l2: 8.09244e+06\tvalid_1's rmse: 2844.72\n",
            "[1000]\ttraining's l2: 7.85427e+06\ttraining's rmse: 2802.55\tvalid_1's l2: 8.02515e+06\tvalid_1's rmse: 2832.87\n",
            "[1200]\ttraining's l2: 7.77349e+06\ttraining's rmse: 2788.1\tvalid_1's l2: 7.9679e+06\tvalid_1's rmse: 2822.75\n",
            "[1400]\ttraining's l2: 7.70541e+06\ttraining's rmse: 2775.86\tvalid_1's l2: 7.92188e+06\tvalid_1's rmse: 2814.58\n",
            "[1600]\ttraining's l2: 7.64276e+06\ttraining's rmse: 2764.55\tvalid_1's l2: 7.88121e+06\tvalid_1's rmse: 2807.35\n",
            "[1800]\ttraining's l2: 7.59784e+06\ttraining's rmse: 2756.42\tvalid_1's l2: 7.85699e+06\tvalid_1's rmse: 2803.03\n",
            "[2000]\ttraining's l2: 7.55122e+06\ttraining's rmse: 2747.95\tvalid_1's l2: 7.82926e+06\tvalid_1's rmse: 2798.08\n",
            "[2200]\ttraining's l2: 7.5031e+06\ttraining's rmse: 2739.18\tvalid_1's l2: 7.79931e+06\tvalid_1's rmse: 2792.72\n",
            "[2400]\ttraining's l2: 7.45805e+06\ttraining's rmse: 2730.94\tvalid_1's l2: 7.77378e+06\tvalid_1's rmse: 2788.15\n",
            "[2600]\ttraining's l2: 7.42047e+06\ttraining's rmse: 2724.05\tvalid_1's l2: 7.75442e+06\tvalid_1's rmse: 2784.68\n",
            "[2800]\ttraining's l2: 7.38785e+06\ttraining's rmse: 2718.06\tvalid_1's l2: 7.73986e+06\tvalid_1's rmse: 2782.06\n",
            "[3000]\ttraining's l2: 7.35799e+06\ttraining's rmse: 2712.56\tvalid_1's l2: 7.72676e+06\tvalid_1's rmse: 2779.71\n",
            "[3200]\ttraining's l2: 7.3311e+06\ttraining's rmse: 2707.6\tvalid_1's l2: 7.71547e+06\tvalid_1's rmse: 2777.67\n",
            "[3400]\ttraining's l2: 7.30384e+06\ttraining's rmse: 2702.56\tvalid_1's l2: 7.70441e+06\tvalid_1's rmse: 2775.68\n",
            "[3600]\ttraining's l2: 7.27727e+06\ttraining's rmse: 2697.64\tvalid_1's l2: 7.69375e+06\tvalid_1's rmse: 2773.76\n",
            "[3800]\ttraining's l2: 7.25151e+06\ttraining's rmse: 2692.86\tvalid_1's l2: 7.68248e+06\tvalid_1's rmse: 2771.73\n",
            "[4000]\ttraining's l2: 7.22779e+06\ttraining's rmse: 2688.45\tvalid_1's l2: 7.6743e+06\tvalid_1's rmse: 2770.25\n",
            "[4200]\ttraining's l2: 7.20661e+06\ttraining's rmse: 2684.51\tvalid_1's l2: 7.66851e+06\tvalid_1's rmse: 2769.21\n",
            "[4400]\ttraining's l2: 7.18377e+06\ttraining's rmse: 2680.25\tvalid_1's l2: 7.66012e+06\tvalid_1's rmse: 2767.69\n",
            "[4600]\ttraining's l2: 7.16216e+06\ttraining's rmse: 2676.22\tvalid_1's l2: 7.65293e+06\tvalid_1's rmse: 2766.39\n",
            "[4800]\ttraining's l2: 7.14211e+06\ttraining's rmse: 2672.47\tvalid_1's l2: 7.6477e+06\tvalid_1's rmse: 2765.45\n",
            "[5000]\ttraining's l2: 7.12165e+06\ttraining's rmse: 2668.64\tvalid_1's l2: 7.64152e+06\tvalid_1's rmse: 2764.33\n",
            "Did not meet early stopping. Best iteration is:\n",
            "[5000]\ttraining's l2: 7.12165e+06\ttraining's rmse: 2668.64\tvalid_1's l2: 7.64152e+06\tvalid_1's rmse: 2764.33\n",
            "err_lgm:  2764.329980829264\n"
          ],
          "name": "stdout"
        }
      ]
    },
    {
      "cell_type": "code",
      "metadata": {
        "id": "S46YUH2NKHX4",
        "colab_type": "code",
        "colab": {
          "base_uri": "https://localhost:8080/",
          "height": 632
        },
        "outputId": "3d876477-0c41-4554-85ee-fc8a95da1e61"
      },
      "source": [
        "from xgboost import XGBRegressor\n",
        "\n",
        "errxgb = []\n",
        "y_pred_tot_xgb = []\n",
        "\n",
        "from sklearn.model_selection import KFold,StratifiedKFold\n",
        "\n",
        "fold = StratifiedKFold(n_splits=3)\n",
        "i = 1\n",
        "for train_index, test_index in fold.split(X,y):\n",
        "    x_train, x_val = X.iloc[train_index,:], X.iloc[test_index,:]\n",
        "    y_train, y_val = y[train_index], y[test_index]\n",
        "    m = XGBRegressor(boosting_type='gbdt',\n",
        "                      max_depth=5,\n",
        "                      learning_rate=0.07,\n",
        "                      n_estimators=5000,\n",
        "                      random_state=1994)\n",
        "    m.fit(x_train, y_train,\n",
        "          eval_set=[(x_train,y_train),(x_val, y_val)],\n",
        "          early_stopping_rounds=200,\n",
        "          eval_metric='rmse',\n",
        "          verbose=200)\n",
        "    pred_y = m.predict(x_val)\n",
        "    print(\"err_xgb: \",np.sqrt(mean_squared_error(y_val,pred_y)))\n",
        "    pred_test = m.predict(test)\n",
        "    i = i + 1\n",
        "    y_pred_tot_xgb.append(pred_test)"
      ],
      "execution_count": null,
      "outputs": [
        {
          "output_type": "stream",
          "text": [
            "/usr/local/lib/python3.6/dist-packages/sklearn/model_selection/_split.py:667: UserWarning: The least populated class in y has only 1 members, which is less than n_splits=3.\n",
            "  % (min_groups, self.n_splits)), UserWarning)\n"
          ],
          "name": "stderr"
        },
        {
          "output_type": "stream",
          "text": [
            "[18:25:44] WARNING: /workspace/src/objective/regression_obj.cu:152: reg:linear is now deprecated in favor of reg:squarederror.\n",
            "[0]\tvalidation_0-rmse:9880.77\tvalidation_1-rmse:9874.7\n",
            "Multiple eval metrics have been passed: 'validation_1-rmse' will be used for early stopping.\n",
            "\n",
            "Will train until validation_1-rmse hasn't improved in 200 rounds.\n",
            "[200]\tvalidation_0-rmse:2872.91\tvalidation_1-rmse:2885.34\n",
            "[400]\tvalidation_0-rmse:2842.25\tvalidation_1-rmse:2859.68\n",
            "Stopping. Best iteration:\n",
            "[309]\tvalidation_0-rmse:2842.57\tvalidation_1-rmse:2859.46\n",
            "\n",
            "err_xgb:  2859.5462425070086\n",
            "[18:28:42] WARNING: /workspace/src/objective/regression_obj.cu:152: reg:linear is now deprecated in favor of reg:squarederror.\n",
            "[0]\tvalidation_0-rmse:9871.46\tvalidation_1-rmse:9874.27\n",
            "Multiple eval metrics have been passed: 'validation_1-rmse' will be used for early stopping.\n",
            "\n",
            "Will train until validation_1-rmse hasn't improved in 200 rounds.\n",
            "[200]\tvalidation_0-rmse:2872.85\tvalidation_1-rmse:2878.78\n",
            "[400]\tvalidation_0-rmse:2871.35\tvalidation_1-rmse:2878.41\n",
            "Stopping. Best iteration:\n",
            "[205]\tvalidation_0-rmse:2871.8\tvalidation_1-rmse:2877.94\n",
            "\n",
            "err_xgb:  2878.017945150957\n",
            "[18:31:02] WARNING: /workspace/src/objective/regression_obj.cu:152: reg:linear is now deprecated in favor of reg:squarederror.\n",
            "[0]\tvalidation_0-rmse:9871.59\tvalidation_1-rmse:9874.53\n",
            "Multiple eval metrics have been passed: 'validation_1-rmse' will be used for early stopping.\n",
            "\n",
            "Will train until validation_1-rmse hasn't improved in 200 rounds.\n",
            "[200]\tvalidation_0-rmse:2866.85\tvalidation_1-rmse:2884.42\n",
            "[400]\tvalidation_0-rmse:2843.11\tvalidation_1-rmse:2865.54\n",
            "Stopping. Best iteration:\n",
            "[277]\tvalidation_0-rmse:2843.54\tvalidation_1-rmse:2865.26\n",
            "\n",
            "err_xgb:  2865.3209715104526\n"
          ],
          "name": "stdout"
        }
      ]
    },
    {
      "cell_type": "code",
      "metadata": {
        "id": "XWH09GW7G_pE",
        "colab_type": "code",
        "colab": {}
      },
      "source": [
        "predicted=(np.mean(y_pred_tot_lgm,0)+np.mean(y_pred_tot_xgb,0))/2.0"
      ],
      "execution_count": null,
      "outputs": []
    },
    {
      "cell_type": "code",
      "metadata": {
        "id": "tGtzkU8aHCQH",
        "colab_type": "code",
        "colab": {
          "base_uri": "https://localhost:8080/",
          "height": 204
        },
        "outputId": "8debbc08-311f-4b23-e10b-ff2981a58853"
      },
      "source": [
        "ss=pd.read_csv('/content/sample_submission.csv')\n",
        "ss.head()"
      ],
      "execution_count": null,
      "outputs": [
        {
          "output_type": "execute_result",
          "data": {
            "text/html": [
              "<div>\n",
              "<style scoped>\n",
              "    .dataframe tbody tr th:only-of-type {\n",
              "        vertical-align: middle;\n",
              "    }\n",
              "\n",
              "    .dataframe tbody tr th {\n",
              "        vertical-align: top;\n",
              "    }\n",
              "\n",
              "    .dataframe thead th {\n",
              "        text-align: right;\n",
              "    }\n",
              "</style>\n",
              "<table border=\"1\" class=\"dataframe\">\n",
              "  <thead>\n",
              "    <tr style=\"text-align: right;\">\n",
              "      <th></th>\n",
              "      <th>Purchase</th>\n",
              "      <th>User_ID</th>\n",
              "      <th>Product_ID</th>\n",
              "    </tr>\n",
              "  </thead>\n",
              "  <tbody>\n",
              "    <tr>\n",
              "      <th>0</th>\n",
              "      <td>100</td>\n",
              "      <td>1000004</td>\n",
              "      <td>P00128942</td>\n",
              "    </tr>\n",
              "    <tr>\n",
              "      <th>1</th>\n",
              "      <td>100</td>\n",
              "      <td>1000009</td>\n",
              "      <td>P00113442</td>\n",
              "    </tr>\n",
              "    <tr>\n",
              "      <th>2</th>\n",
              "      <td>100</td>\n",
              "      <td>1000010</td>\n",
              "      <td>P00288442</td>\n",
              "    </tr>\n",
              "    <tr>\n",
              "      <th>3</th>\n",
              "      <td>100</td>\n",
              "      <td>1000010</td>\n",
              "      <td>P00145342</td>\n",
              "    </tr>\n",
              "    <tr>\n",
              "      <th>4</th>\n",
              "      <td>100</td>\n",
              "      <td>1000011</td>\n",
              "      <td>P00053842</td>\n",
              "    </tr>\n",
              "  </tbody>\n",
              "</table>\n",
              "</div>"
            ],
            "text/plain": [
              "   Purchase  User_ID Product_ID\n",
              "0       100  1000004  P00128942\n",
              "1       100  1000009  P00113442\n",
              "2       100  1000010  P00288442\n",
              "3       100  1000010  P00145342\n",
              "4       100  1000011  P00053842"
            ]
          },
          "metadata": {
            "tags": []
          },
          "execution_count": 45
        }
      ]
    },
    {
      "cell_type": "code",
      "metadata": {
        "id": "nSj0ZC-iHpPZ",
        "colab_type": "code",
        "colab": {}
      },
      "source": [
        "ss['Purchase']=predicted"
      ],
      "execution_count": null,
      "outputs": []
    },
    {
      "cell_type": "code",
      "metadata": {
        "id": "oWATSjinHwj5",
        "colab_type": "code",
        "colab": {}
      },
      "source": [
        "ss.to_csv('blackfridaysales.csv',index=False)"
      ],
      "execution_count": null,
      "outputs": []
    }
  ]
}