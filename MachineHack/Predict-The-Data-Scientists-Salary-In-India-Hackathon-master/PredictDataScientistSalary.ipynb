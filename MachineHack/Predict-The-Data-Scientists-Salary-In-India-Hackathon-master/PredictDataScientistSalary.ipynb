{
  "nbformat": 4,
  "nbformat_minor": 0,
  "metadata": {
    "colab": {
      "name": "PredictDataScientistSalary.ipynb",
      "provenance": [],
      "collapsed_sections": [],
      "authorship_tag": "ABX9TyMFMP8SLw6F7N0jKv/0r+Hn",
      "include_colab_link": true
    },
    "kernelspec": {
      "name": "python3",
      "display_name": "Python 3"
    }
  },
  "cells": [
    {
      "cell_type": "markdown",
      "metadata": {
        "id": "view-in-github",
        "colab_type": "text"
      },
      "source": [
        "<a href=\"https://colab.research.google.com/github/hemil19/Predict-The-Data-Scientists-Salary-In-India-Hackathon/blob/master/PredictDataScientistSalary.ipynb\" target=\"_parent\"><img src=\"https://colab.research.google.com/assets/colab-badge.svg\" alt=\"Open In Colab\"/></a>"
      ]
    },
    {
      "cell_type": "code",
      "metadata": {
        "id": "P1ze546YkkBj",
        "colab_type": "code",
        "colab": {}
      },
      "source": [
        "import pandas as pd\n",
        "import numpy as np\n",
        "import matplotlib.pyplot as plt\n",
        "%matplotlib inline"
      ],
      "execution_count": 1,
      "outputs": []
    },
    {
      "cell_type": "code",
      "metadata": {
        "id": "D-PbaLn1k0yZ",
        "colab_type": "code",
        "colab": {}
      },
      "source": [
        "train=pd.read_csv('/content/Final_Train_Dataset.csv')\n",
        "test=pd.read_csv('/content/Final_Test_Dataset.csv')"
      ],
      "execution_count": 4,
      "outputs": []
    },
    {
      "cell_type": "code",
      "metadata": {
        "id": "qGps0ZOClsVS",
        "colab_type": "code",
        "colab": {}
      },
      "source": [
        "train.drop(['Unnamed: 0'],axis=1,inplace=True)"
      ],
      "execution_count": 5,
      "outputs": []
    },
    {
      "cell_type": "code",
      "metadata": {
        "id": "YxZHkwwllWnN",
        "colab_type": "code",
        "colab": {
          "base_uri": "https://localhost:8080/",
          "height": 530
        },
        "outputId": "64cf1686-e87c-4fb1-a509-fcd924b99bf7"
      },
      "source": [
        "train.head()"
      ],
      "execution_count": 6,
      "outputs": [
        {
          "output_type": "execute_result",
          "data": {
            "text/html": [
              "<div>\n",
              "<style scoped>\n",
              "    .dataframe tbody tr th:only-of-type {\n",
              "        vertical-align: middle;\n",
              "    }\n",
              "\n",
              "    .dataframe tbody tr th {\n",
              "        vertical-align: top;\n",
              "    }\n",
              "\n",
              "    .dataframe thead th {\n",
              "        text-align: right;\n",
              "    }\n",
              "</style>\n",
              "<table border=\"1\" class=\"dataframe\">\n",
              "  <thead>\n",
              "    <tr style=\"text-align: right;\">\n",
              "      <th></th>\n",
              "      <th>experience</th>\n",
              "      <th>job_description</th>\n",
              "      <th>job_desig</th>\n",
              "      <th>job_type</th>\n",
              "      <th>key_skills</th>\n",
              "      <th>location</th>\n",
              "      <th>salary</th>\n",
              "      <th>company_name_encoded</th>\n",
              "    </tr>\n",
              "  </thead>\n",
              "  <tbody>\n",
              "    <tr>\n",
              "      <th>0</th>\n",
              "      <td>5-7 yrs</td>\n",
              "      <td>Exp: Minimum 5 years;Good understanding of IOC...</td>\n",
              "      <td>Senior Exploit and Vulnerability Researcher</td>\n",
              "      <td>NaN</td>\n",
              "      <td>team skills, communication skills, analytical ...</td>\n",
              "      <td>Delhi NCR(Vikas Puri)</td>\n",
              "      <td>6to10</td>\n",
              "      <td>3687</td>\n",
              "    </tr>\n",
              "    <tr>\n",
              "      <th>1</th>\n",
              "      <td>10-17 yrs</td>\n",
              "      <td>He should have handled a team of atleast 5-6 d...</td>\n",
              "      <td>Head SCM</td>\n",
              "      <td>NaN</td>\n",
              "      <td>ppc, logistics, inventory management, supply c...</td>\n",
              "      <td>Sonepat</td>\n",
              "      <td>10to15</td>\n",
              "      <td>458</td>\n",
              "    </tr>\n",
              "    <tr>\n",
              "      <th>2</th>\n",
              "      <td>5-9 yrs</td>\n",
              "      <td>Must be an effective communicator (written &amp; s...</td>\n",
              "      <td>Deputy Manager - Talent Management &amp; Leadershi...</td>\n",
              "      <td>Analytics</td>\n",
              "      <td>HR Analytics, Employee Engagement, Training, S...</td>\n",
              "      <td>Delhi NCR</td>\n",
              "      <td>15to25</td>\n",
              "      <td>4195</td>\n",
              "    </tr>\n",
              "    <tr>\n",
              "      <th>3</th>\n",
              "      <td>7-10 yrs</td>\n",
              "      <td>7  -  10 years of overall experience in data e...</td>\n",
              "      <td>Associate Manager Data Engineering</td>\n",
              "      <td>Analytics</td>\n",
              "      <td>SQL, Javascript, Automation, Python, Ruby, Ana...</td>\n",
              "      <td>Bengaluru</td>\n",
              "      <td>10to15</td>\n",
              "      <td>313</td>\n",
              "    </tr>\n",
              "    <tr>\n",
              "      <th>4</th>\n",
              "      <td>1-3 yrs</td>\n",
              "      <td>Chartered Accountancy degree or MBA in Finance...</td>\n",
              "      <td>TS- GSA- Senior Analyst</td>\n",
              "      <td>NaN</td>\n",
              "      <td>accounting, finance, cash flow, financial plan...</td>\n",
              "      <td>Gurgaon</td>\n",
              "      <td>3to6</td>\n",
              "      <td>1305</td>\n",
              "    </tr>\n",
              "  </tbody>\n",
              "</table>\n",
              "</div>"
            ],
            "text/plain": [
              "  experience  ... company_name_encoded\n",
              "0    5-7 yrs  ...                 3687\n",
              "1  10-17 yrs  ...                  458\n",
              "2    5-9 yrs  ...                 4195\n",
              "3   7-10 yrs  ...                  313\n",
              "4    1-3 yrs  ...                 1305\n",
              "\n",
              "[5 rows x 8 columns]"
            ]
          },
          "metadata": {
            "tags": []
          },
          "execution_count": 6
        }
      ]
    },
    {
      "cell_type": "code",
      "metadata": {
        "id": "vpmb_0cPaPHH",
        "colab_type": "code",
        "colab": {}
      },
      "source": [
        "job_map={'Analytics':'Analytics', 'analytics':'Analytics', 'Analytic':'Analytics', 'ANALYTICS':'Analytics', 'analytic':'Analytics',np.nan:'Other'}"
      ],
      "execution_count": 7,
      "outputs": []
    },
    {
      "cell_type": "code",
      "metadata": {
        "id": "fEN7TMd9l0ir",
        "colab_type": "code",
        "colab": {
          "base_uri": "https://localhost:8080/",
          "height": 170
        },
        "outputId": "2c42566f-bdf8-49a4-e109-94d8b265df6f"
      },
      "source": [
        "train.isnull().sum()"
      ],
      "execution_count": 8,
      "outputs": [
        {
          "output_type": "execute_result",
          "data": {
            "text/plain": [
              "experience                  0\n",
              "job_description          4418\n",
              "job_desig                   0\n",
              "job_type                15005\n",
              "key_skills                  1\n",
              "location                    0\n",
              "salary                      0\n",
              "company_name_encoded        0\n",
              "dtype: int64"
            ]
          },
          "metadata": {
            "tags": []
          },
          "execution_count": 8
        }
      ]
    },
    {
      "cell_type": "code",
      "metadata": {
        "id": "PmsDHXNmmNb6",
        "colab_type": "code",
        "colab": {
          "base_uri": "https://localhost:8080/",
          "height": 153
        },
        "outputId": "0e55ba25-d70b-47ed-aa4a-20d24940ba53"
      },
      "source": [
        "test.isnull().sum()"
      ],
      "execution_count": 9,
      "outputs": [
        {
          "output_type": "execute_result",
          "data": {
            "text/plain": [
              "experience                 0\n",
              "job_description         1522\n",
              "job_desig                  0\n",
              "job_type                4964\n",
              "key_skills                 0\n",
              "location                   0\n",
              "company_name_encoded       0\n",
              "dtype: int64"
            ]
          },
          "metadata": {
            "tags": []
          },
          "execution_count": 9
        }
      ]
    },
    {
      "cell_type": "code",
      "metadata": {
        "id": "0OZlHmilmRUf",
        "colab_type": "code",
        "colab": {
          "base_uri": "https://localhost:8080/",
          "height": 34
        },
        "outputId": "b34a5769-a9f3-4980-f3e1-247685e4d89f"
      },
      "source": [
        "combine=train.append(test)\n",
        "combine.reset_index(inplace=True)\n",
        "combine.drop('index',axis=1,inplace=True)\n",
        "combine.shape"
      ],
      "execution_count": 10,
      "outputs": [
        {
          "output_type": "execute_result",
          "data": {
            "text/plain": [
              "(26403, 8)"
            ]
          },
          "metadata": {
            "tags": []
          },
          "execution_count": 10
        }
      ]
    },
    {
      "cell_type": "code",
      "metadata": {
        "id": "FRXb69aGaKjY",
        "colab_type": "code",
        "colab": {}
      },
      "source": [
        "combine['job_type']=combine['job_type'].map(job_map)"
      ],
      "execution_count": 11,
      "outputs": []
    },
    {
      "cell_type": "code",
      "metadata": {
        "id": "tHcAxRx7lYLj",
        "colab_type": "code",
        "colab": {
          "base_uri": "https://localhost:8080/",
          "height": 530
        },
        "outputId": "7e4f729a-9610-4314-f602-e99e70f25439"
      },
      "source": [
        "combine.head()"
      ],
      "execution_count": 12,
      "outputs": [
        {
          "output_type": "execute_result",
          "data": {
            "text/html": [
              "<div>\n",
              "<style scoped>\n",
              "    .dataframe tbody tr th:only-of-type {\n",
              "        vertical-align: middle;\n",
              "    }\n",
              "\n",
              "    .dataframe tbody tr th {\n",
              "        vertical-align: top;\n",
              "    }\n",
              "\n",
              "    .dataframe thead th {\n",
              "        text-align: right;\n",
              "    }\n",
              "</style>\n",
              "<table border=\"1\" class=\"dataframe\">\n",
              "  <thead>\n",
              "    <tr style=\"text-align: right;\">\n",
              "      <th></th>\n",
              "      <th>experience</th>\n",
              "      <th>job_description</th>\n",
              "      <th>job_desig</th>\n",
              "      <th>job_type</th>\n",
              "      <th>key_skills</th>\n",
              "      <th>location</th>\n",
              "      <th>salary</th>\n",
              "      <th>company_name_encoded</th>\n",
              "    </tr>\n",
              "  </thead>\n",
              "  <tbody>\n",
              "    <tr>\n",
              "      <th>0</th>\n",
              "      <td>5-7 yrs</td>\n",
              "      <td>Exp: Minimum 5 years;Good understanding of IOC...</td>\n",
              "      <td>Senior Exploit and Vulnerability Researcher</td>\n",
              "      <td>Other</td>\n",
              "      <td>team skills, communication skills, analytical ...</td>\n",
              "      <td>Delhi NCR(Vikas Puri)</td>\n",
              "      <td>6to10</td>\n",
              "      <td>3687</td>\n",
              "    </tr>\n",
              "    <tr>\n",
              "      <th>1</th>\n",
              "      <td>10-17 yrs</td>\n",
              "      <td>He should have handled a team of atleast 5-6 d...</td>\n",
              "      <td>Head SCM</td>\n",
              "      <td>Other</td>\n",
              "      <td>ppc, logistics, inventory management, supply c...</td>\n",
              "      <td>Sonepat</td>\n",
              "      <td>10to15</td>\n",
              "      <td>458</td>\n",
              "    </tr>\n",
              "    <tr>\n",
              "      <th>2</th>\n",
              "      <td>5-9 yrs</td>\n",
              "      <td>Must be an effective communicator (written &amp; s...</td>\n",
              "      <td>Deputy Manager - Talent Management &amp; Leadershi...</td>\n",
              "      <td>Analytics</td>\n",
              "      <td>HR Analytics, Employee Engagement, Training, S...</td>\n",
              "      <td>Delhi NCR</td>\n",
              "      <td>15to25</td>\n",
              "      <td>4195</td>\n",
              "    </tr>\n",
              "    <tr>\n",
              "      <th>3</th>\n",
              "      <td>7-10 yrs</td>\n",
              "      <td>7  -  10 years of overall experience in data e...</td>\n",
              "      <td>Associate Manager Data Engineering</td>\n",
              "      <td>Analytics</td>\n",
              "      <td>SQL, Javascript, Automation, Python, Ruby, Ana...</td>\n",
              "      <td>Bengaluru</td>\n",
              "      <td>10to15</td>\n",
              "      <td>313</td>\n",
              "    </tr>\n",
              "    <tr>\n",
              "      <th>4</th>\n",
              "      <td>1-3 yrs</td>\n",
              "      <td>Chartered Accountancy degree or MBA in Finance...</td>\n",
              "      <td>TS- GSA- Senior Analyst</td>\n",
              "      <td>Other</td>\n",
              "      <td>accounting, finance, cash flow, financial plan...</td>\n",
              "      <td>Gurgaon</td>\n",
              "      <td>3to6</td>\n",
              "      <td>1305</td>\n",
              "    </tr>\n",
              "  </tbody>\n",
              "</table>\n",
              "</div>"
            ],
            "text/plain": [
              "  experience  ... company_name_encoded\n",
              "0    5-7 yrs  ...                 3687\n",
              "1  10-17 yrs  ...                  458\n",
              "2    5-9 yrs  ...                 4195\n",
              "3   7-10 yrs  ...                  313\n",
              "4    1-3 yrs  ...                 1305\n",
              "\n",
              "[5 rows x 8 columns]"
            ]
          },
          "metadata": {
            "tags": []
          },
          "execution_count": 12
        }
      ]
    },
    {
      "cell_type": "code",
      "metadata": {
        "id": "myd3wK2RnzPM",
        "colab_type": "code",
        "colab": {
          "base_uri": "https://localhost:8080/",
          "height": 34
        },
        "outputId": "80254b37-0eb3-4362-edbe-20f0da015a31"
      },
      "source": [
        "combine.shape"
      ],
      "execution_count": 13,
      "outputs": [
        {
          "output_type": "execute_result",
          "data": {
            "text/plain": [
              "(26403, 8)"
            ]
          },
          "metadata": {
            "tags": []
          },
          "execution_count": 13
        }
      ]
    },
    {
      "cell_type": "code",
      "metadata": {
        "id": "ybyneul8obom",
        "colab_type": "code",
        "colab": {}
      },
      "source": [
        "combine['job_desig']=combine['job_desig'].str.lower()"
      ],
      "execution_count": 14,
      "outputs": []
    },
    {
      "cell_type": "code",
      "metadata": {
        "id": "B1TfZqdTqmV5",
        "colab_type": "code",
        "colab": {}
      },
      "source": [
        "combine['key_skills']=combine['key_skills'].str.lower()"
      ],
      "execution_count": 15,
      "outputs": []
    },
    {
      "cell_type": "code",
      "metadata": {
        "id": "PmIgwsWhrOnz",
        "colab_type": "code",
        "colab": {}
      },
      "source": [
        "keys=combine.groupby('salary').agg({'key_skills':pd.Series.mode}).index"
      ],
      "execution_count": 16,
      "outputs": []
    },
    {
      "cell_type": "code",
      "metadata": {
        "id": "kdZndBYysaXu",
        "colab_type": "code",
        "colab": {}
      },
      "source": [
        "values=combine.groupby('salary').agg({'key_skills':pd.Series.mode}).values"
      ],
      "execution_count": 17,
      "outputs": []
    },
    {
      "cell_type": "code",
      "metadata": {
        "id": "8xBSHvtoslA2",
        "colab_type": "code",
        "colab": {}
      },
      "source": [
        "dict={}\n",
        "for i in range(0,len(keys)):\n",
        "  dict[keys[i]]=values[i]"
      ],
      "execution_count": 18,
      "outputs": []
    },
    {
      "cell_type": "code",
      "metadata": {
        "id": "LSvasOMCwcVf",
        "colab_type": "code",
        "colab": {}
      },
      "source": [
        "combine.loc[846,'key_skills']=dict[combine.loc[846,'salary']]"
      ],
      "execution_count": 19,
      "outputs": []
    },
    {
      "cell_type": "code",
      "metadata": {
        "id": "gwFGlh8zw0KY",
        "colab_type": "code",
        "colab": {}
      },
      "source": [
        "combine.drop('job_description',axis=1,inplace=True)"
      ],
      "execution_count": 20,
      "outputs": []
    },
    {
      "cell_type": "code",
      "metadata": {
        "id": "ymGutYpGrhP6",
        "colab_type": "code",
        "colab": {
          "base_uri": "https://localhost:8080/",
          "height": 153
        },
        "outputId": "32744b66-67bd-4ad3-c6ea-4b016556d6b6"
      },
      "source": [
        "combine.isnull().sum()"
      ],
      "execution_count": 21,
      "outputs": [
        {
          "output_type": "execute_result",
          "data": {
            "text/plain": [
              "experience                 0\n",
              "job_desig                  0\n",
              "job_type                   0\n",
              "key_skills                 0\n",
              "location                   0\n",
              "salary                  6601\n",
              "company_name_encoded       0\n",
              "dtype: int64"
            ]
          },
          "metadata": {
            "tags": []
          },
          "execution_count": 21
        }
      ]
    },
    {
      "cell_type": "code",
      "metadata": {
        "id": "iFkFMJamzStn",
        "colab_type": "code",
        "colab": {}
      },
      "source": [
        "combine['total_skills']=[len(i) for i in combine['key_skills']]"
      ],
      "execution_count": 22,
      "outputs": []
    },
    {
      "cell_type": "code",
      "metadata": {
        "id": "4CxcEefHzQBG",
        "colab_type": "code",
        "colab": {
          "base_uri": "https://localhost:8080/",
          "height": 476
        },
        "outputId": "163669bf-d77f-46b0-90bd-cc29c4582faa"
      },
      "source": [
        "combine.head()"
      ],
      "execution_count": 23,
      "outputs": [
        {
          "output_type": "execute_result",
          "data": {
            "text/html": [
              "<div>\n",
              "<style scoped>\n",
              "    .dataframe tbody tr th:only-of-type {\n",
              "        vertical-align: middle;\n",
              "    }\n",
              "\n",
              "    .dataframe tbody tr th {\n",
              "        vertical-align: top;\n",
              "    }\n",
              "\n",
              "    .dataframe thead th {\n",
              "        text-align: right;\n",
              "    }\n",
              "</style>\n",
              "<table border=\"1\" class=\"dataframe\">\n",
              "  <thead>\n",
              "    <tr style=\"text-align: right;\">\n",
              "      <th></th>\n",
              "      <th>experience</th>\n",
              "      <th>job_desig</th>\n",
              "      <th>job_type</th>\n",
              "      <th>key_skills</th>\n",
              "      <th>location</th>\n",
              "      <th>salary</th>\n",
              "      <th>company_name_encoded</th>\n",
              "      <th>total_skills</th>\n",
              "    </tr>\n",
              "  </thead>\n",
              "  <tbody>\n",
              "    <tr>\n",
              "      <th>0</th>\n",
              "      <td>5-7 yrs</td>\n",
              "      <td>senior exploit and vulnerability researcher</td>\n",
              "      <td>Other</td>\n",
              "      <td>team skills, communication skills, analytical ...</td>\n",
              "      <td>Delhi NCR(Vikas Puri)</td>\n",
              "      <td>6to10</td>\n",
              "      <td>3687</td>\n",
              "      <td>72</td>\n",
              "    </tr>\n",
              "    <tr>\n",
              "      <th>1</th>\n",
              "      <td>10-17 yrs</td>\n",
              "      <td>head scm</td>\n",
              "      <td>Other</td>\n",
              "      <td>ppc, logistics, inventory management, supply c...</td>\n",
              "      <td>Sonepat</td>\n",
              "      <td>10to15</td>\n",
              "      <td>458</td>\n",
              "      <td>78</td>\n",
              "    </tr>\n",
              "    <tr>\n",
              "      <th>2</th>\n",
              "      <td>5-9 yrs</td>\n",
              "      <td>deputy manager - talent management &amp; leadershi...</td>\n",
              "      <td>Analytics</td>\n",
              "      <td>hr analytics, employee engagement, training, s...</td>\n",
              "      <td>Delhi NCR</td>\n",
              "      <td>15to25</td>\n",
              "      <td>4195</td>\n",
              "      <td>67</td>\n",
              "    </tr>\n",
              "    <tr>\n",
              "      <th>3</th>\n",
              "      <td>7-10 yrs</td>\n",
              "      <td>associate manager data engineering</td>\n",
              "      <td>Analytics</td>\n",
              "      <td>sql, javascript, automation, python, ruby, ana...</td>\n",
              "      <td>Bengaluru</td>\n",
              "      <td>10to15</td>\n",
              "      <td>313</td>\n",
              "      <td>73</td>\n",
              "    </tr>\n",
              "    <tr>\n",
              "      <th>4</th>\n",
              "      <td>1-3 yrs</td>\n",
              "      <td>ts- gsa- senior analyst</td>\n",
              "      <td>Other</td>\n",
              "      <td>accounting, finance, cash flow, financial plan...</td>\n",
              "      <td>Gurgaon</td>\n",
              "      <td>3to6</td>\n",
              "      <td>1305</td>\n",
              "      <td>72</td>\n",
              "    </tr>\n",
              "  </tbody>\n",
              "</table>\n",
              "</div>"
            ],
            "text/plain": [
              "  experience  ... total_skills\n",
              "0    5-7 yrs  ...           72\n",
              "1  10-17 yrs  ...           78\n",
              "2    5-9 yrs  ...           67\n",
              "3   7-10 yrs  ...           73\n",
              "4    1-3 yrs  ...           72\n",
              "\n",
              "[5 rows x 8 columns]"
            ]
          },
          "metadata": {
            "tags": []
          },
          "execution_count": 23
        }
      ]
    },
    {
      "cell_type": "code",
      "metadata": {
        "id": "93oFXdK7057o",
        "colab_type": "code",
        "colab": {
          "base_uri": "https://localhost:8080/",
          "height": 170
        },
        "outputId": "dec18726-d227-4073-e3ec-b738842eb147"
      },
      "source": [
        "combine.dtypes"
      ],
      "execution_count": 24,
      "outputs": [
        {
          "output_type": "execute_result",
          "data": {
            "text/plain": [
              "experience              object\n",
              "job_desig               object\n",
              "job_type                object\n",
              "key_skills              object\n",
              "location                object\n",
              "salary                  object\n",
              "company_name_encoded     int64\n",
              "total_skills             int64\n",
              "dtype: object"
            ]
          },
          "metadata": {
            "tags": []
          },
          "execution_count": 24
        }
      ]
    },
    {
      "cell_type": "code",
      "metadata": {
        "id": "oUPv-wRO7FJL",
        "colab_type": "code",
        "colab": {}
      },
      "source": [
        "import re\n",
        "combine['location']=[re.sub(r\" ?\\([^)]+\\)\", \"\",i) for i in combine['location']]"
      ],
      "execution_count": 25,
      "outputs": []
    },
    {
      "cell_type": "code",
      "metadata": {
        "id": "04Cr3nTG881u",
        "colab_type": "code",
        "colab": {}
      },
      "source": [
        "value=[]\n",
        "for i in combine['location'].str.split(','):\n",
        "  if(len(i)>1):\n",
        "    value.append('multiple')\n",
        "  else:\n",
        "    value.append(i[0])"
      ],
      "execution_count": 26,
      "outputs": []
    },
    {
      "cell_type": "code",
      "metadata": {
        "id": "wuAuHfwV93LJ",
        "colab_type": "code",
        "colab": {}
      },
      "source": [
        "combine['location']=value"
      ],
      "execution_count": 27,
      "outputs": []
    },
    {
      "cell_type": "code",
      "metadata": {
        "id": "FDkkO04M9tcr",
        "colab_type": "code",
        "colab": {
          "base_uri": "https://localhost:8080/",
          "height": 476
        },
        "outputId": "617d9c50-ad3d-4644-ee82-ef39212b2b44"
      },
      "source": [
        "combine.head()"
      ],
      "execution_count": 28,
      "outputs": [
        {
          "output_type": "execute_result",
          "data": {
            "text/html": [
              "<div>\n",
              "<style scoped>\n",
              "    .dataframe tbody tr th:only-of-type {\n",
              "        vertical-align: middle;\n",
              "    }\n",
              "\n",
              "    .dataframe tbody tr th {\n",
              "        vertical-align: top;\n",
              "    }\n",
              "\n",
              "    .dataframe thead th {\n",
              "        text-align: right;\n",
              "    }\n",
              "</style>\n",
              "<table border=\"1\" class=\"dataframe\">\n",
              "  <thead>\n",
              "    <tr style=\"text-align: right;\">\n",
              "      <th></th>\n",
              "      <th>experience</th>\n",
              "      <th>job_desig</th>\n",
              "      <th>job_type</th>\n",
              "      <th>key_skills</th>\n",
              "      <th>location</th>\n",
              "      <th>salary</th>\n",
              "      <th>company_name_encoded</th>\n",
              "      <th>total_skills</th>\n",
              "    </tr>\n",
              "  </thead>\n",
              "  <tbody>\n",
              "    <tr>\n",
              "      <th>0</th>\n",
              "      <td>5-7 yrs</td>\n",
              "      <td>senior exploit and vulnerability researcher</td>\n",
              "      <td>Other</td>\n",
              "      <td>team skills, communication skills, analytical ...</td>\n",
              "      <td>Delhi NCR</td>\n",
              "      <td>6to10</td>\n",
              "      <td>3687</td>\n",
              "      <td>72</td>\n",
              "    </tr>\n",
              "    <tr>\n",
              "      <th>1</th>\n",
              "      <td>10-17 yrs</td>\n",
              "      <td>head scm</td>\n",
              "      <td>Other</td>\n",
              "      <td>ppc, logistics, inventory management, supply c...</td>\n",
              "      <td>Sonepat</td>\n",
              "      <td>10to15</td>\n",
              "      <td>458</td>\n",
              "      <td>78</td>\n",
              "    </tr>\n",
              "    <tr>\n",
              "      <th>2</th>\n",
              "      <td>5-9 yrs</td>\n",
              "      <td>deputy manager - talent management &amp; leadershi...</td>\n",
              "      <td>Analytics</td>\n",
              "      <td>hr analytics, employee engagement, training, s...</td>\n",
              "      <td>Delhi NCR</td>\n",
              "      <td>15to25</td>\n",
              "      <td>4195</td>\n",
              "      <td>67</td>\n",
              "    </tr>\n",
              "    <tr>\n",
              "      <th>3</th>\n",
              "      <td>7-10 yrs</td>\n",
              "      <td>associate manager data engineering</td>\n",
              "      <td>Analytics</td>\n",
              "      <td>sql, javascript, automation, python, ruby, ana...</td>\n",
              "      <td>Bengaluru</td>\n",
              "      <td>10to15</td>\n",
              "      <td>313</td>\n",
              "      <td>73</td>\n",
              "    </tr>\n",
              "    <tr>\n",
              "      <th>4</th>\n",
              "      <td>1-3 yrs</td>\n",
              "      <td>ts- gsa- senior analyst</td>\n",
              "      <td>Other</td>\n",
              "      <td>accounting, finance, cash flow, financial plan...</td>\n",
              "      <td>Gurgaon</td>\n",
              "      <td>3to6</td>\n",
              "      <td>1305</td>\n",
              "      <td>72</td>\n",
              "    </tr>\n",
              "  </tbody>\n",
              "</table>\n",
              "</div>"
            ],
            "text/plain": [
              "  experience  ... total_skills\n",
              "0    5-7 yrs  ...           72\n",
              "1  10-17 yrs  ...           78\n",
              "2    5-9 yrs  ...           67\n",
              "3   7-10 yrs  ...           73\n",
              "4    1-3 yrs  ...           72\n",
              "\n",
              "[5 rows x 8 columns]"
            ]
          },
          "metadata": {
            "tags": []
          },
          "execution_count": 28
        }
      ]
    },
    {
      "cell_type": "code",
      "metadata": {
        "id": "rkVsDYg-gW5T",
        "colab_type": "code",
        "colab": {
          "base_uri": "https://localhost:8080/",
          "height": 34
        },
        "outputId": "b284f18b-2e13-4d7c-f2b2-a13b96841e9f"
      },
      "source": [
        "combine.shape"
      ],
      "execution_count": 29,
      "outputs": [
        {
          "output_type": "execute_result",
          "data": {
            "text/plain": [
              "(26403, 8)"
            ]
          },
          "metadata": {
            "tags": []
          },
          "execution_count": 29
        }
      ]
    },
    {
      "cell_type": "code",
      "metadata": {
        "id": "ZGFBZd7jgZEU",
        "colab_type": "code",
        "colab": {
          "base_uri": "https://localhost:8080/",
          "height": 34
        },
        "outputId": "4535f61b-db3c-4dde-d1e2-c8f84af74077"
      },
      "source": [
        "len(combine['key_skills'].unique())"
      ],
      "execution_count": 30,
      "outputs": [
        {
          "output_type": "execute_result",
          "data": {
            "text/plain": [
              "15215"
            ]
          },
          "metadata": {
            "tags": []
          },
          "execution_count": 30
        }
      ]
    },
    {
      "cell_type": "code",
      "metadata": {
        "id": "xXljyv4ycoM3",
        "colab_type": "code",
        "colab": {
          "base_uri": "https://localhost:8080/",
          "height": 170
        },
        "outputId": "f04a0058-086b-4caa-c716-6fcdc429fc89"
      },
      "source": [
        "combine.isnull().sum()"
      ],
      "execution_count": 31,
      "outputs": [
        {
          "output_type": "execute_result",
          "data": {
            "text/plain": [
              "experience                 0\n",
              "job_desig                  0\n",
              "job_type                   0\n",
              "key_skills                 0\n",
              "location                   0\n",
              "salary                  6601\n",
              "company_name_encoded       0\n",
              "total_skills               0\n",
              "dtype: int64"
            ]
          },
          "metadata": {
            "tags": []
          },
          "execution_count": 31
        }
      ]
    },
    {
      "cell_type": "code",
      "metadata": {
        "id": "1kMrV8fI2kTZ",
        "colab_type": "code",
        "colab": {
          "base_uri": "https://localhost:8080/",
          "height": 34
        },
        "outputId": "06d5c53e-8380-4b96-f4e9-f07357430633"
      },
      "source": [
        "X = combine[combine['salary'].isnull()!=True].drop(['salary'], axis=1)\n",
        "y = combine[combine['salary'].isnull()!=True]['salary']\n",
        "\n",
        "test = combine[combine['salary'].isnull()==True].drop(['salary'], axis=1)\n",
        "\n",
        "X.shape, y.shape, test.shape"
      ],
      "execution_count": 32,
      "outputs": [
        {
          "output_type": "execute_result",
          "data": {
            "text/plain": [
              "((19802, 7), (19802,), (6601, 7))"
            ]
          },
          "metadata": {
            "tags": []
          },
          "execution_count": 32
        }
      ]
    },
    {
      "cell_type": "code",
      "metadata": {
        "id": "J5wInyJAAQNo",
        "colab_type": "code",
        "colab": {
          "base_uri": "https://localhost:8080/",
          "height": 153
        },
        "outputId": "db941e2f-5aea-4fe6-af2a-c63d180dcdb9"
      },
      "source": [
        "X.dtypes"
      ],
      "execution_count": 33,
      "outputs": [
        {
          "output_type": "execute_result",
          "data": {
            "text/plain": [
              "experience              object\n",
              "job_desig               object\n",
              "job_type                object\n",
              "key_skills              object\n",
              "location                object\n",
              "company_name_encoded     int64\n",
              "total_skills             int64\n",
              "dtype: object"
            ]
          },
          "metadata": {
            "tags": []
          },
          "execution_count": 33
        }
      ]
    },
    {
      "cell_type": "code",
      "metadata": {
        "id": "Gchi46gNAyLt",
        "colab_type": "code",
        "colab": {
          "base_uri": "https://localhost:8080/",
          "height": 34
        },
        "outputId": "f9f753cb-6764-4c70-d386-e1a0024ba65c"
      },
      "source": [
        "X.shape,test.shape"
      ],
      "execution_count": 34,
      "outputs": [
        {
          "output_type": "execute_result",
          "data": {
            "text/plain": [
              "((19802, 7), (6601, 7))"
            ]
          },
          "metadata": {
            "tags": []
          },
          "execution_count": 34
        }
      ]
    },
    {
      "cell_type": "code",
      "metadata": {
        "id": "IyKjPbu5Pv-N",
        "colab_type": "code",
        "colab": {}
      },
      "source": [
        "salary_map={'6to10':2, '10to15':3, '15to25':4, '3to6':1, '25to50':5, '0to3':0}\n",
        "y=y.map(salary_map)"
      ],
      "execution_count": 35,
      "outputs": []
    },
    {
      "cell_type": "code",
      "metadata": {
        "id": "X7aR2A3JA-Xo",
        "colab_type": "code",
        "colab": {}
      },
      "source": [
        "from sklearn.metrics import accuracy_score"
      ],
      "execution_count": 36,
      "outputs": []
    },
    {
      "cell_type": "code",
      "metadata": {
        "id": "MW4j3ffyAVSG",
        "colab_type": "code",
        "colab": {
          "base_uri": "https://localhost:8080/",
          "height": 204
        },
        "outputId": "b74d7dd9-db5b-4b32-a87b-582d21860cc8"
      },
      "source": [
        "submission=pd.read_excel('/content/sample_submission.xlsx')\n",
        "submission.head()"
      ],
      "execution_count": 37,
      "outputs": [
        {
          "output_type": "execute_result",
          "data": {
            "text/html": [
              "<div>\n",
              "<style scoped>\n",
              "    .dataframe tbody tr th:only-of-type {\n",
              "        vertical-align: middle;\n",
              "    }\n",
              "\n",
              "    .dataframe tbody tr th {\n",
              "        vertical-align: top;\n",
              "    }\n",
              "\n",
              "    .dataframe thead th {\n",
              "        text-align: right;\n",
              "    }\n",
              "</style>\n",
              "<table border=\"1\" class=\"dataframe\">\n",
              "  <thead>\n",
              "    <tr style=\"text-align: right;\">\n",
              "      <th></th>\n",
              "      <th>salary</th>\n",
              "    </tr>\n",
              "  </thead>\n",
              "  <tbody>\n",
              "    <tr>\n",
              "      <th>0</th>\n",
              "      <td>6to10</td>\n",
              "    </tr>\n",
              "    <tr>\n",
              "      <th>1</th>\n",
              "      <td>10to15</td>\n",
              "    </tr>\n",
              "    <tr>\n",
              "      <th>2</th>\n",
              "      <td>15to25</td>\n",
              "    </tr>\n",
              "    <tr>\n",
              "      <th>3</th>\n",
              "      <td>10to15</td>\n",
              "    </tr>\n",
              "    <tr>\n",
              "      <th>4</th>\n",
              "      <td>3to6</td>\n",
              "    </tr>\n",
              "  </tbody>\n",
              "</table>\n",
              "</div>"
            ],
            "text/plain": [
              "   salary\n",
              "0   6to10\n",
              "1  10to15\n",
              "2  15to25\n",
              "3  10to15\n",
              "4    3to6"
            ]
          },
          "metadata": {
            "tags": []
          },
          "execution_count": 37
        }
      ]
    },
    {
      "cell_type": "code",
      "metadata": {
        "id": "tQIVBafibTLh",
        "colab_type": "code",
        "colab": {}
      },
      "source": [
        "from sklearn.model_selection import train_test_split\n",
        "X_train,X_test,y_train,y_test=train_test_split(X,y,test_size=0.2,random_state=42)"
      ],
      "execution_count": 38,
      "outputs": []
    },
    {
      "cell_type": "code",
      "metadata": {
        "id": "gtINVoqCdaKG",
        "colab_type": "code",
        "colab": {
          "base_uri": "https://localhost:8080/",
          "height": 343
        },
        "outputId": "64919eff-3ef5-4296-9d83-6726b169db37"
      },
      "source": [
        "!pip install catboost"
      ],
      "execution_count": 41,
      "outputs": [
        {
          "output_type": "stream",
          "text": [
            "Collecting catboost\n",
            "\u001b[?25l  Downloading https://files.pythonhosted.org/packages/b2/aa/e61819d04ef2bbee778bf4b3a748db1f3ad23512377e43ecfdc3211437a0/catboost-0.23.2-cp36-none-manylinux1_x86_64.whl (64.8MB)\n",
            "\u001b[K     |████████████████████████████████| 64.8MB 60kB/s \n",
            "\u001b[?25hRequirement already satisfied: scipy in /usr/local/lib/python3.6/dist-packages (from catboost) (1.4.1)\n",
            "Requirement already satisfied: plotly in /usr/local/lib/python3.6/dist-packages (from catboost) (4.4.1)\n",
            "Requirement already satisfied: six in /usr/local/lib/python3.6/dist-packages (from catboost) (1.15.0)\n",
            "Requirement already satisfied: numpy>=1.16.0 in /usr/local/lib/python3.6/dist-packages (from catboost) (1.18.5)\n",
            "Requirement already satisfied: matplotlib in /usr/local/lib/python3.6/dist-packages (from catboost) (3.2.2)\n",
            "Requirement already satisfied: pandas>=0.24.0 in /usr/local/lib/python3.6/dist-packages (from catboost) (1.0.5)\n",
            "Requirement already satisfied: graphviz in /usr/local/lib/python3.6/dist-packages (from catboost) (0.10.1)\n",
            "Requirement already satisfied: retrying>=1.3.3 in /usr/local/lib/python3.6/dist-packages (from plotly->catboost) (1.3.3)\n",
            "Requirement already satisfied: python-dateutil>=2.1 in /usr/local/lib/python3.6/dist-packages (from matplotlib->catboost) (2.8.1)\n",
            "Requirement already satisfied: pyparsing!=2.0.4,!=2.1.2,!=2.1.6,>=2.0.1 in /usr/local/lib/python3.6/dist-packages (from matplotlib->catboost) (2.4.7)\n",
            "Requirement already satisfied: cycler>=0.10 in /usr/local/lib/python3.6/dist-packages (from matplotlib->catboost) (0.10.0)\n",
            "Requirement already satisfied: kiwisolver>=1.0.1 in /usr/local/lib/python3.6/dist-packages (from matplotlib->catboost) (1.2.0)\n",
            "Requirement already satisfied: pytz>=2017.2 in /usr/local/lib/python3.6/dist-packages (from pandas>=0.24.0->catboost) (2018.9)\n",
            "Installing collected packages: catboost\n",
            "Successfully installed catboost-0.23.2\n"
          ],
          "name": "stdout"
        }
      ]
    },
    {
      "cell_type": "code",
      "metadata": {
        "id": "Wng-4yjrbB_T",
        "colab_type": "code",
        "colab": {
          "base_uri": "https://localhost:8080/",
          "height": 309
        },
        "outputId": "20cf9a72-20d8-4aa6-f8d3-b94147f39ccc"
      },
      "source": [
        "from catboost import CatBoostClassifier\n",
        "m = CatBoostClassifier(n_estimators=5000,\n",
        "                           random_state=1994,\n",
        "                           eval_metric='Accuracy',\n",
        "                           learning_rate=0.03, \n",
        "                           max_depth=5,\n",
        "                           cat_features=[0,1,2,3,4])\n",
        "m.fit(X_train, y_train,\n",
        "          eval_set=[(X_train,y_train),(X_test, y_test)],\n",
        "          early_stopping_rounds=200,\n",
        "          verbose=200)\n",
        "accuracy_score(m.predict(X_test),y_test)"
      ],
      "execution_count": 42,
      "outputs": [
        {
          "output_type": "stream",
          "text": [
            "0:\tlearn: 0.3901900\ttest: 0.3905056\ttest1: 0.3766726\tbest: 0.3766726 (0)\ttotal: 175ms\tremaining: 14m 35s\n",
            "200:\tlearn: 0.4918250\ttest: 0.3148160\ttest1: 0.5054279\tbest: 0.5056804 (199)\ttotal: 19.6s\tremaining: 7m 48s\n",
            "400:\tlearn: 0.5156240\ttest: 0.2807272\ttest1: 0.5258773\tbest: 0.5263822 (370)\ttotal: 42.1s\tremaining: 8m 2s\n",
            "600:\tlearn: 0.5263557\ttest: 0.2790859\ttest1: 0.5339561\tbest: 0.5357233 (584)\ttotal: 1m 7s\tremaining: 8m 11s\n",
            "800:\tlearn: 0.5365192\ttest: 0.2794647\ttest1: 0.5385004\tbest: 0.5392578 (759)\ttotal: 1m 31s\tremaining: 7m 58s\n",
            "1000:\tlearn: 0.5439051\ttest: 0.2793384\ttest1: 0.5402676\tbest: 0.5410250 (953)\ttotal: 1m 55s\tremaining: 7m 40s\n",
            "1200:\tlearn: 0.5539423\ttest: 0.2794647\ttest1: 0.5432971\tbest: 0.5438021 (1148)\ttotal: 2m 20s\tremaining: 7m 23s\n",
            "1400:\tlearn: 0.5630958\ttest: 0.2778865\ttest1: 0.5453168\tbest: 0.5455693 (1364)\ttotal: 2m 44s\tremaining: 7m 3s\n",
            "1600:\tlearn: 0.5694716\ttest: 0.2780759\ttest1: 0.5455693\tbest: 0.5473365 (1462)\ttotal: 3m 9s\tremaining: 6m 41s\n",
            "Stopped by overfitting detector  (200 iterations wait)\n",
            "\n",
            "bestTest = 0.5473365312\n",
            "bestIteration = 1462\n",
            "\n",
            "Shrink model to first 1463 iterations.\n"
          ],
          "name": "stdout"
        },
        {
          "output_type": "execute_result",
          "data": {
            "text/plain": [
              "0.5473365311789952"
            ]
          },
          "metadata": {
            "tags": []
          },
          "execution_count": 42
        }
      ]
    },
    {
      "cell_type": "code",
      "metadata": {
        "id": "gGYyZ9OxLBvb",
        "colab_type": "code",
        "colab": {
          "base_uri": "https://localhost:8080/",
          "height": 1000
        },
        "outputId": "ffd83efb-c0af-4b32-c4c3-7e62244436ec"
      },
      "source": [
        "from catboost import CatBoostClassifier,Pool, cv\n",
        "errCB = []\n",
        "y_pred_tot_cb = []\n",
        "from sklearn.model_selection import KFold,StratifiedKFold\n",
        "\n",
        "fold = StratifiedKFold(n_splits=5)\n",
        "i = 1\n",
        "for train_index, test_index in fold.split(X,y):\n",
        "    x_train, x_val = X.iloc[train_index], X.iloc[test_index]\n",
        "    y_train, y_val = y[train_index], y[test_index]\n",
        "    m = CatBoostClassifier(n_estimators=1200,\n",
        "                           random_state=1994,\n",
        "                           eval_metric='Accuracy',\n",
        "                           learning_rate=0.03, \n",
        "                           max_depth=5,\n",
        "                           cat_features=[0,1,2,3,4])\n",
        "    m.fit(x_train, y_train,\n",
        "          eval_set=[(x_train,y_train),(x_val, y_val)],\n",
        "          early_stopping_rounds=200,\n",
        "          verbose=200)\n",
        "    pred_y = m.predict(x_val)\n",
        "    print(\"err_cb: \",accuracy_score(y_val,pred_y))\n",
        "    errCB.append(accuracy_score(y_val,pred_y))\n",
        "    pred_test = m.predict(test)\n",
        "    i = i + 1\n",
        "    y_pred_tot_cb.append(pred_test)"
      ],
      "execution_count": 48,
      "outputs": [
        {
          "output_type": "stream",
          "text": [
            "0:\tlearn: 0.3727669\ttest: 0.3829304\ttest1: 0.3726332\tbest: 0.3726332 (0)\ttotal: 99.3ms\tremaining: 1m 59s\n",
            "200:\tlearn: 0.4853229\ttest: 0.3331860\ttest1: 0.5152739\tbest: 0.5175461 (182)\ttotal: 19.8s\tremaining: 1m 38s\n",
            "400:\tlearn: 0.5056499\ttest: 0.3166467\ttest1: 0.5306741\tbest: 0.5306741 (400)\ttotal: 42.8s\tremaining: 1m 25s\n",
            "600:\tlearn: 0.5187804\ttest: 0.3018118\ttest1: 0.5379955\tbest: 0.5379955 (600)\ttotal: 1m 7s\tremaining: 1m 7s\n",
            "800:\tlearn: 0.5318477\ttest: 0.2948046\ttest1: 0.5407725\tbest: 0.5410250 (797)\ttotal: 1m 32s\tremaining: 46.1s\n",
            "1000:\tlearn: 0.5422006\ttest: 0.2951203\ttest1: 0.5405201\tbest: 0.5420348 (829)\ttotal: 1m 57s\tremaining: 23.3s\n",
            "Stopped by overfitting detector  (200 iterations wait)\n",
            "\n",
            "bestTest = 0.5420348397\n",
            "bestIteration = 829\n",
            "\n",
            "Shrink model to first 830 iterations.\n",
            "err_cb:  0.5420348396869478\n",
            "0:\tlearn: 0.3636134\ttest: 0.3692949\ttest1: 0.3643019\tbest: 0.3643019 (0)\ttotal: 102ms\tremaining: 2m 2s\n",
            "200:\tlearn: 0.4833028\ttest: 0.3339436\ttest1: 0.5142641\tbest: 0.5152739 (192)\ttotal: 19.8s\tremaining: 1m 38s\n",
            "400:\tlearn: 0.5050817\ttest: 0.3248532\ttest1: 0.5294118\tbest: 0.5306741 (383)\ttotal: 42.5s\tremaining: 1m 24s\n",
            "600:\tlearn: 0.5208005\ttest: 0.3063569\ttest1: 0.5420348\tbest: 0.5420348 (594)\ttotal: 1m 7s\tremaining: 1m 7s\n",
            "800:\tlearn: 0.5314690\ttest: 0.2993498\ttest1: 0.5430447\tbest: 0.5448119 (776)\ttotal: 1m 31s\tremaining: 45.7s\n",
            "1000:\tlearn: 0.5403699\ttest: 0.2951834\ttest1: 0.5496087\tbest: 0.5511235 (967)\ttotal: 1m 55s\tremaining: 23s\n",
            "1199:\tlearn: 0.5479452\ttest: 0.2969510\ttest1: 0.5536481\tbest: 0.5539005 (1182)\ttotal: 2m 20s\tremaining: 0us\n",
            "\n",
            "bestTest = 0.5539005302\n",
            "bestIteration = 1182\n",
            "\n",
            "Shrink model to first 1183 iterations.\n",
            "err_cb:  0.5539005301691492\n",
            "0:\tlearn: 0.3744477\ttest: 0.3846737\ttest1: 0.3992424\tbest: 0.3992424 (0)\ttotal: 96.7ms\tremaining: 1m 55s\n",
            "200:\tlearn: 0.4856079\ttest: 0.3305138\ttest1: 0.5267677\tbest: 0.5270202 (196)\ttotal: 19.6s\tremaining: 1m 37s\n",
            "400:\tlearn: 0.5061230\ttest: 0.2985103\ttest1: 0.5381313\tbest: 0.5388889 (355)\ttotal: 42s\tremaining: 1m 23s\n",
            "600:\tlearn: 0.5219038\ttest: 0.2904936\ttest1: 0.5479798\tbest: 0.5489899 (568)\ttotal: 1m 6s\tremaining: 1m 6s\n",
            "800:\tlearn: 0.5337079\ttest: 0.2892312\ttest1: 0.5550505\tbest: 0.5550505 (800)\ttotal: 1m 30s\tremaining: 45s\n",
            "1000:\tlearn: 0.5431764\ttest: 0.2872743\ttest1: 0.5578283\tbest: 0.5590909 (981)\ttotal: 1m 54s\tremaining: 22.7s\n",
            "1199:\tlearn: 0.5522030\ttest: 0.2834869\ttest1: 0.5580808\tbest: 0.5613636 (1094)\ttotal: 2m 18s\tremaining: 0us\n",
            "\n",
            "bestTest = 0.5613636364\n",
            "bestIteration = 1094\n",
            "\n",
            "Shrink model to first 1095 iterations.\n",
            "err_cb:  0.5613636363636364\n",
            "0:\tlearn: 0.3747633\ttest: 0.3870723\ttest1: 0.3767677\tbest: 0.3767677 (0)\ttotal: 97.7ms\tremaining: 1m 57s\n",
            "200:\tlearn: 0.4888903\ttest: 0.3467996\ttest1: 0.4997475\tbest: 0.5000000 (198)\ttotal: 19.6s\tremaining: 1m 37s\n",
            "400:\tlearn: 0.5100997\ttest: 0.3085469\ttest1: 0.5217172\tbest: 0.5232323 (379)\ttotal: 41.7s\tremaining: 1m 23s\n",
            "600:\tlearn: 0.5242394\ttest: 0.3010352\ttest1: 0.5330808\tbest: 0.5335859 (599)\ttotal: 1m 7s\tremaining: 1m 6s\n",
            "800:\tlearn: 0.5354122\ttest: 0.2933973\ttest1: 0.5373737\tbest: 0.5378788 (689)\ttotal: 1m 31s\tremaining: 45.6s\n",
            "1000:\tlearn: 0.5455119\ttest: 0.2922611\ttest1: 0.5376263\tbest: 0.5388889 (909)\ttotal: 1m 56s\tremaining: 23.1s\n",
            "1199:\tlearn: 0.5537811\ttest: 0.2928292\ttest1: 0.5406566\tbest: 0.5409091 (1195)\ttotal: 2m 20s\tremaining: 0us\n",
            "\n",
            "bestTest = 0.5409090909\n",
            "bestIteration = 1195\n",
            "\n",
            "Shrink model to first 1196 iterations.\n",
            "err_cb:  0.5409090909090909\n",
            "0:\tlearn: 0.3792450\ttest: 0.3873880\ttest1: 0.3898990\tbest: 0.3898990 (0)\ttotal: 99.8ms\tremaining: 1m 59s\n",
            "200:\tlearn: 0.4791062\ttest: 0.3035602\ttest1: 0.5348485\tbest: 0.5348485 (200)\ttotal: 20s\tremaining: 1m 39s\n",
            "400:\tlearn: 0.5059967\ttest: 0.2756596\ttest1: 0.5505051\tbest: 0.5507576 (397)\ttotal: 42.6s\tremaining: 1m 24s\n",
            "600:\tlearn: 0.5207676\ttest: 0.2774902\ttest1: 0.5580808\tbest: 0.5583333 (597)\ttotal: 1m 7s\tremaining: 1m 7s\n",
            "800:\tlearn: 0.5335816\ttest: 0.2786896\ttest1: 0.5588384\tbest: 0.5593434 (769)\ttotal: 1m 32s\tremaining: 45.9s\n",
            "1000:\tlearn: 0.5433657\ttest: 0.2768590\ttest1: 0.5603535\tbest: 0.5618687 (956)\ttotal: 1m 55s\tremaining: 23s\n",
            "1199:\tlearn: 0.5522661\ttest: 0.2791314\ttest1: 0.5633838\tbest: 0.5636364 (1177)\ttotal: 2m 19s\tremaining: 0us\n",
            "\n",
            "bestTest = 0.5636363636\n",
            "bestIteration = 1177\n",
            "\n",
            "Shrink model to first 1178 iterations.\n",
            "err_cb:  0.5636363636363636\n"
          ],
          "name": "stdout"
        }
      ]
    },
    {
      "cell_type": "code",
      "metadata": {
        "id": "AL9k-jvINhgV",
        "colab_type": "code",
        "colab": {
          "base_uri": "https://localhost:8080/",
          "height": 102
        },
        "outputId": "ef497580-a5ee-44a3-ea01-9a0b5cd916c9"
      },
      "source": [
        "errCB"
      ],
      "execution_count": 49,
      "outputs": [
        {
          "output_type": "execute_result",
          "data": {
            "text/plain": [
              "[0.5420348396869478,\n",
              " 0.5539005301691492,\n",
              " 0.5613636363636364,\n",
              " 0.5409090909090909,\n",
              " 0.5636363636363636]"
            ]
          },
          "metadata": {
            "tags": []
          },
          "execution_count": 49
        }
      ]
    },
    {
      "cell_type": "code",
      "metadata": {
        "id": "c_jocRvCP4th",
        "colab_type": "code",
        "colab": {}
      },
      "source": [
        "#submission['salary']=y_pred_tot_cb[-1]\n",
        "submission['salary']=np.mean(y_pred_tot_cb,0)\n",
        "#submission['salary']=m.predict(test)"
      ],
      "execution_count": 50,
      "outputs": []
    },
    {
      "cell_type": "code",
      "metadata": {
        "id": "-0g4X40_QVRr",
        "colab_type": "code",
        "colab": {
          "base_uri": "https://localhost:8080/",
          "height": 51
        },
        "outputId": "f8c5c76b-26f5-4872-e9a2-ef3293bc7f7b"
      },
      "source": [
        "submission['salary'].unique()"
      ],
      "execution_count": 51,
      "outputs": [
        {
          "output_type": "execute_result",
          "data": {
            "text/plain": [
              "array([4. , 0. , 3. , 2. , 5. , 3.2, 3.8, 3.6, 4.8, 1.6, 1. , 4.4, 4.6,\n",
              "       1.8, 0.8, 2.8, 2.4, 2.6, 0.6, 4.2, 3.4, 2.2, 1.4, 0.2, 1.2, 0.4])"
            ]
          },
          "metadata": {
            "tags": []
          },
          "execution_count": 51
        }
      ]
    },
    {
      "cell_type": "code",
      "metadata": {
        "id": "-P_CWqsLUAWA",
        "colab_type": "code",
        "colab": {}
      },
      "source": [
        "dict_ans={4. :4, 0.:0, 3.:3, 2.:2, 5.:5, 3.2:3, 3.8:4, 3.6:4, 4.8:5, 1.6:2, 1.:1 , 4.4:4, 4.6:5,\n",
        "       1.8:2, 0.8:1, 2.8:3, 2.4:2, 2.6:3, 0.6:1, 4.2:4, 3.4:3, 2.2:2, 1.4:1, 0.2:0, 1.2:1, 0.4:0}"
      ],
      "execution_count": 52,
      "outputs": []
    },
    {
      "cell_type": "code",
      "metadata": {
        "id": "bYoLJD39WXw7",
        "colab_type": "code",
        "colab": {}
      },
      "source": [
        "submission['salary']=submission['salary'].map(dict_ans)"
      ],
      "execution_count": 53,
      "outputs": []
    },
    {
      "cell_type": "code",
      "metadata": {
        "id": "3k9TRtU1W47P",
        "colab_type": "code",
        "colab": {}
      },
      "source": [
        "submission['salary']=submission['salary'].map({2:'6to10',3:'10to15', 4:'15to25',1:'3to6',5:'25to50',0:'0to3'})"
      ],
      "execution_count": 54,
      "outputs": []
    },
    {
      "cell_type": "code",
      "metadata": {
        "id": "XA4AUs_MWfog",
        "colab_type": "code",
        "colab": {
          "base_uri": "https://localhost:8080/",
          "height": 221
        },
        "outputId": "4ee21b0d-b8fe-4556-de3f-e6b77a34e7bb"
      },
      "source": [
        "submission['salary']"
      ],
      "execution_count": 55,
      "outputs": [
        {
          "output_type": "execute_result",
          "data": {
            "text/plain": [
              "0       15to25\n",
              "1         0to3\n",
              "2       10to15\n",
              "3         0to3\n",
              "4         0to3\n",
              "         ...  \n",
              "6596     6to10\n",
              "6597      3to6\n",
              "6598    15to25\n",
              "6599    15to25\n",
              "6600     6to10\n",
              "Name: salary, Length: 6601, dtype: object"
            ]
          },
          "metadata": {
            "tags": []
          },
          "execution_count": 55
        }
      ]
    },
    {
      "cell_type": "code",
      "metadata": {
        "id": "5hyg1naSW-of",
        "colab_type": "code",
        "colab": {}
      },
      "source": [
        "submission.to_csv('predsal_01.csv',index=False)"
      ],
      "execution_count": 56,
      "outputs": []
    }
  ]
}