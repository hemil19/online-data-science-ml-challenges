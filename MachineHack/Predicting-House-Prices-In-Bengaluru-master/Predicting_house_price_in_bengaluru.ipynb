{
  "nbformat": 4,
  "nbformat_minor": 0,
  "metadata": {
    "colab": {
      "name": "Predicting-house-price-in-bengaluru.ipynb",
      "provenance": [],
      "collapsed_sections": [],
      "authorship_tag": "ABX9TyOsTY0S+fx7dq/WO+6XE482",
      "include_colab_link": true
    },
    "kernelspec": {
      "name": "python3",
      "display_name": "Python 3"
    }
  },
  "cells": [
    {
      "cell_type": "markdown",
      "metadata": {
        "id": "view-in-github",
        "colab_type": "text"
      },
      "source": [
        "<a href=\"https://colab.research.google.com/github/hemil19/Predicting-House-Prices-In-Bengaluru/blob/master/Predicting_house_price_in_bengaluru.ipynb\" target=\"_parent\"><img src=\"https://colab.research.google.com/assets/colab-badge.svg\" alt=\"Open In Colab\"/></a>"
      ]
    },
    {
      "cell_type": "code",
      "metadata": {
        "id": "bNTf2L7rpHHi",
        "colab_type": "code",
        "colab": {}
      },
      "source": [
        "import pandas as pd\n",
        "import numpy as np\n",
        "import matplotlib.pyplot as plt\n",
        "%matplotlib inline"
      ],
      "execution_count": null,
      "outputs": []
    },
    {
      "cell_type": "code",
      "metadata": {
        "id": "qyiRMRbgpaT0",
        "colab_type": "code",
        "colab": {}
      },
      "source": [
        "train=pd.read_csv('/content/Train.csv')\n",
        "test=pd.read_csv('/content/Test.csv')"
      ],
      "execution_count": null,
      "outputs": []
    },
    {
      "cell_type": "code",
      "metadata": {
        "id": "hV3QveK6plwq",
        "colab_type": "code",
        "colab": {
          "base_uri": "https://localhost:8080/",
          "height": 272
        },
        "outputId": "4a662656-c741-4a3f-e88a-da621a7c8e49"
      },
      "source": [
        "train.head()"
      ],
      "execution_count": null,
      "outputs": [
        {
          "output_type": "execute_result",
          "data": {
            "text/html": [
              "<div>\n",
              "<style scoped>\n",
              "    .dataframe tbody tr th:only-of-type {\n",
              "        vertical-align: middle;\n",
              "    }\n",
              "\n",
              "    .dataframe tbody tr th {\n",
              "        vertical-align: top;\n",
              "    }\n",
              "\n",
              "    .dataframe thead th {\n",
              "        text-align: right;\n",
              "    }\n",
              "</style>\n",
              "<table border=\"1\" class=\"dataframe\">\n",
              "  <thead>\n",
              "    <tr style=\"text-align: right;\">\n",
              "      <th></th>\n",
              "      <th>area_type</th>\n",
              "      <th>availability</th>\n",
              "      <th>location</th>\n",
              "      <th>size</th>\n",
              "      <th>society</th>\n",
              "      <th>total_sqft</th>\n",
              "      <th>bath</th>\n",
              "      <th>balcony</th>\n",
              "      <th>price</th>\n",
              "    </tr>\n",
              "  </thead>\n",
              "  <tbody>\n",
              "    <tr>\n",
              "      <th>0</th>\n",
              "      <td>Super built-up  Area</td>\n",
              "      <td>19-Dec</td>\n",
              "      <td>Electronic City Phase II</td>\n",
              "      <td>2 BHK</td>\n",
              "      <td>Coomee</td>\n",
              "      <td>1056</td>\n",
              "      <td>2.0</td>\n",
              "      <td>1.0</td>\n",
              "      <td>39.07</td>\n",
              "    </tr>\n",
              "    <tr>\n",
              "      <th>1</th>\n",
              "      <td>Plot  Area</td>\n",
              "      <td>Ready To Move</td>\n",
              "      <td>Chikka Tirupathi</td>\n",
              "      <td>4 Bedroom</td>\n",
              "      <td>Theanmp</td>\n",
              "      <td>2600</td>\n",
              "      <td>5.0</td>\n",
              "      <td>3.0</td>\n",
              "      <td>120.00</td>\n",
              "    </tr>\n",
              "    <tr>\n",
              "      <th>2</th>\n",
              "      <td>Built-up  Area</td>\n",
              "      <td>Ready To Move</td>\n",
              "      <td>Uttarahalli</td>\n",
              "      <td>3 BHK</td>\n",
              "      <td>NaN</td>\n",
              "      <td>1440</td>\n",
              "      <td>2.0</td>\n",
              "      <td>3.0</td>\n",
              "      <td>62.00</td>\n",
              "    </tr>\n",
              "    <tr>\n",
              "      <th>3</th>\n",
              "      <td>Super built-up  Area</td>\n",
              "      <td>Ready To Move</td>\n",
              "      <td>Lingadheeranahalli</td>\n",
              "      <td>3 BHK</td>\n",
              "      <td>Soiewre</td>\n",
              "      <td>1521</td>\n",
              "      <td>3.0</td>\n",
              "      <td>1.0</td>\n",
              "      <td>95.00</td>\n",
              "    </tr>\n",
              "    <tr>\n",
              "      <th>4</th>\n",
              "      <td>Super built-up  Area</td>\n",
              "      <td>Ready To Move</td>\n",
              "      <td>Kothanur</td>\n",
              "      <td>2 BHK</td>\n",
              "      <td>NaN</td>\n",
              "      <td>1200</td>\n",
              "      <td>2.0</td>\n",
              "      <td>1.0</td>\n",
              "      <td>51.00</td>\n",
              "    </tr>\n",
              "  </tbody>\n",
              "</table>\n",
              "</div>"
            ],
            "text/plain": [
              "              area_type   availability  ... balcony   price\n",
              "0  Super built-up  Area         19-Dec  ...     1.0   39.07\n",
              "1            Plot  Area  Ready To Move  ...     3.0  120.00\n",
              "2        Built-up  Area  Ready To Move  ...     3.0   62.00\n",
              "3  Super built-up  Area  Ready To Move  ...     1.0   95.00\n",
              "4  Super built-up  Area  Ready To Move  ...     1.0   51.00\n",
              "\n",
              "[5 rows x 9 columns]"
            ]
          },
          "metadata": {
            "tags": []
          },
          "execution_count": 85
        }
      ]
    },
    {
      "cell_type": "code",
      "metadata": {
        "id": "5-pp-_zYpodZ",
        "colab_type": "code",
        "colab": {
          "base_uri": "https://localhost:8080/",
          "height": 34
        },
        "outputId": "4993c66c-f1cc-477b-c137-67ca77e89847"
      },
      "source": [
        "train.shape,test.shape"
      ],
      "execution_count": null,
      "outputs": [
        {
          "output_type": "execute_result",
          "data": {
            "text/plain": [
              "((13320, 9), (1480, 9))"
            ]
          },
          "metadata": {
            "tags": []
          },
          "execution_count": 86
        }
      ]
    },
    {
      "cell_type": "code",
      "metadata": {
        "id": "y_uuUIp6pzyK",
        "colab_type": "code",
        "colab": {
          "base_uri": "https://localhost:8080/",
          "height": 187
        },
        "outputId": "a45ee803-d8c4-4716-d42d-7f7ae0b0f453"
      },
      "source": [
        "train.isnull().sum()"
      ],
      "execution_count": null,
      "outputs": [
        {
          "output_type": "execute_result",
          "data": {
            "text/plain": [
              "area_type          0\n",
              "availability       0\n",
              "location           1\n",
              "size              16\n",
              "society         5502\n",
              "total_sqft         0\n",
              "bath              73\n",
              "balcony          609\n",
              "price              0\n",
              "dtype: int64"
            ]
          },
          "metadata": {
            "tags": []
          },
          "execution_count": 87
        }
      ]
    },
    {
      "cell_type": "code",
      "metadata": {
        "id": "VRYthv8Bp2mR",
        "colab_type": "code",
        "colab": {
          "base_uri": "https://localhost:8080/",
          "height": 187
        },
        "outputId": "1c6a5263-3b83-4d9b-8f08-fb94c21014fb"
      },
      "source": [
        "test.isnull().sum()"
      ],
      "execution_count": null,
      "outputs": [
        {
          "output_type": "execute_result",
          "data": {
            "text/plain": [
              "area_type          0\n",
              "availability       0\n",
              "location           0\n",
              "size               2\n",
              "society          626\n",
              "total_sqft         0\n",
              "bath               7\n",
              "balcony           69\n",
              "price           1480\n",
              "dtype: int64"
            ]
          },
          "metadata": {
            "tags": []
          },
          "execution_count": 88
        }
      ]
    },
    {
      "cell_type": "code",
      "metadata": {
        "id": "EUMFhJ1mp4nB",
        "colab_type": "code",
        "colab": {}
      },
      "source": [
        "combine=train.append(test)"
      ],
      "execution_count": null,
      "outputs": []
    },
    {
      "cell_type": "code",
      "metadata": {
        "id": "4rDEpZAirSHw",
        "colab_type": "code",
        "colab": {
          "base_uri": "https://localhost:8080/",
          "height": 187
        },
        "outputId": "bb5e2424-befa-4a5f-bccc-12a7a87d51f7"
      },
      "source": [
        "combine.isnull().sum()"
      ],
      "execution_count": null,
      "outputs": [
        {
          "output_type": "execute_result",
          "data": {
            "text/plain": [
              "area_type          0\n",
              "availability       0\n",
              "location           1\n",
              "size              18\n",
              "society         6128\n",
              "total_sqft         0\n",
              "bath              80\n",
              "balcony          678\n",
              "price           1480\n",
              "dtype: int64"
            ]
          },
          "metadata": {
            "tags": []
          },
          "execution_count": 90
        }
      ]
    },
    {
      "cell_type": "code",
      "metadata": {
        "id": "SlZuSquDsp6N",
        "colab_type": "code",
        "colab": {
          "base_uri": "https://localhost:8080/",
          "height": 272
        },
        "outputId": "77427fec-1277-46bb-97a4-9cb80491ebfc"
      },
      "source": [
        "combine.head()"
      ],
      "execution_count": null,
      "outputs": [
        {
          "output_type": "execute_result",
          "data": {
            "text/html": [
              "<div>\n",
              "<style scoped>\n",
              "    .dataframe tbody tr th:only-of-type {\n",
              "        vertical-align: middle;\n",
              "    }\n",
              "\n",
              "    .dataframe tbody tr th {\n",
              "        vertical-align: top;\n",
              "    }\n",
              "\n",
              "    .dataframe thead th {\n",
              "        text-align: right;\n",
              "    }\n",
              "</style>\n",
              "<table border=\"1\" class=\"dataframe\">\n",
              "  <thead>\n",
              "    <tr style=\"text-align: right;\">\n",
              "      <th></th>\n",
              "      <th>area_type</th>\n",
              "      <th>availability</th>\n",
              "      <th>location</th>\n",
              "      <th>size</th>\n",
              "      <th>society</th>\n",
              "      <th>total_sqft</th>\n",
              "      <th>bath</th>\n",
              "      <th>balcony</th>\n",
              "      <th>price</th>\n",
              "    </tr>\n",
              "  </thead>\n",
              "  <tbody>\n",
              "    <tr>\n",
              "      <th>0</th>\n",
              "      <td>Super built-up  Area</td>\n",
              "      <td>19-Dec</td>\n",
              "      <td>Electronic City Phase II</td>\n",
              "      <td>2 BHK</td>\n",
              "      <td>Coomee</td>\n",
              "      <td>1056</td>\n",
              "      <td>2.0</td>\n",
              "      <td>1.0</td>\n",
              "      <td>39.07</td>\n",
              "    </tr>\n",
              "    <tr>\n",
              "      <th>1</th>\n",
              "      <td>Plot  Area</td>\n",
              "      <td>Ready To Move</td>\n",
              "      <td>Chikka Tirupathi</td>\n",
              "      <td>4 Bedroom</td>\n",
              "      <td>Theanmp</td>\n",
              "      <td>2600</td>\n",
              "      <td>5.0</td>\n",
              "      <td>3.0</td>\n",
              "      <td>120.00</td>\n",
              "    </tr>\n",
              "    <tr>\n",
              "      <th>2</th>\n",
              "      <td>Built-up  Area</td>\n",
              "      <td>Ready To Move</td>\n",
              "      <td>Uttarahalli</td>\n",
              "      <td>3 BHK</td>\n",
              "      <td>NaN</td>\n",
              "      <td>1440</td>\n",
              "      <td>2.0</td>\n",
              "      <td>3.0</td>\n",
              "      <td>62.00</td>\n",
              "    </tr>\n",
              "    <tr>\n",
              "      <th>3</th>\n",
              "      <td>Super built-up  Area</td>\n",
              "      <td>Ready To Move</td>\n",
              "      <td>Lingadheeranahalli</td>\n",
              "      <td>3 BHK</td>\n",
              "      <td>Soiewre</td>\n",
              "      <td>1521</td>\n",
              "      <td>3.0</td>\n",
              "      <td>1.0</td>\n",
              "      <td>95.00</td>\n",
              "    </tr>\n",
              "    <tr>\n",
              "      <th>4</th>\n",
              "      <td>Super built-up  Area</td>\n",
              "      <td>Ready To Move</td>\n",
              "      <td>Kothanur</td>\n",
              "      <td>2 BHK</td>\n",
              "      <td>NaN</td>\n",
              "      <td>1200</td>\n",
              "      <td>2.0</td>\n",
              "      <td>1.0</td>\n",
              "      <td>51.00</td>\n",
              "    </tr>\n",
              "  </tbody>\n",
              "</table>\n",
              "</div>"
            ],
            "text/plain": [
              "              area_type   availability  ... balcony   price\n",
              "0  Super built-up  Area         19-Dec  ...     1.0   39.07\n",
              "1            Plot  Area  Ready To Move  ...     3.0  120.00\n",
              "2        Built-up  Area  Ready To Move  ...     3.0   62.00\n",
              "3  Super built-up  Area  Ready To Move  ...     1.0   95.00\n",
              "4  Super built-up  Area  Ready To Move  ...     1.0   51.00\n",
              "\n",
              "[5 rows x 9 columns]"
            ]
          },
          "metadata": {
            "tags": []
          },
          "execution_count": 91
        }
      ]
    },
    {
      "cell_type": "code",
      "metadata": {
        "id": "kuJjmbrzvOQY",
        "colab_type": "code",
        "colab": {}
      },
      "source": [
        "combine.reset_index(inplace=True)"
      ],
      "execution_count": null,
      "outputs": []
    },
    {
      "cell_type": "code",
      "metadata": {
        "id": "OTw_rwi_JCQR",
        "colab_type": "code",
        "colab": {}
      },
      "source": [
        "#import re\n",
        "#combine['location']=[re.sub(r\" ?\\([^)]+\\)\", \"\",str(i)) for i in combine['location']]"
      ],
      "execution_count": null,
      "outputs": []
    },
    {
      "cell_type": "code",
      "metadata": {
        "id": "T1oR36BFqn0u",
        "colab_type": "code",
        "colab": {}
      },
      "source": [
        "combine['location'].fillna(combine['location'].mode()[0],inplace=True)"
      ],
      "execution_count": null,
      "outputs": []
    },
    {
      "cell_type": "code",
      "metadata": {
        "id": "gd3QEIc8wHtF",
        "colab_type": "code",
        "colab": {}
      },
      "source": [
        "sqft=[]\n",
        "for i in combine['total_sqft']:\n",
        "  if len(i.split('-'))>1:\n",
        "    numbers=[float(i) for i in i.split('-')]  \n",
        "    sqft.append(np.mean(numbers))\n",
        "  elif i[-5:]=='Perch':\n",
        "    sqft.append(368.01*float(i[:-5]))\n",
        "  elif i[-9:]=='Sq. Yards':\n",
        "    sqft.append(9*float(i[:-9]))\n",
        "  elif i[-5:]=='Acres':\n",
        "    sqft.append(43560*float(i[:-5]))\n",
        "  elif i[-5:]=='Cents':\n",
        "    sqft.append(435.6*float(i[:-5]))\n",
        "  elif i[-6:]=='Guntha':\n",
        "    sqft.append(1089*float(i[:-6]))\n",
        "  elif i[-7:]=='Grounds':\n",
        "    sqft.append(2400*float(i[:-7]))\n",
        "  else:\n",
        "    sqft.append(10.76*float(i.replace('Sq. Meter','')))\n",
        "  #9"
      ],
      "execution_count": null,
      "outputs": []
    },
    {
      "cell_type": "code",
      "metadata": {
        "id": "jBay1VWwv8QG",
        "colab_type": "code",
        "colab": {}
      },
      "source": [
        "combine['total_sqft']=sqft"
      ],
      "execution_count": null,
      "outputs": []
    },
    {
      "cell_type": "code",
      "metadata": {
        "id": "BNbgKb-U1hvZ",
        "colab_type": "code",
        "colab": {
          "base_uri": "https://localhost:8080/",
          "height": 272
        },
        "outputId": "46b4f8df-7aae-4cfc-a1c5-ea2e1dc63b31"
      },
      "source": [
        "combine.head()"
      ],
      "execution_count": null,
      "outputs": [
        {
          "output_type": "execute_result",
          "data": {
            "text/html": [
              "<div>\n",
              "<style scoped>\n",
              "    .dataframe tbody tr th:only-of-type {\n",
              "        vertical-align: middle;\n",
              "    }\n",
              "\n",
              "    .dataframe tbody tr th {\n",
              "        vertical-align: top;\n",
              "    }\n",
              "\n",
              "    .dataframe thead th {\n",
              "        text-align: right;\n",
              "    }\n",
              "</style>\n",
              "<table border=\"1\" class=\"dataframe\">\n",
              "  <thead>\n",
              "    <tr style=\"text-align: right;\">\n",
              "      <th></th>\n",
              "      <th>index</th>\n",
              "      <th>area_type</th>\n",
              "      <th>availability</th>\n",
              "      <th>location</th>\n",
              "      <th>size</th>\n",
              "      <th>society</th>\n",
              "      <th>total_sqft</th>\n",
              "      <th>bath</th>\n",
              "      <th>balcony</th>\n",
              "      <th>price</th>\n",
              "    </tr>\n",
              "  </thead>\n",
              "  <tbody>\n",
              "    <tr>\n",
              "      <th>0</th>\n",
              "      <td>0</td>\n",
              "      <td>Super built-up  Area</td>\n",
              "      <td>19-Dec</td>\n",
              "      <td>Electronic City Phase II</td>\n",
              "      <td>2 BHK</td>\n",
              "      <td>Coomee</td>\n",
              "      <td>11362.56</td>\n",
              "      <td>2.0</td>\n",
              "      <td>1.0</td>\n",
              "      <td>39.07</td>\n",
              "    </tr>\n",
              "    <tr>\n",
              "      <th>1</th>\n",
              "      <td>1</td>\n",
              "      <td>Plot  Area</td>\n",
              "      <td>Ready To Move</td>\n",
              "      <td>Chikka Tirupathi</td>\n",
              "      <td>4 Bedroom</td>\n",
              "      <td>Theanmp</td>\n",
              "      <td>27976.00</td>\n",
              "      <td>5.0</td>\n",
              "      <td>3.0</td>\n",
              "      <td>120.00</td>\n",
              "    </tr>\n",
              "    <tr>\n",
              "      <th>2</th>\n",
              "      <td>2</td>\n",
              "      <td>Built-up  Area</td>\n",
              "      <td>Ready To Move</td>\n",
              "      <td>Uttarahalli</td>\n",
              "      <td>3 BHK</td>\n",
              "      <td>NaN</td>\n",
              "      <td>15494.40</td>\n",
              "      <td>2.0</td>\n",
              "      <td>3.0</td>\n",
              "      <td>62.00</td>\n",
              "    </tr>\n",
              "    <tr>\n",
              "      <th>3</th>\n",
              "      <td>3</td>\n",
              "      <td>Super built-up  Area</td>\n",
              "      <td>Ready To Move</td>\n",
              "      <td>Lingadheeranahalli</td>\n",
              "      <td>3 BHK</td>\n",
              "      <td>Soiewre</td>\n",
              "      <td>16365.96</td>\n",
              "      <td>3.0</td>\n",
              "      <td>1.0</td>\n",
              "      <td>95.00</td>\n",
              "    </tr>\n",
              "    <tr>\n",
              "      <th>4</th>\n",
              "      <td>4</td>\n",
              "      <td>Super built-up  Area</td>\n",
              "      <td>Ready To Move</td>\n",
              "      <td>Kothanur</td>\n",
              "      <td>2 BHK</td>\n",
              "      <td>NaN</td>\n",
              "      <td>12912.00</td>\n",
              "      <td>2.0</td>\n",
              "      <td>1.0</td>\n",
              "      <td>51.00</td>\n",
              "    </tr>\n",
              "  </tbody>\n",
              "</table>\n",
              "</div>"
            ],
            "text/plain": [
              "   index             area_type   availability  ... bath balcony   price\n",
              "0      0  Super built-up  Area         19-Dec  ...  2.0     1.0   39.07\n",
              "1      1            Plot  Area  Ready To Move  ...  5.0     3.0  120.00\n",
              "2      2        Built-up  Area  Ready To Move  ...  2.0     3.0   62.00\n",
              "3      3  Super built-up  Area  Ready To Move  ...  3.0     1.0   95.00\n",
              "4      4  Super built-up  Area  Ready To Move  ...  2.0     1.0   51.00\n",
              "\n",
              "[5 rows x 10 columns]"
            ]
          },
          "metadata": {
            "tags": []
          },
          "execution_count": 97
        }
      ]
    },
    {
      "cell_type": "code",
      "metadata": {
        "id": "Y2NVUwT71k1Q",
        "colab_type": "code",
        "colab": {
          "base_uri": "https://localhost:8080/",
          "height": 204
        },
        "outputId": "3e5d31c1-bccc-4e0f-b8d0-83fee5b91e48"
      },
      "source": [
        "combine.dtypes"
      ],
      "execution_count": null,
      "outputs": [
        {
          "output_type": "execute_result",
          "data": {
            "text/plain": [
              "index             int64\n",
              "area_type        object\n",
              "availability     object\n",
              "location         object\n",
              "size             object\n",
              "society          object\n",
              "total_sqft      float64\n",
              "bath            float64\n",
              "balcony         float64\n",
              "price           float64\n",
              "dtype: object"
            ]
          },
          "metadata": {
            "tags": []
          },
          "execution_count": 98
        }
      ]
    },
    {
      "cell_type": "code",
      "metadata": {
        "id": "oRkn5lZCuUMZ",
        "colab_type": "code",
        "colab": {}
      },
      "source": [
        "missingsize_index=combine['size'].isna()[combine['size'].isna()==True].index"
      ],
      "execution_count": null,
      "outputs": []
    },
    {
      "cell_type": "code",
      "metadata": {
        "id": "w1cf8BzevmRn",
        "colab_type": "code",
        "colab": {
          "base_uri": "https://localhost:8080/",
          "height": 68
        },
        "outputId": "b4d2a0d0-33be-4ffc-b823-f986fd18ca05"
      },
      "source": [
        "missingsize_index"
      ],
      "execution_count": null,
      "outputs": [
        {
          "output_type": "execute_result",
          "data": {
            "text/plain": [
              "Int64Index([  579,  1775,  2264,  2809,  2862,  5333,  6423,  6636,  6719,\n",
              "             7680,  8306,  8565,  8703, 10634, 11019, 11569, 13471, 14480],\n",
              "           dtype='int64')"
            ]
          },
          "metadata": {
            "tags": []
          },
          "execution_count": 100
        }
      ]
    },
    {
      "cell_type": "code",
      "metadata": {
        "id": "M0qsD8F44xwm",
        "colab_type": "code",
        "colab": {}
      },
      "source": [
        "k=combine.groupby('location').agg({'size':pd.Series.mode}).reset_index()"
      ],
      "execution_count": null,
      "outputs": []
    },
    {
      "cell_type": "code",
      "metadata": {
        "id": "Zb9ozyop4laf",
        "colab_type": "code",
        "colab": {}
      },
      "source": [
        "for i in missingsize_index:\n",
        "  try:\n",
        "    combine.loc[i,'size']=k[k['location']==combine.loc[i,'location']]['size']\n",
        "  except:\n",
        "    combine.loc[i,'size']=combine['size'].mode()[0]"
      ],
      "execution_count": null,
      "outputs": []
    },
    {
      "cell_type": "code",
      "metadata": {
        "id": "llp7gJ864r2z",
        "colab_type": "code",
        "colab": {
          "base_uri": "https://localhost:8080/",
          "height": 204
        },
        "outputId": "f96a2eab-be82-43d2-df25-a8910afecefe"
      },
      "source": [
        "combine.isnull().sum()"
      ],
      "execution_count": null,
      "outputs": [
        {
          "output_type": "execute_result",
          "data": {
            "text/plain": [
              "index              0\n",
              "area_type          0\n",
              "availability       0\n",
              "location           0\n",
              "size               0\n",
              "society         6128\n",
              "total_sqft         0\n",
              "bath              80\n",
              "balcony          678\n",
              "price           1480\n",
              "dtype: int64"
            ]
          },
          "metadata": {
            "tags": []
          },
          "execution_count": 103
        }
      ]
    },
    {
      "cell_type": "code",
      "metadata": {
        "id": "EDzkqQk66RaJ",
        "colab_type": "code",
        "colab": {}
      },
      "source": [
        "h=combine.groupby('area_type').agg({'society':pd.Series.mode})"
      ],
      "execution_count": null,
      "outputs": []
    },
    {
      "cell_type": "code",
      "metadata": {
        "id": "x894pQ7S8Vh4",
        "colab_type": "code",
        "colab": {}
      },
      "source": [
        "mapping={}\n",
        "for i in range(len(h)):\n",
        "  mapping[h.index[i]]=h['society'][i]"
      ],
      "execution_count": null,
      "outputs": []
    },
    {
      "cell_type": "code",
      "metadata": {
        "id": "8aBTql7_6c73",
        "colab_type": "code",
        "colab": {}
      },
      "source": [
        "missingsociety_index=combine['society'].isna()[combine['society'].isna()==True].index"
      ],
      "execution_count": null,
      "outputs": []
    },
    {
      "cell_type": "code",
      "metadata": {
        "id": "_SvA_Cas6nMZ",
        "colab_type": "code",
        "colab": {
          "base_uri": "https://localhost:8080/",
          "height": 119
        },
        "outputId": "52070e6c-8b22-4610-a7e5-db8dc580fd6e"
      },
      "source": [
        "missingsociety_index"
      ],
      "execution_count": null,
      "outputs": [
        {
          "output_type": "execute_result",
          "data": {
            "text/plain": [
              "Int64Index([    2,     4,     8,     9,    10,    13,    19,    20,    23,\n",
              "               25,\n",
              "            ...\n",
              "            14779, 14782, 14783, 14784, 14786, 14787, 14789, 14792, 14793,\n",
              "            14796],\n",
              "           dtype='int64', length=6128)"
            ]
          },
          "metadata": {
            "tags": []
          },
          "execution_count": 107
        }
      ]
    },
    {
      "cell_type": "code",
      "metadata": {
        "id": "yK2TrbLb6osw",
        "colab_type": "code",
        "colab": {}
      },
      "source": [
        "for i in missingsociety_index:\n",
        "    combine.loc[i,'society']=mapping[combine.loc[i,'area_type']]"
      ],
      "execution_count": null,
      "outputs": []
    },
    {
      "cell_type": "code",
      "metadata": {
        "id": "xNjhudSj6vzJ",
        "colab_type": "code",
        "colab": {
          "base_uri": "https://localhost:8080/",
          "height": 204
        },
        "outputId": "1000f80a-0454-4b5a-9778-8c1cf98db37f"
      },
      "source": [
        "combine.isnull().sum()"
      ],
      "execution_count": null,
      "outputs": [
        {
          "output_type": "execute_result",
          "data": {
            "text/plain": [
              "index              0\n",
              "area_type          0\n",
              "availability       0\n",
              "location           0\n",
              "size               0\n",
              "society            0\n",
              "total_sqft         0\n",
              "bath              80\n",
              "balcony          678\n",
              "price           1480\n",
              "dtype: int64"
            ]
          },
          "metadata": {
            "tags": []
          },
          "execution_count": 109
        }
      ]
    },
    {
      "cell_type": "code",
      "metadata": {
        "id": "pDar_zME9NOf",
        "colab_type": "code",
        "colab": {
          "base_uri": "https://localhost:8080/",
          "height": 204
        },
        "outputId": "84e1aba5-4fba-4592-f156-ac425c6da8c3"
      },
      "source": [
        "combine.dtypes"
      ],
      "execution_count": null,
      "outputs": [
        {
          "output_type": "execute_result",
          "data": {
            "text/plain": [
              "index             int64\n",
              "area_type        object\n",
              "availability     object\n",
              "location         object\n",
              "size             object\n",
              "society          object\n",
              "total_sqft      float64\n",
              "bath            float64\n",
              "balcony         float64\n",
              "price           float64\n",
              "dtype: object"
            ]
          },
          "metadata": {
            "tags": []
          },
          "execution_count": 110
        }
      ]
    },
    {
      "cell_type": "code",
      "metadata": {
        "id": "G7mvl07c9acU",
        "colab_type": "code",
        "colab": {
          "base_uri": "https://localhost:8080/",
          "height": 297
        },
        "outputId": "7ab97b9d-7180-473e-d691-165450cc5ab8"
      },
      "source": [
        "combine.describe()"
      ],
      "execution_count": null,
      "outputs": [
        {
          "output_type": "execute_result",
          "data": {
            "text/html": [
              "<div>\n",
              "<style scoped>\n",
              "    .dataframe tbody tr th:only-of-type {\n",
              "        vertical-align: middle;\n",
              "    }\n",
              "\n",
              "    .dataframe tbody tr th {\n",
              "        vertical-align: top;\n",
              "    }\n",
              "\n",
              "    .dataframe thead th {\n",
              "        text-align: right;\n",
              "    }\n",
              "</style>\n",
              "<table border=\"1\" class=\"dataframe\">\n",
              "  <thead>\n",
              "    <tr style=\"text-align: right;\">\n",
              "      <th></th>\n",
              "      <th>index</th>\n",
              "      <th>total_sqft</th>\n",
              "      <th>bath</th>\n",
              "      <th>balcony</th>\n",
              "      <th>price</th>\n",
              "    </tr>\n",
              "  </thead>\n",
              "  <tbody>\n",
              "    <tr>\n",
              "      <th>count</th>\n",
              "      <td>14800.000000</td>\n",
              "      <td>1.480000e+04</td>\n",
              "      <td>14720.000000</td>\n",
              "      <td>14122.000000</td>\n",
              "      <td>13320.000000</td>\n",
              "    </tr>\n",
              "    <tr>\n",
              "      <th>mean</th>\n",
              "      <td>6067.500000</td>\n",
              "      <td>1.680538e+04</td>\n",
              "      <td>2.698709</td>\n",
              "      <td>1.582141</td>\n",
              "      <td>112.565627</td>\n",
              "    </tr>\n",
              "    <tr>\n",
              "      <th>std</th>\n",
              "      <td>4059.584065</td>\n",
              "      <td>2.232502e+04</td>\n",
              "      <td>1.343932</td>\n",
              "      <td>0.819147</td>\n",
              "      <td>148.971674</td>\n",
              "    </tr>\n",
              "    <tr>\n",
              "      <th>min</th>\n",
              "      <td>0.000000</td>\n",
              "      <td>1.076000e+01</td>\n",
              "      <td>1.000000</td>\n",
              "      <td>0.000000</td>\n",
              "      <td>8.000000</td>\n",
              "    </tr>\n",
              "    <tr>\n",
              "      <th>25%</th>\n",
              "      <td>2219.750000</td>\n",
              "      <td>1.179296e+04</td>\n",
              "      <td>2.000000</td>\n",
              "      <td>1.000000</td>\n",
              "      <td>50.000000</td>\n",
              "    </tr>\n",
              "    <tr>\n",
              "      <th>50%</th>\n",
              "      <td>5919.500000</td>\n",
              "      <td>1.364368e+04</td>\n",
              "      <td>2.000000</td>\n",
              "      <td>2.000000</td>\n",
              "      <td>72.000000</td>\n",
              "    </tr>\n",
              "    <tr>\n",
              "      <th>75%</th>\n",
              "      <td>9619.250000</td>\n",
              "      <td>1.791540e+04</td>\n",
              "      <td>3.000000</td>\n",
              "      <td>2.000000</td>\n",
              "      <td>120.000000</td>\n",
              "    </tr>\n",
              "    <tr>\n",
              "      <th>max</th>\n",
              "      <td>13319.000000</td>\n",
              "      <td>1.518041e+06</td>\n",
              "      <td>40.000000</td>\n",
              "      <td>3.000000</td>\n",
              "      <td>3600.000000</td>\n",
              "    </tr>\n",
              "  </tbody>\n",
              "</table>\n",
              "</div>"
            ],
            "text/plain": [
              "              index    total_sqft          bath       balcony         price\n",
              "count  14800.000000  1.480000e+04  14720.000000  14122.000000  13320.000000\n",
              "mean    6067.500000  1.680538e+04      2.698709      1.582141    112.565627\n",
              "std     4059.584065  2.232502e+04      1.343932      0.819147    148.971674\n",
              "min        0.000000  1.076000e+01      1.000000      0.000000      8.000000\n",
              "25%     2219.750000  1.179296e+04      2.000000      1.000000     50.000000\n",
              "50%     5919.500000  1.364368e+04      2.000000      2.000000     72.000000\n",
              "75%     9619.250000  1.791540e+04      3.000000      2.000000    120.000000\n",
              "max    13319.000000  1.518041e+06     40.000000      3.000000   3600.000000"
            ]
          },
          "metadata": {
            "tags": []
          },
          "execution_count": 111
        }
      ]
    },
    {
      "cell_type": "code",
      "metadata": {
        "id": "wV-jXK9X9Qmx",
        "colab_type": "code",
        "colab": {}
      },
      "source": [
        "combine['bath'].fillna(combine['bath'].median(),inplace=True)\n",
        "combine['balcony'].fillna(combine['balcony'].median(),inplace=True)"
      ],
      "execution_count": null,
      "outputs": []
    },
    {
      "cell_type": "code",
      "metadata": {
        "id": "WtIdPD_T9hsB",
        "colab_type": "code",
        "colab": {
          "base_uri": "https://localhost:8080/",
          "height": 204
        },
        "outputId": "7d3a09e7-a45d-48ee-f433-b32e845912de"
      },
      "source": [
        "combine.isnull().sum()"
      ],
      "execution_count": null,
      "outputs": [
        {
          "output_type": "execute_result",
          "data": {
            "text/plain": [
              "index              0\n",
              "area_type          0\n",
              "availability       0\n",
              "location           0\n",
              "size               0\n",
              "society            0\n",
              "total_sqft         0\n",
              "bath               0\n",
              "balcony            0\n",
              "price           1480\n",
              "dtype: int64"
            ]
          },
          "metadata": {
            "tags": []
          },
          "execution_count": 113
        }
      ]
    },
    {
      "cell_type": "code",
      "metadata": {
        "id": "dPqBCAXa9lDi",
        "colab_type": "code",
        "colab": {
          "base_uri": "https://localhost:8080/",
          "height": 80
        },
        "outputId": "b5cc8a60-8224-4901-965b-687cfe541d0c"
      },
      "source": [
        "combine[combine['size']=='43 Bedroom']"
      ],
      "execution_count": null,
      "outputs": [
        {
          "output_type": "execute_result",
          "data": {
            "text/html": [
              "<div>\n",
              "<style scoped>\n",
              "    .dataframe tbody tr th:only-of-type {\n",
              "        vertical-align: middle;\n",
              "    }\n",
              "\n",
              "    .dataframe tbody tr th {\n",
              "        vertical-align: top;\n",
              "    }\n",
              "\n",
              "    .dataframe thead th {\n",
              "        text-align: right;\n",
              "    }\n",
              "</style>\n",
              "<table border=\"1\" class=\"dataframe\">\n",
              "  <thead>\n",
              "    <tr style=\"text-align: right;\">\n",
              "      <th></th>\n",
              "      <th>index</th>\n",
              "      <th>area_type</th>\n",
              "      <th>availability</th>\n",
              "      <th>location</th>\n",
              "      <th>size</th>\n",
              "      <th>society</th>\n",
              "      <th>total_sqft</th>\n",
              "      <th>bath</th>\n",
              "      <th>balcony</th>\n",
              "      <th>price</th>\n",
              "    </tr>\n",
              "  </thead>\n",
              "  <tbody>\n",
              "    <tr>\n",
              "      <th>4684</th>\n",
              "      <td>4684</td>\n",
              "      <td>Plot  Area</td>\n",
              "      <td>Ready To Move</td>\n",
              "      <td>Munnekollal</td>\n",
              "      <td>43 Bedroom</td>\n",
              "      <td>Theanmp</td>\n",
              "      <td>25824.0</td>\n",
              "      <td>40.0</td>\n",
              "      <td>0.0</td>\n",
              "      <td>660.0</td>\n",
              "    </tr>\n",
              "  </tbody>\n",
              "</table>\n",
              "</div>"
            ],
            "text/plain": [
              "      index   area_type   availability  ...  bath balcony  price\n",
              "4684   4684  Plot  Area  Ready To Move  ...  40.0     0.0  660.0\n",
              "\n",
              "[1 rows x 10 columns]"
            ]
          },
          "metadata": {
            "tags": []
          },
          "execution_count": 114
        }
      ]
    },
    {
      "cell_type": "code",
      "metadata": {
        "id": "MC8FU9V7-fUm",
        "colab_type": "code",
        "colab": {}
      },
      "source": [
        "combine['size']=combine['size'].replace('43 Bedroom','4 Bedroom')"
      ],
      "execution_count": null,
      "outputs": []
    },
    {
      "cell_type": "code",
      "metadata": {
        "id": "Z3DpOs0q9jjs",
        "colab_type": "code",
        "colab": {
          "base_uri": "https://localhost:8080/",
          "height": 272
        },
        "outputId": "e2b877d2-eced-44e9-b32f-183c6712be0a"
      },
      "source": [
        "combine.head()"
      ],
      "execution_count": null,
      "outputs": [
        {
          "output_type": "execute_result",
          "data": {
            "text/html": [
              "<div>\n",
              "<style scoped>\n",
              "    .dataframe tbody tr th:only-of-type {\n",
              "        vertical-align: middle;\n",
              "    }\n",
              "\n",
              "    .dataframe tbody tr th {\n",
              "        vertical-align: top;\n",
              "    }\n",
              "\n",
              "    .dataframe thead th {\n",
              "        text-align: right;\n",
              "    }\n",
              "</style>\n",
              "<table border=\"1\" class=\"dataframe\">\n",
              "  <thead>\n",
              "    <tr style=\"text-align: right;\">\n",
              "      <th></th>\n",
              "      <th>index</th>\n",
              "      <th>area_type</th>\n",
              "      <th>availability</th>\n",
              "      <th>location</th>\n",
              "      <th>size</th>\n",
              "      <th>society</th>\n",
              "      <th>total_sqft</th>\n",
              "      <th>bath</th>\n",
              "      <th>balcony</th>\n",
              "      <th>price</th>\n",
              "    </tr>\n",
              "  </thead>\n",
              "  <tbody>\n",
              "    <tr>\n",
              "      <th>0</th>\n",
              "      <td>0</td>\n",
              "      <td>Super built-up  Area</td>\n",
              "      <td>19-Dec</td>\n",
              "      <td>Electronic City Phase II</td>\n",
              "      <td>2 BHK</td>\n",
              "      <td>Coomee</td>\n",
              "      <td>11362.56</td>\n",
              "      <td>2.0</td>\n",
              "      <td>1.0</td>\n",
              "      <td>39.07</td>\n",
              "    </tr>\n",
              "    <tr>\n",
              "      <th>1</th>\n",
              "      <td>1</td>\n",
              "      <td>Plot  Area</td>\n",
              "      <td>Ready To Move</td>\n",
              "      <td>Chikka Tirupathi</td>\n",
              "      <td>4 Bedroom</td>\n",
              "      <td>Theanmp</td>\n",
              "      <td>27976.00</td>\n",
              "      <td>5.0</td>\n",
              "      <td>3.0</td>\n",
              "      <td>120.00</td>\n",
              "    </tr>\n",
              "    <tr>\n",
              "      <th>2</th>\n",
              "      <td>2</td>\n",
              "      <td>Built-up  Area</td>\n",
              "      <td>Ready To Move</td>\n",
              "      <td>Uttarahalli</td>\n",
              "      <td>3 BHK</td>\n",
              "      <td>Sryalan</td>\n",
              "      <td>15494.40</td>\n",
              "      <td>2.0</td>\n",
              "      <td>3.0</td>\n",
              "      <td>62.00</td>\n",
              "    </tr>\n",
              "    <tr>\n",
              "      <th>3</th>\n",
              "      <td>3</td>\n",
              "      <td>Super built-up  Area</td>\n",
              "      <td>Ready To Move</td>\n",
              "      <td>Lingadheeranahalli</td>\n",
              "      <td>3 BHK</td>\n",
              "      <td>Soiewre</td>\n",
              "      <td>16365.96</td>\n",
              "      <td>3.0</td>\n",
              "      <td>1.0</td>\n",
              "      <td>95.00</td>\n",
              "    </tr>\n",
              "    <tr>\n",
              "      <th>4</th>\n",
              "      <td>4</td>\n",
              "      <td>Super built-up  Area</td>\n",
              "      <td>Ready To Move</td>\n",
              "      <td>Kothanur</td>\n",
              "      <td>2 BHK</td>\n",
              "      <td>GrrvaGr</td>\n",
              "      <td>12912.00</td>\n",
              "      <td>2.0</td>\n",
              "      <td>1.0</td>\n",
              "      <td>51.00</td>\n",
              "    </tr>\n",
              "  </tbody>\n",
              "</table>\n",
              "</div>"
            ],
            "text/plain": [
              "   index             area_type   availability  ... bath balcony   price\n",
              "0      0  Super built-up  Area         19-Dec  ...  2.0     1.0   39.07\n",
              "1      1            Plot  Area  Ready To Move  ...  5.0     3.0  120.00\n",
              "2      2        Built-up  Area  Ready To Move  ...  2.0     3.0   62.00\n",
              "3      3  Super built-up  Area  Ready To Move  ...  3.0     1.0   95.00\n",
              "4      4  Super built-up  Area  Ready To Move  ...  2.0     1.0   51.00\n",
              "\n",
              "[5 rows x 10 columns]"
            ]
          },
          "metadata": {
            "tags": []
          },
          "execution_count": 116
        }
      ]
    },
    {
      "cell_type": "code",
      "metadata": {
        "id": "wI09hLf9_9tk",
        "colab_type": "code",
        "colab": {
          "base_uri": "https://localhost:8080/",
          "height": 255
        },
        "outputId": "ede4c372-dfd0-4d38-f4eb-380a3569f540"
      },
      "source": [
        "combine['availability'].unique()"
      ],
      "execution_count": null,
      "outputs": [
        {
          "output_type": "execute_result",
          "data": {
            "text/plain": [
              "array(['19-Dec', 'Ready To Move', '18-May', '18-Feb', '18-Nov', '20-Dec',\n",
              "       '17-Oct', '21-Dec', '19-Sep', '20-Sep', '18-Mar', '20-Feb',\n",
              "       '18-Apr', '20-Aug', '18-Oct', '19-Mar', '17-Sep', '18-Dec',\n",
              "       '17-Aug', '19-Apr', '18-Jun', '22-Dec', '22-Jan', '18-Aug',\n",
              "       '19-Jan', '17-Jul', '18-Jul', '21-Jun', '20-May', '19-Aug',\n",
              "       '18-Sep', '17-May', '17-Jun', '21-May', '18-Jan', '20-Mar',\n",
              "       '17-Dec', '16-Mar', '19-Jun', '22-Jun', '19-Jul', '21-Feb',\n",
              "       'Immediate Possession', '19-May', '17-Nov', '20-Oct', '20-Jun',\n",
              "       '19-Feb', '21-Oct', '21-Jan', '17-Mar', '17-Apr', '22-May',\n",
              "       '19-Oct', '21-Jul', '21-Nov', '21-Mar', '16-Dec', '22-Mar',\n",
              "       '20-Jan', '21-Sep', '21-Aug', '14-Nov', '19-Nov', '15-Nov',\n",
              "       '16-Jul', '15-Jun', '17-Feb', '20-Nov', '20-Jul', '16-Sep',\n",
              "       '15-Oct', '15-Dec', '16-Oct', '22-Nov', '15-Aug', '17-Jan',\n",
              "       '16-Nov', '20-Apr', '16-Jan', '14-Jul', '16-Apr'], dtype=object)"
            ]
          },
          "metadata": {
            "tags": []
          },
          "execution_count": 117
        }
      ]
    },
    {
      "cell_type": "code",
      "metadata": {
        "id": "Y8v5-FUqAQjQ",
        "colab_type": "code",
        "colab": {}
      },
      "source": [
        "val=[]\n",
        "for i in combine['availability'].unique():\n",
        "  if i not in [\"Ready To Move\",\"Immediate Possession\"]:\n",
        "    val.append(i)"
      ],
      "execution_count": null,
      "outputs": []
    },
    {
      "cell_type": "code",
      "metadata": {
        "id": "AUz3EdmmCym1",
        "colab_type": "code",
        "colab": {
          "base_uri": "https://localhost:8080/",
          "height": 34
        },
        "outputId": "7a1309f3-dd8b-40b2-8a5a-2a23d011667e"
      },
      "source": [
        "len(val)"
      ],
      "execution_count": null,
      "outputs": [
        {
          "output_type": "execute_result",
          "data": {
            "text/plain": [
              "80"
            ]
          },
          "metadata": {
            "tags": []
          },
          "execution_count": 119
        }
      ]
    },
    {
      "cell_type": "code",
      "metadata": {
        "id": "cvf8OdQqAo8w",
        "colab_type": "code",
        "colab": {}
      },
      "source": [
        "n=pd.to_datetime([i+'-2020' for i in val])-pd.to_datetime('2016-12-08')"
      ],
      "execution_count": null,
      "outputs": []
    },
    {
      "cell_type": "code",
      "metadata": {
        "id": "Hgdx99xiGLyf",
        "colab_type": "code",
        "colab": {}
      },
      "source": [
        "aa=['1472 days', '1257 days', '1167 days', '1441 days',\n",
        "                '1473 days', '1409 days', '1474 days', '1381 days',\n",
        "                '1382 days', '1196 days', '1169 days', '1227 days',\n",
        "                '1351 days', '1410 days', '1197 days', '1379 days',\n",
        "                '1471 days', '1348 days', '1228 days', '1288 days',\n",
        "                '1475 days', '1140 days', '1349 days', '1137 days',\n",
        "                '1317 days', '1318 days', '1291 days', '1259 days',\n",
        "                '1350 days', '1380 days', '1256 days', '1287 days',\n",
        "                '1260 days', '1136 days', '1198 days', '1470 days',\n",
        "                '1194 days', '1289 days', '1292 days', '1319 days',\n",
        "                '1170 days', '1258 days', '1440 days', '1412 days',\n",
        "                '1290 days', '1168 days', '1413 days', '1139 days',\n",
        "                '1195 days', '1226 days', '1261 days', '1411 days',\n",
        "                '1321 days', '1444 days', '1199 days', '1469 days',\n",
        "                '1200 days', '1138 days', '1383 days', '1352 days',\n",
        "                '1437 days', '1442 days', '1438 days', '1316 days',\n",
        "                '1285 days', '1166 days', '1443 days', '1320 days',\n",
        "                '1378 days', '1407 days', '1468 days', '1408 days',\n",
        "                '1445 days', '1346 days', '1135 days', '1439 days',\n",
        "                '1229 days', '1134 days', '1314 days', '1225 days']"
      ],
      "execution_count": null,
      "outputs": []
    },
    {
      "cell_type": "code",
      "metadata": {
        "id": "mB_CrV77Edg5",
        "colab_type": "code",
        "colab": {}
      },
      "source": [
        "nodays_dict={}\n",
        "for i in range(0,len(val)):\n",
        "  nodays_dict[val[i]]=aa[i][:4]"
      ],
      "execution_count": null,
      "outputs": []
    },
    {
      "cell_type": "code",
      "metadata": {
        "id": "DcOeo0bRBkjk",
        "colab_type": "code",
        "colab": {}
      },
      "source": [
        "nodays_dict['Ready To Move']=0\n",
        "nodays_dict['Immediate Possession']=1"
      ],
      "execution_count": null,
      "outputs": []
    },
    {
      "cell_type": "code",
      "metadata": {
        "id": "Ewc0-tKYFR0g",
        "colab_type": "code",
        "colab": {
          "base_uri": "https://localhost:8080/",
          "height": 1000
        },
        "outputId": "c747a14c-5283-4350-9f29-45f0af42feb7"
      },
      "source": [
        "nodays_dict"
      ],
      "execution_count": null,
      "outputs": [
        {
          "output_type": "execute_result",
          "data": {
            "text/plain": [
              "{'14-Jul': '1314',\n",
              " '14-Nov': '1437',\n",
              " '15-Aug': '1346',\n",
              " '15-Dec': '1468',\n",
              " '15-Jun': '1285',\n",
              " '15-Nov': '1438',\n",
              " '15-Oct': '1407',\n",
              " '16-Apr': '1225',\n",
              " '16-Dec': '1469',\n",
              " '16-Jan': '1134',\n",
              " '16-Jul': '1316',\n",
              " '16-Mar': '1194',\n",
              " '16-Nov': '1439',\n",
              " '16-Oct': '1408',\n",
              " '16-Sep': '1378',\n",
              " '17-Apr': '1226',\n",
              " '17-Aug': '1348',\n",
              " '17-Dec': '1470',\n",
              " '17-Feb': '1166',\n",
              " '17-Jan': '1135',\n",
              " '17-Jul': '1317',\n",
              " '17-Jun': '1287',\n",
              " '17-Mar': '1195',\n",
              " '17-May': '1256',\n",
              " '17-Nov': '1440',\n",
              " '17-Oct': '1409',\n",
              " '17-Sep': '1379',\n",
              " '18-Apr': '1227',\n",
              " '18-Aug': '1349',\n",
              " '18-Dec': '1471',\n",
              " '18-Feb': '1167',\n",
              " '18-Jan': '1136',\n",
              " '18-Jul': '1318',\n",
              " '18-Jun': '1288',\n",
              " '18-Mar': '1196',\n",
              " '18-May': '1257',\n",
              " '18-Nov': '1441',\n",
              " '18-Oct': '1410',\n",
              " '18-Sep': '1380',\n",
              " '19-Apr': '1228',\n",
              " '19-Aug': '1350',\n",
              " '19-Dec': '1472',\n",
              " '19-Feb': '1168',\n",
              " '19-Jan': '1137',\n",
              " '19-Jul': '1319',\n",
              " '19-Jun': '1289',\n",
              " '19-Mar': '1197',\n",
              " '19-May': '1258',\n",
              " '19-Nov': '1442',\n",
              " '19-Oct': '1411',\n",
              " '19-Sep': '1381',\n",
              " '20-Apr': '1229',\n",
              " '20-Aug': '1351',\n",
              " '20-Dec': '1473',\n",
              " '20-Feb': '1169',\n",
              " '20-Jan': '1138',\n",
              " '20-Jul': '1320',\n",
              " '20-Jun': '1290',\n",
              " '20-Mar': '1198',\n",
              " '20-May': '1259',\n",
              " '20-Nov': '1443',\n",
              " '20-Oct': '1412',\n",
              " '20-Sep': '1382',\n",
              " '21-Aug': '1352',\n",
              " '21-Dec': '1474',\n",
              " '21-Feb': '1170',\n",
              " '21-Jan': '1139',\n",
              " '21-Jul': '1321',\n",
              " '21-Jun': '1291',\n",
              " '21-Mar': '1199',\n",
              " '21-May': '1260',\n",
              " '21-Nov': '1444',\n",
              " '21-Oct': '1413',\n",
              " '21-Sep': '1383',\n",
              " '22-Dec': '1475',\n",
              " '22-Jan': '1140',\n",
              " '22-Jun': '1292',\n",
              " '22-Mar': '1200',\n",
              " '22-May': '1261',\n",
              " '22-Nov': '1445',\n",
              " 'Immediate Possession': 1,\n",
              " 'Ready To Move': 0}"
            ]
          },
          "metadata": {
            "tags": []
          },
          "execution_count": 124
        }
      ]
    },
    {
      "cell_type": "code",
      "metadata": {
        "id": "kVHA7s1HE03y",
        "colab_type": "code",
        "colab": {}
      },
      "source": [
        "combine['availability']=[int(nodays_dict[i]) for i in combine['availability']]"
      ],
      "execution_count": null,
      "outputs": []
    },
    {
      "cell_type": "code",
      "metadata": {
        "id": "XpvId3AxFml4",
        "colab_type": "code",
        "colab": {
          "base_uri": "https://localhost:8080/",
          "height": 272
        },
        "outputId": "8b555b69-5ee1-49c1-e8ea-a982be816acf"
      },
      "source": [
        "combine.head()"
      ],
      "execution_count": null,
      "outputs": [
        {
          "output_type": "execute_result",
          "data": {
            "text/html": [
              "<div>\n",
              "<style scoped>\n",
              "    .dataframe tbody tr th:only-of-type {\n",
              "        vertical-align: middle;\n",
              "    }\n",
              "\n",
              "    .dataframe tbody tr th {\n",
              "        vertical-align: top;\n",
              "    }\n",
              "\n",
              "    .dataframe thead th {\n",
              "        text-align: right;\n",
              "    }\n",
              "</style>\n",
              "<table border=\"1\" class=\"dataframe\">\n",
              "  <thead>\n",
              "    <tr style=\"text-align: right;\">\n",
              "      <th></th>\n",
              "      <th>index</th>\n",
              "      <th>area_type</th>\n",
              "      <th>availability</th>\n",
              "      <th>location</th>\n",
              "      <th>size</th>\n",
              "      <th>society</th>\n",
              "      <th>total_sqft</th>\n",
              "      <th>bath</th>\n",
              "      <th>balcony</th>\n",
              "      <th>price</th>\n",
              "    </tr>\n",
              "  </thead>\n",
              "  <tbody>\n",
              "    <tr>\n",
              "      <th>0</th>\n",
              "      <td>0</td>\n",
              "      <td>Super built-up  Area</td>\n",
              "      <td>1472</td>\n",
              "      <td>Electronic City Phase II</td>\n",
              "      <td>2 BHK</td>\n",
              "      <td>Coomee</td>\n",
              "      <td>11362.56</td>\n",
              "      <td>2.0</td>\n",
              "      <td>1.0</td>\n",
              "      <td>39.07</td>\n",
              "    </tr>\n",
              "    <tr>\n",
              "      <th>1</th>\n",
              "      <td>1</td>\n",
              "      <td>Plot  Area</td>\n",
              "      <td>0</td>\n",
              "      <td>Chikka Tirupathi</td>\n",
              "      <td>4 Bedroom</td>\n",
              "      <td>Theanmp</td>\n",
              "      <td>27976.00</td>\n",
              "      <td>5.0</td>\n",
              "      <td>3.0</td>\n",
              "      <td>120.00</td>\n",
              "    </tr>\n",
              "    <tr>\n",
              "      <th>2</th>\n",
              "      <td>2</td>\n",
              "      <td>Built-up  Area</td>\n",
              "      <td>0</td>\n",
              "      <td>Uttarahalli</td>\n",
              "      <td>3 BHK</td>\n",
              "      <td>Sryalan</td>\n",
              "      <td>15494.40</td>\n",
              "      <td>2.0</td>\n",
              "      <td>3.0</td>\n",
              "      <td>62.00</td>\n",
              "    </tr>\n",
              "    <tr>\n",
              "      <th>3</th>\n",
              "      <td>3</td>\n",
              "      <td>Super built-up  Area</td>\n",
              "      <td>0</td>\n",
              "      <td>Lingadheeranahalli</td>\n",
              "      <td>3 BHK</td>\n",
              "      <td>Soiewre</td>\n",
              "      <td>16365.96</td>\n",
              "      <td>3.0</td>\n",
              "      <td>1.0</td>\n",
              "      <td>95.00</td>\n",
              "    </tr>\n",
              "    <tr>\n",
              "      <th>4</th>\n",
              "      <td>4</td>\n",
              "      <td>Super built-up  Area</td>\n",
              "      <td>0</td>\n",
              "      <td>Kothanur</td>\n",
              "      <td>2 BHK</td>\n",
              "      <td>GrrvaGr</td>\n",
              "      <td>12912.00</td>\n",
              "      <td>2.0</td>\n",
              "      <td>1.0</td>\n",
              "      <td>51.00</td>\n",
              "    </tr>\n",
              "  </tbody>\n",
              "</table>\n",
              "</div>"
            ],
            "text/plain": [
              "   index             area_type  availability  ... bath balcony   price\n",
              "0      0  Super built-up  Area          1472  ...  2.0     1.0   39.07\n",
              "1      1            Plot  Area             0  ...  5.0     3.0  120.00\n",
              "2      2        Built-up  Area             0  ...  2.0     3.0   62.00\n",
              "3      3  Super built-up  Area             0  ...  3.0     1.0   95.00\n",
              "4      4  Super built-up  Area             0  ...  2.0     1.0   51.00\n",
              "\n",
              "[5 rows x 10 columns]"
            ]
          },
          "metadata": {
            "tags": []
          },
          "execution_count": 126
        }
      ]
    },
    {
      "cell_type": "code",
      "metadata": {
        "id": "GEHrU4t8HKyY",
        "colab_type": "code",
        "colab": {
          "base_uri": "https://localhost:8080/",
          "height": 204
        },
        "outputId": "34b4db06-effc-4125-cf35-81f4b7dc3ecd"
      },
      "source": [
        "combine.isnull().sum()"
      ],
      "execution_count": null,
      "outputs": [
        {
          "output_type": "execute_result",
          "data": {
            "text/plain": [
              "index              0\n",
              "area_type          0\n",
              "availability       0\n",
              "location           0\n",
              "size               0\n",
              "society            0\n",
              "total_sqft         0\n",
              "bath               0\n",
              "balcony            0\n",
              "price           1480\n",
              "dtype: int64"
            ]
          },
          "metadata": {
            "tags": []
          },
          "execution_count": 127
        }
      ]
    },
    {
      "cell_type": "code",
      "metadata": {
        "id": "w_2ye1K7H1hj",
        "colab_type": "code",
        "colab": {
          "base_uri": "https://localhost:8080/",
          "height": 297
        },
        "outputId": "d82e703c-feeb-4394-87a3-2b0f53934ff9"
      },
      "source": [
        "combine.describe()"
      ],
      "execution_count": null,
      "outputs": [
        {
          "output_type": "execute_result",
          "data": {
            "text/html": [
              "<div>\n",
              "<style scoped>\n",
              "    .dataframe tbody tr th:only-of-type {\n",
              "        vertical-align: middle;\n",
              "    }\n",
              "\n",
              "    .dataframe tbody tr th {\n",
              "        vertical-align: top;\n",
              "    }\n",
              "\n",
              "    .dataframe thead th {\n",
              "        text-align: right;\n",
              "    }\n",
              "</style>\n",
              "<table border=\"1\" class=\"dataframe\">\n",
              "  <thead>\n",
              "    <tr style=\"text-align: right;\">\n",
              "      <th></th>\n",
              "      <th>index</th>\n",
              "      <th>availability</th>\n",
              "      <th>total_sqft</th>\n",
              "      <th>bath</th>\n",
              "      <th>balcony</th>\n",
              "      <th>price</th>\n",
              "    </tr>\n",
              "  </thead>\n",
              "  <tbody>\n",
              "    <tr>\n",
              "      <th>count</th>\n",
              "      <td>14800.000000</td>\n",
              "      <td>14800.000000</td>\n",
              "      <td>1.480000e+04</td>\n",
              "      <td>14800.000000</td>\n",
              "      <td>14800.000000</td>\n",
              "      <td>13320.000000</td>\n",
              "    </tr>\n",
              "    <tr>\n",
              "      <th>mean</th>\n",
              "      <td>6067.500000</td>\n",
              "      <td>272.875608</td>\n",
              "      <td>1.680538e+04</td>\n",
              "      <td>2.694932</td>\n",
              "      <td>1.601284</td>\n",
              "      <td>112.565627</td>\n",
              "    </tr>\n",
              "    <tr>\n",
              "      <th>std</th>\n",
              "      <td>4059.584065</td>\n",
              "      <td>539.154231</td>\n",
              "      <td>2.232502e+04</td>\n",
              "      <td>1.341274</td>\n",
              "      <td>0.804918</td>\n",
              "      <td>148.971674</td>\n",
              "    </tr>\n",
              "    <tr>\n",
              "      <th>min</th>\n",
              "      <td>0.000000</td>\n",
              "      <td>0.000000</td>\n",
              "      <td>1.076000e+01</td>\n",
              "      <td>1.000000</td>\n",
              "      <td>0.000000</td>\n",
              "      <td>8.000000</td>\n",
              "    </tr>\n",
              "    <tr>\n",
              "      <th>25%</th>\n",
              "      <td>2219.750000</td>\n",
              "      <td>0.000000</td>\n",
              "      <td>1.179296e+04</td>\n",
              "      <td>2.000000</td>\n",
              "      <td>1.000000</td>\n",
              "      <td>50.000000</td>\n",
              "    </tr>\n",
              "    <tr>\n",
              "      <th>50%</th>\n",
              "      <td>5919.500000</td>\n",
              "      <td>0.000000</td>\n",
              "      <td>1.364368e+04</td>\n",
              "      <td>2.000000</td>\n",
              "      <td>2.000000</td>\n",
              "      <td>72.000000</td>\n",
              "    </tr>\n",
              "    <tr>\n",
              "      <th>75%</th>\n",
              "      <td>9619.250000</td>\n",
              "      <td>0.000000</td>\n",
              "      <td>1.791540e+04</td>\n",
              "      <td>3.000000</td>\n",
              "      <td>2.000000</td>\n",
              "      <td>120.000000</td>\n",
              "    </tr>\n",
              "    <tr>\n",
              "      <th>max</th>\n",
              "      <td>13319.000000</td>\n",
              "      <td>1475.000000</td>\n",
              "      <td>1.518041e+06</td>\n",
              "      <td>40.000000</td>\n",
              "      <td>3.000000</td>\n",
              "      <td>3600.000000</td>\n",
              "    </tr>\n",
              "  </tbody>\n",
              "</table>\n",
              "</div>"
            ],
            "text/plain": [
              "              index  availability  ...       balcony         price\n",
              "count  14800.000000  14800.000000  ...  14800.000000  13320.000000\n",
              "mean    6067.500000    272.875608  ...      1.601284    112.565627\n",
              "std     4059.584065    539.154231  ...      0.804918    148.971674\n",
              "min        0.000000      0.000000  ...      0.000000      8.000000\n",
              "25%     2219.750000      0.000000  ...      1.000000     50.000000\n",
              "50%     5919.500000      0.000000  ...      2.000000     72.000000\n",
              "75%     9619.250000      0.000000  ...      2.000000    120.000000\n",
              "max    13319.000000   1475.000000  ...      3.000000   3600.000000\n",
              "\n",
              "[8 rows x 6 columns]"
            ]
          },
          "metadata": {
            "tags": []
          },
          "execution_count": 128
        }
      ]
    },
    {
      "cell_type": "code",
      "metadata": {
        "id": "iW6oO1L5HXe-",
        "colab_type": "code",
        "colab": {}
      },
      "source": [
        "from sklearn.preprocessing import MinMaxScaler\n",
        "scaler=MinMaxScaler()\n",
        "combine['total_sqft']=scaler.fit_transform(np.array(combine['total_sqft']).reshape(-1,1))\n",
        "combine['availability']=scaler.fit_transform(np.array(combine['availability']).reshape(-1,1))"
      ],
      "execution_count": null,
      "outputs": []
    },
    {
      "cell_type": "code",
      "metadata": {
        "id": "fp8omQmoIJpo",
        "colab_type": "code",
        "colab": {
          "base_uri": "https://localhost:8080/",
          "height": 272
        },
        "outputId": "a8ea8352-bcdc-4222-ef9c-6f9862cf1f61"
      },
      "source": [
        "combine.head()"
      ],
      "execution_count": null,
      "outputs": [
        {
          "output_type": "execute_result",
          "data": {
            "text/html": [
              "<div>\n",
              "<style scoped>\n",
              "    .dataframe tbody tr th:only-of-type {\n",
              "        vertical-align: middle;\n",
              "    }\n",
              "\n",
              "    .dataframe tbody tr th {\n",
              "        vertical-align: top;\n",
              "    }\n",
              "\n",
              "    .dataframe thead th {\n",
              "        text-align: right;\n",
              "    }\n",
              "</style>\n",
              "<table border=\"1\" class=\"dataframe\">\n",
              "  <thead>\n",
              "    <tr style=\"text-align: right;\">\n",
              "      <th></th>\n",
              "      <th>index</th>\n",
              "      <th>area_type</th>\n",
              "      <th>availability</th>\n",
              "      <th>location</th>\n",
              "      <th>size</th>\n",
              "      <th>society</th>\n",
              "      <th>total_sqft</th>\n",
              "      <th>bath</th>\n",
              "      <th>balcony</th>\n",
              "      <th>price</th>\n",
              "    </tr>\n",
              "  </thead>\n",
              "  <tbody>\n",
              "    <tr>\n",
              "      <th>0</th>\n",
              "      <td>0</td>\n",
              "      <td>Super built-up  Area</td>\n",
              "      <td>0.997966</td>\n",
              "      <td>Electronic City Phase II</td>\n",
              "      <td>2 BHK</td>\n",
              "      <td>Coomee</td>\n",
              "      <td>0.007478</td>\n",
              "      <td>2.0</td>\n",
              "      <td>1.0</td>\n",
              "      <td>39.07</td>\n",
              "    </tr>\n",
              "    <tr>\n",
              "      <th>1</th>\n",
              "      <td>1</td>\n",
              "      <td>Plot  Area</td>\n",
              "      <td>0.000000</td>\n",
              "      <td>Chikka Tirupathi</td>\n",
              "      <td>4 Bedroom</td>\n",
              "      <td>Theanmp</td>\n",
              "      <td>0.018422</td>\n",
              "      <td>5.0</td>\n",
              "      <td>3.0</td>\n",
              "      <td>120.00</td>\n",
              "    </tr>\n",
              "    <tr>\n",
              "      <th>2</th>\n",
              "      <td>2</td>\n",
              "      <td>Built-up  Area</td>\n",
              "      <td>0.000000</td>\n",
              "      <td>Uttarahalli</td>\n",
              "      <td>3 BHK</td>\n",
              "      <td>Sryalan</td>\n",
              "      <td>0.010200</td>\n",
              "      <td>2.0</td>\n",
              "      <td>3.0</td>\n",
              "      <td>62.00</td>\n",
              "    </tr>\n",
              "    <tr>\n",
              "      <th>3</th>\n",
              "      <td>3</td>\n",
              "      <td>Super built-up  Area</td>\n",
              "      <td>0.000000</td>\n",
              "      <td>Lingadheeranahalli</td>\n",
              "      <td>3 BHK</td>\n",
              "      <td>Soiewre</td>\n",
              "      <td>0.010774</td>\n",
              "      <td>3.0</td>\n",
              "      <td>1.0</td>\n",
              "      <td>95.00</td>\n",
              "    </tr>\n",
              "    <tr>\n",
              "      <th>4</th>\n",
              "      <td>4</td>\n",
              "      <td>Super built-up  Area</td>\n",
              "      <td>0.000000</td>\n",
              "      <td>Kothanur</td>\n",
              "      <td>2 BHK</td>\n",
              "      <td>GrrvaGr</td>\n",
              "      <td>0.008499</td>\n",
              "      <td>2.0</td>\n",
              "      <td>1.0</td>\n",
              "      <td>51.00</td>\n",
              "    </tr>\n",
              "  </tbody>\n",
              "</table>\n",
              "</div>"
            ],
            "text/plain": [
              "   index             area_type  availability  ... bath balcony   price\n",
              "0      0  Super built-up  Area      0.997966  ...  2.0     1.0   39.07\n",
              "1      1            Plot  Area      0.000000  ...  5.0     3.0  120.00\n",
              "2      2        Built-up  Area      0.000000  ...  2.0     3.0   62.00\n",
              "3      3  Super built-up  Area      0.000000  ...  3.0     1.0   95.00\n",
              "4      4  Super built-up  Area      0.000000  ...  2.0     1.0   51.00\n",
              "\n",
              "[5 rows x 10 columns]"
            ]
          },
          "metadata": {
            "tags": []
          },
          "execution_count": 130
        }
      ]
    },
    {
      "cell_type": "code",
      "metadata": {
        "id": "wl13EPgWIvHK",
        "colab_type": "code",
        "colab": {
          "base_uri": "https://localhost:8080/",
          "height": 34
        },
        "outputId": "2f70f84e-6a0a-4e49-f4ff-d3f72aa2efbe"
      },
      "source": [
        "X = combine[combine['price'].isnull()!=True].drop(['index','price'], axis=1)\n",
        "y = combine[combine['price'].isnull()!=True]['price']\n",
        "\n",
        "test = combine[combine['price'].isnull()==True].drop(['index','price'], axis=1)\n",
        "\n",
        "X.shape, y.shape, test.shape"
      ],
      "execution_count": null,
      "outputs": [
        {
          "output_type": "execute_result",
          "data": {
            "text/plain": [
              "((13320, 8), (13320,), (1480, 8))"
            ]
          },
          "metadata": {
            "tags": []
          },
          "execution_count": 131
        }
      ]
    },
    {
      "cell_type": "code",
      "metadata": {
        "id": "GwDgWbrtJP5H",
        "colab_type": "code",
        "colab": {
          "base_uri": "https://localhost:8080/",
          "height": 204
        },
        "outputId": "5a9e979c-afc0-40b3-9cd2-8263daa8941b"
      },
      "source": [
        "X.head()"
      ],
      "execution_count": null,
      "outputs": [
        {
          "output_type": "execute_result",
          "data": {
            "text/html": [
              "<div>\n",
              "<style scoped>\n",
              "    .dataframe tbody tr th:only-of-type {\n",
              "        vertical-align: middle;\n",
              "    }\n",
              "\n",
              "    .dataframe tbody tr th {\n",
              "        vertical-align: top;\n",
              "    }\n",
              "\n",
              "    .dataframe thead th {\n",
              "        text-align: right;\n",
              "    }\n",
              "</style>\n",
              "<table border=\"1\" class=\"dataframe\">\n",
              "  <thead>\n",
              "    <tr style=\"text-align: right;\">\n",
              "      <th></th>\n",
              "      <th>area_type</th>\n",
              "      <th>availability</th>\n",
              "      <th>location</th>\n",
              "      <th>size</th>\n",
              "      <th>society</th>\n",
              "      <th>total_sqft</th>\n",
              "      <th>bath</th>\n",
              "      <th>balcony</th>\n",
              "    </tr>\n",
              "  </thead>\n",
              "  <tbody>\n",
              "    <tr>\n",
              "      <th>0</th>\n",
              "      <td>Super built-up  Area</td>\n",
              "      <td>0.997966</td>\n",
              "      <td>Electronic City Phase II</td>\n",
              "      <td>2 BHK</td>\n",
              "      <td>Coomee</td>\n",
              "      <td>0.007478</td>\n",
              "      <td>2.0</td>\n",
              "      <td>1.0</td>\n",
              "    </tr>\n",
              "    <tr>\n",
              "      <th>1</th>\n",
              "      <td>Plot  Area</td>\n",
              "      <td>0.000000</td>\n",
              "      <td>Chikka Tirupathi</td>\n",
              "      <td>4 Bedroom</td>\n",
              "      <td>Theanmp</td>\n",
              "      <td>0.018422</td>\n",
              "      <td>5.0</td>\n",
              "      <td>3.0</td>\n",
              "    </tr>\n",
              "    <tr>\n",
              "      <th>2</th>\n",
              "      <td>Built-up  Area</td>\n",
              "      <td>0.000000</td>\n",
              "      <td>Uttarahalli</td>\n",
              "      <td>3 BHK</td>\n",
              "      <td>Sryalan</td>\n",
              "      <td>0.010200</td>\n",
              "      <td>2.0</td>\n",
              "      <td>3.0</td>\n",
              "    </tr>\n",
              "    <tr>\n",
              "      <th>3</th>\n",
              "      <td>Super built-up  Area</td>\n",
              "      <td>0.000000</td>\n",
              "      <td>Lingadheeranahalli</td>\n",
              "      <td>3 BHK</td>\n",
              "      <td>Soiewre</td>\n",
              "      <td>0.010774</td>\n",
              "      <td>3.0</td>\n",
              "      <td>1.0</td>\n",
              "    </tr>\n",
              "    <tr>\n",
              "      <th>4</th>\n",
              "      <td>Super built-up  Area</td>\n",
              "      <td>0.000000</td>\n",
              "      <td>Kothanur</td>\n",
              "      <td>2 BHK</td>\n",
              "      <td>GrrvaGr</td>\n",
              "      <td>0.008499</td>\n",
              "      <td>2.0</td>\n",
              "      <td>1.0</td>\n",
              "    </tr>\n",
              "  </tbody>\n",
              "</table>\n",
              "</div>"
            ],
            "text/plain": [
              "              area_type  availability  ... bath balcony\n",
              "0  Super built-up  Area      0.997966  ...  2.0     1.0\n",
              "1            Plot  Area      0.000000  ...  5.0     3.0\n",
              "2        Built-up  Area      0.000000  ...  2.0     3.0\n",
              "3  Super built-up  Area      0.000000  ...  3.0     1.0\n",
              "4  Super built-up  Area      0.000000  ...  2.0     1.0\n",
              "\n",
              "[5 rows x 8 columns]"
            ]
          },
          "metadata": {
            "tags": []
          },
          "execution_count": 132
        }
      ]
    },
    {
      "cell_type": "code",
      "metadata": {
        "id": "-u9JX2nzJ45S",
        "colab_type": "code",
        "colab": {
          "base_uri": "https://localhost:8080/",
          "height": 343
        },
        "outputId": "e7e226a6-1038-4f07-e535-32e49b922ba5"
      },
      "source": [
        "!pip install catboost"
      ],
      "execution_count": null,
      "outputs": [
        {
          "output_type": "stream",
          "text": [
            "Collecting catboost\n",
            "\u001b[?25l  Downloading https://files.pythonhosted.org/packages/b2/aa/e61819d04ef2bbee778bf4b3a748db1f3ad23512377e43ecfdc3211437a0/catboost-0.23.2-cp36-none-manylinux1_x86_64.whl (64.8MB)\n",
            "\u001b[K     |████████████████████████████████| 64.8MB 70kB/s \n",
            "\u001b[?25hRequirement already satisfied: matplotlib in /usr/local/lib/python3.6/dist-packages (from catboost) (3.2.2)\n",
            "Requirement already satisfied: scipy in /usr/local/lib/python3.6/dist-packages (from catboost) (1.4.1)\n",
            "Requirement already satisfied: six in /usr/local/lib/python3.6/dist-packages (from catboost) (1.15.0)\n",
            "Requirement already satisfied: numpy>=1.16.0 in /usr/local/lib/python3.6/dist-packages (from catboost) (1.18.5)\n",
            "Requirement already satisfied: plotly in /usr/local/lib/python3.6/dist-packages (from catboost) (4.4.1)\n",
            "Requirement already satisfied: graphviz in /usr/local/lib/python3.6/dist-packages (from catboost) (0.10.1)\n",
            "Requirement already satisfied: pandas>=0.24.0 in /usr/local/lib/python3.6/dist-packages (from catboost) (1.0.5)\n",
            "Requirement already satisfied: cycler>=0.10 in /usr/local/lib/python3.6/dist-packages (from matplotlib->catboost) (0.10.0)\n",
            "Requirement already satisfied: kiwisolver>=1.0.1 in /usr/local/lib/python3.6/dist-packages (from matplotlib->catboost) (1.2.0)\n",
            "Requirement already satisfied: python-dateutil>=2.1 in /usr/local/lib/python3.6/dist-packages (from matplotlib->catboost) (2.8.1)\n",
            "Requirement already satisfied: pyparsing!=2.0.4,!=2.1.2,!=2.1.6,>=2.0.1 in /usr/local/lib/python3.6/dist-packages (from matplotlib->catboost) (2.4.7)\n",
            "Requirement already satisfied: retrying>=1.3.3 in /usr/local/lib/python3.6/dist-packages (from plotly->catboost) (1.3.3)\n",
            "Requirement already satisfied: pytz>=2017.2 in /usr/local/lib/python3.6/dist-packages (from pandas>=0.24.0->catboost) (2018.9)\n",
            "Installing collected packages: catboost\n",
            "Successfully installed catboost-0.23.2\n"
          ],
          "name": "stdout"
        }
      ]
    },
    {
      "cell_type": "code",
      "metadata": {
        "id": "dLgyzf78J8mz",
        "colab_type": "code",
        "colab": {}
      },
      "source": [
        "from sklearn.model_selection import train_test_split\n",
        "X_train,X_test,y_train,y_test=train_test_split(X,y,test_size=0.1,random_state=42)"
      ],
      "execution_count": null,
      "outputs": []
    },
    {
      "cell_type": "code",
      "metadata": {
        "id": "v4NE14UtJV2y",
        "colab_type": "code",
        "colab": {
          "base_uri": "https://localhost:8080/",
          "height": 292
        },
        "outputId": "364edbae-dea9-4d9a-8374-c15dd3b073fb"
      },
      "source": [
        "from catboost import CatBoostRegressor\n",
        "m = CatBoostRegressor(n_estimators=5000,\n",
        "                           random_state=1994,\n",
        "                           eval_metric='MSLE',\n",
        "                           learning_rate=0.04, \n",
        "                           max_depth=5,\n",
        "                           cat_features=[0,2,3,4])\n",
        "m.fit(X_train, y_train,\n",
        "          eval_set=[(X_train,y_train),(X_test, y_test)],\n",
        "          early_stopping_rounds=200,\n",
        "          verbose=200)\n",
        "y_pred=m.predict(X_test)\n",
        "print(1 - np.sqrt(np.square(np.log10(y_pred +1) - np.log10(y_test +1)).mean()))"
      ],
      "execution_count": null,
      "outputs": [
        {
          "output_type": "stream",
          "text": [
            "0:\tlearn: 0.5776454\ttest: 0.5774680\ttest1: 0.6103042\tbest: 0.6103042 (0)\ttotal: 14ms\tremaining: 1m 9s\n",
            "200:\tlearn: 0.1240104\ttest: 0.1109039\ttest1: 0.1189477\tbest: 0.1189477 (200)\ttotal: 2.3s\tremaining: 55s\n",
            "400:\tlearn: nan\ttest: 0.0998534\ttest1: 0.1086254\tbest: 0.1085751 (395)\ttotal: 4.5s\tremaining: 51.6s\n",
            "600:\tlearn: nan\ttest: nan\ttest1: 0.1026114\tbest: 0.1026114 (600)\ttotal: 6.75s\tremaining: 49.4s\n",
            "800:\tlearn: nan\ttest: nan\ttest1: 0.0998088\tbest: 0.0996280 (776)\ttotal: 9.1s\tremaining: 47.7s\n",
            "1000:\tlearn: nan\ttest: nan\ttest1: 0.0981020\tbest: 0.0981020 (1000)\ttotal: 11.5s\tremaining: 46.1s\n",
            "1200:\tlearn: nan\ttest: nan\ttest1: 0.0973616\tbest: 0.0972862 (1152)\ttotal: 13.9s\tremaining: 44s\n",
            "1400:\tlearn: nan\ttest: nan\ttest1: 0.0967990\tbest: 0.0964814 (1362)\ttotal: 16.2s\tremaining: 41.7s\n",
            "Stopped by overfitting detector  (200 iterations wait)\n",
            "\n",
            "bestTest = 0.09648142962\n",
            "bestIteration = 1362\n",
            "\n",
            "Shrink model to first 1363 iterations.\n",
            "0.8651017944775723\n"
          ],
          "name": "stdout"
        }
      ]
    },
    {
      "cell_type": "code",
      "metadata": {
        "id": "CIg9e_xgEuKm",
        "colab_type": "code",
        "colab": {
          "base_uri": "https://localhost:8080/",
          "height": 34
        },
        "outputId": "cf2f4794-2724-4b81-d427-22630f66a343"
      },
      "source": [
        "test.shape"
      ],
      "execution_count": null,
      "outputs": [
        {
          "output_type": "execute_result",
          "data": {
            "text/plain": [
              "(1480, 8)"
            ]
          },
          "metadata": {
            "tags": []
          },
          "execution_count": 135
        }
      ]
    },
    {
      "cell_type": "code",
      "metadata": {
        "id": "qbNIIa7BWx1G",
        "colab_type": "code",
        "colab": {
          "base_uri": "https://localhost:8080/",
          "height": 1000
        },
        "outputId": "2e1dbb0c-a185-4c62-c0dc-5af36c142746"
      },
      "source": [
        "err = []\n",
        "y_pred_tot_cb = []\n",
        "from catboost import CatBoostRegressor\n",
        "from sklearn.model_selection import KFold\n",
        "kf = KFold(n_splits=5)\n",
        "i = 1\n",
        "for train, testing in kf.split(X):\n",
        "  x_train, x_val = X.iloc[train], X.iloc[testing]\n",
        "  y_train, y_val = y[train], y[testing]\n",
        "  m = CatBoostRegressor(n_estimators=5000,\n",
        "                           random_state=1994,\n",
        "                           eval_metric='MSLE',\n",
        "                           learning_rate=0.04, \n",
        "                           max_depth=5,\n",
        "                           cat_features=[0,2,3,4])\n",
        "  m.fit(x_train, y_train,\n",
        "          eval_set=[(x_train,y_train),(x_val, y_val)],\n",
        "          early_stopping_rounds=200,\n",
        "          verbose=200)\n",
        "  pred_y = m.predict(x_val)\n",
        "  print(\"err_lgm: \",1 - np.sqrt(np.square(np.log10(pred_y +1) - np.log10(y_val +1)).mean()))\n",
        "  err.append(1 - np.sqrt(np.square(np.log10(pred_y +1) - np.log10(y_val +1)).mean()))\n",
        "  pred_test = m.predict(test)\n",
        "  i = i + 1\n",
        "  y_pred_tot_cb.append(pred_test)"
      ],
      "execution_count": null,
      "outputs": [
        {
          "output_type": "stream",
          "text": [
            "0:\tlearn: 0.5817592\ttest: 0.5815260\ttest1: 0.5807515\tbest: 0.5807515 (0)\ttotal: 15.3ms\tremaining: 1m 16s\n",
            "200:\tlearn: 0.1270218\ttest: 0.1121129\ttest1: 0.1291201\tbest: 0.1291201 (200)\ttotal: 2.25s\tremaining: 53.8s\n",
            "400:\tlearn: 0.1143815\ttest: 0.0995656\ttest1: 0.1166401\tbest: 0.1166393 (399)\ttotal: 4.35s\tremaining: 49.9s\n",
            "600:\tlearn: 0.1067791\ttest: nan\ttest1: 0.1109036\tbest: 0.1108743 (599)\ttotal: 6.55s\tremaining: 47.9s\n",
            "800:\tlearn: 0.1019891\ttest: nan\ttest1: 0.1088426\tbest: 0.1088264 (799)\ttotal: 8.79s\tremaining: 46.1s\n",
            "1000:\tlearn: 0.0995356\ttest: nan\ttest1: 0.1084970\tbest: 0.1084005 (978)\ttotal: 10.9s\tremaining: 43.6s\n",
            "1200:\tlearn: 0.0963063\ttest: nan\ttest1: 0.1081677\tbest: 0.1080428 (1166)\ttotal: 13.2s\tremaining: 41.8s\n",
            "Stopped by overfitting detector  (200 iterations wait)\n",
            "\n",
            "bestTest = 0.1080428257\n",
            "bestIteration = 1166\n",
            "\n",
            "Shrink model to first 1167 iterations.\n",
            "err_lgm:  0.8572479745727917\n",
            "0:\tlearn: 0.5860581\ttest: 0.5859609\ttest1: 0.5497068\tbest: 0.5497068 (0)\ttotal: 14.9ms\tremaining: 1m 14s\n",
            "200:\tlearn: 0.1277321\ttest: 0.1126840\ttest1: 0.1078078\tbest: 0.1078078 (200)\ttotal: 2.26s\tremaining: 53.9s\n",
            "400:\tlearn: nan\ttest: 0.1060610\ttest1: 0.1016321\tbest: 0.1016321 (400)\ttotal: 4.19s\tremaining: 48s\n",
            "600:\tlearn: nan\ttest: nan\ttest1: 0.0959884\tbest: 0.0959884 (600)\ttotal: 6.05s\tremaining: 44.3s\n",
            "800:\tlearn: 0.1040878\ttest: nan\ttest1: 0.0925269\tbest: 0.0924841 (796)\ttotal: 8.08s\tremaining: 42.3s\n",
            "1000:\tlearn: nan\ttest: nan\ttest1: 0.0914229\tbest: 0.0914223 (999)\ttotal: 10.3s\tremaining: 41s\n",
            "1200:\tlearn: nan\ttest: nan\ttest1: 0.0902200\tbest: 0.0902200 (1200)\ttotal: 12.5s\tremaining: 39.5s\n",
            "1400:\tlearn: 0.0937731\ttest: nan\ttest1: 0.0902176\tbest: 0.0900720 (1269)\ttotal: 14.7s\tremaining: 37.7s\n",
            "Stopped by overfitting detector  (200 iterations wait)\n",
            "\n",
            "bestTest = 0.09007202572\n",
            "bestIteration = 1269\n",
            "\n",
            "Shrink model to first 1270 iterations.\n",
            "err_lgm:  0.8696595317866835\n",
            "0:\tlearn: 0.5829634\ttest: 0.5831490\ttest1: 0.5757124\tbest: 0.5757124 (0)\ttotal: 22.6ms\tremaining: 1m 52s\n",
            "200:\tlearn: 0.1208309\ttest: 0.1078851\ttest1: nan\tbest: 0.1337192 (163)\ttotal: 2.24s\tremaining: 53.4s\n",
            "Stopped by overfitting detector  (200 iterations wait)\n",
            "\n",
            "bestTest = 0.1337192188\n",
            "bestIteration = 163\n",
            "\n",
            "Shrink model to first 164 iterations.\n",
            "err_lgm:  0.8411887632020476\n",
            "0:\tlearn: 0.5647494\ttest: 0.5646665\ttest1: 0.6117596\tbest: 0.6117596 (0)\ttotal: 14.9ms\tremaining: 1m 14s\n",
            "200:\tlearn: 0.1240454\ttest: 0.1088382\ttest1: 0.1274980\tbest: 0.1274980 (200)\ttotal: 2.22s\tremaining: 53s\n",
            "400:\tlearn: 0.1143316\ttest: 0.1000219\ttest1: 0.1190788\tbest: 0.1190788 (400)\ttotal: 4.2s\tremaining: 48.2s\n",
            "600:\tlearn: 0.1067876\ttest: 0.0953747\ttest1: 0.1148647\tbest: 0.1148647 (600)\ttotal: 6.31s\tremaining: 46.2s\n",
            "800:\tlearn: 0.1015243\ttest: nan\ttest1: 0.1132422\tbest: 0.1131978 (791)\ttotal: 8.48s\tremaining: 44.5s\n",
            "1000:\tlearn: 0.0983808\ttest: 0.0896129\ttest1: 0.1116181\tbest: 0.1116181 (1000)\ttotal: 10.6s\tremaining: 42.4s\n",
            "1200:\tlearn: 0.0956103\ttest: 0.0878780\ttest1: 0.1115496\tbest: 0.1112929 (1049)\ttotal: 12.8s\tremaining: 40.4s\n",
            "Stopped by overfitting detector  (200 iterations wait)\n",
            "\n",
            "bestTest = 0.1112928675\n",
            "bestIteration = 1049\n",
            "\n",
            "Shrink model to first 1050 iterations.\n",
            "err_lgm:  0.8551168191385228\n",
            "0:\tlearn: 0.5768282\ttest: 0.5767742\ttest1: 0.5750353\tbest: 0.5750353 (0)\ttotal: 18.9ms\tremaining: 1m 34s\n",
            "200:\tlearn: 0.1185021\ttest: 0.1052844\ttest1: 0.1171691\tbest: 0.1171691 (200)\ttotal: 2.23s\tremaining: 53.3s\n",
            "400:\tlearn: 0.1093233\ttest: nan\ttest1: 0.1081442\tbest: 0.1081194 (396)\ttotal: 4.41s\tremaining: 50.5s\n",
            "600:\tlearn: nan\ttest: nan\ttest1: 0.1030925\tbest: 0.1030925 (600)\ttotal: 6.57s\tremaining: 48.1s\n",
            "800:\tlearn: 0.0978308\ttest: nan\ttest1: 0.1003536\tbest: 0.1003421 (789)\ttotal: 8.79s\tremaining: 46.1s\n",
            "1000:\tlearn: 0.0946336\ttest: nan\ttest1: 0.0986840\tbest: 0.0986737 (999)\ttotal: 11s\tremaining: 43.9s\n",
            "1200:\tlearn: 0.0913777\ttest: 0.0836456\ttest1: 0.0968018\tbest: 0.0968018 (1200)\ttotal: 13.3s\tremaining: 41.9s\n",
            "1400:\tlearn: 0.0894534\ttest: 0.0815286\ttest1: 0.0959647\tbest: 0.0959439 (1385)\ttotal: 15.5s\tremaining: 39.9s\n",
            "1600:\tlearn: 0.0874305\ttest: 0.0803790\ttest1: 0.0954326\tbest: 0.0953443 (1567)\ttotal: 17.8s\tremaining: 37.9s\n",
            "1800:\tlearn: 0.0855418\ttest: nan\ttest1: 0.0949827\tbest: 0.0948958 (1760)\ttotal: 20.1s\tremaining: 35.7s\n",
            "2000:\tlearn: 0.0837878\ttest: 0.0788750\ttest1: 0.0946654\tbest: 0.0946605 (1999)\ttotal: 22.3s\tremaining: 33.4s\n",
            "2200:\tlearn: 0.0822245\ttest: 0.0775184\ttest1: 0.0944611\tbest: 0.0944224 (2073)\ttotal: 24.4s\tremaining: 31.1s\n",
            "Stopped by overfitting detector  (200 iterations wait)\n",
            "\n",
            "bestTest = 0.09442235702\n",
            "bestIteration = 2073\n",
            "\n",
            "Shrink model to first 2074 iterations.\n",
            "err_lgm:  0.8665490301206116\n"
          ],
          "name": "stdout"
        }
      ]
    },
    {
      "cell_type": "code",
      "metadata": {
        "id": "_bkLx34DCsON",
        "colab_type": "code",
        "colab": {
          "base_uri": "https://localhost:8080/",
          "height": 102
        },
        "outputId": "cc52d705-1193-4c0b-8d35-5f2bb9f4d2f2"
      },
      "source": [
        "err"
      ],
      "execution_count": null,
      "outputs": [
        {
          "output_type": "execute_result",
          "data": {
            "text/plain": [
              "[0.8572479745727917,\n",
              " 0.8696595317866835,\n",
              " 0.8411887632020476,\n",
              " 0.8551168191385228,\n",
              " 0.8665490301206116]"
            ]
          },
          "metadata": {
            "tags": []
          },
          "execution_count": 137
        }
      ]
    },
    {
      "cell_type": "code",
      "metadata": {
        "id": "KFRr8J0yG9xu",
        "colab_type": "code",
        "colab": {
          "base_uri": "https://localhost:8080/",
          "height": 51
        },
        "outputId": "ae7ef159-8aaa-414f-a2d7-c1cbe831dfe0"
      },
      "source": [
        "np.mean(y_pred_tot_cb,0)"
      ],
      "execution_count": null,
      "outputs": [
        {
          "output_type": "execute_result",
          "data": {
            "text/plain": [
              "array([ 73.15201911, 352.66553517, 193.14219374, ...,  47.00199958,\n",
              "        56.11521241,  56.07831056])"
            ]
          },
          "metadata": {
            "tags": []
          },
          "execution_count": 138
        }
      ]
    },
    {
      "cell_type": "code",
      "metadata": {
        "id": "M6_uh3zBKs0_",
        "colab_type": "code",
        "colab": {}
      },
      "source": [
        "pd.DataFrame(np.mean(y_pred_tot_cb,0),columns=['price']).to_csv('house_07.csv',index=False)#0.87015"
      ],
      "execution_count": null,
      "outputs": []
    }
  ]
}