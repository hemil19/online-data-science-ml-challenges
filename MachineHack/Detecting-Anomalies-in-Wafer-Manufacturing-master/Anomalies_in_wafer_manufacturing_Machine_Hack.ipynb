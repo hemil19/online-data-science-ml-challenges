{
  "nbformat": 4,
  "nbformat_minor": 0,
  "metadata": {
    "colab": {
      "name": "Anomalies in wafer manufacturing -Machine Hack.ipynb",
      "provenance": [],
      "collapsed_sections": [],
      "authorship_tag": "ABX9TyN3ouBeSJhRQnDK+2qz2lvK",
      "include_colab_link": true
    },
    "kernelspec": {
      "name": "python3",
      "display_name": "Python 3"
    }
  },
  "cells": [
    {
      "cell_type": "markdown",
      "metadata": {
        "id": "view-in-github",
        "colab_type": "text"
      },
      "source": [
        "<a href=\"https://colab.research.google.com/github/hemil19/Detecting-Anomalies-in-Wafer-Manufacturing/blob/master/Anomalies_in_wafer_manufacturing_Machine_Hack.ipynb\" target=\"_parent\"><img src=\"https://colab.research.google.com/assets/colab-badge.svg\" alt=\"Open In Colab\"/></a>"
      ]
    },
    {
      "cell_type": "code",
      "metadata": {
        "id": "zRhkJF1m6rV0",
        "colab_type": "code",
        "colab": {}
      },
      "source": [
        "import pandas as pd\n",
        "import numpy as np\n",
        "import matplotlib.pyplot as plt\n",
        "%matplotlib inline\n",
        "import warnings\n",
        "warnings.filterwarnings('ignore')"
      ],
      "execution_count": 1,
      "outputs": []
    },
    {
      "cell_type": "code",
      "metadata": {
        "id": "_4CvCJe163-7",
        "colab_type": "code",
        "colab": {}
      },
      "source": [
        "train=pd.read_csv('/content/Train.csv')\n",
        "test=pd.read_csv('/content/Test.csv')"
      ],
      "execution_count": 2,
      "outputs": []
    },
    {
      "cell_type": "code",
      "metadata": {
        "id": "MOb3X79g7D-l",
        "colab_type": "code",
        "colab": {
          "base_uri": "https://localhost:8080/",
          "height": 34
        },
        "outputId": "a7c19662-6f12-45fd-fd9c-60396c38703d"
      },
      "source": [
        "train.shape,test.shape"
      ],
      "execution_count": 3,
      "outputs": [
        {
          "output_type": "execute_result",
          "data": {
            "text/plain": [
              "((1763, 1559), (756, 1558))"
            ]
          },
          "metadata": {
            "tags": []
          },
          "execution_count": 3
        }
      ]
    },
    {
      "cell_type": "code",
      "metadata": {
        "id": "zPBVsDCf6_Iz",
        "colab_type": "code",
        "colab": {
          "base_uri": "https://localhost:8080/",
          "height": 279
        },
        "outputId": "bfc2f615-01f4-4d17-8cab-5be9254be972"
      },
      "source": [
        "train['Class'].value_counts().plot(kind='bar')"
      ],
      "execution_count": 4,
      "outputs": [
        {
          "output_type": "execute_result",
          "data": {
            "text/plain": [
              "<matplotlib.axes._subplots.AxesSubplot at 0x7f89dc298898>"
            ]
          },
          "metadata": {
            "tags": []
          },
          "execution_count": 4
        },
        {
          "output_type": "display_data",
          "data": {
            "image/png": "[encoded data removed]",
            "text/plain": [
              "<Figure size 432x288 with 1 Axes>"
            ]
          },
          "metadata": {
            "tags": [],
            "needs_background": "light"
          }
        }
      ]
    },
    {
      "cell_type": "code",
      "metadata": {
        "id": "9653wOq67Feq",
        "colab_type": "code",
        "colab": {
          "base_uri": "https://localhost:8080/",
          "height": 221
        },
        "outputId": "51352d3f-4394-4af9-8e0c-4b90bbf21851"
      },
      "source": [
        "train.isnull().sum()"
      ],
      "execution_count": 5,
      "outputs": [
        {
          "output_type": "execute_result",
          "data": {
            "text/plain": [
              "feature_1       0\n",
              "feature_2       0\n",
              "feature_3       0\n",
              "feature_4       0\n",
              "feature_5       0\n",
              "               ..\n",
              "feature_1555    0\n",
              "feature_1556    0\n",
              "feature_1557    0\n",
              "feature_1558    0\n",
              "Class           0\n",
              "Length: 1559, dtype: int64"
            ]
          },
          "metadata": {
            "tags": []
          },
          "execution_count": 5
        }
      ]
    },
    {
      "cell_type": "code",
      "metadata": {
        "id": "DfatVE1E7HFl",
        "colab_type": "code",
        "colab": {
          "base_uri": "https://localhost:8080/",
          "height": 221
        },
        "outputId": "8116c79d-b109-4884-d189-055ebfaa1032"
      },
      "source": [
        "test.isnull().sum()"
      ],
      "execution_count": 6,
      "outputs": [
        {
          "output_type": "execute_result",
          "data": {
            "text/plain": [
              "feature_1       0\n",
              "feature_2       0\n",
              "feature_3       0\n",
              "feature_4       0\n",
              "feature_5       0\n",
              "               ..\n",
              "feature_1554    0\n",
              "feature_1555    0\n",
              "feature_1556    0\n",
              "feature_1557    0\n",
              "feature_1558    0\n",
              "Length: 1558, dtype: int64"
            ]
          },
          "metadata": {
            "tags": []
          },
          "execution_count": 6
        }
      ]
    },
    {
      "cell_type": "code",
      "metadata": {
        "id": "te9SF8JL7Ip8",
        "colab_type": "code",
        "colab": {
          "base_uri": "https://localhost:8080/",
          "height": 253
        },
        "outputId": "9a6978fe-f88a-4a70-d55d-d377d4c557e3"
      },
      "source": [
        "train.head()"
      ],
      "execution_count": 7,
      "outputs": [
        {
          "output_type": "execute_result",
          "data": {
            "text/html": [
              "<div>\n",
              "<style scoped>\n",
              "    .dataframe tbody tr th:only-of-type {\n",
              "        vertical-align: middle;\n",
              "    }\n",
              "\n",
              "    .dataframe tbody tr th {\n",
              "        vertical-align: top;\n",
              "    }\n",
              "\n",
              "    .dataframe thead th {\n",
              "        text-align: right;\n",
              "    }\n",
              "</style>\n",
              "<table border=\"1\" class=\"dataframe\">\n",
              "  <thead>\n",
              "    <tr style=\"text-align: right;\">\n",
              "      <th></th>\n",
              "      <th>feature_1</th>\n",
              "      <th>feature_2</th>\n",
              "      <th>feature_3</th>\n",
              "      <th>feature_4</th>\n",
              "      <th>feature_5</th>\n",
              "      <th>feature_6</th>\n",
              "      <th>feature_7</th>\n",
              "      <th>feature_8</th>\n",
              "      <th>feature_9</th>\n",
              "      <th>feature_10</th>\n",
              "      <th>feature_11</th>\n",
              "      <th>feature_12</th>\n",
              "      <th>feature_13</th>\n",
              "      <th>feature_14</th>\n",
              "      <th>feature_15</th>\n",
              "      <th>feature_16</th>\n",
              "      <th>feature_17</th>\n",
              "      <th>feature_18</th>\n",
              "      <th>feature_19</th>\n",
              "      <th>feature_20</th>\n",
              "      <th>feature_21</th>\n",
              "      <th>feature_22</th>\n",
              "      <th>feature_23</th>\n",
              "      <th>feature_24</th>\n",
              "      <th>feature_25</th>\n",
              "      <th>feature_26</th>\n",
              "      <th>feature_27</th>\n",
              "      <th>feature_28</th>\n",
              "      <th>feature_29</th>\n",
              "      <th>feature_30</th>\n",
              "      <th>feature_31</th>\n",
              "      <th>feature_32</th>\n",
              "      <th>feature_33</th>\n",
              "      <th>feature_34</th>\n",
              "      <th>feature_35</th>\n",
              "      <th>feature_36</th>\n",
              "      <th>feature_37</th>\n",
              "      <th>feature_38</th>\n",
              "      <th>feature_39</th>\n",
              "      <th>feature_40</th>\n",
              "      <th>...</th>\n",
              "      <th>feature_1520</th>\n",
              "      <th>feature_1521</th>\n",
              "      <th>feature_1522</th>\n",
              "      <th>feature_1523</th>\n",
              "      <th>feature_1524</th>\n",
              "      <th>feature_1525</th>\n",
              "      <th>feature_1526</th>\n",
              "      <th>feature_1527</th>\n",
              "      <th>feature_1528</th>\n",
              "      <th>feature_1529</th>\n",
              "      <th>feature_1530</th>\n",
              "      <th>feature_1531</th>\n",
              "      <th>feature_1532</th>\n",
              "      <th>feature_1533</th>\n",
              "      <th>feature_1534</th>\n",
              "      <th>feature_1535</th>\n",
              "      <th>feature_1536</th>\n",
              "      <th>feature_1537</th>\n",
              "      <th>feature_1538</th>\n",
              "      <th>feature_1539</th>\n",
              "      <th>feature_1540</th>\n",
              "      <th>feature_1541</th>\n",
              "      <th>feature_1542</th>\n",
              "      <th>feature_1543</th>\n",
              "      <th>feature_1544</th>\n",
              "      <th>feature_1545</th>\n",
              "      <th>feature_1546</th>\n",
              "      <th>feature_1547</th>\n",
              "      <th>feature_1548</th>\n",
              "      <th>feature_1549</th>\n",
              "      <th>feature_1550</th>\n",
              "      <th>feature_1551</th>\n",
              "      <th>feature_1552</th>\n",
              "      <th>feature_1553</th>\n",
              "      <th>feature_1554</th>\n",
              "      <th>feature_1555</th>\n",
              "      <th>feature_1556</th>\n",
              "      <th>feature_1557</th>\n",
              "      <th>feature_1558</th>\n",
              "      <th>Class</th>\n",
              "    </tr>\n",
              "  </thead>\n",
              "  <tbody>\n",
              "    <tr>\n",
              "      <th>0</th>\n",
              "      <td>100</td>\n",
              "      <td>160</td>\n",
              "      <td>1.6000</td>\n",
              "      <td>0</td>\n",
              "      <td>0</td>\n",
              "      <td>0</td>\n",
              "      <td>0</td>\n",
              "      <td>0</td>\n",
              "      <td>0</td>\n",
              "      <td>0</td>\n",
              "      <td>0</td>\n",
              "      <td>0</td>\n",
              "      <td>0</td>\n",
              "      <td>0</td>\n",
              "      <td>0</td>\n",
              "      <td>0</td>\n",
              "      <td>0</td>\n",
              "      <td>0</td>\n",
              "      <td>0</td>\n",
              "      <td>0</td>\n",
              "      <td>0</td>\n",
              "      <td>0</td>\n",
              "      <td>0</td>\n",
              "      <td>0</td>\n",
              "      <td>0</td>\n",
              "      <td>0</td>\n",
              "      <td>0</td>\n",
              "      <td>0</td>\n",
              "      <td>0</td>\n",
              "      <td>0</td>\n",
              "      <td>0</td>\n",
              "      <td>0</td>\n",
              "      <td>0</td>\n",
              "      <td>0</td>\n",
              "      <td>0</td>\n",
              "      <td>0</td>\n",
              "      <td>0</td>\n",
              "      <td>0</td>\n",
              "      <td>0</td>\n",
              "      <td>0</td>\n",
              "      <td>...</td>\n",
              "      <td>0</td>\n",
              "      <td>0</td>\n",
              "      <td>0</td>\n",
              "      <td>0</td>\n",
              "      <td>0</td>\n",
              "      <td>0</td>\n",
              "      <td>0</td>\n",
              "      <td>0</td>\n",
              "      <td>0</td>\n",
              "      <td>0</td>\n",
              "      <td>0</td>\n",
              "      <td>0</td>\n",
              "      <td>0</td>\n",
              "      <td>0</td>\n",
              "      <td>0</td>\n",
              "      <td>0</td>\n",
              "      <td>0</td>\n",
              "      <td>0</td>\n",
              "      <td>0</td>\n",
              "      <td>0</td>\n",
              "      <td>0</td>\n",
              "      <td>0</td>\n",
              "      <td>0</td>\n",
              "      <td>0</td>\n",
              "      <td>0</td>\n",
              "      <td>0</td>\n",
              "      <td>0</td>\n",
              "      <td>0</td>\n",
              "      <td>0</td>\n",
              "      <td>0</td>\n",
              "      <td>0</td>\n",
              "      <td>0</td>\n",
              "      <td>0</td>\n",
              "      <td>0</td>\n",
              "      <td>0</td>\n",
              "      <td>0</td>\n",
              "      <td>0</td>\n",
              "      <td>0</td>\n",
              "      <td>0</td>\n",
              "      <td>0</td>\n",
              "    </tr>\n",
              "    <tr>\n",
              "      <th>1</th>\n",
              "      <td>20</td>\n",
              "      <td>83</td>\n",
              "      <td>4.1500</td>\n",
              "      <td>1</td>\n",
              "      <td>0</td>\n",
              "      <td>0</td>\n",
              "      <td>0</td>\n",
              "      <td>0</td>\n",
              "      <td>0</td>\n",
              "      <td>1</td>\n",
              "      <td>0</td>\n",
              "      <td>0</td>\n",
              "      <td>0</td>\n",
              "      <td>0</td>\n",
              "      <td>0</td>\n",
              "      <td>0</td>\n",
              "      <td>0</td>\n",
              "      <td>0</td>\n",
              "      <td>0</td>\n",
              "      <td>0</td>\n",
              "      <td>0</td>\n",
              "      <td>0</td>\n",
              "      <td>0</td>\n",
              "      <td>0</td>\n",
              "      <td>0</td>\n",
              "      <td>0</td>\n",
              "      <td>0</td>\n",
              "      <td>0</td>\n",
              "      <td>0</td>\n",
              "      <td>0</td>\n",
              "      <td>0</td>\n",
              "      <td>0</td>\n",
              "      <td>0</td>\n",
              "      <td>0</td>\n",
              "      <td>0</td>\n",
              "      <td>0</td>\n",
              "      <td>0</td>\n",
              "      <td>0</td>\n",
              "      <td>0</td>\n",
              "      <td>0</td>\n",
              "      <td>...</td>\n",
              "      <td>0</td>\n",
              "      <td>0</td>\n",
              "      <td>0</td>\n",
              "      <td>0</td>\n",
              "      <td>0</td>\n",
              "      <td>0</td>\n",
              "      <td>0</td>\n",
              "      <td>0</td>\n",
              "      <td>0</td>\n",
              "      <td>0</td>\n",
              "      <td>0</td>\n",
              "      <td>0</td>\n",
              "      <td>0</td>\n",
              "      <td>0</td>\n",
              "      <td>0</td>\n",
              "      <td>0</td>\n",
              "      <td>0</td>\n",
              "      <td>0</td>\n",
              "      <td>0</td>\n",
              "      <td>0</td>\n",
              "      <td>0</td>\n",
              "      <td>0</td>\n",
              "      <td>0</td>\n",
              "      <td>0</td>\n",
              "      <td>0</td>\n",
              "      <td>0</td>\n",
              "      <td>0</td>\n",
              "      <td>0</td>\n",
              "      <td>0</td>\n",
              "      <td>0</td>\n",
              "      <td>0</td>\n",
              "      <td>0</td>\n",
              "      <td>0</td>\n",
              "      <td>0</td>\n",
              "      <td>0</td>\n",
              "      <td>1</td>\n",
              "      <td>0</td>\n",
              "      <td>0</td>\n",
              "      <td>0</td>\n",
              "      <td>0</td>\n",
              "    </tr>\n",
              "    <tr>\n",
              "      <th>2</th>\n",
              "      <td>99</td>\n",
              "      <td>150</td>\n",
              "      <td>1.5151</td>\n",
              "      <td>1</td>\n",
              "      <td>0</td>\n",
              "      <td>0</td>\n",
              "      <td>0</td>\n",
              "      <td>0</td>\n",
              "      <td>0</td>\n",
              "      <td>0</td>\n",
              "      <td>0</td>\n",
              "      <td>0</td>\n",
              "      <td>0</td>\n",
              "      <td>0</td>\n",
              "      <td>0</td>\n",
              "      <td>0</td>\n",
              "      <td>0</td>\n",
              "      <td>0</td>\n",
              "      <td>0</td>\n",
              "      <td>0</td>\n",
              "      <td>0</td>\n",
              "      <td>0</td>\n",
              "      <td>0</td>\n",
              "      <td>0</td>\n",
              "      <td>0</td>\n",
              "      <td>0</td>\n",
              "      <td>0</td>\n",
              "      <td>0</td>\n",
              "      <td>0</td>\n",
              "      <td>0</td>\n",
              "      <td>0</td>\n",
              "      <td>0</td>\n",
              "      <td>0</td>\n",
              "      <td>0</td>\n",
              "      <td>0</td>\n",
              "      <td>0</td>\n",
              "      <td>0</td>\n",
              "      <td>0</td>\n",
              "      <td>0</td>\n",
              "      <td>0</td>\n",
              "      <td>...</td>\n",
              "      <td>0</td>\n",
              "      <td>0</td>\n",
              "      <td>0</td>\n",
              "      <td>0</td>\n",
              "      <td>0</td>\n",
              "      <td>0</td>\n",
              "      <td>0</td>\n",
              "      <td>0</td>\n",
              "      <td>0</td>\n",
              "      <td>0</td>\n",
              "      <td>0</td>\n",
              "      <td>0</td>\n",
              "      <td>0</td>\n",
              "      <td>0</td>\n",
              "      <td>0</td>\n",
              "      <td>0</td>\n",
              "      <td>0</td>\n",
              "      <td>0</td>\n",
              "      <td>0</td>\n",
              "      <td>0</td>\n",
              "      <td>0</td>\n",
              "      <td>0</td>\n",
              "      <td>0</td>\n",
              "      <td>0</td>\n",
              "      <td>0</td>\n",
              "      <td>0</td>\n",
              "      <td>0</td>\n",
              "      <td>0</td>\n",
              "      <td>0</td>\n",
              "      <td>0</td>\n",
              "      <td>0</td>\n",
              "      <td>0</td>\n",
              "      <td>0</td>\n",
              "      <td>0</td>\n",
              "      <td>0</td>\n",
              "      <td>0</td>\n",
              "      <td>0</td>\n",
              "      <td>0</td>\n",
              "      <td>0</td>\n",
              "      <td>0</td>\n",
              "    </tr>\n",
              "    <tr>\n",
              "      <th>3</th>\n",
              "      <td>40</td>\n",
              "      <td>40</td>\n",
              "      <td>1.0000</td>\n",
              "      <td>0</td>\n",
              "      <td>0</td>\n",
              "      <td>0</td>\n",
              "      <td>0</td>\n",
              "      <td>0</td>\n",
              "      <td>0</td>\n",
              "      <td>0</td>\n",
              "      <td>0</td>\n",
              "      <td>0</td>\n",
              "      <td>0</td>\n",
              "      <td>0</td>\n",
              "      <td>0</td>\n",
              "      <td>0</td>\n",
              "      <td>0</td>\n",
              "      <td>0</td>\n",
              "      <td>0</td>\n",
              "      <td>1</td>\n",
              "      <td>0</td>\n",
              "      <td>0</td>\n",
              "      <td>0</td>\n",
              "      <td>0</td>\n",
              "      <td>0</td>\n",
              "      <td>0</td>\n",
              "      <td>0</td>\n",
              "      <td>0</td>\n",
              "      <td>0</td>\n",
              "      <td>0</td>\n",
              "      <td>0</td>\n",
              "      <td>0</td>\n",
              "      <td>0</td>\n",
              "      <td>0</td>\n",
              "      <td>0</td>\n",
              "      <td>0</td>\n",
              "      <td>0</td>\n",
              "      <td>0</td>\n",
              "      <td>0</td>\n",
              "      <td>0</td>\n",
              "      <td>...</td>\n",
              "      <td>0</td>\n",
              "      <td>0</td>\n",
              "      <td>0</td>\n",
              "      <td>0</td>\n",
              "      <td>0</td>\n",
              "      <td>0</td>\n",
              "      <td>0</td>\n",
              "      <td>0</td>\n",
              "      <td>0</td>\n",
              "      <td>0</td>\n",
              "      <td>0</td>\n",
              "      <td>0</td>\n",
              "      <td>0</td>\n",
              "      <td>0</td>\n",
              "      <td>0</td>\n",
              "      <td>0</td>\n",
              "      <td>0</td>\n",
              "      <td>0</td>\n",
              "      <td>0</td>\n",
              "      <td>0</td>\n",
              "      <td>0</td>\n",
              "      <td>0</td>\n",
              "      <td>0</td>\n",
              "      <td>1</td>\n",
              "      <td>0</td>\n",
              "      <td>0</td>\n",
              "      <td>0</td>\n",
              "      <td>0</td>\n",
              "      <td>0</td>\n",
              "      <td>0</td>\n",
              "      <td>0</td>\n",
              "      <td>0</td>\n",
              "      <td>0</td>\n",
              "      <td>0</td>\n",
              "      <td>0</td>\n",
              "      <td>0</td>\n",
              "      <td>0</td>\n",
              "      <td>0</td>\n",
              "      <td>0</td>\n",
              "      <td>0</td>\n",
              "    </tr>\n",
              "    <tr>\n",
              "      <th>4</th>\n",
              "      <td>12</td>\n",
              "      <td>234</td>\n",
              "      <td>19.5000</td>\n",
              "      <td>1</td>\n",
              "      <td>0</td>\n",
              "      <td>0</td>\n",
              "      <td>0</td>\n",
              "      <td>0</td>\n",
              "      <td>0</td>\n",
              "      <td>0</td>\n",
              "      <td>0</td>\n",
              "      <td>0</td>\n",
              "      <td>0</td>\n",
              "      <td>0</td>\n",
              "      <td>0</td>\n",
              "      <td>0</td>\n",
              "      <td>0</td>\n",
              "      <td>0</td>\n",
              "      <td>0</td>\n",
              "      <td>0</td>\n",
              "      <td>0</td>\n",
              "      <td>0</td>\n",
              "      <td>0</td>\n",
              "      <td>0</td>\n",
              "      <td>0</td>\n",
              "      <td>0</td>\n",
              "      <td>0</td>\n",
              "      <td>0</td>\n",
              "      <td>0</td>\n",
              "      <td>0</td>\n",
              "      <td>0</td>\n",
              "      <td>0</td>\n",
              "      <td>0</td>\n",
              "      <td>0</td>\n",
              "      <td>0</td>\n",
              "      <td>0</td>\n",
              "      <td>0</td>\n",
              "      <td>0</td>\n",
              "      <td>0</td>\n",
              "      <td>0</td>\n",
              "      <td>...</td>\n",
              "      <td>0</td>\n",
              "      <td>0</td>\n",
              "      <td>0</td>\n",
              "      <td>0</td>\n",
              "      <td>0</td>\n",
              "      <td>0</td>\n",
              "      <td>0</td>\n",
              "      <td>0</td>\n",
              "      <td>1</td>\n",
              "      <td>0</td>\n",
              "      <td>0</td>\n",
              "      <td>0</td>\n",
              "      <td>0</td>\n",
              "      <td>0</td>\n",
              "      <td>0</td>\n",
              "      <td>0</td>\n",
              "      <td>0</td>\n",
              "      <td>0</td>\n",
              "      <td>0</td>\n",
              "      <td>0</td>\n",
              "      <td>0</td>\n",
              "      <td>0</td>\n",
              "      <td>0</td>\n",
              "      <td>0</td>\n",
              "      <td>0</td>\n",
              "      <td>0</td>\n",
              "      <td>0</td>\n",
              "      <td>0</td>\n",
              "      <td>0</td>\n",
              "      <td>0</td>\n",
              "      <td>0</td>\n",
              "      <td>0</td>\n",
              "      <td>0</td>\n",
              "      <td>0</td>\n",
              "      <td>0</td>\n",
              "      <td>0</td>\n",
              "      <td>0</td>\n",
              "      <td>0</td>\n",
              "      <td>0</td>\n",
              "      <td>0</td>\n",
              "    </tr>\n",
              "  </tbody>\n",
              "</table>\n",
              "<p>5 rows × 1559 columns</p>\n",
              "</div>"
            ],
            "text/plain": [
              "   feature_1  feature_2  feature_3  ...  feature_1557  feature_1558  Class\n",
              "0        100        160     1.6000  ...             0             0      0\n",
              "1         20         83     4.1500  ...             0             0      0\n",
              "2         99        150     1.5151  ...             0             0      0\n",
              "3         40         40     1.0000  ...             0             0      0\n",
              "4         12        234    19.5000  ...             0             0      0\n",
              "\n",
              "[5 rows x 1559 columns]"
            ]
          },
          "metadata": {
            "tags": []
          },
          "execution_count": 7
        }
      ]
    },
    {
      "cell_type": "code",
      "metadata": {
        "id": "wN5Sah5w7-mh",
        "colab_type": "code",
        "colab": {}
      },
      "source": [
        "X=train.drop('Class',axis=1)\n",
        "y=train['Class']"
      ],
      "execution_count": 8,
      "outputs": []
    },
    {
      "cell_type": "code",
      "metadata": {
        "id": "otizl-_gFhrw",
        "colab_type": "code",
        "colab": {}
      },
      "source": [
        "from sklearn.feature_selection import SelectKBest\n",
        "from sklearn.feature_selection import chi2\n",
        "#apply SelectKBest class to extract top 30 best features\n",
        "bestfeatures = SelectKBest(score_func=chi2, k=30)\n",
        "fit = bestfeatures.fit(X,y)"
      ],
      "execution_count": 9,
      "outputs": []
    },
    {
      "cell_type": "code",
      "metadata": {
        "id": "L5dnlzjnRpFk",
        "colab_type": "code",
        "colab": {}
      },
      "source": [
        "dfscores = pd.DataFrame(fit.scores_)\n",
        "dfcolumns = pd.DataFrame(X.columns)\n",
        "#concat two dataframes for better visualization \n",
        "featureScores = pd.concat([dfcolumns,dfscores],axis=1)\n",
        "featureScores.columns = ['Specs','Score']  #naming the dataframe columns"
      ],
      "execution_count": 10,
      "outputs": []
    },
    {
      "cell_type": "code",
      "metadata": {
        "id": "nzqFvyMdR2KC",
        "colab_type": "code",
        "colab": {
          "base_uri": "https://localhost:8080/",
          "height": 419
        },
        "outputId": "9b294471-7712-4c6a-c31f-22ee60325e97"
      },
      "source": [
        "featureScores.nlargest(102,'Score')"
      ],
      "execution_count": 11,
      "outputs": [
        {
          "output_type": "execute_result",
          "data": {
            "text/html": [
              "<div>\n",
              "<style scoped>\n",
              "    .dataframe tbody tr th:only-of-type {\n",
              "        vertical-align: middle;\n",
              "    }\n",
              "\n",
              "    .dataframe tbody tr th {\n",
              "        vertical-align: top;\n",
              "    }\n",
              "\n",
              "    .dataframe thead th {\n",
              "        text-align: right;\n",
              "    }\n",
              "</style>\n",
              "<table border=\"1\" class=\"dataframe\">\n",
              "  <thead>\n",
              "    <tr style=\"text-align: right;\">\n",
              "      <th></th>\n",
              "      <th>Specs</th>\n",
              "      <th>Score</th>\n",
              "    </tr>\n",
              "  </thead>\n",
              "  <tbody>\n",
              "    <tr>\n",
              "      <th>1</th>\n",
              "      <td>feature_2</td>\n",
              "      <td>25673.484371</td>\n",
              "    </tr>\n",
              "    <tr>\n",
              "      <th>1399</th>\n",
              "      <td>feature_1400</td>\n",
              "      <td>302.309788</td>\n",
              "    </tr>\n",
              "    <tr>\n",
              "      <th>1243</th>\n",
              "      <td>feature_1244</td>\n",
              "      <td>259.177842</td>\n",
              "    </tr>\n",
              "    <tr>\n",
              "      <th>1153</th>\n",
              "      <td>feature_1154</td>\n",
              "      <td>230.140289</td>\n",
              "    </tr>\n",
              "    <tr>\n",
              "      <th>1047</th>\n",
              "      <td>feature_1048</td>\n",
              "      <td>226.563474</td>\n",
              "    </tr>\n",
              "    <tr>\n",
              "      <th>...</th>\n",
              "      <td>...</td>\n",
              "      <td>...</td>\n",
              "    </tr>\n",
              "    <tr>\n",
              "      <th>356</th>\n",
              "      <td>feature_357</td>\n",
              "      <td>23.542357</td>\n",
              "    </tr>\n",
              "    <tr>\n",
              "      <th>734</th>\n",
              "      <td>feature_735</td>\n",
              "      <td>23.542357</td>\n",
              "    </tr>\n",
              "    <tr>\n",
              "      <th>1338</th>\n",
              "      <td>feature_1339</td>\n",
              "      <td>23.542357</td>\n",
              "    </tr>\n",
              "    <tr>\n",
              "      <th>36</th>\n",
              "      <td>feature_37</td>\n",
              "      <td>22.579027</td>\n",
              "    </tr>\n",
              "    <tr>\n",
              "      <th>96</th>\n",
              "      <td>feature_97</td>\n",
              "      <td>22.579027</td>\n",
              "    </tr>\n",
              "  </tbody>\n",
              "</table>\n",
              "<p>102 rows × 2 columns</p>\n",
              "</div>"
            ],
            "text/plain": [
              "             Specs         Score\n",
              "1        feature_2  25673.484371\n",
              "1399  feature_1400    302.309788\n",
              "1243  feature_1244    259.177842\n",
              "1153  feature_1154    230.140289\n",
              "1047  feature_1048    226.563474\n",
              "...            ...           ...\n",
              "356    feature_357     23.542357\n",
              "734    feature_735     23.542357\n",
              "1338  feature_1339     23.542357\n",
              "36      feature_37     22.579027\n",
              "96      feature_97     22.579027\n",
              "\n",
              "[102 rows x 2 columns]"
            ]
          },
          "metadata": {
            "tags": []
          },
          "execution_count": 11
        }
      ]
    },
    {
      "cell_type": "code",
      "metadata": {
        "id": "zT3LbagfF_ic",
        "colab_type": "code",
        "colab": {}
      },
      "source": [
        "X=X[featureScores.nlargest(102,'Score')['Specs']]\n",
        "test=test[X.columns]"
      ],
      "execution_count": 12,
      "outputs": []
    },
    {
      "cell_type": "code",
      "metadata": {
        "id": "DwbfJzuz8JtU",
        "colab_type": "code",
        "colab": {}
      },
      "source": [
        "from sklearn.model_selection import train_test_split\n",
        "X_train, X_test, y_train, y_test = train_test_split(X, y, test_size=0.2)"
      ],
      "execution_count": 13,
      "outputs": []
    },
    {
      "cell_type": "code",
      "metadata": {
        "id": "o7g80aXA8OwI",
        "colab_type": "code",
        "colab": {
          "base_uri": "https://localhost:8080/",
          "height": 139
        },
        "outputId": "9631a978-11cd-40a1-8cc7-b918b2651e70"
      },
      "source": [
        "from lightgbm import LGBMClassifier\n",
        "model = LGBMClassifier(n_estimator=5000,\n",
        "                       random_state=1994,\n",
        "                       learning_rate=0.05,\n",
        "                       reg_alpha=0.2,\n",
        "                       colsample_bytree=0.5,\n",
        "                       bagging_fraction=0.9)\n",
        "\n",
        "model.fit(X_train,y_train,\n",
        "          eval_set=[(X_train,y_train),(X_test, y_test)],\n",
        "          eval_metric='auc',\n",
        "          early_stopping_rounds=100,\n",
        "          verbose=200)\n",
        "\n",
        "pred_y = model.predict_proba(X_test)[:,1]\n",
        "from sklearn.metrics import accuracy_score, confusion_matrix, roc_auc_score, roc_curve\n",
        "print(roc_auc_score(y_test, pred_y))\n",
        "confusion_matrix(y_test, pred_y>0.5)"
      ],
      "execution_count": 14,
      "outputs": [
        {
          "output_type": "stream",
          "text": [
            "Training until validation scores don't improve for 100 rounds.\n",
            "Did not meet early stopping. Best iteration is:\n",
            "[100]\ttraining's binary_logloss: 0.11913\ttraining's auc: 0.966404\tvalid_1's binary_logloss: 0.195569\tvalid_1's auc: 0.906432\n",
            "0.9064315768383089\n"
          ],
          "name": "stdout"
        },
        {
          "output_type": "execute_result",
          "data": {
            "text/plain": [
              "array([[310,  12],\n",
              "       [ 22,   9]])"
            ]
          },
          "metadata": {
            "tags": []
          },
          "execution_count": 14
        }
      ]
    },
    {
      "cell_type": "code",
      "metadata": {
        "id": "jVZ01md_8Xm3",
        "colab_type": "code",
        "colab": {
          "base_uri": "https://localhost:8080/",
          "height": 312
        },
        "outputId": "94bc18da-3a55-437c-f983-86322c777cae"
      },
      "source": [
        "import lightgbm\n",
        "lightgbm.plot_importance(model)"
      ],
      "execution_count": 15,
      "outputs": [
        {
          "output_type": "execute_result",
          "data": {
            "text/plain": [
              "<matplotlib.axes._subplots.AxesSubplot at 0x7f89ce368080>"
            ]
          },
          "metadata": {
            "tags": []
          },
          "execution_count": 15
        },
        {
          "output_type": "display_data",
          "data": {
            "image/png": "[encoded data removed]",
            "text/plain": [
              "<Figure size 432x288 with 1 Axes>"
            ]
          },
          "metadata": {
            "tags": [],
            "needs_background": "light"
          }
        }
      ]
    },
    {
      "cell_type": "code",
      "metadata": {
        "id": "AkhYakdo8sbR",
        "colab_type": "code",
        "colab": {
          "base_uri": "https://localhost:8080/",
          "height": 887
        },
        "outputId": "a4f0f9de-b88c-4970-c31e-b66c9c3257f6"
      },
      "source": [
        "err = []\n",
        "y_pred_tot_lgm = []\n",
        "\n",
        "from sklearn.model_selection import StratifiedKFold\n",
        "\n",
        "fold = StratifiedKFold(n_splits=10,shuffle=True,random_state=1994)\n",
        "i = 1\n",
        "for train_index, test_index in fold.split(X, y):\n",
        "    x_train, x_val = X.iloc[train_index], X.iloc[test_index]\n",
        "    y_train, y_val = y[train_index], y[test_index]\n",
        "    m = LGBMClassifier(boosting_type='gbdt',\n",
        "                       max_depth=5,\n",
        "                       learning_rate=0.08,\n",
        "                       n_estimators=5000,\n",
        "                       min_child_weight=0.01,\n",
        "                       colsample_bytree=0.5,\n",
        "                       random_state=1994)\n",
        "    m.fit(x_train, y_train,\n",
        "          eval_set=[(x_train,y_train),(x_val, y_val)],\n",
        "          early_stopping_rounds=200,\n",
        "          eval_metric='auc',\n",
        "          verbose=200)\n",
        "    pred_y = m.predict_proba(x_val)[:,1]\n",
        "    print(\"err_lgm: \",roc_auc_score(y_val,pred_y))\n",
        "    err.append(roc_auc_score(y_val, pred_y))\n",
        "    pred_test = m.predict_proba(test)[:,1]\n",
        "    i = i + 1\n",
        "    y_pred_tot_lgm.append(pred_test)"
      ],
      "execution_count": 16,
      "outputs": [
        {
          "output_type": "stream",
          "text": [
            "Training until validation scores don't improve for 200 rounds.\n",
            "[200]\ttraining's binary_logloss: 0.108364\ttraining's auc: 0.972964\tvalid_1's binary_logloss: 0.153975\tvalid_1's auc: 0.945885\n",
            "Early stopping, best iteration is:\n",
            "[51]\ttraining's binary_logloss: 0.143659\ttraining's auc: 0.950548\tvalid_1's binary_logloss: 0.144983\tvalid_1's auc: 0.954115\n",
            "err_lgm:  0.9541152263374485\n",
            "Training until validation scores don't improve for 200 rounds.\n",
            "[200]\ttraining's binary_logloss: 0.11002\ttraining's auc: 0.972147\tvalid_1's binary_logloss: 0.187589\tvalid_1's auc: 0.928189\n",
            "Early stopping, best iteration is:\n",
            "[49]\ttraining's binary_logloss: 0.1421\ttraining's auc: 0.95335\tvalid_1's binary_logloss: 0.185278\tvalid_1's auc: 0.925309\n",
            "err_lgm:  0.9253086419753086\n",
            "Training until validation scores don't improve for 200 rounds.\n",
            "[200]\ttraining's binary_logloss: 0.109504\ttraining's auc: 0.972683\tvalid_1's binary_logloss: 0.166849\tvalid_1's auc: 0.942387\n",
            "Early stopping, best iteration is:\n",
            "[117]\ttraining's binary_logloss: 0.124212\ttraining's auc: 0.964747\tvalid_1's binary_logloss: 0.160042\tvalid_1's auc: 0.931276\n",
            "err_lgm:  0.931275720164609\n",
            "Training until validation scores don't improve for 200 rounds.\n",
            "[200]\ttraining's binary_logloss: 0.105266\ttraining's auc: 0.975569\tvalid_1's binary_logloss: 0.229988\tvalid_1's auc: 0.857584\n",
            "Early stopping, best iteration is:\n",
            "[22]\ttraining's binary_logloss: 0.157433\ttraining's auc: 0.936129\tvalid_1's binary_logloss: 0.211031\tvalid_1's auc: 0.844136\n",
            "err_lgm:  0.8441358024691358\n",
            "Training until validation scores don't improve for 200 rounds.\n",
            "[200]\ttraining's binary_logloss: 0.113351\ttraining's auc: 0.969965\tvalid_1's binary_logloss: 0.163386\tvalid_1's auc: 0.949295\n",
            "Early stopping, best iteration is:\n",
            "[16]\ttraining's binary_logloss: 0.173296\ttraining's auc: 0.925556\tvalid_1's binary_logloss: 0.164438\tvalid_1's auc: 0.958113\n",
            "err_lgm:  0.9581128747795414\n",
            "Training until validation scores don't improve for 200 rounds.\n",
            "[200]\ttraining's binary_logloss: 0.112877\ttraining's auc: 0.970181\tvalid_1's binary_logloss: 0.172634\tvalid_1's auc: 0.907848\n",
            "Early stopping, best iteration is:\n",
            "[53]\ttraining's binary_logloss: 0.142671\ttraining's auc: 0.953228\tvalid_1's binary_logloss: 0.149786\tvalid_1's auc: 0.917549\n",
            "err_lgm:  0.9175485008818343\n",
            "Training until validation scores don't improve for 200 rounds.\n",
            "[200]\ttraining's binary_logloss: 0.115906\ttraining's auc: 0.968788\tvalid_1's binary_logloss: 0.139846\tvalid_1's auc: 0.945988\n",
            "Early stopping, best iteration is:\n",
            "[79]\ttraining's binary_logloss: 0.138645\ttraining's auc: 0.954411\tvalid_1's binary_logloss: 0.133314\tvalid_1's auc: 0.968474\n",
            "err_lgm:  0.9684744268077602\n",
            "Training until validation scores don't improve for 200 rounds.\n",
            "[200]\ttraining's binary_logloss: 0.11356\ttraining's auc: 0.970635\tvalid_1's binary_logloss: 0.168338\tvalid_1's auc: 0.925265\n",
            "Early stopping, best iteration is:\n",
            "[42]\ttraining's binary_logloss: 0.14486\ttraining's auc: 0.945029\tvalid_1's binary_logloss: 0.163277\tvalid_1's auc: 0.925705\n",
            "err_lgm:  0.9257054673721341\n",
            "Training until validation scores don't improve for 200 rounds.\n",
            "[200]\ttraining's binary_logloss: 0.106096\ttraining's auc: 0.973839\tvalid_1's binary_logloss: 0.25097\tvalid_1's auc: 0.821208\n",
            "Early stopping, best iteration is:\n",
            "[36]\ttraining's binary_logloss: 0.14457\ttraining's auc: 0.946733\tvalid_1's binary_logloss: 0.194193\tvalid_1's auc: 0.852293\n",
            "err_lgm:  0.8522927689594357\n",
            "Training until validation scores don't improve for 200 rounds.\n",
            "[200]\ttraining's binary_logloss: 0.11159\ttraining's auc: 0.971584\tvalid_1's binary_logloss: 0.219616\tvalid_1's auc: 0.838183\n",
            "Early stopping, best iteration is:\n",
            "[10]\ttraining's binary_logloss: 0.189126\ttraining's auc: 0.932713\tvalid_1's binary_logloss: 0.2102\tvalid_1's auc: 0.866402\n",
            "err_lgm:  0.8664021164021164\n"
          ],
          "name": "stdout"
        }
      ]
    },
    {
      "cell_type": "code",
      "metadata": {
        "id": "SsR2IF7O9lis",
        "colab_type": "code",
        "colab": {
          "base_uri": "https://localhost:8080/",
          "height": 34
        },
        "outputId": "9f4f7709-ffc2-4290-a745-0f8c19ddb2b9"
      },
      "source": [
        "np.mean(err,0)"
      ],
      "execution_count": 17,
      "outputs": [
        {
          "output_type": "execute_result",
          "data": {
            "text/plain": [
              "0.9143371546149325"
            ]
          },
          "metadata": {
            "tags": []
          },
          "execution_count": 17
        }
      ]
    },
    {
      "cell_type": "code",
      "metadata": {
        "id": "YhRImWvF9zZ6",
        "colab_type": "code",
        "colab": {
          "base_uri": "https://localhost:8080/",
          "height": 1000
        },
        "outputId": "b6682dcc-a945-4d3a-d4af-4912694a187d"
      },
      "source": [
        "from xgboost import XGBClassifier\n",
        "\n",
        "errxgb = []\n",
        "y_pred_tot_xgb = []\n",
        "\n",
        "from sklearn.model_selection import KFold,StratifiedKFold\n",
        "\n",
        "fold = StratifiedKFold(n_splits=10,shuffle=True,random_state=1994)\n",
        "i = 1\n",
        "for train_index, test_index in fold.split(X,y):\n",
        "    x_train, x_val = X.iloc[train_index], X.iloc[test_index]\n",
        "    y_train, y_val = y[train_index], y[test_index]\n",
        "    m = XGBClassifier(boosting_type='gbdt',\n",
        "                      max_depth=5,\n",
        "                      learning_rate=0.07,\n",
        "                      n_estimators=5000,\n",
        "                      random_state=1994)\n",
        "    m.fit(x_train, y_train,\n",
        "          eval_set=[(x_train,y_train),(x_val, y_val)],\n",
        "          early_stopping_rounds=200,\n",
        "          eval_metric='auc',\n",
        "          verbose=200)\n",
        "    pred_y = m.predict_proba(x_val)[:,-1]\n",
        "    print(\"err_xgb: \",roc_auc_score(y_val,pred_y))\n",
        "    errxgb.append(roc_auc_score(y_val, pred_y))\n",
        "    pred_test = m.predict_proba(test)[:,-1]\n",
        "    i = i + 1\n",
        "    y_pred_tot_xgb.append(pred_test)"
      ],
      "execution_count": 18,
      "outputs": [
        {
          "output_type": "stream",
          "text": [
            "[0]\tvalidation_0-auc:0.893626\tvalidation_1-auc:0.9\n",
            "Multiple eval metrics have been passed: 'validation_1-auc' will be used for early stopping.\n",
            "\n",
            "Will train until validation_1-auc hasn't improved in 200 rounds.\n",
            "[200]\tvalidation_0-auc:0.977286\tvalidation_1-auc:0.933128\n",
            "Stopping. Best iteration:\n",
            "[49]\tvalidation_0-auc:0.956453\tvalidation_1-auc:0.941564\n",
            "\n",
            "err_xgb:  0.9415637860082305\n",
            "[0]\tvalidation_0-auc:0.90524\tvalidation_1-auc:0.883128\n",
            "Multiple eval metrics have been passed: 'validation_1-auc' will be used for early stopping.\n",
            "\n",
            "Will train until validation_1-auc hasn't improved in 200 rounds.\n",
            "[200]\tvalidation_0-auc:0.974358\tvalidation_1-auc:0.930041\n",
            "Stopping. Best iteration:\n",
            "[73]\tvalidation_0-auc:0.963566\tvalidation_1-auc:0.936214\n",
            "\n",
            "err_xgb:  0.9362139917695473\n",
            "[0]\tvalidation_0-auc:0.89918\tvalidation_1-auc:0.845679\n",
            "Multiple eval metrics have been passed: 'validation_1-auc' will be used for early stopping.\n",
            "\n",
            "Will train until validation_1-auc hasn't improved in 200 rounds.\n",
            "[200]\tvalidation_0-auc:0.975778\tvalidation_1-auc:0.941152\n",
            "Stopping. Best iteration:\n",
            "[195]\tvalidation_0-auc:0.975413\tvalidation_1-auc:0.941564\n",
            "\n",
            "err_xgb:  0.9415637860082304\n",
            "[0]\tvalidation_0-auc:0.908638\tvalidation_1-auc:0.793871\n",
            "Multiple eval metrics have been passed: 'validation_1-auc' will be used for early stopping.\n",
            "\n",
            "Will train until validation_1-auc hasn't improved in 200 rounds.\n",
            "[200]\tvalidation_0-auc:0.979357\tvalidation_1-auc:0.871693\n",
            "Stopping. Best iteration:\n",
            "[110]\tvalidation_0-auc:0.971983\tvalidation_1-auc:0.878748\n",
            "\n",
            "err_xgb:  0.878747795414462\n",
            "[0]\tvalidation_0-auc:0.893307\tvalidation_1-auc:0.913139\n",
            "Multiple eval metrics have been passed: 'validation_1-auc' will be used for early stopping.\n",
            "\n",
            "Will train until validation_1-auc hasn't improved in 200 rounds.\n",
            "[200]\tvalidation_0-auc:0.975394\tvalidation_1-auc:0.953704\n",
            "Stopping. Best iteration:\n",
            "[198]\tvalidation_0-auc:0.975367\tvalidation_1-auc:0.954145\n",
            "\n",
            "err_xgb:  0.9541446208112875\n",
            "[0]\tvalidation_0-auc:0.900012\tvalidation_1-auc:0.89418\n",
            "Multiple eval metrics have been passed: 'validation_1-auc' will be used for early stopping.\n",
            "\n",
            "Will train until validation_1-auc hasn't improved in 200 rounds.\n",
            "[200]\tvalidation_0-auc:0.974825\tvalidation_1-auc:0.922399\n",
            "Stopping. Best iteration:\n",
            "[43]\tvalidation_0-auc:0.947571\tvalidation_1-auc:0.92769\n",
            "\n",
            "err_xgb:  0.9276895943562611\n",
            "[0]\tvalidation_0-auc:0.899812\tvalidation_1-auc:0.905864\n",
            "Multiple eval metrics have been passed: 'validation_1-auc' will be used for early stopping.\n",
            "\n",
            "Will train until validation_1-auc hasn't improved in 200 rounds.\n",
            "[200]\tvalidation_0-auc:0.975596\tvalidation_1-auc:0.938492\n",
            "Stopping. Best iteration:\n",
            "[59]\tvalidation_0-auc:0.953231\tvalidation_1-auc:0.945988\n",
            "\n",
            "err_xgb:  0.9459876543209877\n",
            "[0]\tvalidation_0-auc:0.903032\tvalidation_1-auc:0.876984\n",
            "Multiple eval metrics have been passed: 'validation_1-auc' will be used for early stopping.\n",
            "\n",
            "Will train until validation_1-auc hasn't improved in 200 rounds.\n",
            "[200]\tvalidation_0-auc:0.976213\tvalidation_1-auc:0.90851\n",
            "Stopping. Best iteration:\n",
            "[69]\tvalidation_0-auc:0.956527\tvalidation_1-auc:0.91843\n",
            "\n",
            "err_xgb:  0.9184303350970018\n",
            "[0]\tvalidation_0-auc:0.90611\tvalidation_1-auc:0.818563\n",
            "Multiple eval metrics have been passed: 'validation_1-auc' will be used for early stopping.\n",
            "\n",
            "Will train until validation_1-auc hasn't improved in 200 rounds.\n",
            "[200]\tvalidation_0-auc:0.975848\tvalidation_1-auc:0.867945\n",
            "[400]\tvalidation_0-auc:0.981287\tvalidation_1-auc:0.875\n",
            "[600]\tvalidation_0-auc:0.98419\tvalidation_1-auc:0.876323\n",
            "Stopping. Best iteration:\n",
            "[543]\tvalidation_0-auc:0.983313\tvalidation_1-auc:0.882496\n",
            "\n",
            "err_xgb:  0.8824955908289241\n",
            "[0]\tvalidation_0-auc:0.906772\tvalidation_1-auc:0.810626\n",
            "Multiple eval metrics have been passed: 'validation_1-auc' will be used for early stopping.\n",
            "\n",
            "Will train until validation_1-auc hasn't improved in 200 rounds.\n",
            "[200]\tvalidation_0-auc:0.97667\tvalidation_1-auc:0.823633\n",
            "Stopping. Best iteration:\n",
            "[27]\tvalidation_0-auc:0.926346\tvalidation_1-auc:0.843915\n",
            "\n",
            "err_xgb:  0.8439153439153438\n"
          ],
          "name": "stdout"
        }
      ]
    },
    {
      "cell_type": "code",
      "metadata": {
        "id": "Biya0nuO_NWD",
        "colab_type": "code",
        "colab": {
          "base_uri": "https://localhost:8080/",
          "height": 343
        },
        "outputId": "0e95d429-12db-44d1-ec50-d4fb595044e9"
      },
      "source": [
        "!pip install catboost"
      ],
      "execution_count": 19,
      "outputs": [
        {
          "output_type": "stream",
          "text": [
            "Collecting catboost\n",
            "\u001b[?25l  Downloading https://files.pythonhosted.org/packages/90/86/c3dcb600b4f9e7584ed90ea9d30a717fb5c0111574675f442c3e7bc19535/catboost-0.24.1-cp36-none-manylinux1_x86_64.whl (66.1MB)\n",
            "\u001b[K     |████████████████████████████████| 66.1MB 56kB/s \n",
            "\u001b[?25hRequirement already satisfied: matplotlib in /usr/local/lib/python3.6/dist-packages (from catboost) (3.2.2)\n",
            "Requirement already satisfied: pandas>=0.24.0 in /usr/local/lib/python3.6/dist-packages (from catboost) (1.0.5)\n",
            "Requirement already satisfied: graphviz in /usr/local/lib/python3.6/dist-packages (from catboost) (0.10.1)\n",
            "Requirement already satisfied: plotly in /usr/local/lib/python3.6/dist-packages (from catboost) (4.4.1)\n",
            "Requirement already satisfied: scipy in /usr/local/lib/python3.6/dist-packages (from catboost) (1.4.1)\n",
            "Requirement already satisfied: six in /usr/local/lib/python3.6/dist-packages (from catboost) (1.15.0)\n",
            "Requirement already satisfied: numpy>=1.16.0 in /usr/local/lib/python3.6/dist-packages (from catboost) (1.18.5)\n",
            "Requirement already satisfied: python-dateutil>=2.1 in /usr/local/lib/python3.6/dist-packages (from matplotlib->catboost) (2.8.1)\n",
            "Requirement already satisfied: pyparsing!=2.0.4,!=2.1.2,!=2.1.6,>=2.0.1 in /usr/local/lib/python3.6/dist-packages (from matplotlib->catboost) (2.4.7)\n",
            "Requirement already satisfied: cycler>=0.10 in /usr/local/lib/python3.6/dist-packages (from matplotlib->catboost) (0.10.0)\n",
            "Requirement already satisfied: kiwisolver>=1.0.1 in /usr/local/lib/python3.6/dist-packages (from matplotlib->catboost) (1.2.0)\n",
            "Requirement already satisfied: pytz>=2017.2 in /usr/local/lib/python3.6/dist-packages (from pandas>=0.24.0->catboost) (2018.9)\n",
            "Requirement already satisfied: retrying>=1.3.3 in /usr/local/lib/python3.6/dist-packages (from plotly->catboost) (1.3.3)\n",
            "Installing collected packages: catboost\n",
            "Successfully installed catboost-0.24.1\n"
          ],
          "name": "stdout"
        }
      ]
    },
    {
      "cell_type": "code",
      "metadata": {
        "id": "YngxIZbg923v",
        "colab_type": "code",
        "colab": {
          "base_uri": "https://localhost:8080/",
          "height": 1000
        },
        "outputId": "042459a9-0f90-4ee8-d43c-05ceda2db40a"
      },
      "source": [
        "from catboost import CatBoostClassifier,Pool, cv\n",
        "errCB = []\n",
        "y_pred_tot_cb = []\n",
        "from sklearn.model_selection import KFold,StratifiedKFold\n",
        "\n",
        "fold = StratifiedKFold(n_splits=15,shuffle=True,random_state=1994)\n",
        "i = 1\n",
        "for train_index, test_index in fold.split(X,y):\n",
        "    x_train, x_val = X.iloc[train_index], X.iloc[test_index]\n",
        "    y_train, y_val = y.iloc[train_index], y.iloc[test_index]\n",
        "    m = CatBoostClassifier(n_estimators=5000,\n",
        "                           random_state=1994,\n",
        "                           eval_metric='AUC',\n",
        "                           learning_rate=0.03)\n",
        "    m.fit(x_train, y_train,\n",
        "          eval_set=[(x_train,y_train),(x_val, y_val)],\n",
        "          early_stopping_rounds=200,\n",
        "          verbose=200)\n",
        "    pred_y = m.predict_proba(x_val)[:,-1]\n",
        "    print(\"err_cb: \",roc_auc_score(y_val,pred_y))\n",
        "    errCB.append(roc_auc_score(y_val,pred_y))\n",
        "    pred_test = m.predict_proba(test)[:,-1]\n",
        "    i = i + 1\n",
        "    y_pred_tot_cb.append(pred_test)"
      ],
      "execution_count": 20,
      "outputs": [
        {
          "output_type": "stream",
          "text": [
            "0:\ttest: 0.6972864\ttest1: 0.7430556\tbest: 0.7430556 (0)\ttotal: 54ms\tremaining: 4m 29s\n",
            "200:\ttest: 0.9409784\ttest1: 0.9180556\tbest: 0.9486111 (4)\ttotal: 991ms\tremaining: 23.7s\n",
            "Stopped by overfitting detector  (200 iterations wait)\n",
            "\n",
            "bestTest = 0.9486111111\n",
            "bestIteration = 4\n",
            "\n",
            "Shrink model to first 5 iterations.\n",
            "err_cb:  0.9486111111111111\n",
            "0:\ttest: 0.6759458\ttest1: 0.6916667\tbest: 0.6916667 (0)\ttotal: 4.83ms\tremaining: 24.1s\n",
            "200:\ttest: 0.9382434\ttest1: 0.9574074\tbest: 0.9620370 (31)\ttotal: 903ms\tremaining: 21.5s\n",
            "Stopped by overfitting detector  (200 iterations wait)\n",
            "\n",
            "bestTest = 0.962037037\n",
            "bestIteration = 31\n",
            "\n",
            "Shrink model to first 32 iterations.\n",
            "err_cb:  0.9620370370370371\n",
            "0:\ttest: 0.6774277\ttest1: 0.6675926\tbest: 0.6675926 (0)\ttotal: 5.36ms\tremaining: 26.8s\n",
            "200:\ttest: 0.9469383\ttest1: 0.9101852\tbest: 0.9111111 (182)\ttotal: 927ms\tremaining: 22.1s\n",
            "400:\ttest: 0.9639376\ttest1: 0.9166667\tbest: 0.9185185 (272)\ttotal: 1.84s\tremaining: 21.2s\n",
            "Stopped by overfitting detector  (200 iterations wait)\n",
            "\n",
            "bestTest = 0.9185185185\n",
            "bestIteration = 272\n",
            "\n",
            "Shrink model to first 273 iterations.\n",
            "err_cb:  0.9185185185185185\n",
            "0:\ttest: 0.6834646\ttest1: 0.5921296\tbest: 0.5921296 (0)\ttotal: 4.93ms\tremaining: 24.6s\n",
            "200:\ttest: 0.9368859\ttest1: 0.9287037\tbest: 0.9444444 (20)\ttotal: 929ms\tremaining: 22.2s\n",
            "Stopped by overfitting detector  (200 iterations wait)\n",
            "\n",
            "bestTest = 0.9444444444\n",
            "bestIteration = 20\n",
            "\n",
            "Shrink model to first 21 iterations.\n",
            "err_cb:  0.9444444444444444\n",
            "0:\ttest: 0.6872066\ttest1: 0.5449074\tbest: 0.5449074 (0)\ttotal: 5.92ms\tremaining: 29.6s\n",
            "200:\ttest: 0.9374130\ttest1: 0.8453704\tbest: 0.8694444 (16)\ttotal: 973ms\tremaining: 23.2s\n",
            "Stopped by overfitting detector  (200 iterations wait)\n",
            "\n",
            "bestTest = 0.8694444444\n",
            "bestIteration = 16\n",
            "\n",
            "Shrink model to first 17 iterations.\n",
            "err_cb:  0.8694444444444445\n",
            "0:\ttest: 0.7008444\ttest1: 0.6208333\tbest: 0.6208333 (0)\ttotal: 4.95ms\tremaining: 24.8s\n",
            "200:\ttest: 0.9513839\ttest1: 0.8240741\tbest: 0.8250000 (196)\ttotal: 925ms\tremaining: 22.1s\n",
            "400:\ttest: 0.9643156\ttest1: 0.8277778\tbest: 0.8324074 (248)\ttotal: 1.85s\tremaining: 21.3s\n",
            "Stopped by overfitting detector  (200 iterations wait)\n",
            "\n",
            "bestTest = 0.8324074074\n",
            "bestIteration = 248\n",
            "\n",
            "Shrink model to first 249 iterations.\n",
            "err_cb:  0.8324074074074075\n",
            "0:\ttest: 0.8059260\ttest1: 0.8611111\tbest: 0.8611111 (0)\ttotal: 4.9ms\tremaining: 24.5s\n",
            "200:\ttest: 0.9430347\ttest1: 0.9365741\tbest: 0.9486111 (9)\ttotal: 930ms\tremaining: 22.2s\n",
            "Stopped by overfitting detector  (200 iterations wait)\n",
            "\n",
            "bestTest = 0.9486111111\n",
            "bestIteration = 9\n",
            "\n",
            "Shrink model to first 10 iterations.\n",
            "err_cb:  0.9486111111111111\n",
            "0:\ttest: 0.7981362\ttest1: 0.8203704\tbest: 0.8203704 (0)\ttotal: 4.85ms\tremaining: 24.2s\n",
            "200:\ttest: 0.9337481\ttest1: 0.9296296\tbest: 0.9296296 (198)\ttotal: 934ms\tremaining: 22.3s\n",
            "400:\ttest: 0.9603448\ttest1: 0.9268519\tbest: 0.9351852 (288)\ttotal: 1.86s\tremaining: 21.3s\n",
            "Stopped by overfitting detector  (200 iterations wait)\n",
            "\n",
            "bestTest = 0.9351851852\n",
            "bestIteration = 288\n",
            "\n",
            "Shrink model to first 289 iterations.\n",
            "err_cb:  0.9351851851851852\n",
            "0:\ttest: 0.8211522\ttest1: 0.8636831\tbest: 0.8636831 (0)\ttotal: 4.85ms\tremaining: 24.3s\n",
            "200:\ttest: 0.9411622\ttest1: 0.9562757\tbest: 0.9655350 (18)\ttotal: 923ms\tremaining: 22s\n",
            "Stopped by overfitting detector  (200 iterations wait)\n",
            "\n",
            "bestTest = 0.9655349794\n",
            "bestIteration = 18\n",
            "\n",
            "Shrink model to first 19 iterations.\n",
            "err_cb:  0.9655349794238683\n",
            "0:\ttest: 0.6642803\ttest1: 0.6003086\tbest: 0.6003086 (0)\ttotal: 2.24ms\tremaining: 11.2s\n",
            "200:\ttest: 0.9406934\ttest1: 0.9845679\tbest: 0.9907407 (30)\ttotal: 870ms\tremaining: 20.8s\n",
            "Stopped by overfitting detector  (200 iterations wait)\n",
            "\n",
            "bestTest = 0.9907407407\n",
            "bestIteration = 30\n",
            "\n",
            "Shrink model to first 31 iterations.\n",
            "err_cb:  0.9907407407407408\n",
            "0:\ttest: 0.6610129\ttest1: 0.6424897\tbest: 0.6424897 (0)\ttotal: 5.28ms\tremaining: 26.4s\n",
            "200:\ttest: 0.9453329\ttest1: 0.9146091\tbest: 0.9480453 (5)\ttotal: 928ms\tremaining: 22.2s\n",
            "Stopped by overfitting detector  (200 iterations wait)\n",
            "\n",
            "bestTest = 0.9480452675\n",
            "bestIteration = 5\n",
            "\n",
            "Shrink model to first 6 iterations.\n",
            "err_cb:  0.948045267489712\n",
            "0:\ttest: 0.6918039\ttest1: 0.7057613\tbest: 0.7057613 (0)\ttotal: 4.83ms\tremaining: 24.2s\n",
            "200:\ttest: 0.9403183\ttest1: 0.9218107\tbest: 0.9290123 (42)\ttotal: 917ms\tremaining: 21.9s\n",
            "Stopped by overfitting detector  (200 iterations wait)\n",
            "\n",
            "bestTest = 0.9290123457\n",
            "bestIteration = 42\n",
            "\n",
            "Shrink model to first 43 iterations.\n",
            "err_cb:  0.9290123456790123\n",
            "0:\ttest: 0.6638756\ttest1: 0.6064815\tbest: 0.6064815 (0)\ttotal: 2.3ms\tremaining: 11.5s\n",
            "200:\ttest: 0.9544490\ttest1: 0.7335391\tbest: 0.8163580 (52)\ttotal: 943ms\tremaining: 22.5s\n",
            "Stopped by overfitting detector  (200 iterations wait)\n",
            "\n",
            "bestTest = 0.8163580247\n",
            "bestIteration = 52\n",
            "\n",
            "Shrink model to first 53 iterations.\n",
            "err_cb:  0.816358024691358\n",
            "0:\ttest: 0.7294603\ttest1: 0.8137860\tbest: 0.8137860 (0)\ttotal: 4.81ms\tremaining: 24.1s\n",
            "200:\ttest: 0.9457647\ttest1: 0.9279835\tbest: 0.9444444 (37)\ttotal: 940ms\tremaining: 22.4s\n",
            "Stopped by overfitting detector  (200 iterations wait)\n",
            "\n",
            "bestTest = 0.9444444444\n",
            "bestIteration = 37\n",
            "\n",
            "Shrink model to first 38 iterations.\n",
            "err_cb:  0.9444444444444444\n",
            "0:\ttest: 0.6821448\ttest1: 0.6013374\tbest: 0.6013374 (0)\ttotal: 4.69ms\tremaining: 23.5s\n",
            "200:\ttest: 0.9483979\ttest1: 0.8215021\tbest: 0.8724280 (19)\ttotal: 953ms\tremaining: 22.7s\n",
            "Stopped by overfitting detector  (200 iterations wait)\n",
            "\n",
            "bestTest = 0.8724279835\n",
            "bestIteration = 19\n",
            "\n",
            "Shrink model to first 20 iterations.\n",
            "err_cb:  0.8724279835390946\n"
          ],
          "name": "stdout"
        }
      ]
    },
    {
      "cell_type": "code",
      "metadata": {
        "id": "3wP6CPsm_LUn",
        "colab_type": "code",
        "colab": {
          "base_uri": "https://localhost:8080/",
          "height": 34
        },
        "outputId": "e3a6d1f3-12d4-4943-8dfd-946e30fafae8"
      },
      "source": [
        "(np.mean(errxgb, 0) + np.mean(err, 0) + np.mean(errCB, 0))/3"
      ],
      "execution_count": 21,
      "outputs": [
        {
          "output_type": "execute_result",
          "data": {
            "text/plain": [
              "0.9177113136063753"
            ]
          },
          "metadata": {
            "tags": []
          },
          "execution_count": 21
        }
      ]
    },
    {
      "cell_type": "code",
      "metadata": {
        "id": "r_DjmxYu_WOt",
        "colab_type": "code",
        "colab": {}
      },
      "source": [
        "submission=pd.DataFrame()\n",
        "submission['Class']=(np.mean(y_pred_tot_lgm, 0) + np.mean(y_pred_tot_cb, 0) +np.mean(y_pred_tot_xgb, 0))/3"
      ],
      "execution_count": 22,
      "outputs": []
    },
    {
      "cell_type": "code",
      "metadata": {
        "id": "QrJ3gk3B_iJ-",
        "colab_type": "code",
        "colab": {
          "base_uri": "https://localhost:8080/",
          "height": 204
        },
        "outputId": "50ac6aeb-87cc-4f88-ef9e-68687ba771e0"
      },
      "source": [
        "submission.head()"
      ],
      "execution_count": 23,
      "outputs": [
        {
          "output_type": "execute_result",
          "data": {
            "text/html": [
              "<div>\n",
              "<style scoped>\n",
              "    .dataframe tbody tr th:only-of-type {\n",
              "        vertical-align: middle;\n",
              "    }\n",
              "\n",
              "    .dataframe tbody tr th {\n",
              "        vertical-align: top;\n",
              "    }\n",
              "\n",
              "    .dataframe thead th {\n",
              "        text-align: right;\n",
              "    }\n",
              "</style>\n",
              "<table border=\"1\" class=\"dataframe\">\n",
              "  <thead>\n",
              "    <tr style=\"text-align: right;\">\n",
              "      <th></th>\n",
              "      <th>Class</th>\n",
              "    </tr>\n",
              "  </thead>\n",
              "  <tbody>\n",
              "    <tr>\n",
              "      <th>0</th>\n",
              "      <td>0.325021</td>\n",
              "    </tr>\n",
              "    <tr>\n",
              "      <th>1</th>\n",
              "      <td>0.067508</td>\n",
              "    </tr>\n",
              "    <tr>\n",
              "      <th>2</th>\n",
              "      <td>0.069913</td>\n",
              "    </tr>\n",
              "    <tr>\n",
              "      <th>3</th>\n",
              "      <td>0.361372</td>\n",
              "    </tr>\n",
              "    <tr>\n",
              "      <th>4</th>\n",
              "      <td>0.583290</td>\n",
              "    </tr>\n",
              "  </tbody>\n",
              "</table>\n",
              "</div>"
            ],
            "text/plain": [
              "      Class\n",
              "0  0.325021\n",
              "1  0.067508\n",
              "2  0.069913\n",
              "3  0.361372\n",
              "4  0.583290"
            ]
          },
          "metadata": {
            "tags": []
          },
          "execution_count": 23
        }
      ]
    },
    {
      "cell_type": "code",
      "metadata": {
        "id": "5Qy0Qic3_zoT",
        "colab_type": "code",
        "colab": {
          "base_uri": "https://localhost:8080/",
          "height": 34
        },
        "outputId": "8163e91b-e556-4a4e-8c30-d33d4c19588c"
      },
      "source": [
        "submission.to_csv('ensemble_result.csv', index=False, header=True)\n",
        "submission.shape"
      ],
      "execution_count": 24,
      "outputs": [
        {
          "output_type": "execute_result",
          "data": {
            "text/plain": [
              "(756, 1)"
            ]
          },
          "metadata": {
            "tags": []
          },
          "execution_count": 24
        }
      ]
    }
  ]
}